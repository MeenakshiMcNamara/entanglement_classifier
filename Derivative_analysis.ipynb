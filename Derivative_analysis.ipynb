{
 "cells": [
  {
   "cell_type": "code",
   "execution_count": 1,
   "metadata": {
    "collapsed": true
   },
   "outputs": [],
   "source": [
    "from dataset_preprocessing import ProductionModeDataset\n",
    "\n",
    "import torch\n",
    "from sklearn.inspection import permutation_importance\n",
    "import numpy as np\n",
    "import uproot\n",
    "import torch.nn as nn\n",
    "from matplotlib import pyplot as plt\n",
    "\n",
    "from Classifier_module import Classifier\n",
    "from torch.autograd import Variable\n"
   ]
  },
  {
   "cell_type": "code",
   "execution_count": 135,
   "metadata": {
    "collapsed": true
   },
   "outputs": [],
   "source": [
    "################# THIS IS WHERE YOU CHOOSE WHAT TO LOAD ################################\n",
    "three_layers = False\n",
    "\n",
    "path_to_model = \"./models/twoLayerModel_weights_gpu_emu0\"\n",
    "\n",
    "event_type = \"emu\"  # could be ee, emu, mumu\n",
    "root_path = \"/depot-new/cms/top/mcnama20/TopSpinCorr-Run2-Entanglement/CMSSW_10_2_22/src/TopAnalysis/Configuration/analysis/diLeptonic/three_files/Nominal\"\n",
    "\n",
    "file = root_path + \"/\" + event_type + \"_modified_root_1.root\""
   ]
  },
  {
   "cell_type": "code",
   "execution_count": 136,
   "metadata": {
    "collapsed": true
   },
   "outputs": [],
   "source": [
    "if not three_layers:\n",
    "    # model = 0\n",
    "    model = Classifier()\n",
    "    model.load_state_dict(torch.load(path_to_model))\n",
    "#     model.eval()"
   ]
  },
  {
   "cell_type": "code",
   "execution_count": 137,
   "metadata": {},
   "outputs": [
    {
     "name": "stdout",
     "output_type": "stream",
     "text": [
      "['lb_delta_eta', 'lbbar_delta_eta', 'lnu_delta_eta', 'lnubar_delta_eta', 'lbarb_delta_eta', 'lbarbbar_delta_eta', 'lbarnu_delta_eta', 'lbarnubar_delta_eta', 'bnu_delta_eta', 'bnubar_delta_eta', 'bbarnu_delta_eta', 'bbarnubar_delta_eta', 'lb_delta_phi', 'lbbar_delta_phi', 'lnu_delta_phi', 'lnubar_delta_phi', 'lbarb_delta_phi', 'lbarbbar_delta_phi', 'lbarnu_delta_phi', 'lbarnubar_delta_phi', 'bnu_delta_phi', 'bnubar_delta_phi', 'bbarnu_delta_phi', 'bbarnubar_delta_phi', 'wplusb_delta_eta', 'wplusbbar_delta_eta', 'wminusb_delta_eta', 'wminusbbar_delta_eta', 'wplusb_delta_phi', 'wplusbbar_delta_phi', 'wminusb_delta_phi', 'wminusbbar_delta_phi', 'top_eta', 'top_boosted_eta', 'tbar_eta', 'tbar_boosted_eta', 'ttbar_delta_eta', 'ttbar_eta', 'llbar_delta_eta', 'bbbar_delta_eta', 'nunubar_delta_eta', 'top_phi', 'tbar_phi', 'ttbar_phi', 'ttbar_delta_phi', 'llbar_phi', 'llbar_delta_phi', 'bbbar_phi', 'bbbar_delta_phi', 'nunubar_phi', 'nunubar_delta_phi', 'l_eta', 'lbar_eta', 'l_phi', 'lbar_phi', 'b_eta', 'bbar_eta', 'b_phi', 'bbar_phi', 'nu_eta', 'nubar_eta', 'nu_phi', 'nubar_phi', 'wplus_eta', 'wminus_eta', 'wplus_phi', 'wminus_phi', 'top_pt', 'tbar_pt', 'l_pt', 'b_pt', 'bbar_pt', 'nu_pt', 'nubar_pt', 'met_pt', 'ttbar_pt', 'ttbar_boosted_pt', 'wplus_pt', 'wminus_pt', 'ttbar_mass', 'production_mode', 'eventWeight', '__index__']\n",
      "num qqbar = 27098\n",
      "training (65848, 83)\n",
      "evaluating (15446, 83)\n"
     ]
    }
   ],
   "source": [
    "\n",
    "\n",
    "\n",
    "data_object = ProductionModeDataset(file)\n",
    "x = data_object.get_eval_data()"
   ]
  },
  {
   "cell_type": "code",
   "execution_count": 138,
   "metadata": {},
   "outputs": [],
   "source": [
    "weight = x[:,81]\n",
    "target = x[:,80]\n",
    "target = Variable(torch.from_numpy(target).type(torch.LongTensor))\n",
    "y = np.transpose(x)\n",
    "y = np.delete(y, [80, 81, 82], 0)\n",
    "y = np.transpose(y)\n",
    "input = Variable(torch.from_numpy(y).type(torch.Tensor).requires_grad_(True))"
   ]
  },
  {
   "cell_type": "code",
   "execution_count": 139,
   "metadata": {
    "collapsed": true
   },
   "outputs": [],
   "source": [
    "input.requires_grad=True"
   ]
  },
  {
   "cell_type": "code",
   "execution_count": 140,
   "metadata": {
    "collapsed": true
   },
   "outputs": [],
   "source": [
    "# optimizer = torch.optim.Adam(model.parameters(), , betas=(opt.b1, opt.b2)) \n",
    "# criterion = nn.MSELoss()   # mean squared error loss\n",
    "criterion = nn.CrossEntropyLoss()\n"
   ]
  },
  {
   "cell_type": "code",
   "execution_count": 141,
   "metadata": {},
   "outputs": [
    {
     "name": "stdout",
     "output_type": "stream",
     "text": [
      "tensor(0.9015, grad_fn=<NllLossBackward>)\n"
     ]
    }
   ],
   "source": [
    "# model.retain_grad()\n",
    "input.retain_grad()\n",
    "output = model(input).requires_grad_(True)\n",
    "output.retain_grad()\n",
    "\n",
    "loss = criterion(output, target)\n",
    "loss.retain_grad()\n",
    "print(loss)\n",
    "\n",
    "# external_grad = torch.tensor(1.0)\n",
    "loss.backward()"
   ]
  },
  {
   "cell_type": "code",
   "execution_count": 142,
   "metadata": {},
   "outputs": [
    {
     "name": "stdout",
     "output_type": "stream",
     "text": [
      "tensor([[ 9.0678e-05, -2.1714e-04, -5.7967e-05,  ..., -4.3832e-06,\n",
      "          6.8204e-04, -1.2712e-04],\n",
      "        [ 3.8705e-05,  4.7423e-05, -1.9404e-05,  ...,  2.2734e-04,\n",
      "          5.8973e-05, -3.5816e-05],\n",
      "        [ 1.6685e-04, -4.7880e-05, -1.8559e-04,  ..., -1.3004e-04,\n",
      "          9.0444e-05, -6.7031e-05],\n",
      "        ...,\n",
      "        [ 1.4680e-05,  1.2701e-04, -3.6132e-05,  ..., -4.4586e-05,\n",
      "          3.0181e-04, -3.3041e-05],\n",
      "        [-6.2596e-06,  5.7693e-06,  2.4699e-06,  ...,  5.4572e-05,\n",
      "          4.6389e-05,  4.8701e-05],\n",
      "        [ 6.0135e-05, -2.5962e-04, -1.4341e-04,  ...,  9.2977e-05,\n",
      "          2.6396e-04,  5.4426e-04]])\n"
     ]
    }
   ],
   "source": [
    "print(input.grad)"
   ]
  },
  {
   "cell_type": "code",
   "execution_count": 143,
   "metadata": {},
   "outputs": [
    {
     "data": {
      "text/plain": [
       "array([ 8.07799697e-02,  6.08307868e-02,  2.36199889e-02,  1.17350258e-01,\n",
       "        8.25684890e-03,  2.90746638e-03,  1.98056549e-01, -3.61698195e-02,\n",
       "        1.15328461e-01,  6.32961392e-02, -9.58944783e-02, -1.31271956e-02,\n",
       "        5.44626079e-02,  4.53951359e-02,  3.84598784e-02,  2.92467643e-02,\n",
       "       -3.58630382e-02,  5.55347539e-02,  2.02903748e-02, -5.27100004e-02,\n",
       "        2.47267028e-03, -2.18687411e-02,  2.32141614e-02,  2.09688209e-02,\n",
       "       -9.49673355e-02, -1.44977607e-02, -8.92608223e-05,  7.57536814e-02,\n",
       "        1.08153902e-01, -3.90725099e-02,  4.43832651e-02,  2.09163912e-02,\n",
       "       -1.87097881e-02,  3.44761238e-02, -2.71196216e-02, -4.93810363e-02,\n",
       "        1.46099135e-01,  1.35774082e-02, -1.02312148e-01, -7.63935298e-02,\n",
       "        3.22180567e-03, -1.21727604e-02, -1.76235549e-02, -1.40019869e-02,\n",
       "       -7.47243837e-02, -3.22282873e-02, -8.55048671e-02, -5.21382142e-04,\n",
       "        2.38251593e-02, -1.25365416e-02, -2.41622664e-02,  7.74827898e-02,\n",
       "       -6.86194524e-02,  4.51804474e-02, -3.79078686e-02,  5.90465963e-02,\n",
       "       -1.36922449e-02, -4.54583988e-02, -1.68195032e-02,  1.20091885e-01,\n",
       "       -2.46005133e-02, -2.66055623e-03,  3.75563204e-02, -1.38559155e-02,\n",
       "        8.90835598e-02,  2.86855679e-02, -3.36404033e-02, -7.81243816e-02,\n",
       "       -3.66891921e-01,  2.00792953e-01,  2.30118856e-01,  1.45004287e-01,\n",
       "       -2.17114717e-01,  4.05448377e-01, -6.57328814e-02,  1.00000000e+00,\n",
       "        4.49661613e-01,  1.94437280e-01, -3.69877517e-02,  9.36802253e-02],\n",
       "      dtype=float32)"
      ]
     },
     "execution_count": 143,
     "metadata": {},
     "output_type": "execute_result"
    }
   ],
   "source": [
    "mean_grad = input.grad.detach().numpy().mean(axis=0)\n",
    "max_grad = np.max(mean_grad)\n",
    "\n",
    "mean_grad = mean_grad/max_grad\n",
    "mean_grad"
   ]
  },
  {
   "cell_type": "code",
   "execution_count": 144,
   "metadata": {},
   "outputs": [
    {
     "data": {
      "text/plain": [
       "array([9.1065567e-07, 8.1202893e-07, 9.8942894e-07, 1.1065603e-06,\n",
       "       8.0206877e-07, 9.2316031e-07, 1.2576696e-06, 1.0391935e-06,\n",
       "       9.0280059e-07, 1.1411280e-06, 1.0697798e-06, 1.0467691e-06,\n",
       "       6.3639334e-07, 6.7825852e-07, 7.5418626e-07, 6.9675167e-07,\n",
       "       7.0774558e-07, 6.7716604e-07, 6.7315813e-07, 6.7749534e-07,\n",
       "       6.7338954e-07, 6.6089416e-07, 6.6368540e-07, 7.0518615e-07,\n",
       "       1.0184290e-06, 1.0781133e-06, 1.0762193e-06, 1.1403954e-06,\n",
       "       7.0537777e-07, 7.3979214e-07, 7.1123253e-07, 7.4720919e-07,\n",
       "       5.7082502e-07, 7.1426604e-07, 7.2603007e-07, 5.3379171e-07,\n",
       "       1.2088718e-06, 7.3698391e-07, 8.8301948e-07, 7.9955612e-07,\n",
       "       1.1366321e-06, 6.0906507e-07, 6.7006226e-07, 6.9895020e-07,\n",
       "       6.8913226e-07, 6.7390880e-07, 6.8861601e-07, 5.3892688e-07,\n",
       "       5.6102931e-07, 5.5939228e-07, 5.6279151e-07, 6.6008192e-07,\n",
       "       6.2329207e-07, 6.6914185e-07, 6.1991608e-07, 6.3373074e-07,\n",
       "       6.0758737e-07, 5.9478253e-07, 6.4397182e-07, 6.7121078e-07,\n",
       "       7.4396155e-07, 6.2813979e-07, 7.1429366e-07, 7.0773035e-07,\n",
       "       6.8694453e-07, 6.3131421e-07, 5.8726584e-07, 1.6620872e-06,\n",
       "       2.1603828e-06, 2.0893137e-06, 1.6858495e-06, 1.4851905e-06,\n",
       "       2.5405734e-06, 3.0677982e-06, 1.5321360e-06, 6.2933073e-06,\n",
       "       4.7380354e-06, 2.1113051e-06, 2.4130015e-06, 1.9475151e-06],\n",
       "      dtype=float32)"
      ]
     },
     "execution_count": 144,
     "metadata": {},
     "output_type": "execute_result"
    }
   ],
   "source": [
    "std_grad = np.std(input.grad.detach().numpy(), axis=0)/np.sqrt(input.shape[0])\n",
    "std_grad"
   ]
  },
  {
   "cell_type": "code",
   "execution_count": 145,
   "metadata": {},
   "outputs": [],
   "source": [
    "events = uproot.open(file)\n",
    "key = events.keys()[0]\n",
    "input_variables = events[key].keys()"
   ]
  },
  {
   "cell_type": "code",
   "execution_count": 146,
   "metadata": {},
   "outputs": [
    {
     "name": "stdout",
     "output_type": "stream",
     "text": [
      "ttbar_pt                    1.000 +/- 0.000\n",
      "ttbar_boosted_pt                    0.450 +/- 0.000\n",
      "nubar_pt                    0.405 +/- 0.000\n",
      "b_pt                        0.230 +/- 0.000\n",
      "l_pt                        0.201 +/- 0.000\n",
      "lbarnu_delta_eta                    0.198 +/- 0.000\n",
      "wplus_pt                    0.194 +/- 0.000\n",
      "ttbar_delta_eta                    0.146 +/- 0.000\n",
      "bbar_pt                     0.145 +/- 0.000\n",
      "nu_eta                      0.120 +/- 0.000\n",
      "lnubar_delta_eta                    0.117 +/- 0.000\n",
      "bnu_delta_eta                    0.115 +/- 0.000\n",
      "wplusb_delta_phi                    0.108 +/- 0.000\n",
      "ttbar_mass                    0.094 +/- 0.000\n",
      "wminus_eta                    0.089 +/- 0.000\n",
      "lb_delta_eta                    0.081 +/- 0.000\n",
      "l_eta                       0.077 +/- 0.000\n",
      "wminusbbar_delta_eta                    0.076 +/- 0.000\n",
      "bnubar_delta_eta                    0.063 +/- 0.000\n",
      "lbbar_delta_eta                    0.061 +/- 0.000\n",
      "b_eta                       0.059 +/- 0.000\n",
      "lbarbbar_delta_phi                    0.056 +/- 0.000\n",
      "lb_delta_phi                    0.054 +/- 0.000\n",
      "lbbar_delta_phi                    0.045 +/- 0.000\n",
      "l_phi                       0.045 +/- 0.000\n",
      "wminusb_delta_phi                    0.044 +/- 0.000\n",
      "lnu_delta_phi                    0.038 +/- 0.000\n",
      "nubar_phi                    0.038 +/- 0.000\n",
      "top_boosted_eta                    0.034 +/- 0.000\n",
      "lnubar_delta_phi                    0.029 +/- 0.000\n",
      "wplus_phi                    0.029 +/- 0.000\n",
      "bbbar_delta_phi                    0.024 +/- 0.000\n",
      "lnu_delta_eta                    0.024 +/- 0.000\n",
      "bbarnu_delta_phi                    0.023 +/- 0.000\n",
      "bbarnubar_delta_phi                    0.021 +/- 0.000\n",
      "wminusbbar_delta_phi                    0.021 +/- 0.000\n",
      "lbarnu_delta_phi                    0.020 +/- 0.000\n",
      "ttbar_eta                    0.014 +/- 0.000\n",
      "lbarb_delta_eta                    0.008 +/- 0.000\n",
      "nunubar_delta_eta                    0.003 +/- 0.000\n",
      "lbarbbar_delta_eta                    0.003 +/- 0.000\n",
      "bnu_delta_phi                    0.002 +/- 0.000\n",
      "wminusb_delta_eta                    -0.000 +/- 0.000\n",
      "bbbar_phi                    -0.001 +/- 0.000\n",
      "nu_phi                      -0.003 +/- 0.000\n",
      "top_phi                     -0.012 +/- 0.000\n",
      "nunubar_phi                    -0.013 +/- 0.000\n",
      "bbarnubar_delta_eta                    -0.013 +/- 0.000\n",
      "bbar_eta                    -0.014 +/- 0.000\n",
      "wplus_eta                    -0.014 +/- 0.000\n",
      "ttbar_phi                    -0.014 +/- 0.000\n",
      "wplusbbar_delta_eta                    -0.014 +/- 0.000\n",
      "bbar_phi                    -0.017 +/- 0.000\n",
      "tbar_phi                    -0.018 +/- 0.000\n",
      "top_eta                     -0.019 +/- 0.000\n",
      "bnubar_delta_phi                    -0.022 +/- 0.000\n",
      "nunubar_delta_phi                    -0.024 +/- 0.000\n",
      "nubar_eta                    -0.025 +/- 0.000\n",
      "tbar_eta                    -0.027 +/- 0.000\n",
      "llbar_phi                    -0.032 +/- 0.000\n",
      "wminus_phi                    -0.034 +/- 0.000\n",
      "lbarb_delta_phi                    -0.036 +/- 0.000\n",
      "lbarnubar_delta_eta                    -0.036 +/- 0.000\n",
      "wminus_pt                    -0.037 +/- 0.000\n",
      "lbar_phi                    -0.038 +/- 0.000\n",
      "wplusbbar_delta_phi                    -0.039 +/- 0.000\n",
      "b_phi                       -0.045 +/- 0.000\n",
      "tbar_boosted_eta                    -0.049 +/- 0.000\n",
      "lbarnubar_delta_phi                    -0.053 +/- 0.000\n",
      "met_pt                      -0.066 +/- 0.000\n",
      "lbar_eta                    -0.069 +/- 0.000\n",
      "ttbar_delta_phi                    -0.075 +/- 0.000\n",
      "bbbar_delta_eta                    -0.076 +/- 0.000\n",
      "top_pt                      -0.078 +/- 0.000\n",
      "llbar_delta_phi                    -0.086 +/- 0.000\n",
      "wplusb_delta_eta                    -0.095 +/- 0.000\n",
      "bbarnu_delta_eta                    -0.096 +/- 0.000\n",
      "llbar_delta_eta                    -0.102 +/- 0.000\n",
      "nu_pt                       -0.217 +/- 0.000\n",
      "tbar_pt                     -0.367 +/- 0.000\n"
     ]
    }
   ],
   "source": [
    "for i in mean_grad.argsort()[::-1]:\n",
    "#     if mean_grad[i] - 2 * r.importances_std[i] > 0:\n",
    "    print(f\"{input_variables[i]:<8}                    \"\n",
    "          f\"{mean_grad[i]:.3f}\"\n",
    "          f\" +/- {std_grad[i]:.3f}\")\n"
   ]
  }
 ],
 "metadata": {
  "kernelspec": {
   "display_name": "Python [conda env: GANS_7]",
   "language": "python",
   "name": "conda-env-GANS_7-py"
  },
  "language_info": {
   "codemirror_mode": {
    "name": "ipython",
    "version": 3
   },
   "file_extension": ".py",
   "mimetype": "text/x-python",
   "name": "python",
   "nbconvert_exporter": "python",
   "pygments_lexer": "ipython3",
   "version": "3.6.12"
  }
 },
 "nbformat": 4,
 "nbformat_minor": 2
}
