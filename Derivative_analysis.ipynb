{
 "cells": [
  {
   "cell_type": "code",
   "execution_count": 147,
   "metadata": {
    "collapsed": true
   },
   "outputs": [],
   "source": [
    "from dataset_preprocessing import ProductionModeDataset\n",
    "\n",
    "import torch\n",
    "from sklearn.inspection import permutation_importance\n",
    "import numpy as np\n",
    "import uproot\n",
    "import torch.nn as nn\n",
    "from matplotlib import pyplot as plt\n",
    "\n",
    "from Classifier_module import Classifier\n",
    "from torch.autograd import Variable\n"
   ]
  },
  {
   "cell_type": "code",
   "execution_count": 150,
   "metadata": {
    "collapsed": true
   },
   "outputs": [],
   "source": [
    "################# THIS IS WHERE YOU CHOOSE WHAT TO LOAD ################################\n",
    "three_layers = False\n",
    "\n",
    "path_to_model = \"./models/twoLayerModel_weights_gpu_mumu0\"\n",
    "\n",
    "event_type = \"mumu\"  # could be ee, emu, mumu\n",
    "root_path = \"/depot-new/cms/top/mcnama20/TopSpinCorr-Run2-Entanglement/CMSSW_10_2_22/src/TopAnalysis/Configuration/analysis/diLeptonic/three_files/Nominal\"\n",
    "\n",
    "file = root_path + \"/\" + event_type + \"_modified_root_1.root\""
   ]
  },
  {
   "cell_type": "code",
   "execution_count": 151,
   "metadata": {
    "collapsed": true
   },
   "outputs": [],
   "source": [
    "if not three_layers:\n",
    "    # model = 0\n",
    "    model = Classifier()\n",
    "    model.load_state_dict(torch.load(path_to_model))\n",
    "#     model.eval()"
   ]
  },
  {
   "cell_type": "code",
   "execution_count": 152,
   "metadata": {},
   "outputs": [
    {
     "name": "stdout",
     "output_type": "stream",
     "text": [
      "['lb_delta_eta', 'lbbar_delta_eta', 'lnu_delta_eta', 'lnubar_delta_eta', 'lbarb_delta_eta', 'lbarbbar_delta_eta', 'lbarnu_delta_eta', 'lbarnubar_delta_eta', 'bnu_delta_eta', 'bnubar_delta_eta', 'bbarnu_delta_eta', 'bbarnubar_delta_eta', 'lb_delta_phi', 'lbbar_delta_phi', 'lnu_delta_phi', 'lnubar_delta_phi', 'lbarb_delta_phi', 'lbarbbar_delta_phi', 'lbarnu_delta_phi', 'lbarnubar_delta_phi', 'bnu_delta_phi', 'bnubar_delta_phi', 'bbarnu_delta_phi', 'bbarnubar_delta_phi', 'wplusb_delta_eta', 'wplusbbar_delta_eta', 'wminusb_delta_eta', 'wminusbbar_delta_eta', 'wplusb_delta_phi', 'wplusbbar_delta_phi', 'wminusb_delta_phi', 'wminusbbar_delta_phi', 'top_eta', 'top_boosted_eta', 'tbar_eta', 'tbar_boosted_eta', 'ttbar_delta_eta', 'ttbar_eta', 'llbar_delta_eta', 'bbbar_delta_eta', 'nunubar_delta_eta', 'top_phi', 'tbar_phi', 'ttbar_phi', 'ttbar_delta_phi', 'llbar_phi', 'llbar_delta_phi', 'bbbar_phi', 'bbbar_delta_phi', 'nunubar_phi', 'nunubar_delta_phi', 'l_eta', 'lbar_eta', 'l_phi', 'lbar_phi', 'b_eta', 'bbar_eta', 'b_phi', 'bbar_phi', 'nu_eta', 'nubar_eta', 'nu_phi', 'nubar_phi', 'wplus_eta', 'wminus_eta', 'wplus_phi', 'wminus_phi', 'top_pt', 'tbar_pt', 'l_pt', 'b_pt', 'bbar_pt', 'nu_pt', 'nubar_pt', 'met_pt', 'ttbar_pt', 'ttbar_boosted_pt', 'wplus_pt', 'wminus_pt', 'ttbar_mass', 'production_mode', 'eventWeight', '__index__']\n",
      "num qqbar = 12230\n",
      "training (29718, 83)\n",
      "evaluating (6972, 83)\n"
     ]
    }
   ],
   "source": [
    "\n",
    "\n",
    "\n",
    "data_object = ProductionModeDataset(file)\n",
    "x = data_object.get_eval_data()"
   ]
  },
  {
   "cell_type": "code",
   "execution_count": 153,
   "metadata": {
    "collapsed": true
   },
   "outputs": [],
   "source": [
    "weight = x[:,81]\n",
    "target = x[:,80]\n",
    "target = Variable(torch.from_numpy(target).type(torch.LongTensor))\n",
    "y = np.transpose(x)\n",
    "y = np.delete(y, [80, 81, 82], 0)\n",
    "y = np.transpose(y)\n",
    "input = Variable(torch.from_numpy(y).type(torch.Tensor).requires_grad_(True))"
   ]
  },
  {
   "cell_type": "code",
   "execution_count": 154,
   "metadata": {
    "collapsed": true
   },
   "outputs": [],
   "source": [
    "input.requires_grad=True"
   ]
  },
  {
   "cell_type": "code",
   "execution_count": 155,
   "metadata": {
    "collapsed": true
   },
   "outputs": [],
   "source": [
    "# optimizer = torch.optim.Adam(model.parameters(), , betas=(opt.b1, opt.b2)) \n",
    "# criterion = nn.MSELoss()   # mean squared error loss\n",
    "criterion = nn.CrossEntropyLoss()\n"
   ]
  },
  {
   "cell_type": "code",
   "execution_count": 156,
   "metadata": {},
   "outputs": [
    {
     "name": "stdout",
     "output_type": "stream",
     "text": [
      "tensor(0.8287, grad_fn=<NllLossBackward>)\n"
     ]
    }
   ],
   "source": [
    "# model.retain_grad()\n",
    "input.retain_grad()\n",
    "output = model(input).requires_grad_(True)\n",
    "output.retain_grad()\n",
    "\n",
    "loss = criterion(output, target)\n",
    "loss.retain_grad()\n",
    "print(loss)\n",
    "\n",
    "# external_grad = torch.tensor(1.0)\n",
    "loss.backward()"
   ]
  },
  {
   "cell_type": "code",
   "execution_count": 157,
   "metadata": {},
   "outputs": [
    {
     "name": "stdout",
     "output_type": "stream",
     "text": [
      "tensor([[-5.6182e-06, -4.6110e-05, -7.6437e-05,  ..., -4.3662e-05,\n",
      "         -2.0285e-04,  2.2462e-04],\n",
      "        [-6.7044e-04,  3.5851e-04, -2.2236e-04,  ...,  1.9437e-03,\n",
      "          2.3353e-04, -1.2688e-03],\n",
      "        [ 4.1863e-05,  4.1750e-04,  1.9946e-05,  ..., -1.5545e-03,\n",
      "          1.2086e-03,  5.1811e-03],\n",
      "        ...,\n",
      "        [ 1.1768e-04, -4.3671e-04,  3.2609e-04,  ..., -2.4839e-04,\n",
      "         -1.8898e-04, -1.1107e-03],\n",
      "        [-2.6824e-04,  2.7408e-04,  5.0225e-04,  ...,  1.2044e-03,\n",
      "          6.4162e-04, -1.4682e-03],\n",
      "        [-1.3703e-04, -4.9907e-05, -4.1700e-04,  ..., -1.0898e-03,\n",
      "          3.0540e-03,  1.3382e-03]])\n"
     ]
    }
   ],
   "source": [
    "print(input.grad)"
   ]
  },
  {
   "cell_type": "code",
   "execution_count": 158,
   "metadata": {},
   "outputs": [
    {
     "data": {
      "text/plain": [
       "array([-0.06997979,  0.02594084,  0.11939513,  0.37060305,  0.141562  ,\n",
       "       -0.01750993, -0.43100595, -0.00697539,  0.35383692,  0.13255574,\n",
       "       -0.12089994, -0.19174351,  0.02859057, -0.00628711,  0.04302566,\n",
       "       -0.06736392,  0.14468536, -0.10258827, -0.0386091 ,  0.03800865,\n",
       "        0.02601019,  0.0757686 ,  0.12218693,  0.04713289, -0.13994537,\n",
       "        0.03265835,  0.21447216, -0.23931028,  0.07057077, -0.04555491,\n",
       "        0.1129856 ,  0.13698617, -0.32082236,  0.09326252, -0.23700412,\n",
       "       -0.14361113, -0.06026587, -0.04251185, -0.06745239, -0.18308595,\n",
       "       -0.04266756, -0.01090007, -0.0108495 ,  0.1654187 , -0.07310255,\n",
       "        0.09203216, -0.17530386,  0.00456248, -0.14320344, -0.08869706,\n",
       "       -0.107295  , -0.03907412,  0.10944227, -0.01416151, -0.10861064,\n",
       "       -0.05098709,  0.13560188, -0.04293071, -0.06636702,  0.14060594,\n",
       "       -0.04450048, -0.07949169,  0.11944798, -0.10731756, -0.24334773,\n",
       "        0.16037345,  0.04992399,  0.28404215, -0.04605536,  0.0648503 ,\n",
       "       -0.05007106,  0.01055859,  0.05690854,  1.        , -0.06353003,\n",
       "       -1.5047823 ,  0.26449105, -0.7629757 ,  0.21165733,  0.43085396],\n",
       "      dtype=float32)"
      ]
     },
     "execution_count": 158,
     "metadata": {},
     "output_type": "execute_result"
    }
   ],
   "source": [
    "mean_grad = input.grad.detach().numpy().mean(axis=0)\n",
    "max_grad = np.max(mean_grad)\n",
    "\n",
    "mean_grad = mean_grad/max_grad\n",
    "mean_grad"
   ]
  },
  {
   "cell_type": "code",
   "execution_count": 159,
   "metadata": {},
   "outputs": [
    {
     "data": {
      "text/plain": [
       "array([3.9098800e-06, 4.3863274e-06, 5.0541457e-06, 5.6333165e-06,\n",
       "       3.8558601e-06, 4.1174508e-06, 5.7491097e-06, 4.2558377e-06,\n",
       "       5.4581014e-06, 4.8926386e-06, 5.2894688e-06, 5.6469626e-06,\n",
       "       3.2077639e-06, 3.2904959e-06, 3.3568510e-06, 3.2814362e-06,\n",
       "       3.9483725e-06, 3.2661096e-06, 3.3889648e-06, 3.1269274e-06,\n",
       "       3.6886715e-06, 3.4909363e-06, 3.2967882e-06, 3.5786743e-06,\n",
       "       4.8561346e-06, 4.3178106e-06, 4.9110772e-06, 5.4638749e-06,\n",
       "       3.6364954e-06, 3.4914940e-06, 3.7663374e-06, 3.6925164e-06,\n",
       "       2.4913695e-06, 3.8963603e-06, 2.8693416e-06, 2.8240972e-06,\n",
       "       5.3635631e-06, 4.2372030e-06, 3.9604761e-06, 3.9575384e-06,\n",
       "       5.1324159e-06, 2.6691011e-06, 2.9818161e-06, 2.8218744e-06,\n",
       "       3.0187014e-06, 2.6084483e-06, 3.1425036e-06, 2.6318551e-06,\n",
       "       2.6347420e-06, 2.7328949e-06, 3.0207113e-06, 3.0470444e-06,\n",
       "       2.9773487e-06, 2.9035227e-06, 2.7017911e-06, 3.1662530e-06,\n",
       "       3.0328561e-06, 3.3056415e-06, 2.9220764e-06, 3.2897126e-06,\n",
       "       3.6172071e-06, 2.9000098e-06, 3.0836070e-06, 3.5072783e-06,\n",
       "       2.8187383e-06, 3.2010994e-06, 3.1329851e-06, 8.8402821e-06,\n",
       "       1.1520426e-05, 9.6449867e-06, 7.1059549e-06, 6.2745239e-06,\n",
       "       1.0856960e-05, 1.0773815e-05, 8.3110108e-06, 2.9657249e-05,\n",
       "       2.3163970e-05, 1.1483520e-05, 6.8666081e-06, 1.9515835e-05],\n",
       "      dtype=float32)"
      ]
     },
     "execution_count": 159,
     "metadata": {},
     "output_type": "execute_result"
    }
   ],
   "source": [
    "std_grad = np.std(input.grad.detach().numpy(), axis=0)/np.sqrt(input.shape[0])\n",
    "std_grad"
   ]
  },
  {
   "cell_type": "code",
   "execution_count": 160,
   "metadata": {
    "collapsed": true
   },
   "outputs": [],
   "source": [
    "events = uproot.open(file)\n",
    "key = events.keys()[0]\n",
    "input_variables = events[key].keys()"
   ]
  },
  {
   "cell_type": "code",
   "execution_count": 161,
   "metadata": {},
   "outputs": [
    {
     "name": "stdout",
     "output_type": "stream",
     "text": [
      "nubar_pt                    1.000 +/- 0.000\n",
      "ttbar_mass                    0.431 +/- 0.000\n",
      "lnubar_delta_eta                    0.371 +/- 0.000\n",
      "bnu_delta_eta                    0.354 +/- 0.000\n",
      "top_pt                      0.284 +/- 0.000\n",
      "ttbar_boosted_pt                    0.264 +/- 0.000\n",
      "wminusb_delta_eta                    0.214 +/- 0.000\n",
      "wminus_pt                    0.212 +/- 0.000\n",
      "ttbar_phi                    0.165 +/- 0.000\n",
      "wplus_phi                    0.160 +/- 0.000\n",
      "lbarb_delta_phi                    0.145 +/- 0.000\n",
      "lbarb_delta_eta                    0.142 +/- 0.000\n",
      "nu_eta                      0.141 +/- 0.000\n",
      "wminusbbar_delta_phi                    0.137 +/- 0.000\n",
      "bbar_eta                    0.136 +/- 0.000\n",
      "bnubar_delta_eta                    0.133 +/- 0.000\n",
      "bbarnu_delta_phi                    0.122 +/- 0.000\n",
      "nubar_phi                    0.119 +/- 0.000\n",
      "lnu_delta_eta                    0.119 +/- 0.000\n",
      "wminusb_delta_phi                    0.113 +/- 0.000\n",
      "lbar_eta                    0.109 +/- 0.000\n",
      "top_boosted_eta                    0.093 +/- 0.000\n",
      "llbar_phi                    0.092 +/- 0.000\n",
      "bnubar_delta_phi                    0.076 +/- 0.000\n",
      "wplusb_delta_phi                    0.071 +/- 0.000\n",
      "l_pt                        0.065 +/- 0.000\n",
      "nu_pt                       0.057 +/- 0.000\n",
      "wminus_phi                    0.050 +/- 0.000\n",
      "bbarnubar_delta_phi                    0.047 +/- 0.000\n",
      "lnu_delta_phi                    0.043 +/- 0.000\n",
      "lbarnubar_delta_phi                    0.038 +/- 0.000\n",
      "wplusbbar_delta_eta                    0.033 +/- 0.000\n",
      "lb_delta_phi                    0.029 +/- 0.000\n",
      "bnu_delta_phi                    0.026 +/- 0.000\n",
      "lbbar_delta_eta                    0.026 +/- 0.000\n",
      "bbar_pt                     0.011 +/- 0.000\n",
      "bbbar_phi                    0.005 +/- 0.000\n",
      "lbbar_delta_phi                    -0.006 +/- 0.000\n",
      "lbarnubar_delta_eta                    -0.007 +/- 0.000\n",
      "tbar_phi                    -0.011 +/- 0.000\n",
      "top_phi                     -0.011 +/- 0.000\n",
      "l_phi                       -0.014 +/- 0.000\n",
      "lbarbbar_delta_eta                    -0.018 +/- 0.000\n",
      "lbarnu_delta_phi                    -0.039 +/- 0.000\n",
      "l_eta                       -0.039 +/- 0.000\n",
      "ttbar_eta                    -0.043 +/- 0.000\n",
      "nunubar_delta_eta                    -0.043 +/- 0.000\n",
      "b_phi                       -0.043 +/- 0.000\n",
      "nubar_eta                    -0.045 +/- 0.000\n",
      "wplusbbar_delta_phi                    -0.046 +/- 0.000\n",
      "tbar_pt                     -0.046 +/- 0.000\n",
      "b_pt                        -0.050 +/- 0.000\n",
      "b_eta                       -0.051 +/- 0.000\n",
      "ttbar_delta_eta                    -0.060 +/- 0.000\n",
      "met_pt                      -0.064 +/- 0.000\n",
      "bbar_phi                    -0.066 +/- 0.000\n",
      "lnubar_delta_phi                    -0.067 +/- 0.000\n",
      "llbar_delta_eta                    -0.067 +/- 0.000\n",
      "lb_delta_eta                    -0.070 +/- 0.000\n",
      "ttbar_delta_phi                    -0.073 +/- 0.000\n",
      "nu_phi                      -0.079 +/- 0.000\n",
      "nunubar_phi                    -0.089 +/- 0.000\n",
      "lbarbbar_delta_phi                    -0.103 +/- 0.000\n",
      "nunubar_delta_phi                    -0.107 +/- 0.000\n",
      "wplus_eta                    -0.107 +/- 0.000\n",
      "lbar_phi                    -0.109 +/- 0.000\n",
      "bbarnu_delta_eta                    -0.121 +/- 0.000\n",
      "wplusb_delta_eta                    -0.140 +/- 0.000\n",
      "bbbar_delta_phi                    -0.143 +/- 0.000\n",
      "tbar_boosted_eta                    -0.144 +/- 0.000\n",
      "llbar_delta_phi                    -0.175 +/- 0.000\n",
      "bbbar_delta_eta                    -0.183 +/- 0.000\n",
      "bbarnubar_delta_eta                    -0.192 +/- 0.000\n",
      "tbar_eta                    -0.237 +/- 0.000\n",
      "wminusbbar_delta_eta                    -0.239 +/- 0.000\n",
      "wminus_eta                    -0.243 +/- 0.000\n",
      "top_eta                     -0.321 +/- 0.000\n",
      "lbarnu_delta_eta                    -0.431 +/- 0.000\n",
      "wplus_pt                    -0.763 +/- 0.000\n",
      "ttbar_pt                    -1.505 +/- 0.000\n"
     ]
    }
   ],
   "source": [
    "for i in mean_grad.argsort()[::-1]:\n",
    "#     if mean_grad[i] - 2 * r.importances_std[i] > 0:\n",
    "    print(f\"{input_variables[i]:<8}                    \"\n",
    "          f\"{mean_grad[i]:.3f}\"\n",
    "          f\" +/- {std_grad[i]:.3f}\")\n"
   ]
  }
 ],
 "metadata": {
  "kernelspec": {
   "display_name": "Python [conda env: GANS_7]",
   "language": "python",
   "name": "conda-env-GANS_7-py"
  },
  "language_info": {
   "codemirror_mode": {
    "name": "ipython",
    "version": 3
   },
   "file_extension": ".py",
   "mimetype": "text/x-python",
   "name": "python",
   "nbconvert_exporter": "python",
   "pygments_lexer": "ipython3",
   "version": "3.6.12"
  }
 },
 "nbformat": 4,
 "nbformat_minor": 2
}
