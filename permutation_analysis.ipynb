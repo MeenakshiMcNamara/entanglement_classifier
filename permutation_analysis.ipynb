{
 "cells": [
  {
   "cell_type": "code",
   "execution_count": 1,
   "metadata": {
    "collapsed": true
   },
   "outputs": [],
   "source": [
    "from dataset_preprocessing import ProductionModeDataset\n",
    "\n",
    "import torch\n",
    "from sklearn.inspection import permutation_importance\n",
    "import numpy as np\n",
    "import uproot\n",
    "import torch.nn as nn\n",
    "from matplotlib import pyplot as plt\n",
    "\n",
    "from Classifier_module import Classifier\n",
    "from torch.autograd import Variable\n"
   ]
  },
  {
   "cell_type": "code",
   "execution_count": 24,
   "metadata": {
    "collapsed": true
   },
   "outputs": [],
   "source": [
    "################# THIS IS WHERE YOU CHOOSE WHAT TO LOAD ################################\n",
    "path_to_model = \"./models/twoLayerModel_gpu_emu0\"\n",
    "\n",
    "event_type = \"emu\"  # could be ee, emu, mumu\n",
    "root_path = \"/depot-new/cms/top/mcnama20/TopSpinCorr-Run2-Entanglement/CMSSW_10_2_22/src/TopAnalysis/Configuration/analysis/diLeptonic/three_files/Nominal\"\n",
    "\n",
    "file = root_path + \"/\" + event_type + \"_modified_root_1.root\""
   ]
  },
  {
   "cell_type": "code",
   "execution_count": 25,
   "metadata": {},
   "outputs": [
    {
     "data": {
      "text/plain": [
       "Classifier(\n",
       "  (model): Sequential(\n",
       "    (0): Linear(in_features=80, out_features=256, bias=True)\n",
       "    (1): LeakyReLU(negative_slope=0.2, inplace=True)\n",
       "    (2): Linear(in_features=256, out_features=3, bias=True)\n",
       "    (3): LeakyReLU(negative_slope=0.2, inplace=True)\n",
       "  )\n",
       ")"
      ]
     },
     "execution_count": 25,
     "metadata": {},
     "output_type": "execute_result"
    }
   ],
   "source": [
    "# model = 0\n",
    "model = Classifier()\n",
    "model.load_state_dict(torch.load(path_to_model))\n",
    "model.eval()"
   ]
  },
  {
   "cell_type": "code",
   "execution_count": 26,
   "metadata": {},
   "outputs": [
    {
     "name": "stdout",
     "output_type": "stream",
     "text": [
      "['lb_delta_eta', 'lbbar_delta_eta', 'lnu_delta_eta', 'lnubar_delta_eta', 'lbarb_delta_eta', 'lbarbbar_delta_eta', 'lbarnu_delta_eta', 'lbarnubar_delta_eta', 'bnu_delta_eta', 'bnubar_delta_eta', 'bbarnu_delta_eta', 'bbarnubar_delta_eta', 'lb_delta_phi', 'lbbar_delta_phi', 'lnu_delta_phi', 'lnubar_delta_phi', 'lbarb_delta_phi', 'lbarbbar_delta_phi', 'lbarnu_delta_phi', 'lbarnubar_delta_phi', 'bnu_delta_phi', 'bnubar_delta_phi', 'bbarnu_delta_phi', 'bbarnubar_delta_phi', 'wplusb_delta_eta', 'wplusbbar_delta_eta', 'wminusb_delta_eta', 'wminusbbar_delta_eta', 'wplusb_delta_phi', 'wplusbbar_delta_phi', 'wminusb_delta_phi', 'wminusbbar_delta_phi', 'top_eta', 'top_boosted_eta', 'tbar_eta', 'tbar_boosted_eta', 'ttbar_delta_eta', 'ttbar_eta', 'llbar_delta_eta', 'bbbar_delta_eta', 'nunubar_delta_eta', 'top_phi', 'tbar_phi', 'ttbar_phi', 'ttbar_delta_phi', 'llbar_phi', 'llbar_delta_phi', 'bbbar_phi', 'bbbar_delta_phi', 'nunubar_phi', 'nunubar_delta_phi', 'l_eta', 'lbar_eta', 'l_phi', 'lbar_phi', 'b_eta', 'bbar_eta', 'b_phi', 'bbar_phi', 'nu_eta', 'nubar_eta', 'nu_phi', 'nubar_phi', 'wplus_eta', 'wminus_eta', 'wplus_phi', 'wminus_phi', 'top_pt', 'tbar_pt', 'l_pt', 'b_pt', 'bbar_pt', 'nu_pt', 'nubar_pt', 'met_pt', 'ttbar_pt', 'ttbar_boosted_pt', 'wplus_pt', 'wminus_pt', 'ttbar_mass', 'production_mode', 'eventWeight', '__index__']\n",
      "num qqbar = 27098\n",
      "training (65848, 83)\n",
      "evaluating (15446, 83)\n"
     ]
    }
   ],
   "source": [
    "\n",
    "\n",
    "\n",
    "data_object = ProductionModeDataset(file)\n",
    "x = data_object.get_eval_data()\n"
   ]
  },
  {
   "cell_type": "code",
   "execution_count": 33,
   "metadata": {
    "collapsed": true
   },
   "outputs": [],
   "source": [
    "weight = x[:,81]\n",
    "target = x[:,80]\n",
    "target = Variable(torch.from_numpy(target).type(torch.LongTensor))\n",
    "y = np.transpose(x)\n",
    "y = np.delete(y, [80, 81, 82], 0)\n",
    "y = np.transpose(y)\n",
    "input = Variable(torch.from_numpy(y).type(torch.Tensor))"
   ]
  },
  {
   "cell_type": "code",
   "execution_count": 32,
   "metadata": {},
   "outputs": [
    {
     "data": {
      "text/plain": [
       "tensor([-0.0995,  2.2617, -0.1250], grad_fn=<SliceBackward>)"
      ]
     },
     "execution_count": 32,
     "metadata": {},
     "output_type": "execute_result"
    }
   ],
   "source": [
    "model(input)[0,:]"
   ]
  },
  {
   "cell_type": "code",
   "execution_count": 29,
   "metadata": {},
   "outputs": [
    {
     "data": {
      "text/plain": [
       "tensor(1)"
      ]
     },
     "execution_count": 29,
     "metadata": {},
     "output_type": "execute_result"
    }
   ],
   "source": [
    "target[0]"
   ]
  },
  {
   "cell_type": "code",
   "execution_count": 30,
   "metadata": {
    "collapsed": true
   },
   "outputs": [],
   "source": [
    "from skorch import NeuralNetClassifier\n",
    "from sklearn.inspection import permutation_importance"
   ]
  },
  {
   "cell_type": "code",
   "execution_count": 34,
   "metadata": {},
   "outputs": [
    {
     "data": {
      "text/plain": [
       "<class 'skorch.classifier.NeuralNetClassifier'>[initialized](\n",
       "  module_=Classifier(\n",
       "    (model): Sequential(\n",
       "      (0): Linear(in_features=80, out_features=256, bias=True)\n",
       "      (1): LeakyReLU(negative_slope=0.2, inplace=True)\n",
       "      (2): Linear(in_features=256, out_features=3, bias=True)\n",
       "      (3): LeakyReLU(negative_slope=0.2, inplace=True)\n",
       "    )\n",
       "  ),\n",
       ")"
      ]
     },
     "execution_count": 34,
     "metadata": {},
     "output_type": "execute_result"
    }
   ],
   "source": [
    "nn = NeuralNetClassifier(model, max_epochs=0, lr=0.00, batch_size=5000)\n",
    "nn.initialize()"
   ]
  },
  {
   "cell_type": "code",
   "execution_count": 35,
   "metadata": {
    "collapsed": true
   },
   "outputs": [],
   "source": [
    "events = uproot.open(file)\n",
    "key = events.keys()[0]\n",
    "input_variables = events[key].keys()"
   ]
  },
  {
   "cell_type": "code",
   "execution_count": 37,
   "metadata": {},
   "outputs": [
    {
     "name": "stdout",
     "output_type": "stream",
     "text": [
      "ttbar_pt0.083 +/- 0.002\n",
      "l_phi   0.060 +/- 0.002\n",
      "llbar_delta_phi0.060 +/- 0.002\n",
      "ttbar_phi0.056 +/- 0.002\n",
      "nu_phi  0.053 +/- 0.002\n",
      "lbarnu_delta_phi0.053 +/- 0.003\n",
      "b_phi   0.053 +/- 0.002\n",
      "wplus_phi0.052 +/- 0.002\n",
      "tbar_phi0.052 +/- 0.002\n",
      "lbarb_delta_phi0.051 +/- 0.002\n",
      "lb_delta_eta0.051 +/- 0.002\n",
      "l_eta   0.051 +/- 0.002\n",
      "lbar_eta0.050 +/- 0.002\n",
      "wminus_phi0.050 +/- 0.002\n",
      "lbarbbar_delta_eta0.050 +/- 0.003\n",
      "nubar_phi0.050 +/- 0.002\n",
      "lnubar_delta_phi0.050 +/- 0.002\n",
      "llbar_phi0.050 +/- 0.002\n",
      "bbar_phi0.049 +/- 0.002\n",
      "bbarnubar_delta_phi0.049 +/- 0.002\n",
      "bnu_delta_phi0.048 +/- 0.002\n",
      "wminusbbar_delta_phi0.047 +/- 0.001\n",
      "wplusb_delta_phi0.047 +/- 0.002\n",
      "lbar_phi0.046 +/- 0.002\n",
      "bbarnu_delta_phi0.046 +/- 0.002\n",
      "llbar_delta_eta0.045 +/- 0.002\n",
      "bbbar_delta_phi0.045 +/- 0.002\n",
      "nunubar_delta_phi0.045 +/- 0.002\n",
      "bbar_eta0.045 +/- 0.002\n",
      "b_eta   0.045 +/- 0.002\n",
      "top_phi 0.045 +/- 0.002\n",
      "lbbar_delta_phi0.044 +/- 0.002\n",
      "bbbar_phi0.043 +/- 0.002\n",
      "lbarbbar_delta_phi0.043 +/- 0.002\n",
      "nunubar_phi0.042 +/- 0.002\n",
      "wplusbbar_delta_phi0.042 +/- 0.002\n",
      "lb_delta_phi0.042 +/- 0.002\n",
      "wminusb_delta_phi0.041 +/- 0.002\n",
      "bnubar_delta_eta0.040 +/- 0.002\n",
      "bnubar_delta_phi0.040 +/- 0.002\n",
      "bbbar_delta_eta0.039 +/- 0.002\n",
      "wplusbbar_delta_eta0.039 +/- 0.002\n",
      "wminusb_delta_eta0.038 +/- 0.002\n",
      "bbarnubar_delta_eta0.038 +/- 0.002\n",
      "lbarb_delta_eta0.038 +/- 0.002\n",
      "ttbar_delta_eta0.037 +/- 0.002\n",
      "top_pt  0.037 +/- 0.002\n",
      "lbarnubar_delta_eta0.036 +/- 0.002\n",
      "lbbar_delta_eta0.036 +/- 0.002\n",
      "wminusbbar_delta_eta0.035 +/- 0.002\n",
      "tbar_pt 0.034 +/- 0.002\n",
      "lnu_delta_eta0.034 +/- 0.002\n",
      "bbarnu_delta_eta0.034 +/- 0.002\n",
      "nunubar_delta_eta0.033 +/- 0.002\n",
      "wplusb_delta_eta0.032 +/- 0.002\n",
      "lbarnubar_delta_phi0.031 +/- 0.002\n",
      "lnu_delta_phi0.031 +/- 0.002\n",
      "ttbar_mass0.031 +/- 0.002\n",
      "ttbar_delta_phi0.031 +/- 0.002\n",
      "bnu_delta_eta0.031 +/- 0.002\n",
      "lnubar_delta_eta0.030 +/- 0.002\n",
      "ttbar_eta0.030 +/- 0.002\n",
      "b_pt    0.027 +/- 0.002\n",
      "l_pt    0.026 +/- 0.001\n",
      "lbarnu_delta_eta0.025 +/- 0.002\n",
      "bbar_pt 0.023 +/- 0.001\n",
      "top_eta 0.022 +/- 0.001\n",
      "wplus_pt0.022 +/- 0.002\n",
      "tbar_eta0.022 +/- 0.002\n",
      "tbar_boosted_eta0.021 +/- 0.002\n",
      "wminus_pt0.019 +/- 0.002\n",
      "nu_pt   0.019 +/- 0.002\n",
      "met_pt  0.019 +/- 0.001\n",
      "nu_eta  0.018 +/- 0.002\n",
      "wplus_eta0.018 +/- 0.001\n",
      "top_boosted_eta0.017 +/- 0.001\n",
      "nubar_eta0.016 +/- 0.002\n",
      "wminus_eta0.015 +/- 0.002\n",
      "nubar_pt0.015 +/- 0.002\n",
      "ttbar_boosted_pt0.010 +/- 0.001\n"
     ]
    }
   ],
   "source": [
    "r = permutation_importance(nn, input, target, \\\n",
    "                           n_repeats=30, \\\n",
    "                           random_state=0)\n",
    "\n",
    "for i in r.importances_mean.argsort()[::-1]:\n",
    "    if r.importances_mean[i] - 2 * r.importances_std[i] > 0:\n",
    "        print(f\"{input_variables[i]:<8}\"\n",
    "              f\"{r.importances_mean[i]:.3f}\"\n",
    "              f\" +/- {r.importances_std[i]:.3f}\")\n"
   ]
  },
  {
   "cell_type": "code",
   "execution_count": 36,
   "metadata": {},
   "outputs": [
    {
     "data": {
      "text/plain": [
       "0.6158876084423152"
      ]
     },
     "execution_count": 36,
     "metadata": {},
     "output_type": "execute_result"
    }
   ],
   "source": [
    "nn.score(input, target)"
   ]
  }
 ],
 "metadata": {
  "kernelspec": {
   "display_name": "Python (GANS)",
   "language": "python",
   "name": "gans"
  },
  "language_info": {
   "codemirror_mode": {
    "name": "ipython",
    "version": 3
   },
   "file_extension": ".py",
   "mimetype": "text/x-python",
   "name": "python",
   "nbconvert_exporter": "python",
   "pygments_lexer": "ipython3",
   "version": "3.6.12"
  }
 },
 "nbformat": 4,
 "nbformat_minor": 2
}
