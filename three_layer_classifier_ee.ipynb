{
 "cells": [
  {
   "cell_type": "code",
   "execution_count": 5,
   "metadata": {},
   "outputs": [
    {
     "name": "stdout",
     "output_type": "stream",
     "text": [
      "False\n"
     ]
    }
   ],
   "source": [
    "%run dataset_preprocessing.ipynb\n",
    "\n",
    "import argparse\n",
    "import os\n",
    "import numpy as np\n",
    "import math\n",
    "import sys\n",
    "#import torchvision.transforms as transforms\n",
    "#from torchvision.utils import save_image\n",
    "\n",
    "from torch.utils.data import DataLoader\n",
    "#from torchvision import datasets\n",
    "from torch.autograd import Variable\n",
    "\n",
    "import torch.nn as nn\n",
    "import torch.nn.functional as F   # NOTE: I don't think this is used\n",
    "import torch.autograd as autograd\n",
    "import torch\n",
    "\n",
    "from matplotlib import pyplot as plt\n",
    "from IPython import display\n",
    "\n",
    "\n",
    "print(torch.cuda.is_available())"
   ]
  },
  {
   "cell_type": "code",
   "execution_count": 6,
   "metadata": {},
   "outputs": [
    {
     "name": "stdout",
     "output_type": "stream",
     "text": [
      "['lb_delta_eta', 'lbbar_delta_eta', 'lnu_delta_eta', 'lnubar_delta_eta', 'lbarb_delta_eta', 'lbarbbar_delta_eta', 'lbarnu_delta_eta', 'lbarnubar_delta_eta', 'bnu_delta_eta', 'bnubar_delta_eta', 'bbarnu_delta_eta', 'bbarnubar_delta_eta', 'lb_delta_phi', 'lbbar_delta_phi', 'lnu_delta_phi', 'lnubar_delta_phi', 'lbarb_delta_phi', 'lbarbbar_delta_phi', 'lbarnu_delta_phi', 'lbarnubar_delta_phi', 'bnu_delta_phi', 'bnubar_delta_phi', 'bbarnu_delta_phi', 'bbarnubar_delta_phi', 'wplusb_delta_eta', 'wplusbbar_delta_eta', 'wminusb_delta_eta', 'wminusbbar_delta_eta', 'wplusb_delta_phi', 'wplusbbar_delta_phi', 'wminusb_delta_phi', 'wminusbbar_delta_phi', 'top_eta', 'top_boosted_eta', 'tbar_eta', 'tbar_boosted_eta', 'ttbar_delta_eta', 'ttbar_eta', 'llbar_delta_eta', 'bbbar_delta_eta', 'nunubar_delta_eta', 'top_phi', 'tbar_phi', 'ttbar_phi', 'ttbar_delta_phi', 'llbar_phi', 'llbar_delta_phi', 'bbbar_phi', 'bbbar_delta_phi', 'nunubar_phi', 'nunubar_delta_phi', 'l_eta', 'lbar_eta', 'l_phi', 'lbar_phi', 'b_eta', 'bbar_eta', 'b_phi', 'bbar_phi', 'nu_eta', 'nubar_eta', 'nu_phi', 'nubar_phi', 'wplus_eta', 'wminus_eta', 'wplus_phi', 'wminus_phi', 'top_pt', 'tbar_pt', 'l_pt', 'b_pt', 'bbar_pt', 'nu_pt', 'nubar_pt', 'met_pt', 'ttbar_pt', 'ttbar_boosted_pt', 'wplus_pt', 'wminus_pt', 'ttbar_mass', 'production_mode', 'eventWeight', '__index__']\n",
      "num qqbar = 6324\n",
      "training (15367, 83)\n",
      "evaluating (3605, 83)\n",
      "done\n"
     ]
    }
   ],
   "source": [
    "class opt():   # Class used for optimizers in the future. Defines all variables and stuff needed.\n",
    "    save_weights = True\n",
    "    n_epochs = 20000   # an epoch is the number of times it works through the entire training set\n",
    "    batch_size = 5000   # the training set is broken up into batches, \n",
    "                        # and the average loss is used from a given batch for back propagation\n",
    "    lr = 0.001   # learning rate (how much to change based on error)\n",
    "    b1 = 0.9   # Used for Adam. Exponential decay rate for the first moment\n",
    "    b2 = 0.999   # Used for Adam. Exponential decay rate for the second moment estimates (gradient squared)\n",
    "    input_size = 80\n",
    "    data_file = \"/data\"\n",
    "    config_dir = \".\"\n",
    "    save_location = config_dir + data_file\n",
    "    \n",
    "    #root_path = \"/depot/darkmatter/data/jupyterhub/Physics_Undergrads/Steve/things\"\n",
    "\n",
    "    #file = root_path + \"/all_1.root\"\n",
    "    \n",
    "    root_path = \"/depot-new/cms/top/mcnama20/TopSpinCorr-Run2-Entanglement/CMSSW_10_2_22/src/TopAnalysis/Configuration/analysis/diLeptonic/three_files/Nominal\"\n",
    "\n",
    "    file = root_path + \"/ee_modified_root_1.root\"\n",
    "\n",
    "\n",
    "    #n_cpu = 2    not used rn\n",
    "\n",
    "# os.makedirs(config_dir, exit_ok=True)\n",
    "\n",
    "cuda = True if torch.cuda.is_available() else False\n",
    "\n",
    "\n",
    "class Classifier(nn.Module):\n",
    "    \"\"\"\n",
    "    classifier layers\n",
    "    \"\"\"\n",
    "    def __init__(self):\n",
    "        super(Classifier, self).__init__()   # Just uses the module constructor with name Discriminator \n",
    "\n",
    "        self.model = nn.Sequential(\n",
    "            nn.Linear(opt.input_size, 512),   # first layer\n",
    "            nn.LeakyReLU(0.2, inplace=True),   # apply leaky relu to layer\n",
    "            nn.Linear(512, 256),\n",
    "            nn.LeakyReLU(0.2, inplace=True),\n",
    "            nn.Linear(256, 3),\n",
    "            nn.LeakyReLU(0.2, inplace=True)\n",
    "        )\n",
    "\n",
    "    def forward(self, input):\n",
    "        \"\"\"\n",
    "        applies model to input and attempts to classify\n",
    "        \"\"\"\n",
    "        output = self.model(input)   # Classifies the input (at location) as gg (0) qqbar (1) or other (2)\n",
    "        return output\n",
    "\n",
    "\n",
    "# ******* OUT OF CLASSES NOW ************\n",
    "\n",
    "# Initialize generator and discriminator\n",
    "classifier = Classifier()\n",
    "\n",
    "if cuda:\n",
    "    classifier.cuda()\n",
    "\n",
    "    \n",
    "\n",
    "# # Configure data loader - CHANGE\n",
    "os.makedirs(\"./data/\", exist_ok=True)\n",
    "dataloader = torch.utils.data.DataLoader(\n",
    "    ProductionModeDataset(opt.file),\n",
    "    batch_size=opt.batch_size, drop_last=True,\n",
    "    shuffle=True,\n",
    ")\n",
    "print('done')"
   ]
  },
  {
   "cell_type": "code",
   "execution_count": 7,
   "metadata": {},
   "outputs": [
    {
     "name": "stdout",
     "output_type": "stream",
     "text": [
      "['lb_delta_eta', 'lbbar_delta_eta', 'lnu_delta_eta', 'lnubar_delta_eta', 'lbarb_delta_eta', 'lbarbbar_delta_eta', 'lbarnu_delta_eta', 'lbarnubar_delta_eta', 'bnu_delta_eta', 'bnubar_delta_eta', 'bbarnu_delta_eta', 'bbarnubar_delta_eta', 'lb_delta_phi', 'lbbar_delta_phi', 'lnu_delta_phi', 'lnubar_delta_phi', 'lbarb_delta_phi', 'lbarbbar_delta_phi', 'lbarnu_delta_phi', 'lbarnubar_delta_phi', 'bnu_delta_phi', 'bnubar_delta_phi', 'bbarnu_delta_phi', 'bbarnubar_delta_phi', 'wplusb_delta_eta', 'wplusbbar_delta_eta', 'wminusb_delta_eta', 'wminusbbar_delta_eta', 'wplusb_delta_phi', 'wplusbbar_delta_phi', 'wminusb_delta_phi', 'wminusbbar_delta_phi', 'top_eta', 'top_boosted_eta', 'tbar_eta', 'tbar_boosted_eta', 'ttbar_delta_eta', 'ttbar_eta', 'llbar_delta_eta', 'bbbar_delta_eta', 'nunubar_delta_eta', 'top_phi', 'tbar_phi', 'ttbar_phi', 'ttbar_delta_phi', 'llbar_phi', 'llbar_delta_phi', 'bbbar_phi', 'bbbar_delta_phi', 'nunubar_phi', 'nunubar_delta_phi', 'l_eta', 'lbar_eta', 'l_phi', 'lbar_phi', 'b_eta', 'bbar_eta', 'b_phi', 'bbar_phi', 'nu_eta', 'nubar_eta', 'nu_phi', 'nubar_phi', 'wplus_eta', 'wminus_eta', 'wplus_phi', 'wminus_phi', 'top_pt', 'tbar_pt', 'l_pt', 'b_pt', 'bbar_pt', 'nu_pt', 'nubar_pt', 'met_pt', 'ttbar_pt', 'ttbar_boosted_pt', 'wplus_pt', 'wminus_pt', 'ttbar_mass', 'production_mode', 'eventWeight', '__index__']\n",
      "num qqbar = 6324\n",
      "training (15367, 83)\n",
      "evaluating (3605, 83)\n"
     ]
    }
   ],
   "source": [
    "# load data for evaluation of model (not training set) and separate weights and target\n",
    "validation_data = ProductionModeDataset(opt.file).get_eval_data()\n",
    "\n",
    "w_val = validation_data[:,81]\n",
    "w_val = Variable(torch.from_numpy(w_val).type(torch.FloatTensor))\n",
    "target_val = validation_data[:,80]\n",
    "target_val = Variable(torch.from_numpy(target_val).type(torch.LongTensor))\n",
    "y_val = np.transpose(validation_data)\n",
    "y_val = np.delete(y_val, [80, 81, 82], 0)\n",
    "y_val = np.transpose(y_val)\n",
    "val_data = Variable(torch.from_numpy(y_val).type(torch.Tensor))"
   ]
  },
  {
   "cell_type": "code",
   "execution_count": 8,
   "metadata": {},
   "outputs": [
    {
     "data": {
      "image/png": "[encoded data removed]",
      "text/plain": [
       "<Figure size 432x288 with 1 Axes>"
      ]
     },
     "metadata": {
      "needs_background": "light"
     },
     "output_type": "display_data"
    },
    {
     "name": "stdout",
     "output_type": "stream",
     "text": [
      "i am running\n",
      "-21558.05\n",
      "-53948.22\n",
      "-84686.65\n",
      "-69394.29\n"
     ]
    }
   ],
   "source": [
    "optimizer = torch.optim.Adam(classifier.parameters(), lr=opt.lr, betas=(opt.b1, opt.b2)) \n",
    "# criterion = nn.MSELoss()   # mean squared error loss\n",
    "criterion = nn.CrossEntropyLoss(reduce=False)\n",
    "\n",
    "small_loss = 1e20   # initialize with a large loss so everything is smaller than it\n",
    "\n",
    "loss_val_array = np.array(())\n",
    "loss_array = np.array(())\n",
    "batches_done = 0   # Counter for batches\n",
    "for epoch in range(opt.n_epochs):   # Loop through all epochs\n",
    "    for i, x in enumerate(dataloader): # x is a batch\n",
    "                                                # there are i batches in the epoch\n",
    "        # Configure input\n",
    "        weight = x[:,81]\n",
    "        weight = Variable(weight.type(torch.FloatTensor))\n",
    "        target = x[:,80]\n",
    "        target = Variable(target.type(torch.LongTensor))\n",
    "        #print('len of target =',len(target))\n",
    "        x = np.transpose(x)\n",
    "        x = np.delete(x, [80, 81, 82], 0)\n",
    "        x = np.transpose(x)\n",
    "#         print(\"mode \" + str(target.shape))\n",
    "#         print(\"x \" + str(x.shape))\n",
    "#         print(\"x\" + str(x.type))\n",
    "        \n",
    "        # Configure input\n",
    "        batch = Variable(x.type(torch.Tensor))   # Variable is a wrapper for the Tensor x was just made into\n",
    "\n",
    "        # ---------------------\n",
    "        #  Train Classifier\n",
    "        # ---------------------\n",
    "\n",
    "        optimizer.zero_grad()   # Make gradients zero so they don't accumulate\n",
    "        \n",
    "        # apply nn to input\n",
    "        output = classifier(batch)\n",
    "\n",
    "        # Calculate loss \n",
    "        loss_l = criterion(output, target) # -torch.mean(output) + torch.mean(y) # may need to change datatype of y\n",
    "        loss = torch.dot(weight,loss_l)\n",
    "        loss.backward()   # Do back propagation \n",
    "        optimizer.step()   # Update parameters based on gradients for individuals\n",
    "        batches_done += 1\n",
    "    \n",
    "    if epoch % 10 == 0:\n",
    "        \n",
    "        #np.save('{file_name}/{num_batches}.npy'.format(file_name=opt.data_file, \\\n",
    "            #num_batches=batches_done), loss)\n",
    "        \n",
    "        print(loss.detach().numpy())\n",
    "        loss_array = np.append(loss_array, loss.detach().numpy())\n",
    "        \n",
    "        \n",
    "        out = classifier(val_data)   # run classifier on evaluation data to see how good it is\n",
    "        loss_val = torch.dot(w_val, criterion(out, target_val))   # calculate the evaluation loss\n",
    "        loss_val_array = np.append(loss_val_array, loss_val.detach().numpy())\n",
    "        \n",
    "        if small_loss > loss_val:   # compare to see if the loss has decreased\n",
    "            small_loss = loss_val   # if the network has improved replace the best loss with this one\n",
    "            torch.save(classifier.state_dict(), \"/depot/cms/top/zhou907/threeLayerModel_ee_1.pt\")   # save the new (and better) network #/models\n",
    "        \n",
    "#         line1.set_ydata(loss_array)\n",
    "#         line1.set_xdata(np.array(list(range(int(epoch/10)+1))))\n",
    "        if epoch % 50 == 0:\n",
    "            display.clear_output(True)\n",
    "            figure = plt.figure()\n",
    "            ax = figure.add_subplot(111)\n",
    "            #ax.set_yscale(\"log\")\n",
    "            ax.plot(np.array(list(range(int(epoch/10)+1))), loss_array, label=\"training loss\")\n",
    "            ax.plot(np.array(list(range(int(epoch/10)+1))), loss_val_array, label = \"evaluation loss\")\n",
    "            plt.legend()\n",
    "\n",
    "#             plt.draw()\n",
    "\n",
    "            plt.show()\n",
    "            print('i am running')\n",
    "# if opt.save_weights:\n",
    "#     torch.save(classifier.state_dict(), opt.config_dir + \"/threeLayerModel_1.pt\")\n",
    "\n",
    "\n"
   ]
  },
  {
   "cell_type": "code",
   "execution_count": null,
   "metadata": {
    "collapsed": true
   },
   "outputs": [],
   "source": []
  }
 ],
 "metadata": {
  "kernelspec": {
   "display_name": "Python (GANS2)",
   "language": "python",
   "name": "gans2"
  },
  "language_info": {
   "codemirror_mode": {
    "name": "ipython",
    "version": 3
   },
   "file_extension": ".py",
   "mimetype": "text/x-python",
   "name": "python",
   "nbconvert_exporter": "python",
   "pygments_lexer": "ipython3",
   "version": "3.6.13"
  }
 },
 "nbformat": 4,
 "nbformat_minor": 2
}
