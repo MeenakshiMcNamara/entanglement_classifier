{
 "cells": [
  {
   "cell_type": "code",
   "execution_count": 3,
   "metadata": {},
   "outputs": [
    {
     "name": "stdout",
     "output_type": "stream",
     "text": [
      "False\n"
     ]
    }
   ],
   "source": [
    "###%run dihiggs_dataset.ipynb TODO: add something \n",
    "\n",
    "import argparse\n",
    "import os\n",
    "import numpy as np\n",
    "import math\n",
    "import sys\n",
    "\n",
    "import torchvision.transforms as transforms\n",
    "from torchvision.utils import save_image\n",
    "\n",
    "from torch.utils.data import DataLoader\n",
    "from torchvision import datasets\n",
    "from torch.autograd import Variable\n",
    "\n",
    "import torch.nn as nn\n",
    "import torch.nn.functional as F   # NOTE: I don't think this is used\n",
    "import torch.autograd as autograd\n",
    "import torch\n",
    "\n",
    "print(torch.cuda.is_available())"
   ]
  },
  {
   "cell_type": "code",
   "execution_count": null,
   "metadata": {
    "collapsed": true
   },
   "outputs": [],
   "source": [
    "class opt():   # Class used for optimizers in the future. Defines all variables and stuff needed.\n",
    "    opt.save_weights = False\n",
    "    n_epochs = 20000   # an epoch is the number of times it works through the entire training set\n",
    "    batch_size = 4000   # the training set is broken up into batches, \n",
    "                        # and the average loss is used from a given batch for back propagation\n",
    "    lr = 0.001   # learning rate (how much to change based on error)\n",
    "    b1 = 0.9   # Used for Adam. Exponential decay rate for the first moment\n",
    "    b2 = 0.999   # Used for Adam. Exponential decay rate for the second moment estimates (gradient squared)\n",
    "    input_size = ?????\n",
    "    data_file = \"/data\"\n",
    "    config_dir = \".\"\n",
    "    save_location = config_dir + data_file\n",
    "\n",
    "    #n_cpu = 2    not used rn\n",
    "\n",
    "os.makedirs(config_dir, exit_ok=True)\n",
    "\n",
    "cuda = True if torch.cuda.is_available() else False\n",
    "\n",
    "\n",
    "class Classifier(nn.Module):\n",
    "    \"\"\"\n",
    "    classifier layers\n",
    "    \"\"\"\n",
    "    def __init__(self):\n",
    "        super(Discriminator, self).__init__()   # Just uses the module constructor with name Discriminator \n",
    "\n",
    "        self.model = nn.Sequential(\n",
    "            nn.Linear(input_size, 256),   # first layer\n",
    "            nn.LeakyReLU(0.2, inplace=True),   # apply leaky relu to layer\n",
    "            nn.Linear(256, 3),   # last layer\n",
    "            nn.LeakyReLU(0.2, inplace=True)   # apply leaky relu\n",
    "        )\n",
    "\n",
    "    def forward(self, input):\n",
    "        \"\"\"\n",
    "        applies model to input and attempts to classify\n",
    "        \"\"\"\n",
    "        output = self.model(input)   # Classifies the input (at location) as gg (0) qqbar (1) or other (2)\n",
    "        return output\n",
    "\n",
    "\n",
    "# ******* OUT OF CLASSES NOW ************\n",
    "\n",
    "# Initialize generator and discriminator\n",
    "classifier = Classifier()\n",
    "\n",
    "if cuda:\n",
    "    classifier.cuda()\n",
    "\n",
    "    \n",
    "\n",
    "# # Configure data loader - CHANGE\n",
    "os.makedirs(\"./data/\", exist_ok=True)\n",
    "dataloader = torch.utils.data.DataLoader(\n",
    "    DiHiggsSignalMCDataset('./DiHiggs Data', generator_level = False),\n",
    "    batch_size=opt.batch_size,\n",
    "    shuffle=True,\n",
    ")\n",
    "print('done')"
   ]
  },
  {
   "cell_type": "code",
   "execution_count": null,
   "metadata": {
    "collapsed": true
   },
   "outputs": [],
   "source": [
    "optimizer = torch.optim.Adam(classifier.parameters(), lr=opt.lr, betas=(opt.b1, opt.b2)) \n",
    "# criterion = nn.MSELoss()   # mean squared error loss\n",
    "criterion = nn.CrossEntropyLoss()\n",
    "\n",
    "batches_done = 0   # Counter for batches\n",
    "for epoch in range(opt.n_epochs):   # Loop through all epochs\n",
    "    for target, x in enumerate(dataloader): # x is a batch\n",
    "                                                # target should be the correct values of the batch output\n",
    "\n",
    "        # Configure input\n",
    "        input = Variable(x.type(Tensor))   # Variable is a wrapper for the Tensor x was just made into\n",
    "\n",
    "        # ---------------------\n",
    "        #  Train Classifier\n",
    "        # ---------------------\n",
    "\n",
    "        optimizer.zero_grad()   # Make gradients zero so they don't accumulate\n",
    "        \n",
    "        # apply nn to input\n",
    "        output = classifier(input)\n",
    "\n",
    "        # Calculate loss \n",
    "        loss = criterion(output, target) # -torch.mean(output) + torch.mean(y) # may need to change datatype of y\n",
    "\n",
    "        loss.backward()   # Do back propagation \n",
    "        optimizer.step()   # Update parameters based on gradients for individuals\n",
    "\n",
    "\n",
    "    if epoch % 10 == 0:\n",
    "        np.save('{file_name}/gen_data/{num_batches}.npy'.format({file_name = opt.save_location}, \\\n",
    "            num_batches=batches_done), d_loss.cpu().detach().numpy()\n",
    "\n",
    "if opt.save_weights:\n",
    "    torch.save(classifier.model, opt.config_dir + \"/singleLayerModel.pt\")\n",
    "\n",
    "\n"
   ]
  }
 ],
 "metadata": {
  "kernelspec": {
   "display_name": "Python (GANS)",
   "language": "python",
   "name": "gans"
  },
  "language_info": {
   "codemirror_mode": {
    "name": "ipython",
    "version": 3
   },
   "file_extension": ".py",
   "mimetype": "text/x-python",
   "name": "python",
   "nbconvert_exporter": "python",
   "pygments_lexer": "ipython3",
   "version": "3.6.12"
  }
 },
 "nbformat": 4,
 "nbformat_minor": 2
}
