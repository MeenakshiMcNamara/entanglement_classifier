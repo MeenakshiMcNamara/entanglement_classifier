{
 "cells": [
  {
   "cell_type": "code",
   "execution_count": 1,
   "metadata": {
    "ExecuteTime": {
     "end_time": "2021-07-14T23:21:59.745344Z",
     "start_time": "2021-07-14T23:21:57.207328Z"
    }
   },
   "outputs": [
    {
     "name": "stderr",
     "output_type": "stream",
     "text": [
      "/home/zhou907/.conda/envs/cent7/5.1.0-py36/GANS2/lib/python3.6/site-packages/uproot/reading.py:186: FutureWarning: XRootD 5.1.1 is not fully supported; either upgrade to 5.2.0+ or set\n",
      "\n",
      "    open.defaults[\"xrootd_handler\"] = uproot.MultithreadedXRootDSource\n",
      "\n",
      "  warnings.warn(message, FutureWarning)\n"
     ]
    }
   ],
   "source": [
    "import uproot\n",
    "import matplotlib\n",
    "import ipykernel\n",
    "import numpy as np\n",
    "import scipy\n",
    "import torch\n",
    "import pandas as pd\n",
    "import sklearn\n",
    "import uproot as uproot"
   ]
  },
  {
   "cell_type": "code",
   "execution_count": 2,
   "metadata": {
    "ExecuteTime": {
     "end_time": "2021-07-14T23:22:05.153441Z",
     "start_time": "2021-07-14T23:22:00.661126Z"
    }
   },
   "outputs": [
    {
     "name": "stdout",
     "output_type": "stream",
     "text": [
      "Welcome to JupyROOT 6.24/00\n"
     ]
    }
   ],
   "source": [
    "import root_pandas"
   ]
  },
  {
   "cell_type": "code",
   "execution_count": 3,
   "metadata": {
    "ExecuteTime": {
     "end_time": "2021-07-14T23:22:05.261032Z",
     "start_time": "2021-07-14T23:22:05.157167Z"
    },
    "collapsed": true
   },
   "outputs": [],
   "source": [
    "depo_dir = '/depot-new/cms/top/mcnama20/TopSpinCorr-Run2-Entanglement/CMSSW_10_2_22/src/TopAnalysis/Configuration/analysis/diLeptonic/spinCorrInput_wbosons_masses_all/Nominal'\n",
    "root_folder = \"/ee\""
   ]
  },
  {
   "cell_type": "code",
   "execution_count": 4,
   "metadata": {
    "ExecuteTime": {
     "end_time": "2021-07-14T23:22:05.370115Z",
     "start_time": "2021-07-14T23:22:05.265321Z"
    },
    "collapsed": true
   },
   "outputs": [],
   "source": [
    "ee_f = \"/ee_ttbarsignalplustau_fromDilepton_TuneCP5.root\""
   ]
  },
  {
   "cell_type": "code",
   "execution_count": 5,
   "metadata": {
    "ExecuteTime": {
     "end_time": "2021-07-14T23:22:05.661507Z",
     "start_time": "2021-07-14T23:22:05.373497Z"
    }
   },
   "outputs": [
    {
     "data": {
      "text/plain": [
       "['ttBar_treeVariables_step0;95',\n",
       " 'ttBar_treeVariables_step0;94',\n",
       " 'ttBar_treeVariables_step1;73',\n",
       " 'ttBar_treeVariables_step1;72',\n",
       " 'ttBar_treeVariables_step3;43',\n",
       " 'ttBar_treeVariables_step3;42',\n",
       " 'ttBar_treeVariables_step4;34',\n",
       " 'ttBar_treeVariables_step4;33',\n",
       " 'ttBar_treeVariables_step5;29',\n",
       " 'ttBar_treeVariables_step5;28',\n",
       " 'ttBar_treeVariables_step6;24',\n",
       " 'ttBar_treeVariables_step6;23',\n",
       " 'ttBar_treeVariables_step7;23',\n",
       " 'ttBar_treeVariables_step7;22',\n",
       " 'ttBar_treeVariables_step2;22',\n",
       " 'ttBar_treeVariables_step2;21',\n",
       " 'ttBar_treeVariables_step8;21',\n",
       " 'ttBar_treeVariables_step8;20',\n",
       " 'weightedEvents;1']"
      ]
     },
     "execution_count": 5,
     "metadata": {},
     "output_type": "execute_result"
    }
   ],
   "source": [
    "data = uproot.open(depo_dir + root_folder + ee_f, key = \"ttBar_treeVariables_step8;21\")\n",
    "data.keys()"
   ]
  },
  {
   "cell_type": "code",
   "execution_count": 6,
   "metadata": {
    "ExecuteTime": {
     "end_time": "2021-07-14T23:22:06.023180Z",
     "start_time": "2021-07-14T23:22:05.665287Z"
    }
   },
   "outputs": [
    {
     "data": {
      "text/plain": [
       "['top_pt',\n",
       " 'top_phi',\n",
       " 'top_rapidity',\n",
       " 'top_arapidity',\n",
       " 'top_eta',\n",
       " 'top_mass',\n",
       " 'top_boosted_theta',\n",
       " 'top_boosted_eta',\n",
       " 'top_theta_v2',\n",
       " 'tbar_pt',\n",
       " 'tbar_phi',\n",
       " 'tbar_rapidity',\n",
       " 'tbar_arapidity',\n",
       " 'tbar_eta',\n",
       " 'tbar_mass',\n",
       " 'tbar_boosted_theta',\n",
       " 'tbar_boosted_eta',\n",
       " 'l_pt',\n",
       " 'lbar_pt',\n",
       " 'e_pt',\n",
       " 'ebar_pt',\n",
       " 'mu_pt',\n",
       " 'mubar_pt',\n",
       " 'b_pt',\n",
       " 'bbar_pt',\n",
       " 'nu_pt',\n",
       " 'nubar_pt',\n",
       " 'l_eta',\n",
       " 'lbar_eta',\n",
       " 'e_eta',\n",
       " 'ebar_eta',\n",
       " 'mu_eta',\n",
       " 'mubar_eta',\n",
       " 'b_eta',\n",
       " 'bbar_eta',\n",
       " 'nu_eta',\n",
       " 'nubar_eta',\n",
       " 'l_phi',\n",
       " 'lbar_phi',\n",
       " 'e_phi',\n",
       " 'ebar_phi',\n",
       " 'mu_phi',\n",
       " 'mubar_phi',\n",
       " 'b_phi',\n",
       " 'bbar_phi',\n",
       " 'nu_phi',\n",
       " 'nubar_phi',\n",
       " 'l_mass',\n",
       " 'lbar_mass',\n",
       " 'e_mass',\n",
       " 'ebar_mass',\n",
       " 'mu_mass',\n",
       " 'mubar_mass',\n",
       " 'b_mass',\n",
       " 'bbar_mass',\n",
       " 'nu_mass',\n",
       " 'nubar_mass',\n",
       " 'met_pt',\n",
       " 'ttbar_pt',\n",
       " 'ttbar_phi',\n",
       " 'ttbar_rapidity',\n",
       " 'ttbar_arapidity',\n",
       " 'ttbar_delta_phi',\n",
       " 'ttbar_delta_eta',\n",
       " 'ttbar_delta_rapidity',\n",
       " 'ttbar_mass',\n",
       " 'ttbar_eta',\n",
       " 'ttbar_boosted_pt',\n",
       " 'wplus_pt',\n",
       " 'wplus_eta',\n",
       " 'wplus_phi',\n",
       " 'wplus_mass',\n",
       " 'wminus_pt',\n",
       " 'wminus_eta',\n",
       " 'wminus_phi',\n",
       " 'wminus_mass',\n",
       " 'llbar_pt',\n",
       " 'llbar_phi',\n",
       " 'llbar_rapidity',\n",
       " 'llbar_arapidity',\n",
       " 'llbar_delta_phi',\n",
       " 'llbar_delta_eta',\n",
       " 'llbar_delta_rapidity',\n",
       " 'llbar_mass',\n",
       " 'bbbar_pt',\n",
       " 'bbbar_phi',\n",
       " 'bbbar_rapidity',\n",
       " 'bbbar_arapidity',\n",
       " 'bbbar_delta_phi',\n",
       " 'bbbar_delta_eta',\n",
       " 'bbbar_delta_rapidity',\n",
       " 'llbar_mass',\n",
       " 'nunubar_pt',\n",
       " 'nunubar_phi',\n",
       " 'nunubar_rapidity',\n",
       " 'nunubar_arapidity',\n",
       " 'nunubar_delta_phi',\n",
       " 'nunubar_delta_eta',\n",
       " 'nunubar_delta_rapidity',\n",
       " 'nunubar_mass',\n",
       " 'MT2',\n",
       " 'all_mass',\n",
       " 'r_mass',\n",
       " 'jet_multiplicity',\n",
       " 'bjet_multiplicity',\n",
       " 'x1',\n",
       " 'x2',\n",
       " 'production_mode',\n",
       " 'b1k',\n",
       " 'b2k',\n",
       " 'b1j',\n",
       " 'b2j',\n",
       " 'b1r',\n",
       " 'b2r',\n",
       " 'b1q',\n",
       " 'b2q',\n",
       " 'b1n',\n",
       " 'b2n',\n",
       " 'b_Pkk',\n",
       " 'b_Mkk',\n",
       " 'b_Pjj',\n",
       " 'b_Mjj',\n",
       " 'b_Prr',\n",
       " 'b_Mrr',\n",
       " 'b_Pqq',\n",
       " 'b_Mqq',\n",
       " 'b_Pnn',\n",
       " 'b_Mnn',\n",
       " 'c_kk',\n",
       " 'c_rr',\n",
       " 'c_nn',\n",
       " 'c_rk',\n",
       " 'c_kr',\n",
       " 'c_nr',\n",
       " 'c_rn',\n",
       " 'c_nk',\n",
       " 'c_kn',\n",
       " 'c_Prk',\n",
       " 'c_Mrk',\n",
       " 'c_Pnr',\n",
       " 'c_Mnr',\n",
       " 'c_Pnk',\n",
       " 'c_Mnk',\n",
       " 'll_cHel',\n",
       " 'll_cLab',\n",
       " 'll_kNorm',\n",
       " 'll_rNorm',\n",
       " 'gen_top_pt',\n",
       " 'gen_top_phi',\n",
       " 'gen_top_rapidity',\n",
       " 'gen_top_arapidity',\n",
       " 'gen_tbar_pt',\n",
       " 'gen_tbar_phi',\n",
       " 'gen_tbar_rapidity',\n",
       " 'gen_tbar_arapidity',\n",
       " 'gen_l_pt',\n",
       " 'gen_lbar_pt',\n",
       " 'gen_e_pt',\n",
       " 'gen_ebar_pt',\n",
       " 'gen_mu_pt',\n",
       " 'gen_mubar_pt',\n",
       " 'gen_b_pt',\n",
       " 'gen_bbar_pt',\n",
       " 'gen_nu_pt',\n",
       " 'gen_nubar_pt',\n",
       " 'gen_l_eta',\n",
       " 'gen_lbar_eta',\n",
       " 'gen_e_eta',\n",
       " 'gen_ebar_eta',\n",
       " 'gen_mu_eta',\n",
       " 'gen_mubar_eta',\n",
       " 'gen_b_eta',\n",
       " 'gen_bbar_eta',\n",
       " 'gen_nu_eta',\n",
       " 'gen_nubar_eta',\n",
       " 'gen_l_phi',\n",
       " 'gen_lbar_phi',\n",
       " 'gen_e_phi',\n",
       " 'gen_ebar_phi',\n",
       " 'gen_mu_phi',\n",
       " 'gen_mubar_phi',\n",
       " 'gen_b_phi',\n",
       " 'gen_bbar_phi',\n",
       " 'gen_nu_phi',\n",
       " 'gen_nubar_phi',\n",
       " 'gen_ttbar_pt',\n",
       " 'gen_ttbar_phi',\n",
       " 'gen_ttbar_rapidity',\n",
       " 'gen_ttbar_arapidity',\n",
       " 'gen_ttbar_delta_phi',\n",
       " 'gen_ttbar_delta_eta',\n",
       " 'gen_ttbar_delta_rapidity',\n",
       " 'gen_ttbar_mass',\n",
       " 'gen_llbar_pt',\n",
       " 'gen_llbar_phi',\n",
       " 'gen_llbar_rapidity',\n",
       " 'gen_llbar_arapidity',\n",
       " 'gen_llbar_delta_phi',\n",
       " 'gen_llbar_delta_eta',\n",
       " 'gen_llbar_delta_rapidity',\n",
       " 'gen_llbar_mass',\n",
       " 'gen_bbbar_pt',\n",
       " 'gen_bbbar_phi',\n",
       " 'gen_bbbar_rapidity',\n",
       " 'gen_bbbar_arapidity',\n",
       " 'gen_bbbar_delta_phi',\n",
       " 'gen_bbbar_delta_eta',\n",
       " 'gen_bbbar_delta_rapidity',\n",
       " 'gen_bbbar_mass',\n",
       " 'gen_nunubar_pt',\n",
       " 'gen_nunubar_phi',\n",
       " 'gen_nunubar_rapidity',\n",
       " 'gen_nunubar_arapidity',\n",
       " 'gen_nunubar_delta_phi',\n",
       " 'gen_nunubar_delta_eta',\n",
       " 'gen_nunubar_delta_rapidity',\n",
       " 'gen_nunubar_mass',\n",
       " 'gen_MT2',\n",
       " 'gen_all_mass',\n",
       " 'gen_r_mass',\n",
       " 'gen_jet_multiplicity',\n",
       " 'gen_x1',\n",
       " 'gen_x2',\n",
       " 'gen_theta',\n",
       " 'gen_b1k',\n",
       " 'gen_b2k',\n",
       " 'gen_b1j',\n",
       " 'gen_b2j',\n",
       " 'gen_b1r',\n",
       " 'gen_b2r',\n",
       " 'gen_b1q',\n",
       " 'gen_b2q',\n",
       " 'gen_b1n',\n",
       " 'gen_b2n',\n",
       " 'gen_b_Pkk',\n",
       " 'gen_b_Mkk',\n",
       " 'gen_b_Pjj',\n",
       " 'gen_b_Mjj',\n",
       " 'gen_b_Prr',\n",
       " 'gen_b_Mrr',\n",
       " 'gen_b_Pqq',\n",
       " 'gen_b_Mqq',\n",
       " 'gen_b_Pnn',\n",
       " 'gen_b_Mnn',\n",
       " 'gen_c_kk',\n",
       " 'gen_c_rr',\n",
       " 'gen_c_nn',\n",
       " 'gen_c_rk',\n",
       " 'gen_c_kr',\n",
       " 'gen_c_nr',\n",
       " 'gen_c_rn',\n",
       " 'gen_c_nk',\n",
       " 'gen_c_kn',\n",
       " 'gen_c_Prk',\n",
       " 'gen_c_Mrk',\n",
       " 'gen_c_Pnr',\n",
       " 'gen_c_Mnr',\n",
       " 'gen_c_Pnk',\n",
       " 'gen_c_Mnk',\n",
       " 'gen_ll_cHel',\n",
       " 'gen_ll_cLab',\n",
       " 'gen_ll_kNorm',\n",
       " 'gen_ll_rNorm',\n",
       " 'entry',\n",
       " 'isTopGen',\n",
       " 'isKinReco',\n",
       " 'eventWeight',\n",
       " 'trueLevelWeight']"
      ]
     },
     "execution_count": 6,
     "metadata": {},
     "output_type": "execute_result"
    }
   ],
   "source": [
    "data[\"ttBar_treeVariables_step8;21\"].keys()"
   ]
  },
  {
   "cell_type": "markdown",
   "metadata": {},
   "source": [
    "## creating delta eta & delta phi"
   ]
  },
  {
   "cell_type": "code",
   "execution_count": 7,
   "metadata": {
    "ExecuteTime": {
     "end_time": "2021-07-14T23:22:06.834702Z",
     "start_time": "2021-07-14T23:22:06.025255Z"
    },
    "collapsed": true
   },
   "outputs": [],
   "source": [
    "l_eta = data[\"ttBar_treeVariables_step8;21\"+'/l_eta'].array(library=\"np\")\n",
    "lbar_eta = data[\"ttBar_treeVariables_step8;21\"+'/lbar_eta'].array(library=\"np\")\n",
    "\n",
    "l_phi = data[\"ttBar_treeVariables_step8;21\"+'/l_phi'].array(library=\"np\")\n",
    "lbar_phi = data[\"ttBar_treeVariables_step8;21\"+'/lbar_phi'].array(library=\"np\")"
   ]
  },
  {
   "cell_type": "code",
   "execution_count": 8,
   "metadata": {
    "ExecuteTime": {
     "end_time": "2021-07-14T23:22:07.125951Z",
     "start_time": "2021-07-14T23:22:06.838162Z"
    },
    "collapsed": true
   },
   "outputs": [],
   "source": [
    "b_eta = data[\"ttBar_treeVariables_step8;21\"+'/b_eta'].array(library=\"np\")\n",
    "bbar_eta = data[\"ttBar_treeVariables_step8;21\"+'/bbar_eta'].array(library=\"np\")\n",
    "\n",
    "b_phi = data[\"ttBar_treeVariables_step8;21\"+'/b_phi'].array(library=\"np\")\n",
    "bbar_phi = data[\"ttBar_treeVariables_step8;21\"+'/bbar_phi'].array(library=\"np\")"
   ]
  },
  {
   "cell_type": "code",
   "execution_count": 9,
   "metadata": {
    "ExecuteTime": {
     "end_time": "2021-07-14T23:22:07.401650Z",
     "start_time": "2021-07-14T23:22:07.130712Z"
    },
    "collapsed": true
   },
   "outputs": [],
   "source": [
    "nu_eta = data[\"ttBar_treeVariables_step8;21\"+'/nu_eta'].array(library=\"np\")\n",
    "nubar_eta = data[\"ttBar_treeVariables_step8;21\"+'/nubar_eta'].array(library=\"np\")\n",
    "\n",
    "nu_phi = data[\"ttBar_treeVariables_step8;21\"+'/nu_phi'].array(library=\"np\")\n",
    "nubar_phi = data[\"ttBar_treeVariables_step8;21\"+'/nubar_phi'].array(library=\"np\")"
   ]
  },
  {
   "cell_type": "code",
   "execution_count": 10,
   "metadata": {
    "ExecuteTime": {
     "end_time": "2021-07-14T23:22:07.689966Z",
     "start_time": "2021-07-14T23:22:07.405873Z"
    },
    "collapsed": true
   },
   "outputs": [],
   "source": [
    "wplus_eta = data[\"ttBar_treeVariables_step8;21\"+'/wplus_eta'].array(library=\"np\")\n",
    "wminus_eta = data[\"ttBar_treeVariables_step8;21\"+'/wminus_eta'].array(library=\"np\")\n",
    "\n",
    "wplus_phi = data[\"ttBar_treeVariables_step8;21\"+'/wplus_phi'].array(library=\"np\")\n",
    "wminus_phi = data[\"ttBar_treeVariables_step8;21\"+'/wminus_phi'].array(library=\"np\")"
   ]
  },
  {
   "cell_type": "code",
   "execution_count": 11,
   "metadata": {
    "ExecuteTime": {
     "end_time": "2021-07-14T23:22:07.889321Z",
     "start_time": "2021-07-14T23:22:07.693636Z"
    },
    "collapsed": true
   },
   "outputs": [],
   "source": [
    "lb_delta_eta = np.abs(np.subtract(l_eta,b_eta))\n",
    "lbbar_delta_eta = np.abs(np.subtract(l_eta,bbar_eta))\n",
    "lnu_delta_eta = np.abs(np.subtract(l_eta,nu_eta))\n",
    "lnubar_delta_eta = np.abs(np.subtract(l_eta,nubar_eta))\n",
    "lbarb_delta_eta = np.abs(np.subtract(lbar_eta,b_eta))\n",
    "lbarbbar_delta_eta = np.abs(np.subtract(lbar_eta,bbar_eta))\n",
    "lbarnu_delta_eta = np.abs(np.subtract(lbar_eta,nu_eta))\n",
    "lbarnubar_delta_eta = np.abs(np.subtract(lbar_eta,nubar_eta))\n",
    "bnu_delta_eta = np.abs(np.subtract(b_eta,nu_eta))\n",
    "bnubar_delta_eta = np.abs(np.subtract(b_eta,nubar_eta))\n",
    "bbarnu_delta_eta = np.abs(np.subtract(bbar_eta,nu_eta))\n",
    "bbarnubar_delta_eta = np.abs(np.subtract(bbar_eta,nubar_eta))"
   ]
  },
  {
   "cell_type": "code",
   "execution_count": 12,
   "metadata": {
    "ExecuteTime": {
     "end_time": "2021-07-14T23:22:08.000234Z",
     "start_time": "2021-07-14T23:22:07.892841Z"
    },
    "collapsed": true
   },
   "outputs": [],
   "source": [
    "df = pd.DataFrame()"
   ]
  },
  {
   "cell_type": "code",
   "execution_count": 13,
   "metadata": {
    "ExecuteTime": {
     "end_time": "2021-07-14T23:22:09.584762Z",
     "start_time": "2021-07-14T23:22:08.003709Z"
    },
    "collapsed": true
   },
   "outputs": [],
   "source": [
    "df['lb_delta_eta'] = lb_delta_eta.tolist()\n",
    "df['lbbar_delta_eta'] = lbbar_delta_eta.tolist()\n",
    "df['lnu_delta_eta'] = lnu_delta_eta.tolist()\n",
    "df['lnubar_delta_eta'] = lnubar_delta_eta.tolist()\n",
    "df['lbarb_delta_eta'] = lbarb_delta_eta.tolist()\n",
    "df['lbarbbar_delta_eta'] = lbarbbar_delta_eta.tolist()\n",
    "df['lbarnu_delta_eta'] = lbarnu_delta_eta.tolist()\n",
    "df['lbarnubar_delta_eta'] = lbarnubar_delta_eta.tolist()\n",
    "df['bnu_delta_eta'] = bnu_delta_eta.tolist()\n",
    "df['bnubar_delta_eta'] = bnubar_delta_eta.tolist()\n",
    "df['bbarnu_delta_eta'] = bbarnu_delta_eta.tolist()\n",
    "df['bbarnubar_delta_eta'] = bbarnubar_delta_eta.tolist()"
   ]
  },
  {
   "cell_type": "code",
   "execution_count": 14,
   "metadata": {
    "ExecuteTime": {
     "end_time": "2021-07-14T23:22:09.779773Z",
     "start_time": "2021-07-14T23:22:09.590002Z"
    },
    "collapsed": true
   },
   "outputs": [],
   "source": [
    "#phi\n",
    "lb_delta_phi = np.abs(np.subtract(l_phi,b_phi))\n",
    "lbbar_delta_phi = np.abs(np.subtract(l_phi,bbar_phi))\n",
    "lnu_delta_phi = np.abs(np.subtract(l_phi,nu_phi))\n",
    "lnubar_delta_phi = np.abs(np.subtract(l_phi,nubar_phi))\n",
    "lbarb_delta_phi = np.abs(np.subtract(lbar_phi,b_phi))\n",
    "lbarbbar_delta_phi = np.abs(np.subtract(lbar_phi,bbar_phi))\n",
    "lbarnu_delta_phi = np.abs(np.subtract(lbar_phi,nu_phi))\n",
    "lbarnubar_delta_phi = np.abs(np.subtract(lbar_phi,nubar_phi))\n",
    "bnu_delta_phi = np.abs(np.subtract(b_phi,nu_phi))\n",
    "bnubar_delta_phi = np.abs(np.subtract(b_phi,nubar_phi))\n",
    "bbarnu_delta_phi = np.abs(np.subtract(bbar_phi,nu_phi))\n",
    "bbarnubar_delta_phi = np.abs(np.subtract(bbar_phi,nubar_phi))"
   ]
  },
  {
   "cell_type": "code",
   "execution_count": 15,
   "metadata": {
    "ExecuteTime": {
     "end_time": "2021-07-14T23:22:11.195944Z",
     "start_time": "2021-07-14T23:22:09.783643Z"
    },
    "collapsed": true
   },
   "outputs": [],
   "source": [
    "df['lb_delta_phi'] = lb_delta_phi.tolist()\n",
    "df['lbbar_delta_phi'] = lbbar_delta_phi.tolist()\n",
    "df['lnu_delta_phi'] = lnu_delta_phi.tolist()\n",
    "df['lnubar_delta_phi'] = lnubar_delta_phi.tolist()\n",
    "df['lbarb_delta_phi'] = lbarb_delta_phi.tolist()\n",
    "df['lbarbbar_delta_phi'] = lbarbbar_delta_phi.tolist()\n",
    "df['lbarnu_delta_phi'] = lbarnu_delta_phi.tolist()\n",
    "df['lbarnubar_delta_phi'] = lbarnubar_delta_phi.tolist()\n",
    "df['bnu_delta_phi'] = bnu_delta_phi.tolist()\n",
    "df['bnubar_delta_phi'] = bnubar_delta_phi.tolist()\n",
    "df['bbarnu_delta_phi'] = bbarnu_delta_phi.tolist()\n",
    "df['bbarnubar_delta_phi'] = bbarnubar_delta_phi.tolist()"
   ]
  },
  {
   "cell_type": "code",
   "execution_count": 16,
   "metadata": {
    "ExecuteTime": {
     "end_time": "2021-07-14T23:22:11.302952Z",
     "start_time": "2021-07-14T23:22:11.198842Z"
    },
    "collapsed": true
   },
   "outputs": [],
   "source": [
    "#df"
   ]
  },
  {
   "cell_type": "code",
   "execution_count": 17,
   "metadata": {
    "ExecuteTime": {
     "end_time": "2021-07-14T23:22:11.418182Z",
     "start_time": "2021-07-14T23:22:11.308170Z"
    }
   },
   "outputs": [
    {
     "data": {
      "text/plain": [
       "Index(['lb_delta_eta', 'lbbar_delta_eta', 'lnu_delta_eta', 'lnubar_delta_eta',\n",
       "       'lbarb_delta_eta', 'lbarbbar_delta_eta', 'lbarnu_delta_eta',\n",
       "       'lbarnubar_delta_eta', 'bnu_delta_eta', 'bnubar_delta_eta',\n",
       "       'bbarnu_delta_eta', 'bbarnubar_delta_eta', 'lb_delta_phi',\n",
       "       'lbbar_delta_phi', 'lnu_delta_phi', 'lnubar_delta_phi',\n",
       "       'lbarb_delta_phi', 'lbarbbar_delta_phi', 'lbarnu_delta_phi',\n",
       "       'lbarnubar_delta_phi', 'bnu_delta_phi', 'bnubar_delta_phi',\n",
       "       'bbarnu_delta_phi', 'bbarnubar_delta_phi'],\n",
       "      dtype='object')"
      ]
     },
     "execution_count": 17,
     "metadata": {},
     "output_type": "execute_result"
    }
   ],
   "source": [
    "df.keys()"
   ]
  },
  {
   "cell_type": "code",
   "execution_count": 18,
   "metadata": {
    "ExecuteTime": {
     "end_time": "2021-07-14T23:22:11.984644Z",
     "start_time": "2021-07-14T23:22:11.421789Z"
    },
    "collapsed": true
   },
   "outputs": [],
   "source": [
    "#W\n",
    "wplusb_delta_eta = np.abs(np.subtract(wplus_eta,b_eta))\n",
    "wplusbbar_delta_eta = np.abs(np.subtract(wplus_eta,bbar_eta))\n",
    "wminusb_delta_eta = np.abs(np.subtract(wminus_eta,b_eta))\n",
    "wminusbbar_delta_eta = np.abs(np.subtract(wminus_eta,bbar_eta))\n",
    "\n",
    "df['wplusb_delta_eta'] = wplusb_delta_eta.tolist()\n",
    "df['wplusbbar_delta_eta'] = wplusbbar_delta_eta.tolist()\n",
    "df['wminusb_delta_eta'] = wminusb_delta_eta.tolist()\n",
    "df['wminusbbar_delta_eta'] = wminusbbar_delta_eta.tolist()"
   ]
  },
  {
   "cell_type": "code",
   "execution_count": 19,
   "metadata": {
    "ExecuteTime": {
     "end_time": "2021-07-14T23:22:12.512317Z",
     "start_time": "2021-07-14T23:22:11.987977Z"
    },
    "collapsed": true
   },
   "outputs": [],
   "source": [
    "wplusb_delta_phi = np.abs(np.subtract(wplus_phi,b_phi))\n",
    "wplusbbar_delta_phi = np.abs(np.subtract(wplus_phi,bbar_phi))\n",
    "wminusb_delta_phi = np.abs(np.subtract(wminus_phi,b_phi))\n",
    "wminusbbar_delta_phi = np.abs(np.subtract(wminus_phi,bbar_phi))\n",
    "\n",
    "df['wplusb_delta_phi'] = wplusb_delta_phi.tolist()\n",
    "df['wplusbbar_delta_phi'] = wplusbbar_delta_phi.tolist()\n",
    "df['wminusb_delta_phi'] = wminusb_delta_phi.tolist()\n",
    "df['wminusbbar_delta_phi'] = wminusbbar_delta_phi.tolist()"
   ]
  },
  {
   "cell_type": "code",
   "execution_count": 20,
   "metadata": {
    "ExecuteTime": {
     "end_time": "2021-07-14T23:22:12.619172Z",
     "start_time": "2021-07-14T23:22:12.514943Z"
    },
    "collapsed": true
   },
   "outputs": [],
   "source": [
    "#df"
   ]
  },
  {
   "cell_type": "code",
   "execution_count": 21,
   "metadata": {
    "ExecuteTime": {
     "end_time": "2021-07-14T23:22:12.727496Z",
     "start_time": "2021-07-14T23:22:12.622689Z"
    },
    "collapsed": true
   },
   "outputs": [],
   "source": [
    "eta_L = []"
   ]
  },
  {
   "cell_type": "code",
   "execution_count": 22,
   "metadata": {
    "ExecuteTime": {
     "end_time": "2021-07-14T23:22:12.835197Z",
     "start_time": "2021-07-14T23:22:12.730857Z"
    },
    "collapsed": true
   },
   "outputs": [],
   "source": [
    "phi_L = []"
   ]
  },
  {
   "cell_type": "code",
   "execution_count": 23,
   "metadata": {
    "ExecuteTime": {
     "end_time": "2021-07-14T23:22:12.952552Z",
     "start_time": "2021-07-14T23:22:12.837802Z"
    },
    "collapsed": true
   },
   "outputs": [],
   "source": [
    "#for key in data[\"ttBar_treeVariables_step8;3\"].keys():\n",
    "#    if \"eta\" in key and \"gen\" not in key:\n",
    "#        print (key)"
   ]
  },
  {
   "cell_type": "code",
   "execution_count": 24,
   "metadata": {
    "ExecuteTime": {
     "end_time": "2021-07-14T23:22:13.067866Z",
     "start_time": "2021-07-14T23:22:12.955907Z"
    },
    "collapsed": true
   },
   "outputs": [],
   "source": [
    "for key in data[\"ttBar_treeVariables_step8;21\"].keys():\n",
    "    if \"eta\" in key and \"gen\" not in key:\n",
    "        eta_L.append(key)"
   ]
  },
  {
   "cell_type": "code",
   "execution_count": 25,
   "metadata": {
    "ExecuteTime": {
     "end_time": "2021-07-14T23:22:13.180852Z",
     "start_time": "2021-07-14T23:22:13.071086Z"
    },
    "collapsed": true
   },
   "outputs": [],
   "source": [
    "for key in data[\"ttBar_treeVariables_step8;21\"].keys():\n",
    "    if \"phi\" in key and \"gen\" not in key:\n",
    "        phi_L.append(key)"
   ]
  },
  {
   "cell_type": "code",
   "execution_count": 26,
   "metadata": {
    "ExecuteTime": {
     "end_time": "2021-07-14T23:22:13.292713Z",
     "start_time": "2021-07-14T23:22:13.184019Z"
    }
   },
   "outputs": [
    {
     "data": {
      "text/plain": [
       "['top_eta',\n",
       " 'top_boosted_theta',\n",
       " 'top_boosted_eta',\n",
       " 'top_theta_v2',\n",
       " 'tbar_eta',\n",
       " 'tbar_boosted_theta',\n",
       " 'tbar_boosted_eta',\n",
       " 'l_eta',\n",
       " 'lbar_eta',\n",
       " 'e_eta',\n",
       " 'ebar_eta',\n",
       " 'mu_eta',\n",
       " 'mubar_eta',\n",
       " 'b_eta',\n",
       " 'bbar_eta',\n",
       " 'nu_eta',\n",
       " 'nubar_eta',\n",
       " 'ttbar_delta_eta',\n",
       " 'ttbar_eta',\n",
       " 'wplus_eta',\n",
       " 'wminus_eta',\n",
       " 'llbar_delta_eta',\n",
       " 'bbbar_delta_eta',\n",
       " 'nunubar_delta_eta']"
      ]
     },
     "execution_count": 26,
     "metadata": {},
     "output_type": "execute_result"
    }
   ],
   "source": [
    "eta_L"
   ]
  },
  {
   "cell_type": "code",
   "execution_count": 27,
   "metadata": {
    "ExecuteTime": {
     "end_time": "2021-07-14T23:22:13.405412Z",
     "start_time": "2021-07-14T23:22:13.297716Z"
    }
   },
   "outputs": [
    {
     "data": {
      "text/plain": [
       "24"
      ]
     },
     "execution_count": 27,
     "metadata": {},
     "output_type": "execute_result"
    }
   ],
   "source": [
    "len(eta_L)"
   ]
  },
  {
   "cell_type": "code",
   "execution_count": 28,
   "metadata": {
    "ExecuteTime": {
     "end_time": "2021-07-14T23:22:13.516639Z",
     "start_time": "2021-07-14T23:22:13.408945Z"
    }
   },
   "outputs": [
    {
     "data": {
      "text/plain": [
       "['top_phi',\n",
       " 'tbar_phi',\n",
       " 'l_phi',\n",
       " 'lbar_phi',\n",
       " 'e_phi',\n",
       " 'ebar_phi',\n",
       " 'mu_phi',\n",
       " 'mubar_phi',\n",
       " 'b_phi',\n",
       " 'bbar_phi',\n",
       " 'nu_phi',\n",
       " 'nubar_phi',\n",
       " 'ttbar_phi',\n",
       " 'ttbar_delta_phi',\n",
       " 'wplus_phi',\n",
       " 'wminus_phi',\n",
       " 'llbar_phi',\n",
       " 'llbar_delta_phi',\n",
       " 'bbbar_phi',\n",
       " 'bbbar_delta_phi',\n",
       " 'nunubar_phi',\n",
       " 'nunubar_delta_phi']"
      ]
     },
     "execution_count": 28,
     "metadata": {},
     "output_type": "execute_result"
    }
   ],
   "source": [
    "phi_L"
   ]
  },
  {
   "cell_type": "code",
   "execution_count": 29,
   "metadata": {
    "ExecuteTime": {
     "end_time": "2021-07-14T23:22:13.628173Z",
     "start_time": "2021-07-14T23:22:13.520410Z"
    }
   },
   "outputs": [
    {
     "data": {
      "text/plain": [
       "22"
      ]
     },
     "execution_count": 29,
     "metadata": {},
     "output_type": "execute_result"
    }
   ],
   "source": [
    "len(phi_L)"
   ]
  },
  {
   "cell_type": "code",
   "execution_count": 30,
   "metadata": {
    "ExecuteTime": {
     "end_time": "2021-07-14T23:22:14.494131Z",
     "start_time": "2021-07-14T23:22:13.631756Z"
    },
    "collapsed": true
   },
   "outputs": [],
   "source": [
    "top_eta = data[\"ttBar_treeVariables_step8;21\"+'/top_eta'].array(library=\"np\")\n",
    "#top_boosted_theta = data[\"ttBar_treeVariables_step8;3\"+'/top_boosted_theta'].array(library=\"np\")\n",
    "top_boosted_eta = data[\"ttBar_treeVariables_step8;21\"+'/top_boosted_eta'].array(library=\"np\")\n",
    "#top_theta_v2 = data[\"ttBar_treeVariables_step8;3\"+'/top_theta_v2'].array(library=\"np\")\n",
    "tbar_eta = data[\"ttBar_treeVariables_step8;21\"+'/tbar_eta'].array(library=\"np\")\n",
    "#tbar_boosted_theta = data[\"ttBar_treeVariables_step8;3\"+'/tbar_boosted_theta'].array(library=\"np\")\n",
    "tbar_boosted_eta = data[\"ttBar_treeVariables_step8;21\"+'/top_eta'].array(library=\"np\")\n",
    "#l_eta = data[\"ttBar_treeVariables_step8;3\"+'/l_eta'].array(library=\"np\")\n",
    "#lbar_eta = data[\"ttBar_treeVariables_step8;3\"+'/lbar_eta'].array(library=\"np\")\n",
    "e_eta = data[\"ttBar_treeVariables_step8;21\"+'/e_eta'].array(library=\"np\")\n",
    "ebar_eta = data[\"ttBar_treeVariables_step8;21\"+'/ebar_eta'].array(library=\"np\")\n",
    "mu_eta = data[\"ttBar_treeVariables_step8;21\"+'/mu_eta'].array(library=\"np\")\n",
    "mubar_eta = data[\"ttBar_treeVariables_step8;21\"+'/mubar_eta'].array(library=\"np\")\n",
    "#b_eta = data[\"ttBar_treeVariables_step8;3\"+'/b_eta'].array(library=\"np\")\n",
    "#bbar_eta = data[\"ttBar_treeVariables_step8;3\"+'/bbar_eta'].array(library=\"np\")\n",
    "#nu_eta = data[\"ttBar_treeVariables_step8;3\"+'/nu_eta'].array(library=\"np\")\n",
    "#nubar_eta = data[\"ttBar_treeVariables_step8;3\"+'/nubar_eta'].array(library=\"np\")\n",
    "ttbar_delta_eta = data[\"ttBar_treeVariables_step8;21\"+'/ttbar_delta_eta'].array(library=\"np\")\n",
    "ttbar_eta = data[\"ttBar_treeVariables_step8;21\"+'/ttbar_eta'].array(library=\"np\")\n",
    "#wplus_eta = data[\"ttBar_treeVariables_step8;3\"+'/wplus_eta'].array(library=\"np\")\n",
    "#wminus_eta = data[\"ttBar_treeVariables_step8;3\"+'/wminus_eta'].array(library=\"np\")\n",
    "llbar_delta_eta = data[\"ttBar_treeVariables_step8;21\"+'/llbar_delta_eta'].array(library=\"np\")\n",
    "bbbar_delta_eta = data[\"ttBar_treeVariables_step8;21\"+'/bbbar_delta_eta'].array(library=\"np\")\n",
    "nunubar_delta_eta = data[\"ttBar_treeVariables_step8;21\"+'/nunubar_delta_eta'].array(library=\"np\")"
   ]
  },
  {
   "cell_type": "code",
   "execution_count": 31,
   "metadata": {
    "ExecuteTime": {
     "end_time": "2021-07-14T23:22:14.958628Z",
     "start_time": "2021-07-14T23:22:14.501260Z"
    },
    "collapsed": true
   },
   "outputs": [],
   "source": [
    "top_phi = data[\"ttBar_treeVariables_step8;21\"+'/top_phi'].array(library=\"np\")\n",
    "tbar_phi = data[\"ttBar_treeVariables_step8;21\"+'/tbar_phi'].array(library=\"np\")\n",
    "#l_phi = data[\"ttBar_treeVariables_step8;21\"+'/l_phi'].array(library=\"np\")\n",
    "#lbar_phi = data[\"ttBar_treeVariables_step8;21\"+'/lbar_phi'].array(library=\"np\")\n",
    "e_phi = data[\"ttBar_treeVariables_step8;21\"+'/e_phi'].array(library=\"np\")\n",
    "ebar_phi = data[\"ttBar_treeVariables_step8;21\"+'/ebar_phi'].array(library=\"np\")\n",
    "mu_phi = data[\"ttBar_treeVariables_step8;21\"+'/mu_phi'].array(library=\"np\")\n",
    "mubar_phi = data[\"ttBar_treeVariables_step8;21\"+'/mubar_phi'].array(library=\"np\")\n",
    "#b_phi = data[\"ttBar_treeVariables_step8;21\"+'/b_phi'].array(library=\"np\")\n",
    "#bbar_phi = data[\"ttBar_treeVariables_step8;21\"+'/bbar_phi'].array(library=\"np\")\n",
    "#nu_phi = data[\"ttBar_treeVariables_step8;21\"+'/nu_phi'].array(library=\"np\")\n",
    "#nubar_phi = data[\"ttBar_treeVariables_step8;21\"+'/nubar_phi'].array(library=\"np\")\n",
    "ttbar_phi = data[\"ttBar_treeVariables_step8;21\"+'/ttbar_phi'].array(library=\"np\")\n",
    "ttbar_delta_phi = data[\"ttBar_treeVariables_step8;21\"+'/ttbar_delta_phi'].array(library=\"np\")\n",
    "#wplus_phi = data[\"ttBar_treeVariables_step8;21\"+'/wplus_phi'].array(library=\"np\")\n",
    "#wminus_phi = data[\"ttBar_treeVariables_step8;21\"+'/wminus_phi'].array(library=\"np\")\n",
    "llbar_phi = data[\"ttBar_treeVariables_step8;21\"+'/llbar_phi'].array(library=\"np\")\n",
    "llbar_delta_phi = data[\"ttBar_treeVariables_step8;21\"+'/llbar_delta_phi'].array(library=\"np\")\n",
    "bbbar_phi = data[\"ttBar_treeVariables_step8;21\"+'/bbbar_phi'].array(library=\"np\")\n",
    "bbbar_delta_phi = data[\"ttBar_treeVariables_step8;21\"+'/bbbar_delta_phi'].array(library=\"np\")\n",
    "nunubar_phi = data[\"ttBar_treeVariables_step8;21\"+'/nunubar_phi'].array(library=\"np\")\n",
    "nunubar_delta_phi = data[\"ttBar_treeVariables_step8;21\"+'/nunubar_delta_phi'].array(library=\"np\")\n"
   ]
  },
  {
   "cell_type": "code",
   "execution_count": 32,
   "metadata": {
    "ExecuteTime": {
     "end_time": "2021-07-14T23:22:16.940955Z",
     "start_time": "2021-07-14T23:22:14.962272Z"
    },
    "collapsed": true
   },
   "outputs": [],
   "source": [
    "df['top_eta'] = top_eta.tolist()\n",
    "df['top_boosted_eta'] = top_boosted_eta.tolist()\n",
    "df['tbar_eta'] = tbar_eta.tolist()\n",
    "df['tbar_boosted_eta'] = tbar_boosted_eta.tolist()\n",
    "#df['e_eta'] = e_eta.tolist()\n",
    "#df['ebar_eta'] = ebar_eta.tolist()\n",
    "#df['mu_eta'] = mu_eta.tolist()\n",
    "#df['mubar_eta'] = mubar_eta.tolist()\n",
    "df['ttbar_delta_eta'] = ttbar_delta_eta.tolist()\n",
    "df['ttbar_eta'] = ttbar_eta.tolist()\n",
    "df['llbar_delta_eta'] = llbar_delta_eta.tolist()\n",
    "df['bbbar_delta_eta'] = bbbar_delta_eta.tolist()\n",
    "df['nunubar_delta_eta'] = nunubar_delta_eta.tolist()\n",
    "df['top_phi'] = top_phi.tolist()\n",
    "df['tbar_phi'] = tbar_phi.tolist()\n",
    "#df['e_phi'] = e_phi.tolist()\n",
    "#df['ebar_phi'] = ebar_phi.tolist()\n",
    "#df['mu_phi'] = mu_phi.tolist()\n",
    "#df['mubar_phi'] = mubar_phi.tolist()\n",
    "df['ttbar_phi'] = ttbar_phi.tolist()\n",
    "df['ttbar_delta_phi'] = ttbar_delta_phi.tolist()\n",
    "df['llbar_phi'] = llbar_phi.tolist()\n",
    "df['llbar_delta_phi'] = llbar_delta_phi.tolist()\n",
    "df['bbbar_phi'] = bbbar_phi.tolist()\n",
    "df['bbbar_delta_phi'] = bbbar_delta_phi.tolist()\n",
    "df['nunubar_phi'] = nunubar_phi.tolist()\n",
    "df['nunubar_delta_phi'] = nunubar_delta_phi.tolist()"
   ]
  },
  {
   "cell_type": "code",
   "execution_count": 33,
   "metadata": {
    "ExecuteTime": {
     "end_time": "2021-07-14T23:22:18.714723Z",
     "start_time": "2021-07-14T23:22:16.943607Z"
    },
    "collapsed": true
   },
   "outputs": [],
   "source": [
    "df['l_eta'] = l_eta.tolist()\n",
    "df['lbar_eta'] = lbar_eta.tolist()\n",
    "df['l_phi'] = l_phi.tolist()\n",
    "df['lbar_phi'] = lbar_phi.tolist()\n",
    "df['b_eta'] = b_eta.tolist()\n",
    "df['bbar_eta'] = bbar_eta.tolist()\n",
    "df['b_phi'] = b_phi.tolist()\n",
    "df['bbar_phi'] = bbar_phi.tolist()\n",
    "df['nu_eta'] = nu_eta.tolist()\n",
    "df['nubar_eta'] = nubar_eta.tolist()\n",
    "df['nu_phi'] = nu_phi.tolist()\n",
    "df['nubar_phi'] = nubar_phi.tolist()\n",
    "df['wplus_eta'] = wplus_eta.tolist()\n",
    "df['wminus_eta'] = wminus_eta.tolist()\n",
    "df['wplus_phi'] = wplus_phi.tolist()\n",
    "df['wminus_phi'] = wminus_phi.tolist()"
   ]
  },
  {
   "cell_type": "code",
   "execution_count": 34,
   "metadata": {
    "ExecuteTime": {
     "end_time": "2021-07-14T23:22:18.826385Z",
     "start_time": "2021-07-14T23:22:18.718476Z"
    }
   },
   "outputs": [
    {
     "data": {
      "text/plain": [
       "Index(['lb_delta_eta', 'lbbar_delta_eta', 'lnu_delta_eta', 'lnubar_delta_eta',\n",
       "       'lbarb_delta_eta', 'lbarbbar_delta_eta', 'lbarnu_delta_eta',\n",
       "       'lbarnubar_delta_eta', 'bnu_delta_eta', 'bnubar_delta_eta',\n",
       "       'bbarnu_delta_eta', 'bbarnubar_delta_eta', 'lb_delta_phi',\n",
       "       'lbbar_delta_phi', 'lnu_delta_phi', 'lnubar_delta_phi',\n",
       "       'lbarb_delta_phi', 'lbarbbar_delta_phi', 'lbarnu_delta_phi',\n",
       "       'lbarnubar_delta_phi', 'bnu_delta_phi', 'bnubar_delta_phi',\n",
       "       'bbarnu_delta_phi', 'bbarnubar_delta_phi', 'wplusb_delta_eta',\n",
       "       'wplusbbar_delta_eta', 'wminusb_delta_eta', 'wminusbbar_delta_eta',\n",
       "       'wplusb_delta_phi', 'wplusbbar_delta_phi', 'wminusb_delta_phi',\n",
       "       'wminusbbar_delta_phi', 'top_eta', 'top_boosted_eta', 'tbar_eta',\n",
       "       'tbar_boosted_eta', 'ttbar_delta_eta', 'ttbar_eta', 'llbar_delta_eta',\n",
       "       'bbbar_delta_eta', 'nunubar_delta_eta', 'top_phi', 'tbar_phi',\n",
       "       'ttbar_phi', 'ttbar_delta_phi', 'llbar_phi', 'llbar_delta_phi',\n",
       "       'bbbar_phi', 'bbbar_delta_phi', 'nunubar_phi', 'nunubar_delta_phi',\n",
       "       'l_eta', 'lbar_eta', 'l_phi', 'lbar_phi', 'b_eta', 'bbar_eta', 'b_phi',\n",
       "       'bbar_phi', 'nu_eta', 'nubar_eta', 'nu_phi', 'nubar_phi', 'wplus_eta',\n",
       "       'wminus_eta', 'wplus_phi', 'wminus_phi'],\n",
       "      dtype='object')"
      ]
     },
     "execution_count": 34,
     "metadata": {},
     "output_type": "execute_result"
    }
   ],
   "source": [
    "df.keys()"
   ]
  },
  {
   "cell_type": "code",
   "execution_count": 35,
   "metadata": {
    "ExecuteTime": {
     "end_time": "2021-07-14T23:22:18.942757Z",
     "start_time": "2021-07-14T23:22:18.836244Z"
    },
    "collapsed": true
   },
   "outputs": [],
   "source": [
    "pt_L = []"
   ]
  },
  {
   "cell_type": "code",
   "execution_count": 36,
   "metadata": {
    "ExecuteTime": {
     "end_time": "2021-07-14T23:22:19.050315Z",
     "start_time": "2021-07-14T23:22:18.946233Z"
    },
    "collapsed": true
   },
   "outputs": [],
   "source": [
    "mass_L = []"
   ]
  },
  {
   "cell_type": "code",
   "execution_count": 37,
   "metadata": {
    "ExecuteTime": {
     "end_time": "2021-07-14T23:22:19.162319Z",
     "start_time": "2021-07-14T23:22:19.052653Z"
    },
    "collapsed": true
   },
   "outputs": [],
   "source": [
    "for key in data[\"ttBar_treeVariables_step8;21\"].keys():\n",
    "    if \"mass\" in key and \"gen\" not in key:\n",
    "        mass_L.append(key)"
   ]
  },
  {
   "cell_type": "code",
   "execution_count": 38,
   "metadata": {
    "ExecuteTime": {
     "end_time": "2021-07-14T23:22:19.274773Z",
     "start_time": "2021-07-14T23:22:19.165333Z"
    },
    "collapsed": true
   },
   "outputs": [],
   "source": [
    "for key in data[\"ttBar_treeVariables_step8;21\"].keys():\n",
    "    if \"pt\" in key and \"gen\" not in key:\n",
    "        pt_L.append(key)"
   ]
  },
  {
   "cell_type": "code",
   "execution_count": 39,
   "metadata": {
    "ExecuteTime": {
     "end_time": "2021-07-14T23:22:19.386790Z",
     "start_time": "2021-07-14T23:22:19.278346Z"
    }
   },
   "outputs": [
    {
     "data": {
      "text/plain": [
       "['top_pt',\n",
       " 'tbar_pt',\n",
       " 'l_pt',\n",
       " 'lbar_pt',\n",
       " 'e_pt',\n",
       " 'ebar_pt',\n",
       " 'mu_pt',\n",
       " 'mubar_pt',\n",
       " 'b_pt',\n",
       " 'bbar_pt',\n",
       " 'nu_pt',\n",
       " 'nubar_pt',\n",
       " 'met_pt',\n",
       " 'ttbar_pt',\n",
       " 'ttbar_boosted_pt',\n",
       " 'wplus_pt',\n",
       " 'wminus_pt',\n",
       " 'llbar_pt',\n",
       " 'bbbar_pt',\n",
       " 'nunubar_pt']"
      ]
     },
     "execution_count": 39,
     "metadata": {},
     "output_type": "execute_result"
    }
   ],
   "source": [
    "pt_L"
   ]
  },
  {
   "cell_type": "code",
   "execution_count": 40,
   "metadata": {
    "ExecuteTime": {
     "end_time": "2021-07-14T23:22:19.497411Z",
     "start_time": "2021-07-14T23:22:19.390155Z"
    }
   },
   "outputs": [
    {
     "data": {
      "text/plain": [
       "20"
      ]
     },
     "execution_count": 40,
     "metadata": {},
     "output_type": "execute_result"
    }
   ],
   "source": [
    "len(pt_L)"
   ]
  },
  {
   "cell_type": "code",
   "execution_count": 41,
   "metadata": {
    "ExecuteTime": {
     "end_time": "2021-07-14T23:22:19.605615Z",
     "start_time": "2021-07-14T23:22:19.499710Z"
    }
   },
   "outputs": [
    {
     "data": {
      "text/plain": [
       "20"
      ]
     },
     "execution_count": 41,
     "metadata": {},
     "output_type": "execute_result"
    }
   ],
   "source": [
    "len(mass_L)"
   ]
  },
  {
   "cell_type": "code",
   "execution_count": 42,
   "metadata": {
    "ExecuteTime": {
     "end_time": "2021-07-14T23:22:19.717125Z",
     "start_time": "2021-07-14T23:22:19.609227Z"
    }
   },
   "outputs": [
    {
     "data": {
      "text/plain": [
       "['top_mass',\n",
       " 'tbar_mass',\n",
       " 'l_mass',\n",
       " 'lbar_mass',\n",
       " 'e_mass',\n",
       " 'ebar_mass',\n",
       " 'mu_mass',\n",
       " 'mubar_mass',\n",
       " 'b_mass',\n",
       " 'bbar_mass',\n",
       " 'nu_mass',\n",
       " 'nubar_mass',\n",
       " 'ttbar_mass',\n",
       " 'wplus_mass',\n",
       " 'wminus_mass',\n",
       " 'llbar_mass',\n",
       " 'llbar_mass',\n",
       " 'nunubar_mass',\n",
       " 'all_mass',\n",
       " 'r_mass']"
      ]
     },
     "execution_count": 42,
     "metadata": {},
     "output_type": "execute_result"
    }
   ],
   "source": [
    "mass_L"
   ]
  },
  {
   "cell_type": "code",
   "execution_count": 43,
   "metadata": {
    "ExecuteTime": {
     "end_time": "2021-07-14T23:22:20.283173Z",
     "start_time": "2021-07-14T23:22:19.720957Z"
    },
    "collapsed": true
   },
   "outputs": [],
   "source": [
    "top_pt = data[\"ttBar_treeVariables_step8;21\"+'/top_pt'].array(library=\"np\")\n",
    "tbar_pt = data[\"ttBar_treeVariables_step8;21\"+'/tbar_pt'].array(library=\"np\")\n",
    "l_pt = data[\"ttBar_treeVariables_step8;21\"+'/l_pt'].array(library=\"np\")\n",
    "lbar_pt = data[\"ttBar_treeVariables_step8;21\"+'/lbar_pt'].array(library=\"np\")\n",
    "e_pt = data[\"ttBar_treeVariables_step8;21\"+'/e_pt'].array(library=\"np\")\n",
    "ebar_pt = data[\"ttBar_treeVariables_step8;21\"+'/ebar_pt'].array(library=\"np\")\n",
    "mu_pt = data[\"ttBar_treeVariables_step8;21\"+'/mu_pt'].array(library=\"np\")\n",
    "mubar_pt = data[\"ttBar_treeVariables_step8;21\"+'/mubar_pt'].array(library=\"np\")\n",
    "b_pt = data[\"ttBar_treeVariables_step8;21\"+'/b_pt'].array(library=\"np\")\n",
    "bbar_pt = data[\"ttBar_treeVariables_step8;21\"+'/bbar_pt'].array(library=\"np\")\n",
    "nu_pt = data[\"ttBar_treeVariables_step8;21\"+'/nu_pt'].array(library=\"np\")\n",
    "nubar_pt = data[\"ttBar_treeVariables_step8;21\"+'/nubar_pt'].array(library=\"np\")\n",
    "met_pt = data[\"ttBar_treeVariables_step8;21\"+'/met_pt'].array(library=\"np\")\n",
    "ttbar_pt = data[\"ttBar_treeVariables_step8;21\"+'/ttbar_pt'].array(library=\"np\")\n",
    "ttbar_boosted_pt = data[\"ttBar_treeVariables_step8;21\"+'/ttbar_boosted_pt'].array(library=\"np\")\n",
    "wplus_pt = data[\"ttBar_treeVariables_step8;21\"+'/wplus_pt'].array(library=\"np\")\n",
    "wminus_pt = data[\"ttBar_treeVariables_step8;21\"+'/wminus_pt'].array(library=\"np\")\n"
   ]
  },
  {
   "cell_type": "code",
   "execution_count": 44,
   "metadata": {
    "ExecuteTime": {
     "end_time": "2021-07-14T23:22:20.555561Z",
     "start_time": "2021-07-14T23:22:20.285222Z"
    },
    "collapsed": true
   },
   "outputs": [],
   "source": [
    "top_mass = data[\"ttBar_treeVariables_step8;21\"+'/top_mass'].array(library=\"np\")\n",
    "tbar_mass = data[\"ttBar_treeVariables_step8;21\"+'/tbar_mass'].array(library=\"np\")\n",
    "ttbar_mass = data[\"ttBar_treeVariables_step8;21\"+'/ttbar_mass'].array(library=\"np\")\n",
    "wplus_mass = data[\"ttBar_treeVariables_step8;21\"+'/wplus_mass'].array(library=\"np\")\n",
    "wminus_mass = data[\"ttBar_treeVariables_step8;21\"+'/wminus_mass'].array(library=\"np\")\n",
    "all_mass = data[\"ttBar_treeVariables_step8;21\"+'/all_mass'].array(library=\"np\")\n",
    "r_mass = data[\"ttBar_treeVariables_step8;21\"+'/r_mass'].array(library=\"np\")"
   ]
  },
  {
   "cell_type": "code",
   "execution_count": 45,
   "metadata": {
    "ExecuteTime": {
     "end_time": "2021-07-14T23:22:21.992881Z",
     "start_time": "2021-07-14T23:22:20.560703Z"
    },
    "collapsed": true
   },
   "outputs": [],
   "source": [
    "df['top_pt'] = top_pt.tolist()\n",
    "df['tbar_pt'] = tbar_pt.tolist()\n",
    "df['l_pt'] = l_pt.tolist()\n",
    "#df['e_pt'] = e_pt.tolist()\n",
    "#df['ebar_pt'] = ebar_pt.tolist()\n",
    "#df['mu_pt'] = mu_pt.tolist()\n",
    "#df['mubar_pt'] = mubar_pt.tolist()\n",
    "df['b_pt'] = b_pt.tolist()\n",
    "df['bbar_pt'] = bbar_pt.tolist()\n",
    "df['nu_pt'] = nu_pt.tolist()\n",
    "df['nubar_pt'] = nubar_pt.tolist()\n",
    "df['met_pt'] = met_pt.tolist()\n",
    "df['ttbar_pt'] = ttbar_pt.tolist()\n",
    "df['ttbar_boosted_pt'] = ttbar_boosted_pt.tolist()\n",
    "df['wplus_pt'] = wplus_pt.tolist()\n",
    "df['wminus_pt'] = wminus_pt.tolist()\n"
   ]
  },
  {
   "cell_type": "code",
   "execution_count": 46,
   "metadata": {
    "ExecuteTime": {
     "end_time": "2021-07-14T23:22:22.243599Z",
     "start_time": "2021-07-14T23:22:21.996105Z"
    },
    "collapsed": true
   },
   "outputs": [],
   "source": [
    "#df['top_mass'] = top_mass.tolist()\n",
    "#df['tbar_mass'] = tbar_mass.tolist()\n",
    "df['ttbar_mass'] = ttbar_mass.tolist()\n",
    "#df['wplus_mass'] = wplus_mass.tolist()\n",
    "#df['wminus_mass'] = wminus_mass.tolist()\n",
    "#df['all_mass'] = all_mass.tolist()\n",
    "#df['r_mass'] = r_mass.tolist()\n"
   ]
  },
  {
   "cell_type": "code",
   "execution_count": 47,
   "metadata": {
    "ExecuteTime": {
     "end_time": "2021-07-14T23:22:22.357104Z",
     "start_time": "2021-07-14T23:22:22.246751Z"
    }
   },
   "outputs": [
    {
     "data": {
      "text/plain": [
       "Index(['lb_delta_eta', 'lbbar_delta_eta', 'lnu_delta_eta', 'lnubar_delta_eta',\n",
       "       'lbarb_delta_eta', 'lbarbbar_delta_eta', 'lbarnu_delta_eta',\n",
       "       'lbarnubar_delta_eta', 'bnu_delta_eta', 'bnubar_delta_eta',\n",
       "       'bbarnu_delta_eta', 'bbarnubar_delta_eta', 'lb_delta_phi',\n",
       "       'lbbar_delta_phi', 'lnu_delta_phi', 'lnubar_delta_phi',\n",
       "       'lbarb_delta_phi', 'lbarbbar_delta_phi', 'lbarnu_delta_phi',\n",
       "       'lbarnubar_delta_phi', 'bnu_delta_phi', 'bnubar_delta_phi',\n",
       "       'bbarnu_delta_phi', 'bbarnubar_delta_phi', 'wplusb_delta_eta',\n",
       "       'wplusbbar_delta_eta', 'wminusb_delta_eta', 'wminusbbar_delta_eta',\n",
       "       'wplusb_delta_phi', 'wplusbbar_delta_phi', 'wminusb_delta_phi',\n",
       "       'wminusbbar_delta_phi', 'top_eta', 'top_boosted_eta', 'tbar_eta',\n",
       "       'tbar_boosted_eta', 'ttbar_delta_eta', 'ttbar_eta', 'llbar_delta_eta',\n",
       "       'bbbar_delta_eta', 'nunubar_delta_eta', 'top_phi', 'tbar_phi',\n",
       "       'ttbar_phi', 'ttbar_delta_phi', 'llbar_phi', 'llbar_delta_phi',\n",
       "       'bbbar_phi', 'bbbar_delta_phi', 'nunubar_phi', 'nunubar_delta_phi',\n",
       "       'l_eta', 'lbar_eta', 'l_phi', 'lbar_phi', 'b_eta', 'bbar_eta', 'b_phi',\n",
       "       'bbar_phi', 'nu_eta', 'nubar_eta', 'nu_phi', 'nubar_phi', 'wplus_eta',\n",
       "       'wminus_eta', 'wplus_phi', 'wminus_phi', 'top_pt', 'tbar_pt', 'l_pt',\n",
       "       'b_pt', 'bbar_pt', 'nu_pt', 'nubar_pt', 'met_pt', 'ttbar_pt',\n",
       "       'ttbar_boosted_pt', 'wplus_pt', 'wminus_pt', 'ttbar_mass'],\n",
       "      dtype='object')"
      ]
     },
     "execution_count": 47,
     "metadata": {},
     "output_type": "execute_result"
    }
   ],
   "source": [
    "df.keys()"
   ]
  },
  {
   "cell_type": "code",
   "execution_count": 48,
   "metadata": {
    "ExecuteTime": {
     "end_time": "2021-07-14T23:22:22.464760Z",
     "start_time": "2021-07-14T23:22:22.360210Z"
    },
    "collapsed": true
   },
   "outputs": [],
   "source": [
    "mode_L = []"
   ]
  },
  {
   "cell_type": "code",
   "execution_count": 49,
   "metadata": {
    "ExecuteTime": {
     "end_time": "2021-07-14T23:22:22.580416Z",
     "start_time": "2021-07-14T23:22:22.468247Z"
    },
    "collapsed": true
   },
   "outputs": [],
   "source": [
    "for key in data[\"ttBar_treeVariables_step8;21\"].keys():\n",
    "    if \"mode\" in key and \"gen\" not in key:\n",
    "        mode_L.append(key)"
   ]
  },
  {
   "cell_type": "code",
   "execution_count": 50,
   "metadata": {
    "ExecuteTime": {
     "end_time": "2021-07-14T23:22:22.691285Z",
     "start_time": "2021-07-14T23:22:22.583693Z"
    }
   },
   "outputs": [
    {
     "data": {
      "text/plain": [
       "['production_mode']"
      ]
     },
     "execution_count": 50,
     "metadata": {},
     "output_type": "execute_result"
    }
   ],
   "source": [
    "mode_L"
   ]
  },
  {
   "cell_type": "markdown",
   "metadata": {},
   "source": [
    "weights\n",
    "production mode"
   ]
  },
  {
   "cell_type": "code",
   "execution_count": 51,
   "metadata": {
    "ExecuteTime": {
     "end_time": "2021-07-14T23:22:22.923201Z",
     "start_time": "2021-07-14T23:22:22.694971Z"
    },
    "collapsed": true
   },
   "outputs": [],
   "source": [
    "production_mode = data[\"ttBar_treeVariables_step8;21\"+'/production_mode'].array(library=\"np\")\n",
    "eventWeight = data[\"ttBar_treeVariables_step8;21\"+'/eventWeight'].array(library=\"np\")"
   ]
  },
  {
   "cell_type": "code",
   "execution_count": 52,
   "metadata": {
    "ExecuteTime": {
     "end_time": "2021-07-14T23:22:23.295202Z",
     "start_time": "2021-07-14T23:22:22.926760Z"
    },
    "collapsed": true
   },
   "outputs": [],
   "source": [
    "df['production_mode'] = production_mode.tolist()\n",
    "df['eventWeight'] = eventWeight.tolist()"
   ]
  },
  {
   "cell_type": "code",
   "execution_count": 53,
   "metadata": {
    "ExecuteTime": {
     "end_time": "2021-07-14T23:22:23.405359Z",
     "start_time": "2021-07-14T23:22:23.297719Z"
    }
   },
   "outputs": [
    {
     "data": {
      "text/plain": [
       "Index(['lb_delta_eta', 'lbbar_delta_eta', 'lnu_delta_eta', 'lnubar_delta_eta',\n",
       "       'lbarb_delta_eta', 'lbarbbar_delta_eta', 'lbarnu_delta_eta',\n",
       "       'lbarnubar_delta_eta', 'bnu_delta_eta', 'bnubar_delta_eta',\n",
       "       'bbarnu_delta_eta', 'bbarnubar_delta_eta', 'lb_delta_phi',\n",
       "       'lbbar_delta_phi', 'lnu_delta_phi', 'lnubar_delta_phi',\n",
       "       'lbarb_delta_phi', 'lbarbbar_delta_phi', 'lbarnu_delta_phi',\n",
       "       'lbarnubar_delta_phi', 'bnu_delta_phi', 'bnubar_delta_phi',\n",
       "       'bbarnu_delta_phi', 'bbarnubar_delta_phi', 'wplusb_delta_eta',\n",
       "       'wplusbbar_delta_eta', 'wminusb_delta_eta', 'wminusbbar_delta_eta',\n",
       "       'wplusb_delta_phi', 'wplusbbar_delta_phi', 'wminusb_delta_phi',\n",
       "       'wminusbbar_delta_phi', 'top_eta', 'top_boosted_eta', 'tbar_eta',\n",
       "       'tbar_boosted_eta', 'ttbar_delta_eta', 'ttbar_eta', 'llbar_delta_eta',\n",
       "       'bbbar_delta_eta', 'nunubar_delta_eta', 'top_phi', 'tbar_phi',\n",
       "       'ttbar_phi', 'ttbar_delta_phi', 'llbar_phi', 'llbar_delta_phi',\n",
       "       'bbbar_phi', 'bbbar_delta_phi', 'nunubar_phi', 'nunubar_delta_phi',\n",
       "       'l_eta', 'lbar_eta', 'l_phi', 'lbar_phi', 'b_eta', 'bbar_eta', 'b_phi',\n",
       "       'bbar_phi', 'nu_eta', 'nubar_eta', 'nu_phi', 'nubar_phi', 'wplus_eta',\n",
       "       'wminus_eta', 'wplus_phi', 'wminus_phi', 'top_pt', 'tbar_pt', 'l_pt',\n",
       "       'b_pt', 'bbar_pt', 'nu_pt', 'nubar_pt', 'met_pt', 'ttbar_pt',\n",
       "       'ttbar_boosted_pt', 'wplus_pt', 'wminus_pt', 'ttbar_mass',\n",
       "       'production_mode', 'eventWeight'],\n",
       "      dtype='object')"
      ]
     },
     "execution_count": 53,
     "metadata": {},
     "output_type": "execute_result"
    }
   ],
   "source": [
    "df.keys()"
   ]
  },
  {
   "cell_type": "code",
   "execution_count": null,
   "metadata": {
    "ExecuteTime": {
     "end_time": "2021-07-14T23:22:23.816518Z",
     "start_time": "2021-07-14T23:22:23.410122Z"
    }
   },
   "outputs": [],
   "source": []
  },
  {
   "cell_type": "code",
   "execution_count": 55,
   "metadata": {
    "ExecuteTime": {
     "end_time": "2021-07-14T23:24:12.213880Z",
     "start_time": "2021-07-14T23:24:10.921956Z"
    }
   },
   "outputs": [
    {
     "data": {
      "text/html": [
       "<div>\n",
       "<style scoped>\n",
       "    .dataframe tbody tr th:only-of-type {\n",
       "        vertical-align: middle;\n",
       "    }\n",
       "\n",
       "    .dataframe tbody tr th {\n",
       "        vertical-align: top;\n",
       "    }\n",
       "\n",
       "    .dataframe thead th {\n",
       "        text-align: right;\n",
       "    }\n",
       "</style>\n",
       "<table border=\"1\" class=\"dataframe\">\n",
       "  <thead>\n",
       "    <tr style=\"text-align: right;\">\n",
       "      <th></th>\n",
       "      <th>lb_delta_eta</th>\n",
       "      <th>lbbar_delta_eta</th>\n",
       "      <th>lnu_delta_eta</th>\n",
       "      <th>lnubar_delta_eta</th>\n",
       "      <th>lbarb_delta_eta</th>\n",
       "      <th>lbarbbar_delta_eta</th>\n",
       "      <th>lbarnu_delta_eta</th>\n",
       "      <th>lbarnubar_delta_eta</th>\n",
       "      <th>bnu_delta_eta</th>\n",
       "      <th>bnubar_delta_eta</th>\n",
       "      <th>...</th>\n",
       "      <th>nu_pt</th>\n",
       "      <th>nubar_pt</th>\n",
       "      <th>met_pt</th>\n",
       "      <th>ttbar_pt</th>\n",
       "      <th>ttbar_boosted_pt</th>\n",
       "      <th>wplus_pt</th>\n",
       "      <th>wminus_pt</th>\n",
       "      <th>ttbar_mass</th>\n",
       "      <th>production_mode</th>\n",
       "      <th>eventWeight</th>\n",
       "    </tr>\n",
       "  </thead>\n",
       "  <tbody>\n",
       "    <tr>\n",
       "      <th>0</th>\n",
       "      <td>0.196395</td>\n",
       "      <td>0.401817</td>\n",
       "      <td>1.523488</td>\n",
       "      <td>1.100096</td>\n",
       "      <td>0.437924</td>\n",
       "      <td>0.232502</td>\n",
       "      <td>0.889169</td>\n",
       "      <td>0.465777</td>\n",
       "      <td>1.327093</td>\n",
       "      <td>0.903701</td>\n",
       "      <td>...</td>\n",
       "      <td>55.912968</td>\n",
       "      <td>60.569515</td>\n",
       "      <td>73.736588</td>\n",
       "      <td>85.727631</td>\n",
       "      <td>0.000000e+00</td>\n",
       "      <td>132.345215</td>\n",
       "      <td>86.564339</td>\n",
       "      <td>395.892334</td>\n",
       "      <td>0.0</td>\n",
       "      <td>66.410027</td>\n",
       "    </tr>\n",
       "    <tr>\n",
       "      <th>1</th>\n",
       "      <td>0.172882</td>\n",
       "      <td>0.338345</td>\n",
       "      <td>0.095944</td>\n",
       "      <td>2.081524</td>\n",
       "      <td>0.151838</td>\n",
       "      <td>0.663065</td>\n",
       "      <td>0.420664</td>\n",
       "      <td>1.756804</td>\n",
       "      <td>0.268826</td>\n",
       "      <td>1.908642</td>\n",
       "      <td>...</td>\n",
       "      <td>66.662498</td>\n",
       "      <td>9.865296</td>\n",
       "      <td>86.294891</td>\n",
       "      <td>34.284901</td>\n",
       "      <td>0.000000e+00</td>\n",
       "      <td>91.426224</td>\n",
       "      <td>51.661064</td>\n",
       "      <td>357.865204</td>\n",
       "      <td>1.0</td>\n",
       "      <td>7.390667</td>\n",
       "    </tr>\n",
       "    <tr>\n",
       "      <th>2</th>\n",
       "      <td>0.927498</td>\n",
       "      <td>0.191133</td>\n",
       "      <td>3.020247</td>\n",
       "      <td>0.361787</td>\n",
       "      <td>1.366539</td>\n",
       "      <td>2.485170</td>\n",
       "      <td>0.726209</td>\n",
       "      <td>1.932250</td>\n",
       "      <td>2.092748</td>\n",
       "      <td>0.565711</td>\n",
       "      <td>...</td>\n",
       "      <td>42.291389</td>\n",
       "      <td>70.709892</td>\n",
       "      <td>149.972198</td>\n",
       "      <td>40.723141</td>\n",
       "      <td>1.110223e-16</td>\n",
       "      <td>20.742170</td>\n",
       "      <td>71.965454</td>\n",
       "      <td>568.250061</td>\n",
       "      <td>0.0</td>\n",
       "      <td>77.069023</td>\n",
       "    </tr>\n",
       "    <tr>\n",
       "      <th>3</th>\n",
       "      <td>0.180216</td>\n",
       "      <td>0.155463</td>\n",
       "      <td>1.146340</td>\n",
       "      <td>1.088407</td>\n",
       "      <td>1.069548</td>\n",
       "      <td>1.094300</td>\n",
       "      <td>0.103424</td>\n",
       "      <td>2.338171</td>\n",
       "      <td>0.966124</td>\n",
       "      <td>1.268623</td>\n",
       "      <td>...</td>\n",
       "      <td>59.980759</td>\n",
       "      <td>14.512580</td>\n",
       "      <td>85.544365</td>\n",
       "      <td>48.901600</td>\n",
       "      <td>7.105427e-15</td>\n",
       "      <td>38.919216</td>\n",
       "      <td>31.414345</td>\n",
       "      <td>373.534393</td>\n",
       "      <td>0.0</td>\n",
       "      <td>76.395515</td>\n",
       "    </tr>\n",
       "    <tr>\n",
       "      <th>4</th>\n",
       "      <td>1.693352</td>\n",
       "      <td>0.851445</td>\n",
       "      <td>0.393477</td>\n",
       "      <td>0.611020</td>\n",
       "      <td>1.780469</td>\n",
       "      <td>0.764327</td>\n",
       "      <td>0.480594</td>\n",
       "      <td>0.698138</td>\n",
       "      <td>1.299875</td>\n",
       "      <td>1.082331</td>\n",
       "      <td>...</td>\n",
       "      <td>115.054474</td>\n",
       "      <td>32.219822</td>\n",
       "      <td>140.827530</td>\n",
       "      <td>147.562439</td>\n",
       "      <td>0.000000e+00</td>\n",
       "      <td>167.645020</td>\n",
       "      <td>58.836834</td>\n",
       "      <td>428.166321</td>\n",
       "      <td>0.0</td>\n",
       "      <td>71.350548</td>\n",
       "    </tr>\n",
       "    <tr>\n",
       "      <th>...</th>\n",
       "      <td>...</td>\n",
       "      <td>...</td>\n",
       "      <td>...</td>\n",
       "      <td>...</td>\n",
       "      <td>...</td>\n",
       "      <td>...</td>\n",
       "      <td>...</td>\n",
       "      <td>...</td>\n",
       "      <td>...</td>\n",
       "      <td>...</td>\n",
       "      <td>...</td>\n",
       "      <td>...</td>\n",
       "      <td>...</td>\n",
       "      <td>...</td>\n",
       "      <td>...</td>\n",
       "      <td>...</td>\n",
       "      <td>...</td>\n",
       "      <td>...</td>\n",
       "      <td>...</td>\n",
       "      <td>...</td>\n",
       "      <td>...</td>\n",
       "    </tr>\n",
       "    <tr>\n",
       "      <th>814619</th>\n",
       "      <td>0.560937</td>\n",
       "      <td>0.571842</td>\n",
       "      <td>1.540824</td>\n",
       "      <td>0.977205</td>\n",
       "      <td>0.524936</td>\n",
       "      <td>0.535841</td>\n",
       "      <td>1.504823</td>\n",
       "      <td>0.941204</td>\n",
       "      <td>0.979886</td>\n",
       "      <td>0.416268</td>\n",
       "      <td>...</td>\n",
       "      <td>17.319975</td>\n",
       "      <td>52.204456</td>\n",
       "      <td>42.638184</td>\n",
       "      <td>79.431847</td>\n",
       "      <td>2.842171e-14</td>\n",
       "      <td>63.620266</td>\n",
       "      <td>49.506519</td>\n",
       "      <td>468.926697</td>\n",
       "      <td>2.0</td>\n",
       "      <td>53.111862</td>\n",
       "    </tr>\n",
       "    <tr>\n",
       "      <th>814620</th>\n",
       "      <td>0.724043</td>\n",
       "      <td>0.138342</td>\n",
       "      <td>3.696949</td>\n",
       "      <td>0.520334</td>\n",
       "      <td>0.844741</td>\n",
       "      <td>1.707127</td>\n",
       "      <td>2.128164</td>\n",
       "      <td>1.048451</td>\n",
       "      <td>2.972905</td>\n",
       "      <td>0.203709</td>\n",
       "      <td>...</td>\n",
       "      <td>21.067116</td>\n",
       "      <td>49.610783</td>\n",
       "      <td>40.924866</td>\n",
       "      <td>115.609200</td>\n",
       "      <td>5.684342e-14</td>\n",
       "      <td>37.556633</td>\n",
       "      <td>128.474823</td>\n",
       "      <td>635.448181</td>\n",
       "      <td>0.0</td>\n",
       "      <td>68.907211</td>\n",
       "    </tr>\n",
       "    <tr>\n",
       "      <th>814621</th>\n",
       "      <td>1.280565</td>\n",
       "      <td>0.689676</td>\n",
       "      <td>1.869368</td>\n",
       "      <td>0.409543</td>\n",
       "      <td>0.684231</td>\n",
       "      <td>1.275119</td>\n",
       "      <td>0.095428</td>\n",
       "      <td>1.555253</td>\n",
       "      <td>0.588803</td>\n",
       "      <td>0.871022</td>\n",
       "      <td>...</td>\n",
       "      <td>31.319874</td>\n",
       "      <td>108.905815</td>\n",
       "      <td>122.867226</td>\n",
       "      <td>15.439472</td>\n",
       "      <td>3.552714e-15</td>\n",
       "      <td>104.013481</td>\n",
       "      <td>182.620667</td>\n",
       "      <td>712.447571</td>\n",
       "      <td>1.0</td>\n",
       "      <td>71.193085</td>\n",
       "    </tr>\n",
       "    <tr>\n",
       "      <th>814622</th>\n",
       "      <td>0.727869</td>\n",
       "      <td>0.791849</td>\n",
       "      <td>1.661288</td>\n",
       "      <td>0.183191</td>\n",
       "      <td>1.262159</td>\n",
       "      <td>0.257559</td>\n",
       "      <td>1.126999</td>\n",
       "      <td>0.717480</td>\n",
       "      <td>2.389158</td>\n",
       "      <td>0.544678</td>\n",
       "      <td>...</td>\n",
       "      <td>21.345388</td>\n",
       "      <td>42.599651</td>\n",
       "      <td>78.865273</td>\n",
       "      <td>135.267517</td>\n",
       "      <td>0.000000e+00</td>\n",
       "      <td>65.450943</td>\n",
       "      <td>141.981888</td>\n",
       "      <td>446.921509</td>\n",
       "      <td>2.0</td>\n",
       "      <td>73.394135</td>\n",
       "    </tr>\n",
       "    <tr>\n",
       "      <th>814623</th>\n",
       "      <td>0.075028</td>\n",
       "      <td>0.841890</td>\n",
       "      <td>0.655420</td>\n",
       "      <td>0.432992</td>\n",
       "      <td>0.191002</td>\n",
       "      <td>0.957864</td>\n",
       "      <td>0.539445</td>\n",
       "      <td>0.548967</td>\n",
       "      <td>0.730447</td>\n",
       "      <td>0.357964</td>\n",
       "      <td>...</td>\n",
       "      <td>192.380630</td>\n",
       "      <td>164.799332</td>\n",
       "      <td>138.927689</td>\n",
       "      <td>53.726471</td>\n",
       "      <td>1.421085e-14</td>\n",
       "      <td>229.168823</td>\n",
       "      <td>178.210709</td>\n",
       "      <td>664.445312</td>\n",
       "      <td>0.0</td>\n",
       "      <td>64.527901</td>\n",
       "    </tr>\n",
       "  </tbody>\n",
       "</table>\n",
       "<p>814624 rows × 82 columns</p>\n",
       "</div>"
      ],
      "text/plain": [
       "        lb_delta_eta  lbbar_delta_eta  lnu_delta_eta  lnubar_delta_eta  \\\n",
       "0           0.196395         0.401817       1.523488          1.100096   \n",
       "1           0.172882         0.338345       0.095944          2.081524   \n",
       "2           0.927498         0.191133       3.020247          0.361787   \n",
       "3           0.180216         0.155463       1.146340          1.088407   \n",
       "4           1.693352         0.851445       0.393477          0.611020   \n",
       "...              ...              ...            ...               ...   \n",
       "814619      0.560937         0.571842       1.540824          0.977205   \n",
       "814620      0.724043         0.138342       3.696949          0.520334   \n",
       "814621      1.280565         0.689676       1.869368          0.409543   \n",
       "814622      0.727869         0.791849       1.661288          0.183191   \n",
       "814623      0.075028         0.841890       0.655420          0.432992   \n",
       "\n",
       "        lbarb_delta_eta  lbarbbar_delta_eta  lbarnu_delta_eta  \\\n",
       "0              0.437924            0.232502          0.889169   \n",
       "1              0.151838            0.663065          0.420664   \n",
       "2              1.366539            2.485170          0.726209   \n",
       "3              1.069548            1.094300          0.103424   \n",
       "4              1.780469            0.764327          0.480594   \n",
       "...                 ...                 ...               ...   \n",
       "814619         0.524936            0.535841          1.504823   \n",
       "814620         0.844741            1.707127          2.128164   \n",
       "814621         0.684231            1.275119          0.095428   \n",
       "814622         1.262159            0.257559          1.126999   \n",
       "814623         0.191002            0.957864          0.539445   \n",
       "\n",
       "        lbarnubar_delta_eta  bnu_delta_eta  bnubar_delta_eta  ...       nu_pt  \\\n",
       "0                  0.465777       1.327093          0.903701  ...   55.912968   \n",
       "1                  1.756804       0.268826          1.908642  ...   66.662498   \n",
       "2                  1.932250       2.092748          0.565711  ...   42.291389   \n",
       "3                  2.338171       0.966124          1.268623  ...   59.980759   \n",
       "4                  0.698138       1.299875          1.082331  ...  115.054474   \n",
       "...                     ...            ...               ...  ...         ...   \n",
       "814619             0.941204       0.979886          0.416268  ...   17.319975   \n",
       "814620             1.048451       2.972905          0.203709  ...   21.067116   \n",
       "814621             1.555253       0.588803          0.871022  ...   31.319874   \n",
       "814622             0.717480       2.389158          0.544678  ...   21.345388   \n",
       "814623             0.548967       0.730447          0.357964  ...  192.380630   \n",
       "\n",
       "          nubar_pt      met_pt    ttbar_pt  ttbar_boosted_pt    wplus_pt  \\\n",
       "0        60.569515   73.736588   85.727631      0.000000e+00  132.345215   \n",
       "1         9.865296   86.294891   34.284901      0.000000e+00   91.426224   \n",
       "2        70.709892  149.972198   40.723141      1.110223e-16   20.742170   \n",
       "3        14.512580   85.544365   48.901600      7.105427e-15   38.919216   \n",
       "4        32.219822  140.827530  147.562439      0.000000e+00  167.645020   \n",
       "...            ...         ...         ...               ...         ...   \n",
       "814619   52.204456   42.638184   79.431847      2.842171e-14   63.620266   \n",
       "814620   49.610783   40.924866  115.609200      5.684342e-14   37.556633   \n",
       "814621  108.905815  122.867226   15.439472      3.552714e-15  104.013481   \n",
       "814622   42.599651   78.865273  135.267517      0.000000e+00   65.450943   \n",
       "814623  164.799332  138.927689   53.726471      1.421085e-14  229.168823   \n",
       "\n",
       "         wminus_pt  ttbar_mass  production_mode  eventWeight  \n",
       "0        86.564339  395.892334              0.0    66.410027  \n",
       "1        51.661064  357.865204              1.0     7.390667  \n",
       "2        71.965454  568.250061              0.0    77.069023  \n",
       "3        31.414345  373.534393              0.0    76.395515  \n",
       "4        58.836834  428.166321              0.0    71.350548  \n",
       "...            ...         ...              ...          ...  \n",
       "814619   49.506519  468.926697              2.0    53.111862  \n",
       "814620  128.474823  635.448181              0.0    68.907211  \n",
       "814621  182.620667  712.447571              1.0    71.193085  \n",
       "814622  141.981888  446.921509              2.0    73.394135  \n",
       "814623  178.210709  664.445312              0.0    64.527901  \n",
       "\n",
       "[814624 rows x 82 columns]"
      ]
     },
     "execution_count": 55,
     "metadata": {},
     "output_type": "execute_result"
    }
   ],
   "source": [
    "df"
   ]
  },
  {
   "cell_type": "markdown",
   "metadata": {},
   "source": [
    "# Save as csv"
   ]
  },
  {
   "cell_type": "code",
   "execution_count": 56,
   "metadata": {
    "ExecuteTime": {
     "end_time": "2021-07-14T23:26:16.708352Z",
     "start_time": "2021-07-14T23:24:36.992158Z"
    },
    "collapsed": true
   },
   "outputs": [],
   "source": [
    "df.to_csv('~/Desktop/summer_cms/ee_modified_root_2_1.csv')"
   ]
  },
  {
   "cell_type": "code",
   "execution_count": 57,
   "metadata": {
    "ExecuteTime": {
     "end_time": "2021-07-14T23:26:29.884611Z",
     "start_time": "2021-07-14T23:26:16.712528Z"
    },
    "collapsed": true
   },
   "outputs": [],
   "source": [
    "depo_dir_1 = '~/Desktop/summer_cms/'\n",
    "data = pd.read_csv(depo_dir_1+'ee_modified_root_2_1.csv')"
   ]
  },
  {
   "cell_type": "code",
   "execution_count": 58,
   "metadata": {
    "ExecuteTime": {
     "end_time": "2021-07-14T23:26:30.517920Z",
     "start_time": "2021-07-14T23:26:29.888106Z"
    }
   },
   "outputs": [
    {
     "data": {
      "text/html": [
       "<div>\n",
       "<style scoped>\n",
       "    .dataframe tbody tr th:only-of-type {\n",
       "        vertical-align: middle;\n",
       "    }\n",
       "\n",
       "    .dataframe tbody tr th {\n",
       "        vertical-align: top;\n",
       "    }\n",
       "\n",
       "    .dataframe thead th {\n",
       "        text-align: right;\n",
       "    }\n",
       "</style>\n",
       "<table border=\"1\" class=\"dataframe\">\n",
       "  <thead>\n",
       "    <tr style=\"text-align: right;\">\n",
       "      <th></th>\n",
       "      <th>Unnamed: 0</th>\n",
       "      <th>lb_delta_eta</th>\n",
       "      <th>lbbar_delta_eta</th>\n",
       "      <th>lnu_delta_eta</th>\n",
       "      <th>lnubar_delta_eta</th>\n",
       "      <th>lbarb_delta_eta</th>\n",
       "      <th>lbarbbar_delta_eta</th>\n",
       "      <th>lbarnu_delta_eta</th>\n",
       "      <th>lbarnubar_delta_eta</th>\n",
       "      <th>bnu_delta_eta</th>\n",
       "      <th>...</th>\n",
       "      <th>nu_pt</th>\n",
       "      <th>nubar_pt</th>\n",
       "      <th>met_pt</th>\n",
       "      <th>ttbar_pt</th>\n",
       "      <th>ttbar_boosted_pt</th>\n",
       "      <th>wplus_pt</th>\n",
       "      <th>wminus_pt</th>\n",
       "      <th>ttbar_mass</th>\n",
       "      <th>production_mode</th>\n",
       "      <th>eventWeight</th>\n",
       "    </tr>\n",
       "  </thead>\n",
       "  <tbody>\n",
       "    <tr>\n",
       "      <th>0</th>\n",
       "      <td>0</td>\n",
       "      <td>0.196395</td>\n",
       "      <td>0.401817</td>\n",
       "      <td>1.523488</td>\n",
       "      <td>1.100096</td>\n",
       "      <td>0.437924</td>\n",
       "      <td>0.232502</td>\n",
       "      <td>0.889169</td>\n",
       "      <td>0.465777</td>\n",
       "      <td>1.327093</td>\n",
       "      <td>...</td>\n",
       "      <td>55.912968</td>\n",
       "      <td>60.569515</td>\n",
       "      <td>73.736588</td>\n",
       "      <td>85.727631</td>\n",
       "      <td>0.000000e+00</td>\n",
       "      <td>132.345215</td>\n",
       "      <td>86.564339</td>\n",
       "      <td>395.892334</td>\n",
       "      <td>0.0</td>\n",
       "      <td>66.410027</td>\n",
       "    </tr>\n",
       "    <tr>\n",
       "      <th>1</th>\n",
       "      <td>1</td>\n",
       "      <td>0.172882</td>\n",
       "      <td>0.338345</td>\n",
       "      <td>0.095944</td>\n",
       "      <td>2.081524</td>\n",
       "      <td>0.151838</td>\n",
       "      <td>0.663065</td>\n",
       "      <td>0.420664</td>\n",
       "      <td>1.756804</td>\n",
       "      <td>0.268826</td>\n",
       "      <td>...</td>\n",
       "      <td>66.662498</td>\n",
       "      <td>9.865296</td>\n",
       "      <td>86.294891</td>\n",
       "      <td>34.284901</td>\n",
       "      <td>0.000000e+00</td>\n",
       "      <td>91.426224</td>\n",
       "      <td>51.661064</td>\n",
       "      <td>357.865204</td>\n",
       "      <td>1.0</td>\n",
       "      <td>7.390667</td>\n",
       "    </tr>\n",
       "    <tr>\n",
       "      <th>2</th>\n",
       "      <td>2</td>\n",
       "      <td>0.927498</td>\n",
       "      <td>0.191133</td>\n",
       "      <td>3.020247</td>\n",
       "      <td>0.361787</td>\n",
       "      <td>1.366539</td>\n",
       "      <td>2.485170</td>\n",
       "      <td>0.726209</td>\n",
       "      <td>1.932250</td>\n",
       "      <td>2.092748</td>\n",
       "      <td>...</td>\n",
       "      <td>42.291389</td>\n",
       "      <td>70.709892</td>\n",
       "      <td>149.972198</td>\n",
       "      <td>40.723141</td>\n",
       "      <td>1.110223e-16</td>\n",
       "      <td>20.742170</td>\n",
       "      <td>71.965454</td>\n",
       "      <td>568.250061</td>\n",
       "      <td>0.0</td>\n",
       "      <td>77.069023</td>\n",
       "    </tr>\n",
       "    <tr>\n",
       "      <th>3</th>\n",
       "      <td>3</td>\n",
       "      <td>0.180216</td>\n",
       "      <td>0.155463</td>\n",
       "      <td>1.146340</td>\n",
       "      <td>1.088407</td>\n",
       "      <td>1.069548</td>\n",
       "      <td>1.094300</td>\n",
       "      <td>0.103424</td>\n",
       "      <td>2.338171</td>\n",
       "      <td>0.966124</td>\n",
       "      <td>...</td>\n",
       "      <td>59.980759</td>\n",
       "      <td>14.512580</td>\n",
       "      <td>85.544365</td>\n",
       "      <td>48.901600</td>\n",
       "      <td>7.105427e-15</td>\n",
       "      <td>38.919216</td>\n",
       "      <td>31.414345</td>\n",
       "      <td>373.534393</td>\n",
       "      <td>0.0</td>\n",
       "      <td>76.395515</td>\n",
       "    </tr>\n",
       "    <tr>\n",
       "      <th>4</th>\n",
       "      <td>4</td>\n",
       "      <td>1.693352</td>\n",
       "      <td>0.851445</td>\n",
       "      <td>0.393477</td>\n",
       "      <td>0.611020</td>\n",
       "      <td>1.780469</td>\n",
       "      <td>0.764327</td>\n",
       "      <td>0.480594</td>\n",
       "      <td>0.698138</td>\n",
       "      <td>1.299875</td>\n",
       "      <td>...</td>\n",
       "      <td>115.054474</td>\n",
       "      <td>32.219822</td>\n",
       "      <td>140.827530</td>\n",
       "      <td>147.562439</td>\n",
       "      <td>0.000000e+00</td>\n",
       "      <td>167.645020</td>\n",
       "      <td>58.836834</td>\n",
       "      <td>428.166321</td>\n",
       "      <td>0.0</td>\n",
       "      <td>71.350548</td>\n",
       "    </tr>\n",
       "    <tr>\n",
       "      <th>...</th>\n",
       "      <td>...</td>\n",
       "      <td>...</td>\n",
       "      <td>...</td>\n",
       "      <td>...</td>\n",
       "      <td>...</td>\n",
       "      <td>...</td>\n",
       "      <td>...</td>\n",
       "      <td>...</td>\n",
       "      <td>...</td>\n",
       "      <td>...</td>\n",
       "      <td>...</td>\n",
       "      <td>...</td>\n",
       "      <td>...</td>\n",
       "      <td>...</td>\n",
       "      <td>...</td>\n",
       "      <td>...</td>\n",
       "      <td>...</td>\n",
       "      <td>...</td>\n",
       "      <td>...</td>\n",
       "      <td>...</td>\n",
       "      <td>...</td>\n",
       "    </tr>\n",
       "    <tr>\n",
       "      <th>814619</th>\n",
       "      <td>814619</td>\n",
       "      <td>0.560937</td>\n",
       "      <td>0.571842</td>\n",
       "      <td>1.540824</td>\n",
       "      <td>0.977205</td>\n",
       "      <td>0.524936</td>\n",
       "      <td>0.535841</td>\n",
       "      <td>1.504823</td>\n",
       "      <td>0.941204</td>\n",
       "      <td>0.979886</td>\n",
       "      <td>...</td>\n",
       "      <td>17.319975</td>\n",
       "      <td>52.204456</td>\n",
       "      <td>42.638184</td>\n",
       "      <td>79.431847</td>\n",
       "      <td>2.842171e-14</td>\n",
       "      <td>63.620266</td>\n",
       "      <td>49.506519</td>\n",
       "      <td>468.926697</td>\n",
       "      <td>2.0</td>\n",
       "      <td>53.111862</td>\n",
       "    </tr>\n",
       "    <tr>\n",
       "      <th>814620</th>\n",
       "      <td>814620</td>\n",
       "      <td>0.724043</td>\n",
       "      <td>0.138342</td>\n",
       "      <td>3.696949</td>\n",
       "      <td>0.520334</td>\n",
       "      <td>0.844741</td>\n",
       "      <td>1.707127</td>\n",
       "      <td>2.128164</td>\n",
       "      <td>1.048451</td>\n",
       "      <td>2.972905</td>\n",
       "      <td>...</td>\n",
       "      <td>21.067116</td>\n",
       "      <td>49.610783</td>\n",
       "      <td>40.924866</td>\n",
       "      <td>115.609200</td>\n",
       "      <td>5.684342e-14</td>\n",
       "      <td>37.556633</td>\n",
       "      <td>128.474823</td>\n",
       "      <td>635.448181</td>\n",
       "      <td>0.0</td>\n",
       "      <td>68.907211</td>\n",
       "    </tr>\n",
       "    <tr>\n",
       "      <th>814621</th>\n",
       "      <td>814621</td>\n",
       "      <td>1.280565</td>\n",
       "      <td>0.689676</td>\n",
       "      <td>1.869368</td>\n",
       "      <td>0.409543</td>\n",
       "      <td>0.684231</td>\n",
       "      <td>1.275119</td>\n",
       "      <td>0.095428</td>\n",
       "      <td>1.555253</td>\n",
       "      <td>0.588803</td>\n",
       "      <td>...</td>\n",
       "      <td>31.319874</td>\n",
       "      <td>108.905815</td>\n",
       "      <td>122.867226</td>\n",
       "      <td>15.439472</td>\n",
       "      <td>3.552714e-15</td>\n",
       "      <td>104.013481</td>\n",
       "      <td>182.620667</td>\n",
       "      <td>712.447571</td>\n",
       "      <td>1.0</td>\n",
       "      <td>71.193085</td>\n",
       "    </tr>\n",
       "    <tr>\n",
       "      <th>814622</th>\n",
       "      <td>814622</td>\n",
       "      <td>0.727869</td>\n",
       "      <td>0.791849</td>\n",
       "      <td>1.661288</td>\n",
       "      <td>0.183191</td>\n",
       "      <td>1.262159</td>\n",
       "      <td>0.257559</td>\n",
       "      <td>1.126999</td>\n",
       "      <td>0.717480</td>\n",
       "      <td>2.389158</td>\n",
       "      <td>...</td>\n",
       "      <td>21.345388</td>\n",
       "      <td>42.599651</td>\n",
       "      <td>78.865273</td>\n",
       "      <td>135.267517</td>\n",
       "      <td>0.000000e+00</td>\n",
       "      <td>65.450943</td>\n",
       "      <td>141.981888</td>\n",
       "      <td>446.921509</td>\n",
       "      <td>2.0</td>\n",
       "      <td>73.394135</td>\n",
       "    </tr>\n",
       "    <tr>\n",
       "      <th>814623</th>\n",
       "      <td>814623</td>\n",
       "      <td>0.075028</td>\n",
       "      <td>0.841890</td>\n",
       "      <td>0.655420</td>\n",
       "      <td>0.432992</td>\n",
       "      <td>0.191002</td>\n",
       "      <td>0.957864</td>\n",
       "      <td>0.539445</td>\n",
       "      <td>0.548967</td>\n",
       "      <td>0.730447</td>\n",
       "      <td>...</td>\n",
       "      <td>192.380630</td>\n",
       "      <td>164.799332</td>\n",
       "      <td>138.927689</td>\n",
       "      <td>53.726471</td>\n",
       "      <td>1.421085e-14</td>\n",
       "      <td>229.168823</td>\n",
       "      <td>178.210709</td>\n",
       "      <td>664.445312</td>\n",
       "      <td>0.0</td>\n",
       "      <td>64.527901</td>\n",
       "    </tr>\n",
       "  </tbody>\n",
       "</table>\n",
       "<p>814624 rows × 83 columns</p>\n",
       "</div>"
      ],
      "text/plain": [
       "        Unnamed: 0  lb_delta_eta  lbbar_delta_eta  lnu_delta_eta  \\\n",
       "0                0      0.196395         0.401817       1.523488   \n",
       "1                1      0.172882         0.338345       0.095944   \n",
       "2                2      0.927498         0.191133       3.020247   \n",
       "3                3      0.180216         0.155463       1.146340   \n",
       "4                4      1.693352         0.851445       0.393477   \n",
       "...            ...           ...              ...            ...   \n",
       "814619      814619      0.560937         0.571842       1.540824   \n",
       "814620      814620      0.724043         0.138342       3.696949   \n",
       "814621      814621      1.280565         0.689676       1.869368   \n",
       "814622      814622      0.727869         0.791849       1.661288   \n",
       "814623      814623      0.075028         0.841890       0.655420   \n",
       "\n",
       "        lnubar_delta_eta  lbarb_delta_eta  lbarbbar_delta_eta  \\\n",
       "0               1.100096         0.437924            0.232502   \n",
       "1               2.081524         0.151838            0.663065   \n",
       "2               0.361787         1.366539            2.485170   \n",
       "3               1.088407         1.069548            1.094300   \n",
       "4               0.611020         1.780469            0.764327   \n",
       "...                  ...              ...                 ...   \n",
       "814619          0.977205         0.524936            0.535841   \n",
       "814620          0.520334         0.844741            1.707127   \n",
       "814621          0.409543         0.684231            1.275119   \n",
       "814622          0.183191         1.262159            0.257559   \n",
       "814623          0.432992         0.191002            0.957864   \n",
       "\n",
       "        lbarnu_delta_eta  lbarnubar_delta_eta  bnu_delta_eta  ...       nu_pt  \\\n",
       "0               0.889169             0.465777       1.327093  ...   55.912968   \n",
       "1               0.420664             1.756804       0.268826  ...   66.662498   \n",
       "2               0.726209             1.932250       2.092748  ...   42.291389   \n",
       "3               0.103424             2.338171       0.966124  ...   59.980759   \n",
       "4               0.480594             0.698138       1.299875  ...  115.054474   \n",
       "...                  ...                  ...            ...  ...         ...   \n",
       "814619          1.504823             0.941204       0.979886  ...   17.319975   \n",
       "814620          2.128164             1.048451       2.972905  ...   21.067116   \n",
       "814621          0.095428             1.555253       0.588803  ...   31.319874   \n",
       "814622          1.126999             0.717480       2.389158  ...   21.345388   \n",
       "814623          0.539445             0.548967       0.730447  ...  192.380630   \n",
       "\n",
       "          nubar_pt      met_pt    ttbar_pt  ttbar_boosted_pt    wplus_pt  \\\n",
       "0        60.569515   73.736588   85.727631      0.000000e+00  132.345215   \n",
       "1         9.865296   86.294891   34.284901      0.000000e+00   91.426224   \n",
       "2        70.709892  149.972198   40.723141      1.110223e-16   20.742170   \n",
       "3        14.512580   85.544365   48.901600      7.105427e-15   38.919216   \n",
       "4        32.219822  140.827530  147.562439      0.000000e+00  167.645020   \n",
       "...            ...         ...         ...               ...         ...   \n",
       "814619   52.204456   42.638184   79.431847      2.842171e-14   63.620266   \n",
       "814620   49.610783   40.924866  115.609200      5.684342e-14   37.556633   \n",
       "814621  108.905815  122.867226   15.439472      3.552714e-15  104.013481   \n",
       "814622   42.599651   78.865273  135.267517      0.000000e+00   65.450943   \n",
       "814623  164.799332  138.927689   53.726471      1.421085e-14  229.168823   \n",
       "\n",
       "         wminus_pt  ttbar_mass  production_mode  eventWeight  \n",
       "0        86.564339  395.892334              0.0    66.410027  \n",
       "1        51.661064  357.865204              1.0     7.390667  \n",
       "2        71.965454  568.250061              0.0    77.069023  \n",
       "3        31.414345  373.534393              0.0    76.395515  \n",
       "4        58.836834  428.166321              0.0    71.350548  \n",
       "...            ...         ...              ...          ...  \n",
       "814619   49.506519  468.926697              2.0    53.111862  \n",
       "814620  128.474823  635.448181              0.0    68.907211  \n",
       "814621  182.620667  712.447571              1.0    71.193085  \n",
       "814622  141.981888  446.921509              2.0    73.394135  \n",
       "814623  178.210709  664.445312              0.0    64.527901  \n",
       "\n",
       "[814624 rows x 83 columns]"
      ]
     },
     "execution_count": 58,
     "metadata": {},
     "output_type": "execute_result"
    }
   ],
   "source": [
    "data"
   ]
  },
  {
   "cell_type": "code",
   "execution_count": 59,
   "metadata": {
    "ExecuteTime": {
     "end_time": "2021-07-14T23:26:45.856385Z",
     "start_time": "2021-07-14T23:26:44.835354Z"
    }
   },
   "outputs": [
    {
     "data": {
      "text/html": [
       "<div>\n",
       "<style scoped>\n",
       "    .dataframe tbody tr th:only-of-type {\n",
       "        vertical-align: middle;\n",
       "    }\n",
       "\n",
       "    .dataframe tbody tr th {\n",
       "        vertical-align: top;\n",
       "    }\n",
       "\n",
       "    .dataframe thead th {\n",
       "        text-align: right;\n",
       "    }\n",
       "</style>\n",
       "<table border=\"1\" class=\"dataframe\">\n",
       "  <thead>\n",
       "    <tr style=\"text-align: right;\">\n",
       "      <th></th>\n",
       "      <th>lb_delta_eta</th>\n",
       "      <th>lbbar_delta_eta</th>\n",
       "      <th>lnu_delta_eta</th>\n",
       "      <th>lnubar_delta_eta</th>\n",
       "      <th>lbarb_delta_eta</th>\n",
       "      <th>lbarbbar_delta_eta</th>\n",
       "      <th>lbarnu_delta_eta</th>\n",
       "      <th>lbarnubar_delta_eta</th>\n",
       "      <th>bnu_delta_eta</th>\n",
       "      <th>bnubar_delta_eta</th>\n",
       "      <th>...</th>\n",
       "      <th>nu_pt</th>\n",
       "      <th>nubar_pt</th>\n",
       "      <th>met_pt</th>\n",
       "      <th>ttbar_pt</th>\n",
       "      <th>ttbar_boosted_pt</th>\n",
       "      <th>wplus_pt</th>\n",
       "      <th>wminus_pt</th>\n",
       "      <th>ttbar_mass</th>\n",
       "      <th>production_mode</th>\n",
       "      <th>eventWeight</th>\n",
       "    </tr>\n",
       "  </thead>\n",
       "  <tbody>\n",
       "    <tr>\n",
       "      <th>0</th>\n",
       "      <td>0.196395</td>\n",
       "      <td>0.401817</td>\n",
       "      <td>1.523488</td>\n",
       "      <td>1.100096</td>\n",
       "      <td>0.437924</td>\n",
       "      <td>0.232502</td>\n",
       "      <td>0.889169</td>\n",
       "      <td>0.465777</td>\n",
       "      <td>1.327093</td>\n",
       "      <td>0.903701</td>\n",
       "      <td>...</td>\n",
       "      <td>55.912968</td>\n",
       "      <td>60.569515</td>\n",
       "      <td>73.736588</td>\n",
       "      <td>85.727631</td>\n",
       "      <td>0.000000e+00</td>\n",
       "      <td>132.345215</td>\n",
       "      <td>86.564339</td>\n",
       "      <td>395.892334</td>\n",
       "      <td>0.0</td>\n",
       "      <td>66.410027</td>\n",
       "    </tr>\n",
       "    <tr>\n",
       "      <th>1</th>\n",
       "      <td>0.172882</td>\n",
       "      <td>0.338345</td>\n",
       "      <td>0.095944</td>\n",
       "      <td>2.081524</td>\n",
       "      <td>0.151838</td>\n",
       "      <td>0.663065</td>\n",
       "      <td>0.420664</td>\n",
       "      <td>1.756804</td>\n",
       "      <td>0.268826</td>\n",
       "      <td>1.908642</td>\n",
       "      <td>...</td>\n",
       "      <td>66.662498</td>\n",
       "      <td>9.865296</td>\n",
       "      <td>86.294891</td>\n",
       "      <td>34.284901</td>\n",
       "      <td>0.000000e+00</td>\n",
       "      <td>91.426224</td>\n",
       "      <td>51.661064</td>\n",
       "      <td>357.865204</td>\n",
       "      <td>1.0</td>\n",
       "      <td>7.390667</td>\n",
       "    </tr>\n",
       "    <tr>\n",
       "      <th>2</th>\n",
       "      <td>0.927498</td>\n",
       "      <td>0.191133</td>\n",
       "      <td>3.020247</td>\n",
       "      <td>0.361787</td>\n",
       "      <td>1.366539</td>\n",
       "      <td>2.485170</td>\n",
       "      <td>0.726209</td>\n",
       "      <td>1.932250</td>\n",
       "      <td>2.092748</td>\n",
       "      <td>0.565711</td>\n",
       "      <td>...</td>\n",
       "      <td>42.291389</td>\n",
       "      <td>70.709892</td>\n",
       "      <td>149.972198</td>\n",
       "      <td>40.723141</td>\n",
       "      <td>1.110223e-16</td>\n",
       "      <td>20.742170</td>\n",
       "      <td>71.965454</td>\n",
       "      <td>568.250061</td>\n",
       "      <td>0.0</td>\n",
       "      <td>77.069023</td>\n",
       "    </tr>\n",
       "    <tr>\n",
       "      <th>3</th>\n",
       "      <td>0.180216</td>\n",
       "      <td>0.155463</td>\n",
       "      <td>1.146340</td>\n",
       "      <td>1.088407</td>\n",
       "      <td>1.069548</td>\n",
       "      <td>1.094300</td>\n",
       "      <td>0.103424</td>\n",
       "      <td>2.338171</td>\n",
       "      <td>0.966124</td>\n",
       "      <td>1.268623</td>\n",
       "      <td>...</td>\n",
       "      <td>59.980759</td>\n",
       "      <td>14.512580</td>\n",
       "      <td>85.544365</td>\n",
       "      <td>48.901600</td>\n",
       "      <td>7.105427e-15</td>\n",
       "      <td>38.919216</td>\n",
       "      <td>31.414345</td>\n",
       "      <td>373.534393</td>\n",
       "      <td>0.0</td>\n",
       "      <td>76.395515</td>\n",
       "    </tr>\n",
       "    <tr>\n",
       "      <th>4</th>\n",
       "      <td>1.693352</td>\n",
       "      <td>0.851445</td>\n",
       "      <td>0.393477</td>\n",
       "      <td>0.611020</td>\n",
       "      <td>1.780469</td>\n",
       "      <td>0.764327</td>\n",
       "      <td>0.480594</td>\n",
       "      <td>0.698138</td>\n",
       "      <td>1.299875</td>\n",
       "      <td>1.082331</td>\n",
       "      <td>...</td>\n",
       "      <td>115.054474</td>\n",
       "      <td>32.219822</td>\n",
       "      <td>140.827530</td>\n",
       "      <td>147.562439</td>\n",
       "      <td>0.000000e+00</td>\n",
       "      <td>167.645020</td>\n",
       "      <td>58.836834</td>\n",
       "      <td>428.166321</td>\n",
       "      <td>0.0</td>\n",
       "      <td>71.350548</td>\n",
       "    </tr>\n",
       "    <tr>\n",
       "      <th>...</th>\n",
       "      <td>...</td>\n",
       "      <td>...</td>\n",
       "      <td>...</td>\n",
       "      <td>...</td>\n",
       "      <td>...</td>\n",
       "      <td>...</td>\n",
       "      <td>...</td>\n",
       "      <td>...</td>\n",
       "      <td>...</td>\n",
       "      <td>...</td>\n",
       "      <td>...</td>\n",
       "      <td>...</td>\n",
       "      <td>...</td>\n",
       "      <td>...</td>\n",
       "      <td>...</td>\n",
       "      <td>...</td>\n",
       "      <td>...</td>\n",
       "      <td>...</td>\n",
       "      <td>...</td>\n",
       "      <td>...</td>\n",
       "      <td>...</td>\n",
       "    </tr>\n",
       "    <tr>\n",
       "      <th>814619</th>\n",
       "      <td>0.560937</td>\n",
       "      <td>0.571842</td>\n",
       "      <td>1.540824</td>\n",
       "      <td>0.977205</td>\n",
       "      <td>0.524936</td>\n",
       "      <td>0.535841</td>\n",
       "      <td>1.504823</td>\n",
       "      <td>0.941204</td>\n",
       "      <td>0.979886</td>\n",
       "      <td>0.416268</td>\n",
       "      <td>...</td>\n",
       "      <td>17.319975</td>\n",
       "      <td>52.204456</td>\n",
       "      <td>42.638184</td>\n",
       "      <td>79.431847</td>\n",
       "      <td>2.842171e-14</td>\n",
       "      <td>63.620266</td>\n",
       "      <td>49.506519</td>\n",
       "      <td>468.926697</td>\n",
       "      <td>2.0</td>\n",
       "      <td>53.111862</td>\n",
       "    </tr>\n",
       "    <tr>\n",
       "      <th>814620</th>\n",
       "      <td>0.724043</td>\n",
       "      <td>0.138342</td>\n",
       "      <td>3.696949</td>\n",
       "      <td>0.520334</td>\n",
       "      <td>0.844741</td>\n",
       "      <td>1.707127</td>\n",
       "      <td>2.128164</td>\n",
       "      <td>1.048451</td>\n",
       "      <td>2.972905</td>\n",
       "      <td>0.203709</td>\n",
       "      <td>...</td>\n",
       "      <td>21.067116</td>\n",
       "      <td>49.610783</td>\n",
       "      <td>40.924866</td>\n",
       "      <td>115.609200</td>\n",
       "      <td>5.684342e-14</td>\n",
       "      <td>37.556633</td>\n",
       "      <td>128.474823</td>\n",
       "      <td>635.448181</td>\n",
       "      <td>0.0</td>\n",
       "      <td>68.907211</td>\n",
       "    </tr>\n",
       "    <tr>\n",
       "      <th>814621</th>\n",
       "      <td>1.280565</td>\n",
       "      <td>0.689676</td>\n",
       "      <td>1.869368</td>\n",
       "      <td>0.409543</td>\n",
       "      <td>0.684231</td>\n",
       "      <td>1.275119</td>\n",
       "      <td>0.095428</td>\n",
       "      <td>1.555253</td>\n",
       "      <td>0.588803</td>\n",
       "      <td>0.871022</td>\n",
       "      <td>...</td>\n",
       "      <td>31.319874</td>\n",
       "      <td>108.905815</td>\n",
       "      <td>122.867226</td>\n",
       "      <td>15.439472</td>\n",
       "      <td>3.552714e-15</td>\n",
       "      <td>104.013481</td>\n",
       "      <td>182.620667</td>\n",
       "      <td>712.447571</td>\n",
       "      <td>1.0</td>\n",
       "      <td>71.193085</td>\n",
       "    </tr>\n",
       "    <tr>\n",
       "      <th>814622</th>\n",
       "      <td>0.727869</td>\n",
       "      <td>0.791849</td>\n",
       "      <td>1.661288</td>\n",
       "      <td>0.183191</td>\n",
       "      <td>1.262159</td>\n",
       "      <td>0.257559</td>\n",
       "      <td>1.126999</td>\n",
       "      <td>0.717480</td>\n",
       "      <td>2.389158</td>\n",
       "      <td>0.544678</td>\n",
       "      <td>...</td>\n",
       "      <td>21.345388</td>\n",
       "      <td>42.599651</td>\n",
       "      <td>78.865273</td>\n",
       "      <td>135.267517</td>\n",
       "      <td>0.000000e+00</td>\n",
       "      <td>65.450943</td>\n",
       "      <td>141.981888</td>\n",
       "      <td>446.921509</td>\n",
       "      <td>2.0</td>\n",
       "      <td>73.394135</td>\n",
       "    </tr>\n",
       "    <tr>\n",
       "      <th>814623</th>\n",
       "      <td>0.075028</td>\n",
       "      <td>0.841890</td>\n",
       "      <td>0.655420</td>\n",
       "      <td>0.432992</td>\n",
       "      <td>0.191002</td>\n",
       "      <td>0.957864</td>\n",
       "      <td>0.539445</td>\n",
       "      <td>0.548967</td>\n",
       "      <td>0.730447</td>\n",
       "      <td>0.357964</td>\n",
       "      <td>...</td>\n",
       "      <td>192.380630</td>\n",
       "      <td>164.799332</td>\n",
       "      <td>138.927689</td>\n",
       "      <td>53.726471</td>\n",
       "      <td>1.421085e-14</td>\n",
       "      <td>229.168823</td>\n",
       "      <td>178.210709</td>\n",
       "      <td>664.445312</td>\n",
       "      <td>0.0</td>\n",
       "      <td>64.527901</td>\n",
       "    </tr>\n",
       "  </tbody>\n",
       "</table>\n",
       "<p>814624 rows × 82 columns</p>\n",
       "</div>"
      ],
      "text/plain": [
       "        lb_delta_eta  lbbar_delta_eta  lnu_delta_eta  lnubar_delta_eta  \\\n",
       "0           0.196395         0.401817       1.523488          1.100096   \n",
       "1           0.172882         0.338345       0.095944          2.081524   \n",
       "2           0.927498         0.191133       3.020247          0.361787   \n",
       "3           0.180216         0.155463       1.146340          1.088407   \n",
       "4           1.693352         0.851445       0.393477          0.611020   \n",
       "...              ...              ...            ...               ...   \n",
       "814619      0.560937         0.571842       1.540824          0.977205   \n",
       "814620      0.724043         0.138342       3.696949          0.520334   \n",
       "814621      1.280565         0.689676       1.869368          0.409543   \n",
       "814622      0.727869         0.791849       1.661288          0.183191   \n",
       "814623      0.075028         0.841890       0.655420          0.432992   \n",
       "\n",
       "        lbarb_delta_eta  lbarbbar_delta_eta  lbarnu_delta_eta  \\\n",
       "0              0.437924            0.232502          0.889169   \n",
       "1              0.151838            0.663065          0.420664   \n",
       "2              1.366539            2.485170          0.726209   \n",
       "3              1.069548            1.094300          0.103424   \n",
       "4              1.780469            0.764327          0.480594   \n",
       "...                 ...                 ...               ...   \n",
       "814619         0.524936            0.535841          1.504823   \n",
       "814620         0.844741            1.707127          2.128164   \n",
       "814621         0.684231            1.275119          0.095428   \n",
       "814622         1.262159            0.257559          1.126999   \n",
       "814623         0.191002            0.957864          0.539445   \n",
       "\n",
       "        lbarnubar_delta_eta  bnu_delta_eta  bnubar_delta_eta  ...       nu_pt  \\\n",
       "0                  0.465777       1.327093          0.903701  ...   55.912968   \n",
       "1                  1.756804       0.268826          1.908642  ...   66.662498   \n",
       "2                  1.932250       2.092748          0.565711  ...   42.291389   \n",
       "3                  2.338171       0.966124          1.268623  ...   59.980759   \n",
       "4                  0.698138       1.299875          1.082331  ...  115.054474   \n",
       "...                     ...            ...               ...  ...         ...   \n",
       "814619             0.941204       0.979886          0.416268  ...   17.319975   \n",
       "814620             1.048451       2.972905          0.203709  ...   21.067116   \n",
       "814621             1.555253       0.588803          0.871022  ...   31.319874   \n",
       "814622             0.717480       2.389158          0.544678  ...   21.345388   \n",
       "814623             0.548967       0.730447          0.357964  ...  192.380630   \n",
       "\n",
       "          nubar_pt      met_pt    ttbar_pt  ttbar_boosted_pt    wplus_pt  \\\n",
       "0        60.569515   73.736588   85.727631      0.000000e+00  132.345215   \n",
       "1         9.865296   86.294891   34.284901      0.000000e+00   91.426224   \n",
       "2        70.709892  149.972198   40.723141      1.110223e-16   20.742170   \n",
       "3        14.512580   85.544365   48.901600      7.105427e-15   38.919216   \n",
       "4        32.219822  140.827530  147.562439      0.000000e+00  167.645020   \n",
       "...            ...         ...         ...               ...         ...   \n",
       "814619   52.204456   42.638184   79.431847      2.842171e-14   63.620266   \n",
       "814620   49.610783   40.924866  115.609200      5.684342e-14   37.556633   \n",
       "814621  108.905815  122.867226   15.439472      3.552714e-15  104.013481   \n",
       "814622   42.599651   78.865273  135.267517      0.000000e+00   65.450943   \n",
       "814623  164.799332  138.927689   53.726471      1.421085e-14  229.168823   \n",
       "\n",
       "         wminus_pt  ttbar_mass  production_mode  eventWeight  \n",
       "0        86.564339  395.892334              0.0    66.410027  \n",
       "1        51.661064  357.865204              1.0     7.390667  \n",
       "2        71.965454  568.250061              0.0    77.069023  \n",
       "3        31.414345  373.534393              0.0    76.395515  \n",
       "4        58.836834  428.166321              0.0    71.350548  \n",
       "...            ...         ...              ...          ...  \n",
       "814619   49.506519  468.926697              2.0    53.111862  \n",
       "814620  128.474823  635.448181              0.0    68.907211  \n",
       "814621  182.620667  712.447571              1.0    71.193085  \n",
       "814622  141.981888  446.921509              2.0    73.394135  \n",
       "814623  178.210709  664.445312              0.0    64.527901  \n",
       "\n",
       "[814624 rows x 82 columns]"
      ]
     },
     "execution_count": 59,
     "metadata": {},
     "output_type": "execute_result"
    }
   ],
   "source": [
    "data.drop(columns='Unnamed: 0')"
   ]
  },
  {
   "cell_type": "code",
   "execution_count": 60,
   "metadata": {
    "ExecuteTime": {
     "end_time": "2021-07-14T23:28:27.732920Z",
     "start_time": "2021-07-14T23:26:49.123151Z"
    },
    "collapsed": true
   },
   "outputs": [],
   "source": [
    "df.to_csv('~/Desktop/summer_cms/ee_modified_root_2_2.csv')"
   ]
  },
  {
   "cell_type": "code",
   "execution_count": 61,
   "metadata": {
    "ExecuteTime": {
     "end_time": "2021-07-14T23:28:42.422871Z",
     "start_time": "2021-07-14T23:28:28.901287Z"
    },
    "collapsed": true
   },
   "outputs": [],
   "source": [
    "data_new = pd.read_csv(depo_dir_1+'ee_modified_root_2_2.csv')"
   ]
  },
  {
   "cell_type": "code",
   "execution_count": 62,
   "metadata": {
    "ExecuteTime": {
     "end_time": "2021-07-14T23:28:43.056122Z",
     "start_time": "2021-07-14T23:28:42.427093Z"
    }
   },
   "outputs": [
    {
     "data": {
      "text/html": [
       "<div>\n",
       "<style scoped>\n",
       "    .dataframe tbody tr th:only-of-type {\n",
       "        vertical-align: middle;\n",
       "    }\n",
       "\n",
       "    .dataframe tbody tr th {\n",
       "        vertical-align: top;\n",
       "    }\n",
       "\n",
       "    .dataframe thead th {\n",
       "        text-align: right;\n",
       "    }\n",
       "</style>\n",
       "<table border=\"1\" class=\"dataframe\">\n",
       "  <thead>\n",
       "    <tr style=\"text-align: right;\">\n",
       "      <th></th>\n",
       "      <th>Unnamed: 0</th>\n",
       "      <th>lb_delta_eta</th>\n",
       "      <th>lbbar_delta_eta</th>\n",
       "      <th>lnu_delta_eta</th>\n",
       "      <th>lnubar_delta_eta</th>\n",
       "      <th>lbarb_delta_eta</th>\n",
       "      <th>lbarbbar_delta_eta</th>\n",
       "      <th>lbarnu_delta_eta</th>\n",
       "      <th>lbarnubar_delta_eta</th>\n",
       "      <th>bnu_delta_eta</th>\n",
       "      <th>...</th>\n",
       "      <th>nu_pt</th>\n",
       "      <th>nubar_pt</th>\n",
       "      <th>met_pt</th>\n",
       "      <th>ttbar_pt</th>\n",
       "      <th>ttbar_boosted_pt</th>\n",
       "      <th>wplus_pt</th>\n",
       "      <th>wminus_pt</th>\n",
       "      <th>ttbar_mass</th>\n",
       "      <th>production_mode</th>\n",
       "      <th>eventWeight</th>\n",
       "    </tr>\n",
       "  </thead>\n",
       "  <tbody>\n",
       "    <tr>\n",
       "      <th>0</th>\n",
       "      <td>0</td>\n",
       "      <td>0.196395</td>\n",
       "      <td>0.401817</td>\n",
       "      <td>1.523488</td>\n",
       "      <td>1.100096</td>\n",
       "      <td>0.437924</td>\n",
       "      <td>0.232502</td>\n",
       "      <td>0.889169</td>\n",
       "      <td>0.465777</td>\n",
       "      <td>1.327093</td>\n",
       "      <td>...</td>\n",
       "      <td>55.912968</td>\n",
       "      <td>60.569515</td>\n",
       "      <td>73.736588</td>\n",
       "      <td>85.727631</td>\n",
       "      <td>0.000000e+00</td>\n",
       "      <td>132.345215</td>\n",
       "      <td>86.564339</td>\n",
       "      <td>395.892334</td>\n",
       "      <td>0.0</td>\n",
       "      <td>66.410027</td>\n",
       "    </tr>\n",
       "    <tr>\n",
       "      <th>1</th>\n",
       "      <td>1</td>\n",
       "      <td>0.172882</td>\n",
       "      <td>0.338345</td>\n",
       "      <td>0.095944</td>\n",
       "      <td>2.081524</td>\n",
       "      <td>0.151838</td>\n",
       "      <td>0.663065</td>\n",
       "      <td>0.420664</td>\n",
       "      <td>1.756804</td>\n",
       "      <td>0.268826</td>\n",
       "      <td>...</td>\n",
       "      <td>66.662498</td>\n",
       "      <td>9.865296</td>\n",
       "      <td>86.294891</td>\n",
       "      <td>34.284901</td>\n",
       "      <td>0.000000e+00</td>\n",
       "      <td>91.426224</td>\n",
       "      <td>51.661064</td>\n",
       "      <td>357.865204</td>\n",
       "      <td>1.0</td>\n",
       "      <td>7.390667</td>\n",
       "    </tr>\n",
       "    <tr>\n",
       "      <th>2</th>\n",
       "      <td>2</td>\n",
       "      <td>0.927498</td>\n",
       "      <td>0.191133</td>\n",
       "      <td>3.020247</td>\n",
       "      <td>0.361787</td>\n",
       "      <td>1.366539</td>\n",
       "      <td>2.485170</td>\n",
       "      <td>0.726209</td>\n",
       "      <td>1.932250</td>\n",
       "      <td>2.092748</td>\n",
       "      <td>...</td>\n",
       "      <td>42.291389</td>\n",
       "      <td>70.709892</td>\n",
       "      <td>149.972198</td>\n",
       "      <td>40.723141</td>\n",
       "      <td>1.110223e-16</td>\n",
       "      <td>20.742170</td>\n",
       "      <td>71.965454</td>\n",
       "      <td>568.250061</td>\n",
       "      <td>0.0</td>\n",
       "      <td>77.069023</td>\n",
       "    </tr>\n",
       "    <tr>\n",
       "      <th>3</th>\n",
       "      <td>3</td>\n",
       "      <td>0.180216</td>\n",
       "      <td>0.155463</td>\n",
       "      <td>1.146340</td>\n",
       "      <td>1.088407</td>\n",
       "      <td>1.069548</td>\n",
       "      <td>1.094300</td>\n",
       "      <td>0.103424</td>\n",
       "      <td>2.338171</td>\n",
       "      <td>0.966124</td>\n",
       "      <td>...</td>\n",
       "      <td>59.980759</td>\n",
       "      <td>14.512580</td>\n",
       "      <td>85.544365</td>\n",
       "      <td>48.901600</td>\n",
       "      <td>7.105427e-15</td>\n",
       "      <td>38.919216</td>\n",
       "      <td>31.414345</td>\n",
       "      <td>373.534393</td>\n",
       "      <td>0.0</td>\n",
       "      <td>76.395515</td>\n",
       "    </tr>\n",
       "    <tr>\n",
       "      <th>4</th>\n",
       "      <td>4</td>\n",
       "      <td>1.693352</td>\n",
       "      <td>0.851445</td>\n",
       "      <td>0.393477</td>\n",
       "      <td>0.611020</td>\n",
       "      <td>1.780469</td>\n",
       "      <td>0.764327</td>\n",
       "      <td>0.480594</td>\n",
       "      <td>0.698138</td>\n",
       "      <td>1.299875</td>\n",
       "      <td>...</td>\n",
       "      <td>115.054474</td>\n",
       "      <td>32.219822</td>\n",
       "      <td>140.827530</td>\n",
       "      <td>147.562439</td>\n",
       "      <td>0.000000e+00</td>\n",
       "      <td>167.645020</td>\n",
       "      <td>58.836834</td>\n",
       "      <td>428.166321</td>\n",
       "      <td>0.0</td>\n",
       "      <td>71.350548</td>\n",
       "    </tr>\n",
       "    <tr>\n",
       "      <th>...</th>\n",
       "      <td>...</td>\n",
       "      <td>...</td>\n",
       "      <td>...</td>\n",
       "      <td>...</td>\n",
       "      <td>...</td>\n",
       "      <td>...</td>\n",
       "      <td>...</td>\n",
       "      <td>...</td>\n",
       "      <td>...</td>\n",
       "      <td>...</td>\n",
       "      <td>...</td>\n",
       "      <td>...</td>\n",
       "      <td>...</td>\n",
       "      <td>...</td>\n",
       "      <td>...</td>\n",
       "      <td>...</td>\n",
       "      <td>...</td>\n",
       "      <td>...</td>\n",
       "      <td>...</td>\n",
       "      <td>...</td>\n",
       "      <td>...</td>\n",
       "    </tr>\n",
       "    <tr>\n",
       "      <th>814619</th>\n",
       "      <td>814619</td>\n",
       "      <td>0.560937</td>\n",
       "      <td>0.571842</td>\n",
       "      <td>1.540824</td>\n",
       "      <td>0.977205</td>\n",
       "      <td>0.524936</td>\n",
       "      <td>0.535841</td>\n",
       "      <td>1.504823</td>\n",
       "      <td>0.941204</td>\n",
       "      <td>0.979886</td>\n",
       "      <td>...</td>\n",
       "      <td>17.319975</td>\n",
       "      <td>52.204456</td>\n",
       "      <td>42.638184</td>\n",
       "      <td>79.431847</td>\n",
       "      <td>2.842171e-14</td>\n",
       "      <td>63.620266</td>\n",
       "      <td>49.506519</td>\n",
       "      <td>468.926697</td>\n",
       "      <td>2.0</td>\n",
       "      <td>53.111862</td>\n",
       "    </tr>\n",
       "    <tr>\n",
       "      <th>814620</th>\n",
       "      <td>814620</td>\n",
       "      <td>0.724043</td>\n",
       "      <td>0.138342</td>\n",
       "      <td>3.696949</td>\n",
       "      <td>0.520334</td>\n",
       "      <td>0.844741</td>\n",
       "      <td>1.707127</td>\n",
       "      <td>2.128164</td>\n",
       "      <td>1.048451</td>\n",
       "      <td>2.972905</td>\n",
       "      <td>...</td>\n",
       "      <td>21.067116</td>\n",
       "      <td>49.610783</td>\n",
       "      <td>40.924866</td>\n",
       "      <td>115.609200</td>\n",
       "      <td>5.684342e-14</td>\n",
       "      <td>37.556633</td>\n",
       "      <td>128.474823</td>\n",
       "      <td>635.448181</td>\n",
       "      <td>0.0</td>\n",
       "      <td>68.907211</td>\n",
       "    </tr>\n",
       "    <tr>\n",
       "      <th>814621</th>\n",
       "      <td>814621</td>\n",
       "      <td>1.280565</td>\n",
       "      <td>0.689676</td>\n",
       "      <td>1.869368</td>\n",
       "      <td>0.409543</td>\n",
       "      <td>0.684231</td>\n",
       "      <td>1.275119</td>\n",
       "      <td>0.095428</td>\n",
       "      <td>1.555253</td>\n",
       "      <td>0.588803</td>\n",
       "      <td>...</td>\n",
       "      <td>31.319874</td>\n",
       "      <td>108.905815</td>\n",
       "      <td>122.867226</td>\n",
       "      <td>15.439472</td>\n",
       "      <td>3.552714e-15</td>\n",
       "      <td>104.013481</td>\n",
       "      <td>182.620667</td>\n",
       "      <td>712.447571</td>\n",
       "      <td>1.0</td>\n",
       "      <td>71.193085</td>\n",
       "    </tr>\n",
       "    <tr>\n",
       "      <th>814622</th>\n",
       "      <td>814622</td>\n",
       "      <td>0.727869</td>\n",
       "      <td>0.791849</td>\n",
       "      <td>1.661288</td>\n",
       "      <td>0.183191</td>\n",
       "      <td>1.262159</td>\n",
       "      <td>0.257559</td>\n",
       "      <td>1.126999</td>\n",
       "      <td>0.717480</td>\n",
       "      <td>2.389158</td>\n",
       "      <td>...</td>\n",
       "      <td>21.345388</td>\n",
       "      <td>42.599651</td>\n",
       "      <td>78.865273</td>\n",
       "      <td>135.267517</td>\n",
       "      <td>0.000000e+00</td>\n",
       "      <td>65.450943</td>\n",
       "      <td>141.981888</td>\n",
       "      <td>446.921509</td>\n",
       "      <td>2.0</td>\n",
       "      <td>73.394135</td>\n",
       "    </tr>\n",
       "    <tr>\n",
       "      <th>814623</th>\n",
       "      <td>814623</td>\n",
       "      <td>0.075028</td>\n",
       "      <td>0.841890</td>\n",
       "      <td>0.655420</td>\n",
       "      <td>0.432992</td>\n",
       "      <td>0.191002</td>\n",
       "      <td>0.957864</td>\n",
       "      <td>0.539445</td>\n",
       "      <td>0.548967</td>\n",
       "      <td>0.730447</td>\n",
       "      <td>...</td>\n",
       "      <td>192.380630</td>\n",
       "      <td>164.799332</td>\n",
       "      <td>138.927689</td>\n",
       "      <td>53.726471</td>\n",
       "      <td>1.421085e-14</td>\n",
       "      <td>229.168823</td>\n",
       "      <td>178.210709</td>\n",
       "      <td>664.445312</td>\n",
       "      <td>0.0</td>\n",
       "      <td>64.527901</td>\n",
       "    </tr>\n",
       "  </tbody>\n",
       "</table>\n",
       "<p>814624 rows × 83 columns</p>\n",
       "</div>"
      ],
      "text/plain": [
       "        Unnamed: 0  lb_delta_eta  lbbar_delta_eta  lnu_delta_eta  \\\n",
       "0                0      0.196395         0.401817       1.523488   \n",
       "1                1      0.172882         0.338345       0.095944   \n",
       "2                2      0.927498         0.191133       3.020247   \n",
       "3                3      0.180216         0.155463       1.146340   \n",
       "4                4      1.693352         0.851445       0.393477   \n",
       "...            ...           ...              ...            ...   \n",
       "814619      814619      0.560937         0.571842       1.540824   \n",
       "814620      814620      0.724043         0.138342       3.696949   \n",
       "814621      814621      1.280565         0.689676       1.869368   \n",
       "814622      814622      0.727869         0.791849       1.661288   \n",
       "814623      814623      0.075028         0.841890       0.655420   \n",
       "\n",
       "        lnubar_delta_eta  lbarb_delta_eta  lbarbbar_delta_eta  \\\n",
       "0               1.100096         0.437924            0.232502   \n",
       "1               2.081524         0.151838            0.663065   \n",
       "2               0.361787         1.366539            2.485170   \n",
       "3               1.088407         1.069548            1.094300   \n",
       "4               0.611020         1.780469            0.764327   \n",
       "...                  ...              ...                 ...   \n",
       "814619          0.977205         0.524936            0.535841   \n",
       "814620          0.520334         0.844741            1.707127   \n",
       "814621          0.409543         0.684231            1.275119   \n",
       "814622          0.183191         1.262159            0.257559   \n",
       "814623          0.432992         0.191002            0.957864   \n",
       "\n",
       "        lbarnu_delta_eta  lbarnubar_delta_eta  bnu_delta_eta  ...       nu_pt  \\\n",
       "0               0.889169             0.465777       1.327093  ...   55.912968   \n",
       "1               0.420664             1.756804       0.268826  ...   66.662498   \n",
       "2               0.726209             1.932250       2.092748  ...   42.291389   \n",
       "3               0.103424             2.338171       0.966124  ...   59.980759   \n",
       "4               0.480594             0.698138       1.299875  ...  115.054474   \n",
       "...                  ...                  ...            ...  ...         ...   \n",
       "814619          1.504823             0.941204       0.979886  ...   17.319975   \n",
       "814620          2.128164             1.048451       2.972905  ...   21.067116   \n",
       "814621          0.095428             1.555253       0.588803  ...   31.319874   \n",
       "814622          1.126999             0.717480       2.389158  ...   21.345388   \n",
       "814623          0.539445             0.548967       0.730447  ...  192.380630   \n",
       "\n",
       "          nubar_pt      met_pt    ttbar_pt  ttbar_boosted_pt    wplus_pt  \\\n",
       "0        60.569515   73.736588   85.727631      0.000000e+00  132.345215   \n",
       "1         9.865296   86.294891   34.284901      0.000000e+00   91.426224   \n",
       "2        70.709892  149.972198   40.723141      1.110223e-16   20.742170   \n",
       "3        14.512580   85.544365   48.901600      7.105427e-15   38.919216   \n",
       "4        32.219822  140.827530  147.562439      0.000000e+00  167.645020   \n",
       "...            ...         ...         ...               ...         ...   \n",
       "814619   52.204456   42.638184   79.431847      2.842171e-14   63.620266   \n",
       "814620   49.610783   40.924866  115.609200      5.684342e-14   37.556633   \n",
       "814621  108.905815  122.867226   15.439472      3.552714e-15  104.013481   \n",
       "814622   42.599651   78.865273  135.267517      0.000000e+00   65.450943   \n",
       "814623  164.799332  138.927689   53.726471      1.421085e-14  229.168823   \n",
       "\n",
       "         wminus_pt  ttbar_mass  production_mode  eventWeight  \n",
       "0        86.564339  395.892334              0.0    66.410027  \n",
       "1        51.661064  357.865204              1.0     7.390667  \n",
       "2        71.965454  568.250061              0.0    77.069023  \n",
       "3        31.414345  373.534393              0.0    76.395515  \n",
       "4        58.836834  428.166321              0.0    71.350548  \n",
       "...            ...         ...              ...          ...  \n",
       "814619   49.506519  468.926697              2.0    53.111862  \n",
       "814620  128.474823  635.448181              0.0    68.907211  \n",
       "814621  182.620667  712.447571              1.0    71.193085  \n",
       "814622  141.981888  446.921509              2.0    73.394135  \n",
       "814623  178.210709  664.445312              0.0    64.527901  \n",
       "\n",
       "[814624 rows x 83 columns]"
      ]
     },
     "execution_count": 62,
     "metadata": {},
     "output_type": "execute_result"
    }
   ],
   "source": [
    "data_new"
   ]
  },
  {
   "cell_type": "markdown",
   "metadata": {},
   "source": [
    "## save as root"
   ]
  },
  {
   "cell_type": "code",
   "execution_count": null,
   "metadata": {
    "collapsed": true
   },
   "outputs": [],
   "source": [
    "#df.to_root('~/Desktop/summer_cms/ee_modified_root_1_1.root', key = \"ttBar_treeVariables_step8;4\")"
   ]
  },
  {
   "cell_type": "code",
   "execution_count": null,
   "metadata": {
    "collapsed": true
   },
   "outputs": [],
   "source": [
    "#data_n = uproot.open('~/Desktop/summer_cms/ee_modified_root_1_1.root', key = \"ttBar_treeVariables_step8;4\")"
   ]
  },
  {
   "cell_type": "code",
   "execution_count": null,
   "metadata": {
    "collapsed": true
   },
   "outputs": [],
   "source": [
    "#data_n"
   ]
  },
  {
   "cell_type": "code",
   "execution_count": null,
   "metadata": {
    "collapsed": true
   },
   "outputs": [],
   "source": [
    "#data_n[\"ttBar_treeVariables_step8;4;1\"].keys()"
   ]
  },
  {
   "cell_type": "code",
   "execution_count": null,
   "metadata": {
    "collapsed": true
   },
   "outputs": [],
   "source": []
  }
 ],
 "metadata": {
  "kernelspec": {
   "display_name": "Python (GANS2)",
   "language": "python",
   "name": "gans2"
  },
  "language_info": {
   "codemirror_mode": {
    "name": "ipython",
    "version": 3
   },
   "file_extension": ".py",
   "mimetype": "text/x-python",
   "name": "python",
   "nbconvert_exporter": "python",
   "pygments_lexer": "ipython3",
   "version": "3.6.13"
  }
 },
 "nbformat": 4,
 "nbformat_minor": 2
}
