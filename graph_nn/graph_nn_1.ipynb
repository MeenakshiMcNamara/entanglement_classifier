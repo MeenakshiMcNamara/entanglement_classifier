{
 "cells": [
  {
   "cell_type": "code",
   "execution_count": 1,
   "metadata": {},
   "outputs": [
    {
     "name": "stderr",
     "output_type": "stream",
     "text": [
      "Using backend: pytorch\n"
     ]
    },
    {
     "name": "stdout",
     "output_type": "stream",
     "text": [
      "['gen_l_eta', 'gen_lbar_eta', 'gen_l_phi', 'gen_lbar_phi', 'gen_l_pt', 'gen_lbar_pt', 'gen_l_mass', 'gen_lbar_mass', 'gen_nu_eta', 'gen_nubar_eta', 'gen_nu_phi', 'gen_nubar_phi', 'gen_nu_pt', 'gen_nubar_pt', 'gen_nu_mass', 'gen_nubar_mass', 'gen_b_eta', 'gen_bbar_eta', 'gen_b_phi', 'gen_bbar_phi', 'gen_b_pt', 'gen_bbar_pt', 'gen_b_mass', 'gen_bbar_mass', 'gen_top_eta', 'gen_tbar_eta', 'gen_top_phi', 'gen_tbar_phi', 'gen_top_pt', 'gen_tbar_pt', 'gen_top_mass', 'gen_tbar_mass', 'gen_wplus_eta', 'gen_wminus_eta', 'gen_wplus_phi', 'gen_wminus_phi', 'gen_wplus_pt', 'gen_wminus_pt', 'gen_wminus_mass', 'gen_wplus_mass', 'production_mode', 'eventWeight', '__index__']\n",
      "num qqbar = 52908\n",
      "4.0\n",
      "training torch.Size([84652, 10, 4])\n",
      "evaluating torch.Size([21163, 10, 4])\n",
      "False\n"
     ]
    }
   ],
   "source": [
    "######################################### Import statements ###########################################\n",
    "\n",
    "import sys\n",
    "sys.path.append(\"..\")   # this allows us to import from sibling directory\n",
    "\n",
    "from code_to_import.Graph_Dataset_Preprocessing import GraphProductionModeDataset\n",
    "\n",
    "import argparse\n",
    "import os\n",
    "import numpy as np\n",
    "import math\n",
    "\n",
    "from torch.utils.data import DataLoader\n",
    "from torch.autograd import Variable\n",
    "\n",
    "import torch.nn as nn\n",
    "import torch.nn.functional as F   # NOTE: I don't think this is used\n",
    "import torch.autograd as autograd\n",
    "import torch\n",
    "\n",
    "from matplotlib import pyplot as plt\n",
    "from IPython import display\n",
    "\n",
    "\n",
    "print(torch.cuda.is_available())\n",
    "import dgl\n",
    "import dgl.data\n",
    "from dgl.dataloading import GraphDataLoader\n",
    "from torch.utils.data.sampler import SubsetRandomSampler\n",
    "from dgl.nn import GraphConv\n",
    "\n",
    "\n"
   ]
  },
  {
   "cell_type": "code",
   "execution_count": 3,
   "metadata": {
    "collapsed": true
   },
   "outputs": [],
   "source": [
    "\"\"\" \n",
    "Configure everything here\n",
    "\"\"\"\n",
    "\n",
    "class args():\n",
    "    channel = \"ee\"\n",
    "    cut = -1\n",
    "    version = -1\n",
    "    cut_version = -1\n",
    "    weight = \"true\"\n",
    "    drop = 0.2\n",
    "    input = \"allorentz_gen\"\n",
    "    includes_qg = \"false\"\n",
    "    dir_names = \"GNN\""
   ]
  },
  {
   "cell_type": "code",
   "execution_count": 4,
   "metadata": {},
   "outputs": [
    {
     "name": "stdout",
     "output_type": "stream",
     "text": [
      "GNN_Model4Layers_V1_ee_corrCut_-1_weights_true_drop_0.2_allorentz_gen_no_qg\n",
      "['gen_l_eta', 'gen_lbar_eta', 'gen_l_phi', 'gen_lbar_phi', 'gen_l_pt', 'gen_lbar_pt', 'gen_l_mass', 'gen_lbar_mass', 'gen_nu_eta', 'gen_nubar_eta', 'gen_nu_phi', 'gen_nubar_phi', 'gen_nu_pt', 'gen_nubar_pt', 'gen_nu_mass', 'gen_nubar_mass', 'gen_b_eta', 'gen_bbar_eta', 'gen_b_phi', 'gen_bbar_phi', 'gen_b_pt', 'gen_bbar_pt', 'gen_b_mass', 'gen_bbar_mass', 'gen_top_eta', 'gen_tbar_eta', 'gen_top_phi', 'gen_tbar_phi', 'gen_top_pt', 'gen_tbar_pt', 'gen_top_mass', 'gen_tbar_mass', 'gen_wplus_eta', 'gen_wminus_eta', 'gen_wplus_phi', 'gen_wminus_phi', 'gen_wplus_pt', 'gen_wminus_pt', 'gen_wminus_mass', 'gen_wplus_mass', 'production_mode', 'eventWeight', '__index__']\n",
      "num qqbar = 52908\n",
      "4.0\n",
      "training torch.Size([84652, 10, 4])\n",
      "evaluating torch.Size([21163, 10, 4])\n",
      "The model in this run is GNN_Model4Layers_V1_ee_corrCut_-1_weights_true_drop_0.2_allorentz_gen_no_qgbatch2000\n"
     ]
    }
   ],
   "source": [
    "######################## THIS CLASS INCLUDES ALL THE VARIABLES YOU WANT TO CONFIGURE #################################\n",
    "#######################################################################################################################\n",
    "\n",
    "class opt():   # Class used for optimizers in the future. Defines all variables and stuff needed.\n",
    "#     save_weights = True  # Tells whether to save weights... currently not used\n",
    "    \n",
    "    load_model = False  # set true if you want to load and continue training a previous model\n",
    "    \n",
    "    draw = True # set to false when running on slurm\n",
    "    \n",
    "    n_epochs = 40000   # an epoch is the number of times it works through the entire training set.\n",
    "                       # This sets the total number of epochs which will be run\n",
    "    \n",
    "    batch_size = 2000  # the training set is broken up into batches, \n",
    "                        # this sets the size of each batch\n",
    "    \n",
    "    # this is the number of outputs for the neural network\n",
    "    output_num = 3\n",
    "    if args.includes_qg != \"true\":\n",
    "        output_num = 2\n",
    "    \n",
    "    lr = 0.0001   # learning rate (how much to change based on error)\n",
    "    b1 = 0.9   # Used for Adam. Exponential decay rate for the first moment\n",
    "    b2 = 0.999   # Used for Adam. Exponential decay rate for the second moment estimates (gradient squared)\n",
    "        \n",
    "    correlation_cut = args.cut   # this is the correlation cut... If negative then no cut is applied\n",
    "    \n",
    "    drop = args.drop   # percentage of nodes which will be dropped each time\n",
    "    \n",
    "    weight_cmd = args.weight   # could also be \"false\" and \"no-neg\".\n",
    "                          # This determines whether weights and negative weights are used\n",
    "    \n",
    "    qg_cmd = (args.includes_qg == \"true\")   # this is a boolean which determines if qg is included (true) or excluded (false)\n",
    "    \n",
    "    # the root_path leads to the folder with the root files being used for data\n",
    "    root_path = \"/depot/cms/top/mcnama20/TopSpinCorr-Run2-Entanglement/CMSSW_10_2_22/src/TopAnalysis/Configuration/analysis/diLeptonic/three_files/Nominal\"\n",
    "    \n",
    "    # this is the data root file loaded into the dataloader\n",
    "    file = root_path + \"/\" + args.channel\n",
    "    if args.input == \"all\":\n",
    "        file += \"_modified_root_1.root\"   \n",
    "    elif args.input == \"lorentz\":\n",
    "        file += \"_modified_root_1_lorentzvectors.root\"\n",
    "    elif args.input == \"spinCorr\":\n",
    "        file +=\"_modified_root_1_spinCorr.root\"\n",
    "    elif args.input == \"lorentzdelta\":\n",
    "        file += \"_modified_root_1_lorentzvectorsdelta.root\"\n",
    "    #elif args.input == \"lorentzgen\":\n",
    "     #   file += \"_modified_root_1_lorentzvectorsdelta_gen.root\"\n",
    "    elif args.input == \"lorentz_mttbar\":\n",
    "        file += \"_modified_root_1_lorentzvectors_mttbar_mass.root\"\n",
    "    elif args.input == \"lorentz_delta2\":\n",
    "        file += \"__modified_root_1_lorentzvectorsdelta_version2.root\"\n",
    "    elif args.input == \"lorentzdelta_gen\":\n",
    "        file += \"_modified_root_1_lorentzvectorsdelta_gen.root\"\n",
    "    elif args.input == \"allorentz_gen\":\n",
    "        file += \"_modified_root_1_allorentz_gen.root\"\n",
    "    \n",
    "    # this is the model name. Change it when running a new model\n",
    "    model_name = \"GNN_Model4Layers_V1_\" + args.channel  + \"_weights_\" + weight_cmd\n",
    "    \n",
    "    # add version information if included\n",
    "    if args.version > 0:\n",
    "        model_name += str(args.version)\n",
    "                    \n",
    "    # add cut version to model name if included in args\n",
    "    if args.cut_version > 0:\n",
    "        model_name += \"cutV\" + str(args.cut_version)\n",
    "        \n",
    "    # add input type. Can be \"all\", \"lorentz\" and \"spinCorr\"\n",
    "    if args.input != \"all\":\n",
    "        model_name += \"_\" + args.input\n",
    "        \n",
    "    if not qg_cmd:\n",
    "        model_name += \"_no_qg\"\n",
    "    \n",
    "    \n",
    "    print(model_name)\n",
    "    \n",
    "    # load data object so we can access validation and training data    \n",
    "    if correlation_cut > 0:\n",
    "        data = GraphProductionModeDataset(file, correlation_cut=correlation_cut, cut_version=args.cut_version, include_qg = qg_cmd)\n",
    "    else:\n",
    "        data = GraphProductionModeDataset(file, include_qg = qg_cmd)\n",
    "        \n",
    "    model_name += \"batch\" + str(batch_size)\n",
    "        \n",
    "\n",
    "print(\"The model in this run is \" + opt.model_name)   # this will make slurm output easier to identify\n",
    "\n",
    "\n",
    "cuda = True if torch.cuda.is_available() else False\n"
   ]
  },
  {
   "cell_type": "code",
   "execution_count": 5,
   "metadata": {},
   "outputs": [
    {
     "name": "stderr",
     "output_type": "stream",
     "text": [
      "/home/mcnama20/.conda/envs/cent7/5.1.0-py36/GANS_7/lib/python3.6/site-packages/numpy/core/_asarray.py:136: VisibleDeprecationWarning: Creating an ndarray from ragged nested sequences (which is a list-or-tuple of lists-or-tuples-or ndarrays with different lengths or shapes) is deprecated. If you meant to do this, you must specify 'dtype=object' when creating the ndarray\n",
      "  return array(a, dtype, copy=False, order=order, subok=True)\n"
     ]
    }
   ],
   "source": [
    "###################### Now save training and validation sets for future analysis ###################################\n",
    "np.save(\"../data/GNN/train_val_datasets/training_dataset_\" + opt.model_name + \".npy\", opt.data.get_training_data())\n",
    "np.save(\"../data/GNN/train_val_datasets/validation_dataset_\" + opt.model_name + \".npy\", opt.data.get_eval_data())\n",
    "\n",
    "\n",
    "# In[29]:"
   ]
  },
  {
   "cell_type": "code",
   "execution_count": 6,
   "metadata": {
    "collapsed": true
   },
   "outputs": [],
   "source": [
    "# build up version\n",
    "        up_source = torch.tensor([6, 7, 8, 9, 2, 3, 4, 5])\n",
    "        up_range =  torch.tensor([3, 3, 4, 4, 0, 0, 1, 1])\n",
    "        \n",
    "        # build down version\n",
    "        down_source = torch.tensor([3, 3, 4, 4,  0, 0, 1, 1])\n",
    "        down_range = torch.tensor([6, 7, 8, 9, 2, 3, 4, 5])\n",
    "        \n",
    "        # similar type connection\n",
    "        sim_source = torch.tensor([6, 8, 7, 9, 2, 5, 3, 4, 0, 1])\n",
    "        sim_range = torch.tensor([8, 6, 9, 7, 5, 2, 4, 3, 1, 0])\n",
    "        \n",
    "        # same parent\n",
    "        child_source = torch.tensor([6, 7, 8, 9, 2, 3, 4, 5])\n",
    "        child_range = torch.tensor([7, 6, 9, 8, 3, 2, 5, 4])\n",
    "        \n",
    "        ############### for now I will include building up and both similar and same parent TODO: add parameter to determine\n",
    "        # this\n",
    "        source_ids = torch.cat((up_source, sim_source, child_source))\n",
    "        range_ids = torch.cat((up_range, sim_range, child_range))\n",
    "        graph = dgl.graph((source_ids, range_ids), num_nodes=10)\n",
    "        graph = dgl.add_self_loop(graph)\n"
   ]
  },
  {
   "cell_type": "code",
   "execution_count": 7,
   "metadata": {
    "scrolled": true
   },
   "outputs": [
    {
     "data": {
      "text/plain": [
       "Graph(num_nodes=10, num_edges=36,\n",
       "      ndata_schemes={}\n",
       "      edata_schemes={})"
      ]
     },
     "execution_count": 7,
     "metadata": {},
     "output_type": "execute_result"
    }
   ],
   "source": [
    "graph"
   ]
  },
  {
   "cell_type": "code",
   "execution_count": 8,
   "metadata": {
    "collapsed": true
   },
   "outputs": [],
   "source": [
    "batched_graphs = graph\n",
    "\n",
    "for i in range(opt.batch_size - 1):\n",
    "    batched_graphs = dgl.batch([batched_graphs, graph])"
   ]
  },
  {
   "cell_type": "code",
   "execution_count": 9,
   "metadata": {
    "collapsed": true
   },
   "outputs": [],
   "source": [
    "# batched_graphs = graph\n",
    "# for i in range(7):\n",
    "#     batched_graphs =dgl.batch([batched_graphs, batched_graphs])"
   ]
  },
  {
   "cell_type": "code",
   "execution_count": 10,
   "metadata": {},
   "outputs": [
    {
     "data": {
      "text/plain": [
       "Graph(num_nodes=20000, num_edges=72000,\n",
       "      ndata_schemes={}\n",
       "      edata_schemes={})"
      ]
     },
     "execution_count": 10,
     "metadata": {},
     "output_type": "execute_result"
    }
   ],
   "source": [
    "batched_graphs"
   ]
  },
  {
   "cell_type": "code",
   "execution_count": 11,
   "metadata": {},
   "outputs": [
    {
     "data": {
      "text/plain": [
       "(tensor([[3.8235e-01, 5.0006e-01, 1.0847e-01, 1.7250e+02],\n",
       "         [3.5852e-01, 7.7079e-01, 6.4876e-02, 1.7250e+02],\n",
       "         [3.5649e-01, 5.0298e-01, 1.0222e-01, 6.0678e-01],\n",
       "         [5.5413e-01, 4.9402e-01, 4.1555e-02, 4.8512e-01],\n",
       "         [3.3636e-01, 5.9707e-01, 4.1467e-02, 4.8534e-01],\n",
       "         [3.2623e-01, 8.7314e-01, 7.8170e-02, 6.5261e-01],\n",
       "         [3.6887e-01, 4.4456e-01, 6.7445e-02, 5.0103e-01],\n",
       "         [5.6041e-01, 8.3116e-01, 2.5951e-02, 6.1560e-01],\n",
       "         [3.4764e-01, 1.1157e-01, 2.4654e-02, 5.6265e-01],\n",
       "         [3.4763e-01, 6.0227e-01, 9.2736e-02, 5.4214e-01]]),\n",
       " 0.0,\n",
       " 0.8690045295014476)"
      ]
     },
     "execution_count": 11,
     "metadata": {},
     "output_type": "execute_result"
    }
   ],
   "source": [
    "opt.data.__getitem__(0)"
   ]
  },
  {
   "cell_type": "code",
   "execution_count": 12,
   "metadata": {},
   "outputs": [
    {
     "name": "stdout",
     "output_type": "stream",
     "text": [
      "done\n"
     ]
    }
   ],
   "source": [
    "############################## Configure data loader depending on if there is a correlation cut ###########################\n",
    "if opt.correlation_cut > 0:\n",
    "    os.makedirs(\"../data/\" + args.dir_names + \"/\", exist_ok=True)\n",
    "    dataloader = torch.utils.data.DataLoader(\n",
    "        opt.data,\n",
    "        batch_size=opt.batch_size, drop_last=True,\n",
    "        shuffle=True\n",
    "    )\n",
    "else:\n",
    "    os.makedirs(\"../data/\" + args.dir_names + \"/\", exist_ok=True)\n",
    "    dataloader = torch.utils.data.DataLoader(\n",
    "        opt.data,\n",
    "        batch_size=opt.batch_size, drop_last=True,\n",
    "        shuffle=True\n",
    "    )\n",
    "print('done')\n",
    "\n",
    "data = iter(dataloader)\n",
    "x = data.next()\n",
    "input_size = x[0].shape[1] -3\n"
   ]
  },
  {
   "cell_type": "code",
   "execution_count": 14,
   "metadata": {
    "collapsed": true
   },
   "outputs": [],
   "source": [
    "####################################### load data for evaluation of model (not training set) and separate weights and target\n",
    "validation_data = opt.data.get_eval_data()\n",
    "\n",
    "w_val = validation_data[2]\n",
    "target_val = validation_data[1]\n",
    "target_val = Variable(torch.from_numpy(target_val).type(torch.LongTensor))\n",
    "y_val = validation_data[0]\n",
    "val_data = torch.reshape(y_val, (10 * y_val.shape[0], 4))\n",
    "                    \n",
    "# replace all negative weighted events with zero if the weight_cmd says to\n",
    "if opt.weight_cmd == \"no-neg\":\n",
    "    w_val[w_val < 0] = 0\n",
    "\n",
    "# remove weighting (aka, set all to 1) if weight_cmd says to\n",
    "if opt.weight_cmd == \"false\":\n",
    "    w_val = np.ones(w_val.shape)\n",
    "    \n",
    "w_val = Variable(torch.from_numpy(w_val).type(torch.FloatTensor))\n",
    "\n",
    "\n"
   ]
  },
  {
   "cell_type": "code",
   "execution_count": 15,
   "metadata": {
    "collapsed": true
   },
   "outputs": [],
   "source": [
    "val_graphs = graph\n",
    "\n",
    "for i in range(y_val.shape[0] - 1):\n",
    "    val_graphs = dgl.batch([val_graphs, graph])"
   ]
  },
  {
   "cell_type": "code",
   "execution_count": 16,
   "metadata": {
    "collapsed": true
   },
   "outputs": [],
   "source": [
    "\n",
    "class GCN(nn.Module):\n",
    "    def __init__(self, in_feats, num_classes):\n",
    "        super(GCN, self).__init__()\n",
    "        self.conv1 = GraphConv(in_feats, 128)\n",
    "        self.conv2 = GraphConv(128, 64)\n",
    "        self.conv3 = GraphConv(64, 32)\n",
    "        self.conv4 = GraphConv(32, num_classes)\n",
    "\n",
    "    def forward(self, g, in_feat):\n",
    "        h = self.conv1(g, in_feat)\n",
    "        h = \n",
    "        h = F.relu(h)\n",
    "        h = self.conv2(g, h)\n",
    "        h = F.relu(h)\n",
    "        h = self.conv3(g,h)\n",
    "        h = F.relu(h)\n",
    "        h = self.conv4(g,h)\n",
    "        g.ndata['h'] = h\n",
    "        return dgl.mean_nodes(g, 'h')"
   ]
  },
  {
   "cell_type": "code",
   "execution_count": 17,
   "metadata": {
    "collapsed": true
   },
   "outputs": [],
   "source": [
    "criterion = nn.CrossEntropyLoss()# this is the loss function. reduction='none' makes it return a value for each input (reduce=False was deprecated)\n"
   ]
  },
  {
   "cell_type": "code",
   "execution_count": 18,
   "metadata": {
    "collapsed": true
   },
   "outputs": [],
   "source": [
    "model = GCN(4, 2)"
   ]
  },
  {
   "cell_type": "code",
   "execution_count": 19,
   "metadata": {},
   "outputs": [
    {
     "data": {
      "text/plain": [
       "Graph(num_nodes=20000, num_edges=72000,\n",
       "      ndata_schemes={}\n",
       "      edata_schemes={})"
      ]
     },
     "execution_count": 19,
     "metadata": {},
     "output_type": "execute_result"
    }
   ],
   "source": [
    "batched_graphs"
   ]
  },
  {
   "cell_type": "code",
   "execution_count": 20,
   "metadata": {},
   "outputs": [
    {
     "data": {
      "image/png": "[encoded data removed]",
      "text/plain": [
       "<Figure size 432x288 with 1 Axes>"
      ]
     },
     "metadata": {
      "needs_background": "light"
     },
     "output_type": "display_data"
    },
    {
     "name": "stdout",
     "output_type": "stream",
     "text": [
      "loss = tensor(0.6763, grad_fn=<NllLossBackward>)\n"
     ]
    },
    {
     "ename": "KeyboardInterrupt",
     "evalue": "",
     "output_type": "error",
     "traceback": [
      "\u001b[0;31m---------------------------------------------------------------------------\u001b[0m",
      "\u001b[0;31mKeyboardInterrupt\u001b[0m                         Traceback (most recent call last)",
      "\u001b[0;32m<ipython-input-20-3b0c11ea38a5>\u001b[0m in \u001b[0;36m<module>\u001b[0;34m\u001b[0m\n\u001b[1;32m     24\u001b[0m         \u001b[0mbatched_data\u001b[0m \u001b[0;34m=\u001b[0m \u001b[0mtorch\u001b[0m\u001b[0;34m.\u001b[0m\u001b[0mreshape\u001b[0m\u001b[0;34m(\u001b[0m\u001b[0mbatched_data\u001b[0m\u001b[0;34m,\u001b[0m \u001b[0;34m(\u001b[0m\u001b[0;36m10\u001b[0m \u001b[0;34m*\u001b[0m \u001b[0mopt\u001b[0m\u001b[0;34m.\u001b[0m\u001b[0mbatch_size\u001b[0m\u001b[0;34m,\u001b[0m \u001b[0;36m4\u001b[0m\u001b[0;34m)\u001b[0m\u001b[0;34m)\u001b[0m\u001b[0;34m\u001b[0m\u001b[0;34m\u001b[0m\u001b[0m\n\u001b[1;32m     25\u001b[0m \u001b[0;31m#         batched_data = batched_data[0]\u001b[0m\u001b[0;34m\u001b[0m\u001b[0;34m\u001b[0m\u001b[0;34m\u001b[0m\u001b[0m\n\u001b[0;32m---> 26\u001b[0;31m         \u001b[0mpred\u001b[0m \u001b[0;34m=\u001b[0m \u001b[0mmodel\u001b[0m\u001b[0;34m(\u001b[0m\u001b[0mbatched_graphs\u001b[0m\u001b[0;34m,\u001b[0m \u001b[0mbatched_data\u001b[0m\u001b[0;34m)\u001b[0m\u001b[0;34m\u001b[0m\u001b[0;34m\u001b[0m\u001b[0m\n\u001b[0m\u001b[1;32m     27\u001b[0m \u001b[0;31m#         print(\"prediction is \" + str(pred[0].dtype))\u001b[0m\u001b[0;34m\u001b[0m\u001b[0;34m\u001b[0m\u001b[0;34m\u001b[0m\u001b[0m\n\u001b[1;32m     28\u001b[0m \u001b[0;31m#         target = np.zeros((2,1))\u001b[0m\u001b[0;34m\u001b[0m\u001b[0;34m\u001b[0m\u001b[0;34m\u001b[0m\u001b[0m\n",
      "\u001b[0;32m~/.conda/envs/cent7/5.1.0-py36/GANS_7/lib/python3.6/site-packages/torch/nn/modules/module.py\u001b[0m in \u001b[0;36m_call_impl\u001b[0;34m(self, *input, **kwargs)\u001b[0m\n\u001b[1;32m    725\u001b[0m             \u001b[0mresult\u001b[0m \u001b[0;34m=\u001b[0m \u001b[0mself\u001b[0m\u001b[0;34m.\u001b[0m\u001b[0m_slow_forward\u001b[0m\u001b[0;34m(\u001b[0m\u001b[0;34m*\u001b[0m\u001b[0minput\u001b[0m\u001b[0;34m,\u001b[0m \u001b[0;34m**\u001b[0m\u001b[0mkwargs\u001b[0m\u001b[0;34m)\u001b[0m\u001b[0;34m\u001b[0m\u001b[0;34m\u001b[0m\u001b[0m\n\u001b[1;32m    726\u001b[0m         \u001b[0;32melse\u001b[0m\u001b[0;34m:\u001b[0m\u001b[0;34m\u001b[0m\u001b[0;34m\u001b[0m\u001b[0m\n\u001b[0;32m--> 727\u001b[0;31m             \u001b[0mresult\u001b[0m \u001b[0;34m=\u001b[0m \u001b[0mself\u001b[0m\u001b[0;34m.\u001b[0m\u001b[0mforward\u001b[0m\u001b[0;34m(\u001b[0m\u001b[0;34m*\u001b[0m\u001b[0minput\u001b[0m\u001b[0;34m,\u001b[0m \u001b[0;34m**\u001b[0m\u001b[0mkwargs\u001b[0m\u001b[0;34m)\u001b[0m\u001b[0;34m\u001b[0m\u001b[0;34m\u001b[0m\u001b[0m\n\u001b[0m\u001b[1;32m    728\u001b[0m         for hook in itertools.chain(\n\u001b[1;32m    729\u001b[0m                 \u001b[0m_global_forward_hooks\u001b[0m\u001b[0;34m.\u001b[0m\u001b[0mvalues\u001b[0m\u001b[0;34m(\u001b[0m\u001b[0;34m)\u001b[0m\u001b[0;34m,\u001b[0m\u001b[0;34m\u001b[0m\u001b[0;34m\u001b[0m\u001b[0m\n",
      "\u001b[0;32m<ipython-input-16-aebaea5dde9c>\u001b[0m in \u001b[0;36mforward\u001b[0;34m(self, g, in_feat)\u001b[0m\n\u001b[1;32m      8\u001b[0m \u001b[0;34m\u001b[0m\u001b[0m\n\u001b[1;32m      9\u001b[0m     \u001b[0;32mdef\u001b[0m \u001b[0mforward\u001b[0m\u001b[0;34m(\u001b[0m\u001b[0mself\u001b[0m\u001b[0;34m,\u001b[0m \u001b[0mg\u001b[0m\u001b[0;34m,\u001b[0m \u001b[0min_feat\u001b[0m\u001b[0;34m)\u001b[0m\u001b[0;34m:\u001b[0m\u001b[0;34m\u001b[0m\u001b[0;34m\u001b[0m\u001b[0m\n\u001b[0;32m---> 10\u001b[0;31m         \u001b[0mh\u001b[0m \u001b[0;34m=\u001b[0m \u001b[0mself\u001b[0m\u001b[0;34m.\u001b[0m\u001b[0mconv1\u001b[0m\u001b[0;34m(\u001b[0m\u001b[0mg\u001b[0m\u001b[0;34m,\u001b[0m \u001b[0min_feat\u001b[0m\u001b[0;34m)\u001b[0m\u001b[0;34m\u001b[0m\u001b[0;34m\u001b[0m\u001b[0m\n\u001b[0m\u001b[1;32m     11\u001b[0m         \u001b[0mh\u001b[0m \u001b[0;34m=\u001b[0m \u001b[0mF\u001b[0m\u001b[0;34m.\u001b[0m\u001b[0mrelu\u001b[0m\u001b[0;34m(\u001b[0m\u001b[0mh\u001b[0m\u001b[0;34m)\u001b[0m\u001b[0;34m\u001b[0m\u001b[0;34m\u001b[0m\u001b[0m\n\u001b[1;32m     12\u001b[0m         \u001b[0mh\u001b[0m \u001b[0;34m=\u001b[0m \u001b[0mself\u001b[0m\u001b[0;34m.\u001b[0m\u001b[0mconv2\u001b[0m\u001b[0;34m(\u001b[0m\u001b[0mg\u001b[0m\u001b[0;34m,\u001b[0m \u001b[0mh\u001b[0m\u001b[0;34m)\u001b[0m\u001b[0;34m\u001b[0m\u001b[0;34m\u001b[0m\u001b[0m\n",
      "\u001b[0;32m~/.conda/envs/cent7/5.1.0-py36/GANS_7/lib/python3.6/site-packages/torch/nn/modules/module.py\u001b[0m in \u001b[0;36m_call_impl\u001b[0;34m(self, *input, **kwargs)\u001b[0m\n\u001b[1;32m    725\u001b[0m             \u001b[0mresult\u001b[0m \u001b[0;34m=\u001b[0m \u001b[0mself\u001b[0m\u001b[0;34m.\u001b[0m\u001b[0m_slow_forward\u001b[0m\u001b[0;34m(\u001b[0m\u001b[0;34m*\u001b[0m\u001b[0minput\u001b[0m\u001b[0;34m,\u001b[0m \u001b[0;34m**\u001b[0m\u001b[0mkwargs\u001b[0m\u001b[0;34m)\u001b[0m\u001b[0;34m\u001b[0m\u001b[0;34m\u001b[0m\u001b[0m\n\u001b[1;32m    726\u001b[0m         \u001b[0;32melse\u001b[0m\u001b[0;34m:\u001b[0m\u001b[0;34m\u001b[0m\u001b[0;34m\u001b[0m\u001b[0m\n\u001b[0;32m--> 727\u001b[0;31m             \u001b[0mresult\u001b[0m \u001b[0;34m=\u001b[0m \u001b[0mself\u001b[0m\u001b[0;34m.\u001b[0m\u001b[0mforward\u001b[0m\u001b[0;34m(\u001b[0m\u001b[0;34m*\u001b[0m\u001b[0minput\u001b[0m\u001b[0;34m,\u001b[0m \u001b[0;34m**\u001b[0m\u001b[0mkwargs\u001b[0m\u001b[0;34m)\u001b[0m\u001b[0;34m\u001b[0m\u001b[0;34m\u001b[0m\u001b[0m\n\u001b[0m\u001b[1;32m    728\u001b[0m         for hook in itertools.chain(\n\u001b[1;32m    729\u001b[0m                 \u001b[0m_global_forward_hooks\u001b[0m\u001b[0;34m.\u001b[0m\u001b[0mvalues\u001b[0m\u001b[0;34m(\u001b[0m\u001b[0;34m)\u001b[0m\u001b[0;34m,\u001b[0m\u001b[0;34m\u001b[0m\u001b[0;34m\u001b[0m\u001b[0m\n",
      "\u001b[0;32m~/.conda/envs/cent7/5.1.0-py36/GANS_7/lib/python3.6/site-packages/dgl/nn/pytorch/conv/graphconv.py\u001b[0m in \u001b[0;36mforward\u001b[0;34m(self, graph, feat, weight, edge_weight)\u001b[0m\n\u001b[1;32m    445\u001b[0m                 \u001b[0mshp\u001b[0m \u001b[0;34m=\u001b[0m \u001b[0mnorm\u001b[0m\u001b[0;34m.\u001b[0m\u001b[0mshape\u001b[0m \u001b[0;34m+\u001b[0m \u001b[0;34m(\u001b[0m\u001b[0;36m1\u001b[0m\u001b[0;34m,\u001b[0m\u001b[0;34m)\u001b[0m \u001b[0;34m*\u001b[0m \u001b[0;34m(\u001b[0m\u001b[0mfeat_dst\u001b[0m\u001b[0;34m.\u001b[0m\u001b[0mdim\u001b[0m\u001b[0;34m(\u001b[0m\u001b[0;34m)\u001b[0m \u001b[0;34m-\u001b[0m \u001b[0;36m1\u001b[0m\u001b[0;34m)\u001b[0m\u001b[0;34m\u001b[0m\u001b[0;34m\u001b[0m\u001b[0m\n\u001b[1;32m    446\u001b[0m                 \u001b[0mnorm\u001b[0m \u001b[0;34m=\u001b[0m \u001b[0mth\u001b[0m\u001b[0;34m.\u001b[0m\u001b[0mreshape\u001b[0m\u001b[0;34m(\u001b[0m\u001b[0mnorm\u001b[0m\u001b[0;34m,\u001b[0m \u001b[0mshp\u001b[0m\u001b[0;34m)\u001b[0m\u001b[0;34m\u001b[0m\u001b[0;34m\u001b[0m\u001b[0m\n\u001b[0;32m--> 447\u001b[0;31m                 \u001b[0mrst\u001b[0m \u001b[0;34m=\u001b[0m \u001b[0mrst\u001b[0m \u001b[0;34m*\u001b[0m \u001b[0mnorm\u001b[0m\u001b[0;34m\u001b[0m\u001b[0;34m\u001b[0m\u001b[0m\n\u001b[0m\u001b[1;32m    448\u001b[0m \u001b[0;34m\u001b[0m\u001b[0m\n\u001b[1;32m    449\u001b[0m             \u001b[0;32mif\u001b[0m \u001b[0mself\u001b[0m\u001b[0;34m.\u001b[0m\u001b[0mbias\u001b[0m \u001b[0;32mis\u001b[0m \u001b[0;32mnot\u001b[0m \u001b[0;32mNone\u001b[0m\u001b[0;34m:\u001b[0m\u001b[0;34m\u001b[0m\u001b[0;34m\u001b[0m\u001b[0m\n",
      "\u001b[0;31mKeyboardInterrupt\u001b[0m: "
     ]
    }
   ],
   "source": [
    "# Create the model with given dimensions\n",
    "\n",
    "small_loss = 1e20   # This is the initail loss under which we overwrite the model.\n",
    "                    # initialize with a large loss so everything is smaller than it\n",
    "\n",
    "# initialize loss arrays\n",
    "loss_val_array = np.array(())\n",
    "loss_array = np.array(())\n",
    "lva = 0  # this is the length of the loaded array\n",
    "la = 0  # this is the length of the other loaded array\n",
    "optimizer = torch.optim.Adam(model.parameters(), lr=opt.lr)\n",
    "loss_array = np.array(())\n",
    "validation_arry = np.array(())\n",
    "small_loss = 1e20   # This is the initail loss under which we overwrite the model.\n",
    "\n",
    "\n",
    "for epoch in range(opt.n_epochs):\n",
    "    count = 0\n",
    "    for batched_data, labels, weights in dataloader:\n",
    "        count += count\n",
    "        init_batch = batched_data\n",
    "#         print(init_batch)\n",
    "#         print(batched_data.shape)\n",
    "        batched_data = torch.reshape(batched_data, (10 * opt.batch_size, 4))\n",
    "#         batched_data = batched_data[0]\n",
    "        pred = model(batched_graphs, batched_data)\n",
    "#         print(\"prediction is \" + str(pred[0].dtype))\n",
    "#         target = np.zeros((2,1))\n",
    "#         target[0] = 1-labels\n",
    "#         target[1] = labels\n",
    "#         labels = target.astype(int)\n",
    "#         labels = np.transpose(labels)\n",
    "\n",
    "#         labels = torch.from_numpy(labels)\n",
    "        labels = Variable(labels.type(torch.LongTensor))\n",
    "#         print(\"labels are \\n\" + str(labels))\n",
    "        loss = criterion(pred, labels)\n",
    "        optimizer.zero_grad()\n",
    "        loss.backward()\n",
    "        optimizer.step()\n",
    "        \n",
    "#     if epoch % 5 == 0:\n",
    "# if count%1000 == 0:\n",
    "    #----------------------------------\n",
    "    # Draw training and validation loss\n",
    "    #-------------------------------------\n",
    "    print(\"loss = \" + str(loss))\n",
    "    if epoch %5 == 0:\n",
    "        loss_array = np.append(loss_array, loss.detach().numpy()) # append the training loss to the loss array\n",
    "        out = model(val_graphs, val_data)   # run classifier on validation data to see how good it is\n",
    "        loss_val = criterion(out, target_val)# calculate the validation loss\n",
    "        loss_val_array = np.append(loss_val_array, loss_val.detach().numpy()) # append the validation loss to its array\n",
    "\n",
    "\n",
    "        if small_loss > loss_val:   # compare to see if the loss has decreased\n",
    "            small_loss = loss_val   # if the network has improved replace the best loss with this one\n",
    "            torch.save(model.state_dict(), \"../models/GNN/\" + opt.model_name + \".pt\")   # save the new (and better) model\n",
    "            torch.save(optimizer.state_dict(), \"../models/GNN/optimizer_\" + opt.model_name + \".pt\") # save the optimizer state\n",
    "\n",
    "\n",
    "        np.save(\"../data/GNN/\" + opt.model_name +  \"_loss_val_array.npy\",loss_val_array)\n",
    "        np.save(\"../data/GNN/\" + opt.model_name + \"_loss_train_array.npy\",loss_array)\n",
    "        display.clear_output(True)\n",
    "        figure = plt.figure()\n",
    "        ax = figure.add_subplot(111)\n",
    "        ax.set_yscale(\"log\")\n",
    "        ax.plot(loss_val_array, label = \"evaluation loss\")\n",
    "        ax.plot(loss_array, label=\"training loss\")\n",
    "        plt.legend()\n",
    "        plt.show()\n",
    "        \n",
    "\n"
   ]
  }
 ],
 "metadata": {
  "kernelspec": {
   "display_name": "Python (GANS)",
   "language": "python",
   "name": "gans"
  },
  "language_info": {
   "codemirror_mode": {
    "name": "ipython",
    "version": 3
   },
   "file_extension": ".py",
   "mimetype": "text/x-python",
   "name": "python",
   "nbconvert_exporter": "python",
   "pygments_lexer": "ipython3",
   "version": "3.6.12"
  }
 },
 "nbformat": 4,
 "nbformat_minor": 2
}
