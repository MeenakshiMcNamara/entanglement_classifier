{
 "cells": [
  {
   "cell_type": "code",
   "execution_count": 4,
   "metadata": {},
   "outputs": [],
   "source": [
    "import numpy as np\n",
    "import torch\n",
    "import pandas as pd\n"
   ]
  },
  {
   "cell_type": "code",
   "execution_count": 2,
   "metadata": {},
   "outputs": [
    {
     "ename": "SyntaxError",
     "evalue": "invalid syntax (<ipython-input-2-e3173cda2a7a>, line 2)",
     "output_type": "error",
     "traceback": [
      "\u001b[0;36m  File \u001b[0;32m\"<ipython-input-2-e3173cda2a7a>\"\u001b[0;36m, line \u001b[0;32m2\u001b[0m\n\u001b[0;31m    input_size = ?????\u001b[0m\n\u001b[0m                 ^\u001b[0m\n\u001b[0;31mSyntaxError\u001b[0m\u001b[0;31m:\u001b[0m invalid syntax\n"
     ]
    }
   ],
   "source": [
    "class opt():   # Class used for optimizers in the future. Defines all variables and stuff needed.\n",
    "    input_size = ?????\n",
    "    input_variables = [\"l_pt\", \"lbar_pt\"...]\n",
    "    data_file = \"/data\"\n",
    "    config_dir = \".\"\n",
    "    save_location = config_dir + data_file\n"
   ]
  },
  {
   "cell_type": "code",
   "execution_count": null,
   "metadata": {
    "collapsed": true
   },
   "outputs": [],
   "source": [
    "model = torch.load(opt.configDir + \"/singleLayerModel.pt\")\n",
    "weights = model.fc.weight.detach().numpy()\n",
    "\n",
    "df = pd.DataFrame(input_variables, columns = [\"variables\"])\n",
    "df[\"weights\"]  = weights\n",
    "\n",
    "df = df.sort_values(by = [\"weights\"], ascending = False)\n",
    "df.reset_index(drop=True, inplace=True)\n",
    "\n",
    "print(str(df))"
   ]
  }
 ],
 "metadata": {
  "kernelspec": {
   "display_name": "Python (GANS)",
   "language": "python",
   "name": "gans"
  },
  "language_info": {
   "codemirror_mode": {
    "name": "ipython",
    "version": 3
   },
   "file_extension": ".py",
   "mimetype": "text/x-python",
   "name": "python",
   "nbconvert_exporter": "python",
   "pygments_lexer": "ipython3",
   "version": "3.6.12"
  }
 },
 "nbformat": 4,
 "nbformat_minor": 2
}
