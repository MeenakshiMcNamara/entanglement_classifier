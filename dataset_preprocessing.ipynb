{
 "cells": [
  {
   "cell_type": "code",
   "execution_count": 2,
   "metadata": {},
   "outputs": [
    {
     "name": "stderr",
     "output_type": "stream",
     "text": [
      "/home/zhou907/.conda/envs/cent7/5.1.0-py36/GANS2/lib/python3.6/site-packages/uproot/reading.py:186: FutureWarning: XRootD 5.1.1 is not fully supported; either upgrade to 5.2.0+ or set\n",
      "\n",
      "    open.defaults[\"xrootd_handler\"] = uproot.MultithreadedXRootDSource\n",
      "\n",
      "  warnings.warn(message, FutureWarning)\n"
     ]
    }
   ],
   "source": [
    "import numpy as np\n",
    "import os\n",
    "import torch\n",
    "import uproot\n",
    "from torch.utils.data import Dataset"
   ]
  },
  {
   "cell_type": "code",
   "execution_count": 51,
   "metadata": {},
   "outputs": [],
   "source": [
    "class ProductionModeDataset(Dataset):\n",
    "    \"\"\"\n",
    "    This class will load the minitree and create the dataset loaded into the nns\n",
    "    \n",
    "    0) load the minitree properly\n",
    "    \n",
    "    1) remove 0 and 2 type events so we have the same number as qqbar\n",
    "    \n",
    "    2) normalize all data\n",
    "    \n",
    "    3) ensure this is stored in a numpy array with the correct arrangement of data and a corresponding list of datatypes\n",
    "    \n",
    "    4) split this up into training and evaluating datasets\n",
    "    \n",
    "    Args:\n",
    "        :param root (string): is root directory and file name of minitree\n",
    "        :param split (boolean): tells whether to split into training and eval\n",
    "        :param normalize (boolean): tells whether to normalize data\n",
    "        :param remove (boolean): tells whether we should remove excess data for non-qqbar events or duplicate qqbar\n",
    "        :param train (boolean): tells whether we are training or evaluating\n",
    "    \"\"\"\n",
    "    \n",
    "    def __init__(self, root, split=True, normalize=True, remove=True, train=True):\n",
    "        self.events = uproot.open(root)\n",
    "        self.training = train\n",
    "        #self.events = self.events['Events']\n",
    "        \n",
    "        #data_list = data = uproot.open(depo_dir + root_f, key = \"ttBar_treeVariables_step8;3\")\n",
    "        \n",
    "        \n",
    "        # TODO: make less complex when not needed later\n",
    "#         data_list = [x in self.events[\"ttBar_treeVariables_step8;3\"].keys() if (((\"phi\" in x) or (\"eta\" in x) \\\n",
    "#                                                                              or (\"pt\" in x) or (\"production\" in x)) and \\\n",
    "#                                                                              (\"gen\" not in x))]\n",
    "#         print(str(data_list))\n",
    "        print(self.events.keys())\n",
    "        data_list = self.events[\"ttBar_treeVariables_step8;4;1\"].keys()\n",
    "    \n",
    "        self.events_array = np.array([self.events[\"ttBar_treeVariables_step8;4;1\" + \"/\" + k].array(library=\"np\") for k in data_list])\n",
    "        print(len(data_list))\n",
    "    \n",
    "        self.events_array = np.transpose(self.events_array)   # turn to columns of data\n",
    "        \n",
    "        if remove:\n",
    "            \"\"\"\n",
    "            Here is where we remove the excess data\n",
    "            \"\"\"\n",
    "            # find index of production_mode:\n",
    "            index = 0\n",
    "            for i in range(len(data_list)):\n",
    "                if data_list[i] == \"production_mode\":\n",
    "                    index = i\n",
    "                    break\n",
    "                    \n",
    "            self.events_array = self.events_array[np.argsort(self.events_array[:, index])]            \n",
    "            \n",
    "            # find first and last index with production mode 1\n",
    "            first = 0\n",
    "            last = 0\n",
    "            found_first = False\n",
    "            \n",
    "            for i in range(len(self.events_array[:,index])):\n",
    "                if not found_first:\n",
    "                    if self.events_array[i ,index] == 1:\n",
    "                        first = i\n",
    "                        found_first = True\n",
    "                \n",
    "                if self.events_array[i,index] == 2:\n",
    "                    last = i - 1\n",
    "                    break\n",
    "                    \n",
    "            num_qqbar = last + 1 - first\n",
    "            print(\"num qqbar = \" + str(num_qqbar))\n",
    "            # remove the extra gg and other\n",
    "            max_len = len(self.events_array[:,0])\n",
    "            self.events_array = np.delete(self.events_array, list(range(num_qqbar, first)) + \\\n",
    "                                          list(range(max_len - (max_len - (last + 1) -num_qqbar), max_len)), 0)\n",
    "            \n",
    "        # normalize here\n",
    "            #print(len(self.events_array[:,0]))\n",
    "            #columns = self.events_array[1]\n",
    "            \n",
    "            #min_a = []\n",
    "            #max_a = []\n",
    "            #range_a = []\n",
    "            #update_a = []\n",
    "            \n",
    "            for i in range(len(self.events_array[0,:])-3):#the last three is subtracted, thust not there any more\n",
    "                ori_a = self.events_array[0,i]#original number\n",
    "                #print('ori_a =',ori_a)\n",
    "                min_a = np.min(self.events_array[:,i])#min\n",
    "                max_a = np.max(self.events_array[:,i])#max\n",
    "                range_a = max_a - min_a#range\n",
    "                #print('range =',range_a)\n",
    "                norm_a = (ori_a - min_a) / (range_a) #normalized list. i dont know what to do with it.\n",
    "                print('normalized =', norm_a)\n",
    "                \n",
    "            #range_a.append(max_a - min_a)\n",
    "            \n",
    "            #print(min_a)\n",
    "        \n",
    "        # split here        \n",
    "        if split:\n",
    "            # shuffle so no longer sorted before splitting\n",
    "            np.random.shuffle(self.events_array)\n",
    "            \n",
    "            train_size = int(len(self.events_array[:,0])*81/100)\n",
    "#             eval_size = len(self.events_array[:,0]) - train_size\n",
    "            \n",
    "            self.train_array, self.eval_array = np.split(self.events_array, [train_size])\n",
    "            print(\"training \" + str(self.train_array.shape))\n",
    "            print(\"evaluating \" + str(self.eval_array.shape))\n",
    "            \n",
    "        else:\n",
    "            self.train_array = self.events_array\n",
    "            self.eval_array = self.events_array\n",
    "                \n",
    "    def __getitem__(self, index):\n",
    "        if self.training:\n",
    "            return self.train_array[index]\n",
    "        return self.eval_array"
   ]
  },
  {
   "cell_type": "code",
   "execution_count": null,
   "metadata": {},
   "outputs": [],
   "source": []
  },
  {
   "cell_type": "code",
   "execution_count": 52,
   "metadata": {},
   "outputs": [
    {
     "name": "stdout",
     "output_type": "stream",
     "text": [
      "['ttBar_treeVariables_step8;4;1']\n",
      "95\n",
      "num qqbar = 6324\n",
      "normalized = 0.04181489141865737\n",
      "normalized = 0.11650462404529133\n",
      "normalized = 0.22412155890396215\n",
      "normalized = 0.22410214713207907\n",
      "normalized = 0.12467095565544818\n",
      "normalized = 0.04889804212858872\n",
      "normalized = 0.18488920977908835\n",
      "normalized = 0.06902074585196209\n",
      "normalized = 0.2338219584895072\n",
      "normalized = 0.13764307235102602\n",
      "normalized = 0.16761036866299922\n",
      "normalized = 0.13834151267795958\n",
      "normalized = 0.9351173300708409\n",
      "normalized = 0.2275607615231607\n",
      "normalized = 0.5941679603374599\n",
      "normalized = 0.83922264286782\n",
      "normalized = 0.3025786569183435\n",
      "normalized = 0.3945229366414417\n",
      "normalized = 0.03445851468679508\n",
      "normalized = 0.22283083544352061\n",
      "normalized = 0.33674537260656295\n",
      "normalized = 0.0834481290465456\n",
      "normalized = 0.3568475029528626\n",
      "normalized = 0.6128022712263326\n",
      "normalized = 0.1325197294862518\n",
      "normalized = 0.10321745556763842\n",
      "normalized = 0.11311036477897284\n",
      "normalized = 0.09205083640260057\n",
      "normalized = 0.31613433791083856\n",
      "normalized = 0.38019630013408384\n",
      "normalized = 0.020875225049729967\n",
      "normalized = 0.6755622405536275\n",
      "normalized = 0.40898977575790824\n",
      "normalized = 0.4454389026138533\n",
      "normalized = 0.38551118118671346\n",
      "normalized = 0.40898977575790824\n",
      "normalized = nan\n",
      "normalized = nan\n",
      "normalized = nan\n",
      "normalized = nan\n",
      "normalized = 0.0008948808852363077\n",
      "normalized = 0.3397828199654853\n",
      "normalized = 0.13777479571150233\n",
      "normalized = 0.044653037679961295\n",
      "normalized = 0.0581930205594954\n",
      "normalized = 0.7069984195682207\n",
      "normalized = 0.08411391726510517\n",
      "normalized = nan\n",
      "normalized = nan\n",
      "normalized = nan\n",
      "normalized = nan\n",
      "normalized = 0.8220572788371947\n",
      "normalized = 0.7540072165584242\n",
      "normalized = 0.743814447640928\n",
      "normalized = 0.7649657027732842\n",
      "normalized = 0.1611261453525015\n",
      "normalized = 0.6187753732484862\n",
      "normalized = 0.7646827837419908\n",
      "normalized = 0.5038830373711588\n",
      "normalized = 0.41529901352464754\n",
      "normalized = 0.2863715943189295\n",
      "normalized = 0.049071729421379495\n",
      "normalized = 0.6666169929271274\n",
      "normalized = 0.37180625977655296\n",
      "normalized = 0.32909842662866884\n",
      "normalized = 0.9670043521116001\n",
      "normalized = 0.2761635114881674\n",
      "normalized = 0.31228502165716\n",
      "normalized = 0.34691124976059023\n",
      "normalized = 0.6322978224747238\n",
      "normalized = 0.8842335454243759\n",
      "normalized = 0.39344394715910475\n",
      "normalized = 0.35692856883127355\n",
      "normalized = 0.6522565877067528\n",
      "normalized = 0.9462907965020786\n",
      "normalized = 0.08365284528565767\n",
      "normalized = 0.0631668336211026\n",
      "normalized = 0.029743414413748146\n",
      "normalized = nan\n",
      "normalized = nan\n",
      "normalized = nan\n",
      "normalized = nan\n",
      "normalized = 0.03338350792814626\n",
      "normalized = 0.08401312612569024\n",
      "normalized = 0.05261484058913566\n",
      "normalized = 0.06095835087888847\n",
      "normalized = 0.05075202846560611\n",
      "normalized = 0.06991589148236606\n",
      "normalized = 0.0\n",
      "normalized = 0.09214235819478557\n",
      "normalized = 0.07097557136167063\n",
      "normalized = 0.018690189969100938\n",
      "training (15367, 95)\n",
      "evaluating (3605, 95)\n"
     ]
    },
    {
     "name": "stderr",
     "output_type": "stream",
     "text": [
      "/home/zhou907/.conda/envs/cent7/5.1.0-py36/GANS2/lib/python3.6/site-packages/ipykernel_launcher.py:95: RuntimeWarning: invalid value encountered in double_scalars\n"
     ]
    },
    {
     "data": {
      "text/plain": [
       "<__main__.ProductionModeDataset at 0x2b97be4d05f8>"
      ]
     },
     "execution_count": 52,
     "metadata": {},
     "output_type": "execute_result"
    }
   ],
   "source": [
    "root_path = \"/depot-new/cms/top/mcnama20/TopSpinCorr-Run2-Entanglement/CMSSW_10_2_22/src/TopAnalysis/Configuration/analysis/diLeptonic/three_files\"\n",
    "\n",
    "file = root_path + \"/ee_modified_root.root\"\n",
    "\n",
    "ProductionModeDataset(file)"
   ]
  },
  {
   "cell_type": "code",
   "execution_count": 90,
   "metadata": {},
   "outputs": [
    {
     "data": {
      "text/plain": [
       "array([[ 1,  2,  3],\n",
       "       [34,  5,  6],\n",
       "       [ 4,  5,  7]])"
      ]
     },
     "execution_count": 90,
     "metadata": {},
     "output_type": "execute_result"
    }
   ],
   "source": [
    "x = np.array(([1,2,3],[34,5,6], [4,5,7]))\n",
    "x"
   ]
  },
  {
   "cell_type": "code",
   "execution_count": 127,
   "metadata": {},
   "outputs": [
    {
     "data": {
      "text/plain": [
       "array([[1, 2, 3]])"
      ]
     },
     "execution_count": 127,
     "metadata": {},
     "output_type": "execute_result"
    }
   ],
   "source": [
    "np.delete(x, [1,2],0)"
   ]
  },
  {
   "cell_type": "code",
   "execution_count": 134,
   "metadata": {},
   "outputs": [],
   "source": [
    "l = [1,2,3]\n",
    "k = [4,5]"
   ]
  },
  {
   "cell_type": "code",
   "execution_count": 135,
   "metadata": {},
   "outputs": [
    {
     "data": {
      "text/plain": [
       "[1, 2, 3, 4, 5]"
      ]
     },
     "execution_count": 135,
     "metadata": {},
     "output_type": "execute_result"
    }
   ],
   "source": [
    "l+k"
   ]
  }
 ],
 "metadata": {
  "kernelspec": {
   "display_name": "Python (GANS2)",
   "language": "python",
   "name": "gans2"
  },
  "language_info": {
   "codemirror_mode": {
    "name": "ipython",
    "version": 3
   },
   "file_extension": ".py",
   "mimetype": "text/x-python",
   "name": "python",
   "nbconvert_exporter": "python",
   "pygments_lexer": "ipython3",
   "version": "3.6.13"
  }
 },
 "nbformat": 4,
 "nbformat_minor": 2
}
