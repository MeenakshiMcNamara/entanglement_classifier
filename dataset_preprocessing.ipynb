{
 "cells": [
  {
   "cell_type": "code",
   "execution_count": 2,
   "metadata": {},
   "outputs": [
    {
     "name": "stderr",
     "output_type": "stream",
     "text": [
      "/home/zhou907/.conda/envs/cent7/5.1.0-py36/GANS2/lib/python3.6/site-packages/uproot/reading.py:186: FutureWarning: XRootD 5.1.1 is not fully supported; either upgrade to 5.2.0+ or set\n",
      "\n",
      "    open.defaults[\"xrootd_handler\"] = uproot.MultithreadedXRootDSource\n",
      "\n",
      "  warnings.warn(message, FutureWarning)\n"
     ]
    }
   ],
   "source": [
    "import numpy as np\n",
    "import os\n",
    "import torch\n",
    "import uproot\n",
    "from torch.utils.data import Dataset"
   ]
  },
  {
   "cell_type": "code",
   "execution_count": 21,
   "metadata": {},
   "outputs": [],
   "source": [
    "class ProductionModeDataset(Dataset):\n",
    "    \"\"\"\n",
    "    This class will load the minitree and create the dataset loaded into the nns\n",
    "    \n",
    "    0) load the minitree properly\n",
    "    \n",
    "    1) remove 0 and 2 type events so we have the same number as qqbar\n",
    "    \n",
    "    2) normalize all data\n",
    "    \n",
    "    3) ensure this is stored in a numpy array with the correct arrangement of data and a corresponding list of datatypes\n",
    "    \n",
    "    4) split this up into training and evaluating datasets\n",
    "    \n",
    "    Args:\n",
    "        :param root (string): is root directory and file name of minitree\n",
    "        :param split (boolean): tells whether to split into training and eval\n",
    "        :param normalize (boolean): tells whether to normalize data\n",
    "        :param remove (boolean): tells whether we should remove excess data for non-qqbar events or duplicate qqbar\n",
    "        :param train (boolean): tells whether we are training or evaluating\n",
    "    \"\"\"\n",
    "    \n",
    "    def __init__(self, root, split=True, normalize=True, remove=True, train=True):\n",
    "        self.events = uproot.open(root)\n",
    "        self.training = train\n",
    "        #self.events = self.events['Events']\n",
    "        \n",
    "        #data_list = data = uproot.open(depo_dir + root_f, key = \"ttBar_treeVariables_step8;3\")\n",
    "        \n",
    "        \n",
    "        # TODO: make less complex when not needed later\n",
    "#         data_list = [x in self.events[\"ttBar_treeVariables_step8;3\"].keys() if (((\"phi\" in x) or (\"eta\" in x) \\\n",
    "#                                                                              or (\"pt\" in x) or (\"production\" in x)) and \\\n",
    "#                                                                              (\"gen\" not in x))]\n",
    "#         print(str(data_list))\n",
    "        print(self.events.keys())\n",
    "        data_list = self.events[\"ttBar_treeVariables_step8;4;1\"].keys()\n",
    "    \n",
    "        self.events_array = np.array([self.events[\"ttBar_treeVariables_step8;4;1\" + \"/\" + k].array(library=\"np\") for k in data_list])\n",
    "        print(len(data_list))\n",
    "    \n",
    "        self.events_array = np.transpose(self.events_array)   # turn to columns of data\n",
    "        \n",
    "        if remove:\n",
    "            \"\"\"\n",
    "            Here is where we remove the excess data\n",
    "            \"\"\"\n",
    "            # find index of production_mode:\n",
    "            index = 0\n",
    "            for i in range(len(data_list)):\n",
    "                if data_list[i] == \"production_mode\":\n",
    "                    index = i\n",
    "                    break\n",
    "                    \n",
    "            self.events_array = self.events_array[np.argsort(self.events_array[:, index])]            \n",
    "            \n",
    "            # find first and last index with production mode 1\n",
    "            first = 0\n",
    "            last = 0\n",
    "            found_first = False\n",
    "            \n",
    "            for i in range(len(self.events_array[:,index])):\n",
    "                if not found_first:\n",
    "                    if self.events_array[i ,index] == 1:\n",
    "                        first = i\n",
    "                        found_first = True\n",
    "                \n",
    "                if self.events_array[i,index] == 2:\n",
    "                    last = i - 1\n",
    "                    break\n",
    "                    \n",
    "            num_qqbar = last + 1 - first\n",
    "            print(\"num qqbar = \" + str(num_qqbar))\n",
    "            # remove the extra gg and other\n",
    "            max_len = len(self.events_array[:,0])\n",
    "            self.events_array = np.delete(self.events_array, list(range(num_qqbar, first)) + \\\n",
    "                                          list(range(max_len - (max_len - (last + 1) -num_qqbar), max_len)), 0)\n",
    "            \n",
    "        # normalize here\n",
    "            print(len(self.events_array[:,0]))\n",
    "            #columns = self.events_array[1]\n",
    "            \n",
    "            min_a = []\n",
    "            max_a = []\n",
    "            range_a = []\n",
    "            update_a = []\n",
    "            \n",
    "            for i in range(len(self.events_array[0,:])-3):\n",
    "                min_a.append(np.min(self.events_array[:,i]))\n",
    "                max_a.append(np.max(self.events_array[:,i]))\n",
    "                \n",
    "            #range_a.append(max_a - min_a)\n",
    "            \n",
    "            print(min_a)\n",
    "        \n",
    "        # split here        \n",
    "        if split:\n",
    "            # shuffle so no longer sorted before splitting\n",
    "            np.random.shuffle(self.events_array)\n",
    "            \n",
    "            train_size = int(len(self.events_array[:,0])*81/100)\n",
    "#             eval_size = len(self.events_array[:,0]) - train_size\n",
    "            \n",
    "            self.train_array, self.eval_array = np.split(self.events_array, [train_size])\n",
    "            print(\"training \" + str(self.train_array.shape))\n",
    "            print(\"evaluating \" + str(self.eval_array.shape))\n",
    "            \n",
    "        else:\n",
    "            self.train_array = self.events_array\n",
    "            self.eval_array = self.events_array\n",
    "                \n",
    "    def __getitem__(self, index):\n",
    "        if self.training:\n",
    "            return self.train_array[index]\n",
    "        return self.eval_array"
   ]
  },
  {
   "cell_type": "code",
   "execution_count": null,
   "metadata": {},
   "outputs": [],
   "source": []
  },
  {
   "cell_type": "code",
   "execution_count": 22,
   "metadata": {},
   "outputs": [
    {
     "name": "stdout",
     "output_type": "stream",
     "text": [
      "['ttBar_treeVariables_step8;4;1']\n",
      "95\n",
      "num qqbar = 6324\n",
      "18972\n",
      "[0.00016444921493530273, 6.35981559753418e-05, 0.00015497207641601562, 2.4020671844482422e-05, 0.00014352798461914062, 7.539987564086914e-06, 1.1861324310302734e-05, 6.794929504394531e-05, 5.602836608886719e-06, 3.2842159271240234e-05, 0.0002130270004272461, 9.715557098388672e-06, 5.650520324707031e-05, 1.5556812286376953e-05, 0.0002881288528442383, 0.00010824203491210938, 7.3909759521484375e-06, 0.00016438961029052734, 8.52346420288086e-05, 0.0016376972198486328, 0.0001383274793624878, 0.00010499358177185059, 9.393692016601562e-05, 3.600120544433594e-05, 1.668184995651245e-05, 2.682209014892578e-06, 2.9385089874267578e-05, 3.6716461181640625e-05, 9.715557098388672e-05, 0.0007535219192504883, 0.0005981922149658203, 0.0004222393035888672, -6.965047359466553, -5.091635227203369, -6.165104389190674, -6.965047359466553, -999.0, -999.0, -999.0, -999.0, 1.0521844160393812e-05, -8.206696510314941, 2.204185693699401e-05, 5.585858161794022e-05, 3.4587341360747814e-05, -3.1402804851531982, -3.14107608795166, -999.0, -999.0, -999.0, -999.0, -3.1410274505615234, 0.0033435735385864973, -3.1415724754333496, 0.00023937117657624185, -3.1413893699645996, 0.0002780432696454227, -3.1409192085266113, 0.00013899341865908355, -2.4687516689300537, -2.4660115242004395, -3.141430616378784, -3.1412861347198486, -2.398789882659912, -2.3995158672332764, -3.1415348052978516, -3.1403069496154785, -5.285526275634766, -5.3325724601745605, -3.14151930809021, -3.141202688217163, -6.170169353485107, -5.092967987060547, -3.1410930156707764, -3.140669107437134, 0.24491895735263824, 2.564162254333496, 20.00045394897461, -999.0, -999.0, -999.0, -999.0, 25.011581420898438, 25.00044059753418, 0.41971445083618164, 0.32268837094306946, 40.00553512573242, 0.15827412903308868, 0.0, 0.39695098996162415, 1.684536099433899, 345.1473388671875]\n",
      "training (15367, 95)\n",
      "evaluating (3605, 95)\n"
     ]
    },
    {
     "data": {
      "text/plain": [
       "<__main__.ProductionModeDataset at 0x2b97bac66ba8>"
      ]
     },
     "execution_count": 22,
     "metadata": {},
     "output_type": "execute_result"
    }
   ],
   "source": [
    "root_path = \"/depot-new/cms/top/mcnama20/TopSpinCorr-Run2-Entanglement/CMSSW_10_2_22/src/TopAnalysis/Configuration/analysis/diLeptonic/three_files\"\n",
    "\n",
    "file = root_path + \"/ee_modified_root.root\"\n",
    "\n",
    "ProductionModeDataset(file)"
   ]
  },
  {
   "cell_type": "code",
   "execution_count": 90,
   "metadata": {},
   "outputs": [
    {
     "data": {
      "text/plain": [
       "array([[ 1,  2,  3],\n",
       "       [34,  5,  6],\n",
       "       [ 4,  5,  7]])"
      ]
     },
     "execution_count": 90,
     "metadata": {},
     "output_type": "execute_result"
    }
   ],
   "source": [
    "x = np.array(([1,2,3],[34,5,6], [4,5,7]))\n",
    "x"
   ]
  },
  {
   "cell_type": "code",
   "execution_count": 127,
   "metadata": {},
   "outputs": [
    {
     "data": {
      "text/plain": [
       "array([[1, 2, 3]])"
      ]
     },
     "execution_count": 127,
     "metadata": {},
     "output_type": "execute_result"
    }
   ],
   "source": [
    "np.delete(x, [1,2],0)"
   ]
  },
  {
   "cell_type": "code",
   "execution_count": 134,
   "metadata": {},
   "outputs": [],
   "source": [
    "l = [1,2,3]\n",
    "k = [4,5]"
   ]
  },
  {
   "cell_type": "code",
   "execution_count": 135,
   "metadata": {},
   "outputs": [
    {
     "data": {
      "text/plain": [
       "[1, 2, 3, 4, 5]"
      ]
     },
     "execution_count": 135,
     "metadata": {},
     "output_type": "execute_result"
    }
   ],
   "source": [
    "l+k"
   ]
  }
 ],
 "metadata": {
  "kernelspec": {
   "display_name": "Python (GANS2)",
   "language": "python",
   "name": "gans2"
  },
  "language_info": {
   "codemirror_mode": {
    "name": "ipython",
    "version": 3
   },
   "file_extension": ".py",
   "mimetype": "text/x-python",
   "name": "python",
   "nbconvert_exporter": "python",
   "pygments_lexer": "ipython3",
   "version": "3.6.13"
  }
 },
 "nbformat": 4,
 "nbformat_minor": 2
}
