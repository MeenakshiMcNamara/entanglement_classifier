{
 "cells": [
  {
   "cell_type": "code",
   "execution_count": 2,
   "metadata": {
    "collapsed": true
   },
   "outputs": [],
   "source": [
    "import numpy as np\n",
    "import os\n",
    "import torch\n",
    "import uproot\n",
    "from torch.utils.data import Dataset"
   ]
  },
  {
   "cell_type": "code",
   "execution_count": 75,
   "metadata": {},
   "outputs": [],
   "source": [
    "class ProductionModeDataset(Dataset):\n",
    "    \"\"\"\n",
    "    This class will load the minitree and create the dataset loaded into the nns\n",
    "    \n",
    "    0) load the minitree properly\n",
    "    \n",
    "    1) remove 0 and 2 type events so we have the same number as qqbar\n",
    "    \n",
    "    2) normalize all data\n",
    "    \n",
    "    3) ensure this is stored in a numpy array with the correct arrangement of data and a corresponding list of datatypes\n",
    "    \n",
    "    4) split this up into training and evaluating datasets\n",
    "    \n",
    "    Args:\n",
    "        :param root (string): is root directory and file name of minitree\n",
    "        :param split (boolean): tells whether to split into training and eval\n",
    "        :param normalize (boolean): tells whether to normalize data\n",
    "        :param remove (boolean): tells whether we should remove excess data for non-qqbar events or duplicate qqbar\n",
    "    \"\"\"\n",
    "    \n",
    "    def __init__(self, root, split=True, normalize=True, remove=True):\n",
    "        self.events = uproot.open(root)\n",
    "        #self.events = self.events['Events']\n",
    "        \n",
    "        #data_list = data = uproot.open(depo_dir + root_f, key = \"ttBar_treeVariables_step8;3\")\n",
    "        \n",
    "        \n",
    "        # TODO: make less complex when not needed later\n",
    "#         data_list = [x in self.events[\"ttBar_treeVariables_step8;3\"].keys() if (((\"phi\" in x) or (\"eta\" in x) \\\n",
    "#                                                                              or (\"pt\" in x) or (\"production\" in x)) and \\\n",
    "#                                                                              (\"gen\" not in x))]\n",
    "#         print(str(data_list))\n",
    "        print(self.events.keys())\n",
    "        data_list = self.events[\"ttBar_treeVariables_step8;4;1\"].keys()\n",
    "    \n",
    "        self.events_array = np.array([self.events[\"ttBar_treeVariables_step8;4;1\" + \"/\" + k].array(library=\"np\") for k in data_list])\n",
    "#         print((self.events_array.shape))\n",
    "        print(len(data_list))\n",
    "        if remove:\n",
    "#             print(\"remove\")\n",
    "            \"\"\"\n",
    "            Here is where we remove the excess data\n",
    "            \"\"\"\n",
    "            # find index of production_mode:\n",
    "            index = 0\n",
    "            for i in range(len(data_list)):\n",
    "                if data_list[i] == \"production_mode\":\n",
    "                    index = i\n",
    "                    break\n",
    "                    \n",
    "#             print(self.events_array.shape)\n",
    "            self.events_array = self.events_array[:, np.argsort(self.events_array[index, :])]            \n",
    "            print(self.events_array[index, :])\n",
    "            \n",
    "            # find first and last index with production mode 1\n",
    "            first = 0\n",
    "            last = 0\n",
    "            found_first = False\n",
    "            for i in range(len(self.events_array[index,:])):\n",
    "                if !found_first:\n",
    "                    if self.events_array[index, i] == 1:\n",
    "                        first = i\n",
    "                \n",
    "                if self.events_array[index,i] == 2:\n",
    "                    last = i - 1\n",
    "                    break\n",
    "                    \n",
    "            num_qqbar = last + 1 - first\n",
    "            \n",
    "            # remove the extra gg and other\n",
    "            for i in range(num_qqbar, first):\n",
    "                self.events_array = np.delete(self.events_array, i, 0)\n",
    "            \n",
    "            max_len = len(self.events_array[0,:])\n",
    "            for i in range(max_len - (max_len - (last + 1) -num_qqbar), max_len):\n",
    "                self.events_array = np.delete(self.events_array, i, 0)\n",
    "            \n",
    "            \n",
    "        # normalize here\n",
    "        \n",
    "        \n",
    "        # transpose and split here\n",
    "        \n",
    "        "
   ]
  },
  {
   "cell_type": "code",
   "execution_count": null,
   "metadata": {
    "collapsed": true
   },
   "outputs": [],
   "source": []
  },
  {
   "cell_type": "code",
   "execution_count": null,
   "metadata": {
    "collapsed": true
   },
   "outputs": [],
   "source": []
  },
  {
   "cell_type": "code",
   "execution_count": 76,
   "metadata": {},
   "outputs": [
    {
     "name": "stdout",
     "output_type": "stream",
     "text": [
      "['ttBar_treeVariables_step8;4;1']\n",
      "95\n",
      "(95, 97722)\n",
      "[0. 0. 0. ... 2. 2. 2.]\n"
     ]
    },
    {
     "data": {
      "text/plain": [
       "<__main__.ProductionModeDataset at 0x7f4c497e6a90>"
      ]
     },
     "execution_count": 76,
     "metadata": {},
     "output_type": "execute_result"
    }
   ],
   "source": [
    "root_path = \"/depot-new/cms/top/mcnama20/TopSpinCorr-Run2-Entanglement/CMSSW_10_2_22/src/TopAnalysis/Configuration/analysis/diLeptonic/three_files\"\n",
    "\n",
    "file = root_path + \"/ee_modified_root.root\"\n",
    "\n",
    "ProductionModeDataset(file)"
   ]
  },
  {
   "cell_type": "code",
   "execution_count": null,
   "metadata": {
    "collapsed": true
   },
   "outputs": [],
   "source": []
  }
 ],
 "metadata": {
  "kernelspec": {
   "display_name": "Python [conda env: GANS_7]",
   "language": "python",
   "name": "conda-env-GANS_7-py"
  },
  "language_info": {
   "codemirror_mode": {
    "name": "ipython",
    "version": 3
   },
   "file_extension": ".py",
   "mimetype": "text/x-python",
   "name": "python",
   "nbconvert_exporter": "python",
   "pygments_lexer": "ipython3",
   "version": "3.6.12"
  }
 },
 "nbformat": 4,
 "nbformat_minor": 2
}
