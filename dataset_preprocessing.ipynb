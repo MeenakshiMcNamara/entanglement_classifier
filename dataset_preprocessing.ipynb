{
 "cells": [
  {
   "cell_type": "code",
   "execution_count": 2,
   "metadata": {
    "collapsed": true
   },
   "outputs": [],
   "source": [
    "import numpy as np\n",
    "import os\n",
    "import torch\n",
    "import uproot\n",
    "from torch.utils.data import Dataset"
   ]
  },
  {
   "cell_type": "code",
   "execution_count": 86,
   "metadata": {},
   "outputs": [],
   "source": [
    "class ProductionModeDataset(Dataset):\n",
    "    \"\"\"\n",
    "    This class will load the minitree and create the dataset loaded into the nns\n",
    "    \n",
    "    0) load the minitree properly\n",
    "    \n",
    "    1) remove 0 and 2 type events so we have the same number as qqbar\n",
    "    \n",
    "    2) normalize all data\n",
    "    \n",
    "    3) ensure this is stored in a numpy array with the correct arrangement of data and a corresponding list of datatypes\n",
    "    \n",
    "    4) split this up into training and evaluating datasets\n",
    "    \n",
    "    Args:\n",
    "        :param root (string): is root directory and file name of minitree\n",
    "        :param split (boolean): tells whether to split into training and eval\n",
    "        :param normalize (boolean): tells whether to normalize data\n",
    "        :param remove (boolean): tells whether we should remove excess data for non-qqbar events or duplicate qqbar\n",
    "    \"\"\"\n",
    "    \n",
    "    def __init__(self, root, split=True, normalize=True, remove=True):\n",
    "        self.events = uproot.open(root)\n",
    "        #self.events = self.events['Events']\n",
    "        \n",
    "        #data_list = data = uproot.open(depo_dir + root_f, key = \"ttBar_treeVariables_step8;3\")\n",
    "        \n",
    "        \n",
    "        # TODO: make less complex when not needed later\n",
    "#         data_list = [x in self.events[\"ttBar_treeVariables_step8;3\"].keys() if (((\"phi\" in x) or (\"eta\" in x) \\\n",
    "#                                                                              or (\"pt\" in x) or (\"production\" in x)) and \\\n",
    "#                                                                              (\"gen\" not in x))]\n",
    "#         print(str(data_list))\n",
    "        print(self.events.keys())\n",
    "        data_list = self.events[\"ttBar_treeVariables_step8;4;1\"].keys()\n",
    "    \n",
    "        self.events_array = np.array([self.events[\"ttBar_treeVariables_step8;4;1\" + \"/\" + k].array(library=\"np\") for k in data_list])\n",
    "#         print((self.events_array.shape))\n",
    "        print(len(data_list))\n",
    "        if remove:\n",
    "#             print(\"remove\")\n",
    "            \"\"\"\n",
    "            Here is where we remove the excess data\n",
    "            \"\"\"\n",
    "            # find index of production_mode:\n",
    "            index = 0\n",
    "            for i in range(len(data_list)):\n",
    "                if data_list[i] == \"production_mode\":\n",
    "                    index = i\n",
    "                    break\n",
    "                    \n",
    "#             print(self.events_array.shape)\n",
    "            self.events_array = self.events_array[:, np.argsort(self.events_array[index, :])]            \n",
    "            print(self.events_array[index, :])\n",
    "            \n",
    "            # find first and last index with production mode 1\n",
    "            first = 0\n",
    "            last = 0\n",
    "            found_first = False\n",
    "            for i in range(len(self.events_array[index,:])):\n",
    "                if not found_first:\n",
    "                    if self.events_array[index, i] == 1:\n",
    "                        first = i\n",
    "                        found = True\n",
    "                \n",
    "                if self.events_array[index,i] == 2:\n",
    "                    last = i - 1\n",
    "                    break\n",
    "                    \n",
    "            num_qqbar = last + 1 - first\n",
    "            \n",
    "            # remove the extra gg and other\n",
    "            for i in range(num_qqbar, first):\n",
    "#                 print(num_qqbar)\n",
    "#                 print(len(self.events_array[0,:]))\n",
    "                self.events_array = np.delete(self.events_array, 0, num_qqbar)\n",
    "            \n",
    "            max_len = len(self.events_array[0,:])\n",
    "            for i in range(max_len - (max_len - (last + 1) -num_qqbar), max_len):\n",
    "                self.events_array = np.delete(0, self.events_array, last + 1 + num_qqbar)\n",
    "            \n",
    "            \n",
    "        # normalize here\n",
    "        \n",
    "        \n",
    "        # transpose and split here\n",
    "        # the transpose will change it so we have columns (instead of rows) of data\n",
    "        self.events_array = np.transpose(self.events_array)\n",
    "        \n",
    "        if split:\n",
    "            print(len(self.events_array)*80/100)\n",
    "        \n",
    "        \n",
    "        \n",
    "        \n",
    "    def __getitem__(self, index):\n",
    "        return self.events_array[index]"
   ]
  },
  {
   "cell_type": "code",
   "execution_count": null,
   "metadata": {
    "collapsed": true
   },
   "outputs": [],
   "source": []
  },
  {
   "cell_type": "code",
   "execution_count": 87,
   "metadata": {},
   "outputs": [
    {
     "name": "stdout",
     "output_type": "stream",
     "text": [
      "['ttBar_treeVariables_step8;4;1']\n",
      "95\n",
      "[0. 0. 0. ... 2. 2. 2.]\n"
     ]
    },
    {
     "ename": "KeyboardInterrupt",
     "evalue": "",
     "output_type": "error",
     "traceback": [
      "\u001b[0;31m---------------------------------------------------------------------------\u001b[0m",
      "\u001b[0;31mKeyboardInterrupt\u001b[0m                         Traceback (most recent call last)",
      "\u001b[0;32m<ipython-input-87-edb00d1ff11e>\u001b[0m in \u001b[0;36m<module>\u001b[0;34m\u001b[0m\n\u001b[1;32m      3\u001b[0m \u001b[0mfile\u001b[0m \u001b[0;34m=\u001b[0m \u001b[0mroot_path\u001b[0m \u001b[0;34m+\u001b[0m \u001b[0;34m\"/ee_modified_root.root\"\u001b[0m\u001b[0;34m\u001b[0m\u001b[0;34m\u001b[0m\u001b[0m\n\u001b[1;32m      4\u001b[0m \u001b[0;34m\u001b[0m\u001b[0m\n\u001b[0;32m----> 5\u001b[0;31m \u001b[0mProductionModeDataset\u001b[0m\u001b[0;34m(\u001b[0m\u001b[0mfile\u001b[0m\u001b[0;34m)\u001b[0m\u001b[0;34m\u001b[0m\u001b[0;34m\u001b[0m\u001b[0m\n\u001b[0m",
      "\u001b[0;32m<ipython-input-86-9bcd3e0eeba3>\u001b[0m in \u001b[0;36m__init__\u001b[0;34m(self, root, split, normalize, remove)\u001b[0m\n\u001b[1;32m     74\u001b[0m \u001b[0;31m#                 print(num_qqbar)\u001b[0m\u001b[0;34m\u001b[0m\u001b[0;34m\u001b[0m\u001b[0;34m\u001b[0m\u001b[0m\n\u001b[1;32m     75\u001b[0m \u001b[0;31m#                 print(len(self.events_array[0,:]))\u001b[0m\u001b[0;34m\u001b[0m\u001b[0;34m\u001b[0m\u001b[0;34m\u001b[0m\u001b[0m\n\u001b[0;32m---> 76\u001b[0;31m                 \u001b[0mself\u001b[0m\u001b[0;34m.\u001b[0m\u001b[0mevents_array\u001b[0m \u001b[0;34m=\u001b[0m \u001b[0mnp\u001b[0m\u001b[0;34m.\u001b[0m\u001b[0mdelete\u001b[0m\u001b[0;34m(\u001b[0m\u001b[0mself\u001b[0m\u001b[0;34m.\u001b[0m\u001b[0mevents_array\u001b[0m\u001b[0;34m,\u001b[0m \u001b[0;36m0\u001b[0m\u001b[0;34m,\u001b[0m \u001b[0mnum_qqbar\u001b[0m\u001b[0;34m)\u001b[0m\u001b[0;34m\u001b[0m\u001b[0;34m\u001b[0m\u001b[0m\n\u001b[0m\u001b[1;32m     77\u001b[0m \u001b[0;34m\u001b[0m\u001b[0m\n\u001b[1;32m     78\u001b[0m             \u001b[0mmax_len\u001b[0m \u001b[0;34m=\u001b[0m \u001b[0mlen\u001b[0m\u001b[0;34m(\u001b[0m\u001b[0mself\u001b[0m\u001b[0;34m.\u001b[0m\u001b[0mevents_array\u001b[0m\u001b[0;34m[\u001b[0m\u001b[0;36m0\u001b[0m\u001b[0;34m,\u001b[0m\u001b[0;34m:\u001b[0m\u001b[0;34m]\u001b[0m\u001b[0;34m)\u001b[0m\u001b[0;34m\u001b[0m\u001b[0;34m\u001b[0m\u001b[0m\n",
      "\u001b[0;32m<__array_function__ internals>\u001b[0m in \u001b[0;36mdelete\u001b[0;34m(*args, **kwargs)\u001b[0m\n",
      "\u001b[0;32m~/.conda/envs/cent7/5.1.0-py36/GANS_7/lib/python3.6/site-packages/numpy/lib/function_base.py\u001b[0m in \u001b[0;36mdelete\u001b[0;34m(arr, obj, axis)\u001b[0m\n\u001b[1;32m   4387\u001b[0m         \u001b[0mslobj2\u001b[0m \u001b[0;34m=\u001b[0m \u001b[0;34m[\u001b[0m\u001b[0mslice\u001b[0m\u001b[0;34m(\u001b[0m\u001b[0;32mNone\u001b[0m\u001b[0;34m)\u001b[0m\u001b[0;34m]\u001b[0m\u001b[0;34m*\u001b[0m\u001b[0mndim\u001b[0m\u001b[0;34m\u001b[0m\u001b[0;34m\u001b[0m\u001b[0m\n\u001b[1;32m   4388\u001b[0m         \u001b[0mslobj2\u001b[0m\u001b[0;34m[\u001b[0m\u001b[0maxis\u001b[0m\u001b[0;34m]\u001b[0m \u001b[0;34m=\u001b[0m \u001b[0mslice\u001b[0m\u001b[0;34m(\u001b[0m\u001b[0mobj\u001b[0m\u001b[0;34m+\u001b[0m\u001b[0;36m1\u001b[0m\u001b[0;34m,\u001b[0m \u001b[0;32mNone\u001b[0m\u001b[0;34m)\u001b[0m\u001b[0;34m\u001b[0m\u001b[0;34m\u001b[0m\u001b[0m\n\u001b[0;32m-> 4389\u001b[0;31m         \u001b[0mnew\u001b[0m\u001b[0;34m[\u001b[0m\u001b[0mtuple\u001b[0m\u001b[0;34m(\u001b[0m\u001b[0mslobj\u001b[0m\u001b[0;34m)\u001b[0m\u001b[0;34m]\u001b[0m \u001b[0;34m=\u001b[0m \u001b[0marr\u001b[0m\u001b[0;34m[\u001b[0m\u001b[0mtuple\u001b[0m\u001b[0;34m(\u001b[0m\u001b[0mslobj2\u001b[0m\u001b[0;34m)\u001b[0m\u001b[0;34m]\u001b[0m\u001b[0;34m\u001b[0m\u001b[0;34m\u001b[0m\u001b[0m\n\u001b[0m\u001b[1;32m   4390\u001b[0m     \u001b[0;32melse\u001b[0m\u001b[0;34m:\u001b[0m\u001b[0;34m\u001b[0m\u001b[0;34m\u001b[0m\u001b[0m\n\u001b[1;32m   4391\u001b[0m         \u001b[0m_obj\u001b[0m \u001b[0;34m=\u001b[0m \u001b[0mobj\u001b[0m\u001b[0;34m\u001b[0m\u001b[0;34m\u001b[0m\u001b[0m\n",
      "\u001b[0;31mKeyboardInterrupt\u001b[0m: "
     ]
    }
   ],
   "source": [
    "root_path = \"/depot-new/cms/top/mcnama20/TopSpinCorr-Run2-Entanglement/CMSSW_10_2_22/src/TopAnalysis/Configuration/analysis/diLeptonic/three_files\"\n",
    "\n",
    "file = root_path + \"/ee_modified_root.root\"\n",
    "\n",
    "ProductionModeDataset(file)"
   ]
  },
  {
   "cell_type": "code",
   "execution_count": 90,
   "metadata": {},
   "outputs": [
    {
     "data": {
      "text/plain": [
       "array([[ 1,  2,  3],\n",
       "       [34,  5,  6],\n",
       "       [ 4,  5,  7]])"
      ]
     },
     "execution_count": 90,
     "metadata": {},
     "output_type": "execute_result"
    }
   ],
   "source": [
    "x = np.array(([1,2,3],[34,5,6], [4,5,7]))\n",
    "x"
   ]
  },
  {
   "cell_type": "code",
   "execution_count": 106,
   "metadata": {},
   "outputs": [
    {
     "data": {
      "text/plain": [
       "array([[2, 3],\n",
       "       [5, 6],\n",
       "       [5, 7]])"
      ]
     },
     "execution_count": 106,
     "metadata": {},
     "output_type": "execute_result"
    }
   ],
   "source": [
    "np.delete(x, 0,1)"
   ]
  },
  {
   "cell_type": "code",
   "execution_count": null,
   "metadata": {
    "collapsed": true
   },
   "outputs": [],
   "source": []
  }
 ],
 "metadata": {
  "kernelspec": {
   "display_name": "Python [conda env: GANS_7]",
   "language": "python",
   "name": "conda-env-GANS_7-py"
  },
  "language_info": {
   "codemirror_mode": {
    "name": "ipython",
    "version": 3
   },
   "file_extension": ".py",
   "mimetype": "text/x-python",
   "name": "python",
   "nbconvert_exporter": "python",
   "pygments_lexer": "ipython3",
   "version": "3.6.12"
  }
 },
 "nbformat": 4,
 "nbformat_minor": 2
}
