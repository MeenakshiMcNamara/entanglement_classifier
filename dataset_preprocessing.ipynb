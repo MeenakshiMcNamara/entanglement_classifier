{
 "cells": [
  {
   "cell_type": "code",
   "execution_count": 5,
   "metadata": {
    "collapsed": true
   },
   "outputs": [],
   "source": [
    "import numpy as np\n",
    "import os\n",
    "import torch\n",
    "import uproot\n",
    "from torch.utils.data import Dataset"
   ]
  },
  {
   "cell_type": "code",
   "execution_count": 7,
   "metadata": {
    "collapsed": true
   },
   "outputs": [],
   "source": [
    "class ProductionModeDataset(Dataset):\n",
    "    \"\"\"\n",
    "    This class will load the minitree and create the dataset loaded into the nns\n",
    "    \n",
    "    0) load the minitree properly\n",
    "    \n",
    "    1) remove 0 and 2 type events so we have the same number as qqbar\n",
    "    \n",
    "    2) normalize all data\n",
    "    \n",
    "    3) ensure this is stored in a numpy array with the correct arrangement of data and a corresponding list of datatypes\n",
    "    \n",
    "    4) split this up into training and evaluating datasets\n",
    "    \n",
    "    Args:\n",
    "        :param root (string): is root directory and file name of minitree\n",
    "        :param split (boolean): tells whether to split into training and eval\n",
    "        :param normalize (boolean): tells whether to normalize data\n",
    "        :param remove (boolean): tells whether we should remove excess data for non-qqbar events or duplicate qqbar\n",
    "        :param train (boolean): tells whether we are training or evaluating\n",
    "    \"\"\"\n",
    "    \n",
    "    def __init__(self, root, split=True, normalize=True, remove=True, train=True):\n",
    "        self.events = uproot.open(root)\n",
    "        self.training = train\n",
    "        #self.events = self.events['Events']\n",
    "        \n",
    "        #data_list = data = uproot.open(depo_dir + root_f, key = \"ttBar_treeVariables_step8;3\")\n",
    "        \n",
    "        \n",
    "        # TODO: make less complex when not needed later\n",
    "#         data_list = [x in self.events[\"ttBar_treeVariables_step8;3\"].keys() if (((\"phi\" in x) or (\"eta\" in x) \\\n",
    "#                                                                              or (\"pt\" in x) or (\"production\" in x)) and \\\n",
    "#                                                                              (\"gen\" not in x))]\n",
    "#         print(str(data_list))\n",
    "        key = self.events.keys()[0]\n",
    "        data_list = self.events[key].keys()\n",
    "    \n",
    "        self.events_array = np.array([self.events[key + \"/\" + k].array(library=\"np\") for k in data_list])\n",
    "        print(data_list)\n",
    "    \n",
    "        self.events_array = np.transpose(self.events_array)   # turn to columns of data\n",
    "        \n",
    "        if remove:\n",
    "            \"\"\"\n",
    "            Here is where we remove the excess data\n",
    "            \"\"\"\n",
    "            # find index of production_mode:\n",
    "            index = 0\n",
    "            for i in range(len(data_list)):\n",
    "                if data_list[i] == \"production_mode\":\n",
    "                    index = i\n",
    "                    break\n",
    "                    \n",
    "            self.events_array = self.events_array[np.argsort(self.events_array[:, index])]            \n",
    "            \n",
    "            # find first and last index with production mode 1\n",
    "            first = 0\n",
    "            last = 0\n",
    "            found_first = False\n",
    "            \n",
    "            for i in range(len(self.events_array[:,index])):\n",
    "                if not found_first:\n",
    "                    if self.events_array[i ,index] == 1:\n",
    "                        first = i\n",
    "                        found_first = True\n",
    "                \n",
    "                if self.events_array[i,index] == 2:\n",
    "                    last = i - 1\n",
    "                    break\n",
    "                    \n",
    "            num_qqbar = last + 1 - first\n",
    "            print(\"num qqbar = \" + str(num_qqbar))\n",
    "            # remove the extra gg and other\n",
    "            max_len = len(self.events_array[:,0])\n",
    "            self.events_array = np.delete(self.events_array, list(range(num_qqbar, first)) + \\\n",
    "                                          list(range(max_len - (max_len - (last + 1) -num_qqbar), max_len)), 0)\n",
    "            \n",
    "        # normalize here\n",
    "            #print(len(self.events_array[:,0]))\n",
    "            #columns = self.events_array[1]\n",
    "            \n",
    "            #min_a = []\n",
    "            #max_a = []\n",
    "            #range_a = []\n",
    "            #update_a = []\n",
    "        if normalize:\n",
    "            for i in range(len(self.events_array[0,:])-3):#the last three is subtracted, thust not there any more\n",
    "                ori_a = self.events_array[:,i]#original number\n",
    "                #print('ori_a =',ori_a)\n",
    "                min_a = np.min(self.events_array[:,i])#min\n",
    "                max_a = np.max(self.events_array[:,i])#max\n",
    "                range_a = max_a - min_a #range\n",
    "                #print('range =',range_a)\n",
    "                self.events_array[:, i] = (ori_a - min_a) / (range_a) #normalized list. i dont know what to do with it.\n",
    "#                 print('normalized =', np.max(self.events_array[:,i]))\n",
    "                \n",
    "            #range_a.append(max_a - min_a)\n",
    "            \n",
    "            #print(min_a)\n",
    "        \n",
    "        # split here        \n",
    "        if split:\n",
    "            # shuffle so no longer sorted before splitting\n",
    "            np.random.shuffle(self.events_array)\n",
    "            \n",
    "            train_size = int(len(self.events_array[:,0])*81/100)\n",
    "#             eval_size = len(self.events_array[:,0]) - train_size\n",
    "            \n",
    "            self.train_array, self.eval_array = np.split(self.events_array, [train_size])\n",
    "            print(\"training \" + str(self.train_array.shape))\n",
    "            print(\"evaluating \" + str(self.eval_array.shape))\n",
    "            \n",
    "        else:\n",
    "            self.train_array = self.events_array\n",
    "            self.eval_array = self.events_array\n",
    "                \n",
    "    def __getitem__(self, index):\n",
    "        if self.training:\n",
    "            return self.train_array[index]\n",
    "        return self.eval_array[index]\n",
    "    \n",
    "    def __len__(self):\n",
    "        if self.training:\n",
    "            return len(self.train_array[:,0])\n",
    "        return len(self.eval_array[:,0])\n",
    "    \n",
    "    def get_eval_data(self):\n",
    "        return self.eval_array"
   ]
  },
  {
   "cell_type": "code",
   "execution_count": null,
   "metadata": {
    "collapsed": true
   },
   "outputs": [],
   "source": []
  },
  {
   "cell_type": "code",
   "execution_count": 8,
   "metadata": {},
   "outputs": [
    {
     "name": "stdout",
     "output_type": "stream",
     "text": [
      "['lb_delta_eta', 'lbbar_delta_eta', 'lnu_delta_eta', 'lnubar_delta_eta', 'lbarb_delta_eta', 'lbarbbar_delta_eta', 'lbarnu_delta_eta', 'lbarnubar_delta_eta', 'bnu_delta_eta', 'bnubar_delta_eta', 'bbarnu_delta_eta', 'bbarnubar_delta_eta', 'lb_delta_phi', 'lbbar_delta_phi', 'lnu_delta_phi', 'lnubar_delta_phi', 'lbarb_delta_phi', 'lbarbbar_delta_phi', 'lbarnu_delta_phi', 'lbarnubar_delta_phi', 'bnu_delta_phi', 'bnubar_delta_phi', 'bbarnu_delta_phi', 'bbarnubar_delta_phi', 'wplusb_delta_eta', 'wplusbbar_delta_eta', 'wminusb_delta_eta', 'wminusbbar_delta_eta', 'wplusb_delta_phi', 'wplusbbar_delta_phi', 'wminusb_delta_phi', 'wminusbbar_delta_phi', 'top_eta', 'top_boosted_eta', 'tbar_eta', 'tbar_boosted_eta', 'ttbar_delta_eta', 'ttbar_eta', 'llbar_delta_eta', 'bbbar_delta_eta', 'nunubar_delta_eta', 'top_phi', 'tbar_phi', 'ttbar_phi', 'ttbar_delta_phi', 'llbar_phi', 'llbar_delta_phi', 'bbbar_phi', 'bbbar_delta_phi', 'nunubar_phi', 'nunubar_delta_phi', 'l_eta', 'lbar_eta', 'l_phi', 'lbar_phi', 'b_eta', 'bbar_eta', 'b_phi', 'bbar_phi', 'nu_eta', 'nubar_eta', 'nu_phi', 'nubar_phi', 'wplus_eta', 'wminus_eta', 'wplus_phi', 'wminus_phi', 'top_pt', 'tbar_pt', 'l_pt', 'b_pt', 'bbar_pt', 'nu_pt', 'nubar_pt', 'met_pt', 'ttbar_pt', 'ttbar_boosted_pt', 'wplus_pt', 'wminus_pt', 'ttbar_mass', 'production_mode', 'eventWeight', '__index__']\n",
      "num qqbar = 45652\n",
      "training (110934, 83)\n",
      "evaluating (26022, 83)\n"
     ]
    },
    {
     "data": {
      "text/plain": [
       "<__main__.ProductionModeDataset at 0x7fdbcbf582b0>"
      ]
     },
     "execution_count": 8,
     "metadata": {},
     "output_type": "execute_result"
    }
   ],
   "source": [
    "# root_path = \"/depot/darkmatter/data/jupyterhub/Physics_Undergrads/Steve/things\"\n",
    "\n",
    "# file = root_path + \"/all_1.root\"\n",
    "\n",
    "# ProductionModeDataset(file)"
   ]
  },
  {
   "cell_type": "code",
   "execution_count": 15,
   "metadata": {},
   "outputs": [
    {
     "name": "stdout",
     "output_type": "stream",
     "text": [
      "['ttBar_treeVariables_step8;5;1']\n",
      "['lb_delta_eta', 'lbbar_delta_eta', 'lnu_delta_eta', 'lnubar_delta_eta', 'lbarb_delta_eta', 'lbarbbar_delta_eta', 'lbarnu_delta_eta', 'lbarnubar_delta_eta', 'bnu_delta_eta', 'bnubar_delta_eta', 'bbarnu_delta_eta', 'bbarnubar_delta_eta', 'lb_delta_phi', 'lbbar_delta_phi', 'lnu_delta_phi', 'lnubar_delta_phi', 'lbarb_delta_phi', 'lbarbbar_delta_phi', 'lbarnu_delta_phi', 'lbarnubar_delta_phi', 'bnu_delta_phi', 'bnubar_delta_phi', 'bbarnu_delta_phi', 'bbarnubar_delta_phi', 'wplusb_delta_eta', 'wplusbbar_delta_eta', 'wminusb_delta_eta', 'wminusbbar_delta_eta', 'wplusb_delta_phi', 'wplusbbar_delta_phi', 'wminusb_delta_phi', 'wminusbbar_delta_phi', 'top_eta', 'top_boosted_eta', 'tbar_eta', 'tbar_boosted_eta', 'ttbar_delta_eta', 'ttbar_eta', 'llbar_delta_eta', 'bbbar_delta_eta', 'nunubar_delta_eta', 'top_phi', 'tbar_phi', 'ttbar_phi', 'ttbar_delta_phi', 'llbar_phi', 'llbar_delta_phi', 'bbbar_phi', 'bbbar_delta_phi', 'nunubar_phi', 'nunubar_delta_phi', 'l_eta', 'lbar_eta', 'l_phi', 'lbar_phi', 'b_eta', 'bbar_eta', 'b_phi', 'bbar_phi', 'nu_eta', 'nubar_eta', 'nu_phi', 'nubar_phi', 'wplus_eta', 'wminus_eta', 'wplus_phi', 'wminus_phi', 'top_pt', 'tbar_pt', 'l_pt', 'b_pt', 'bbar_pt', 'nu_pt', 'nubar_pt', 'met_pt', 'ttbar_pt', 'ttbar_boosted_pt', 'wplus_pt', 'wminus_pt', 'ttbar_mass', 'production_mode', 'eventWeight', '__index__']\n",
      "num qqbar = 45652\n",
      "training (110934, 83)\n",
      "evaluating (26022, 83)\n"
     ]
    }
   ],
   "source": [
    "# data_o = ProductionModeDataset(file)"
   ]
  },
  {
   "cell_type": "code",
   "execution_count": 18,
   "metadata": {},
   "outputs": [
    {
     "data": {
      "text/plain": [
       "array([[4.25484424e-02, 1.94240780e-01, 1.40045778e-01, ...,\n",
       "        2.00000000e+00, 8.74388428e+01, 5.62070000e+04],\n",
       "       [5.26011911e-01, 2.05888226e-01, 2.55710306e-01, ...,\n",
       "        2.00000000e+00, 6.62610474e+01, 3.77360000e+04],\n",
       "       [2.99117268e-01, 4.18714768e-01, 4.24535231e-01, ...,\n",
       "        0.00000000e+00, 8.83249359e+01, 3.07602000e+05],\n",
       "       ...,\n",
       "       [3.94856636e-01, 9.05526598e-02, 3.97503147e-01, ...,\n",
       "        2.00000000e+00, 7.72362442e+01, 5.08670000e+04],\n",
       "       [5.40636140e-02, 2.46736763e-01, 1.53004308e-01, ...,\n",
       "        0.00000000e+00, 7.36623306e+01, 3.35191000e+05],\n",
       "       [9.10920545e-02, 3.42148793e-01, 3.55437631e-01, ...,\n",
       "        0.00000000e+00, 7.73415146e+01, 3.35012000e+05]])"
      ]
     },
     "execution_count": 18,
     "metadata": {},
     "output_type": "execute_result"
    }
   ],
   "source": [
    "# data = data_o.get_eval_data()\n",
    "# data"
   ]
  }
 ],
 "metadata": {
  "kernelspec": {
   "display_name": "Python [conda env: GANS_7]",
   "language": "python",
   "name": "conda-env-GANS_7-py"
  },
  "language_info": {
   "codemirror_mode": {
    "name": "ipython",
    "version": 3
   },
   "file_extension": ".py",
   "mimetype": "text/x-python",
   "name": "python",
   "nbconvert_exporter": "python",
   "pygments_lexer": "ipython3",
   "version": "3.6.12"
  }
 },
 "nbformat": 4,
 "nbformat_minor": 2
}
