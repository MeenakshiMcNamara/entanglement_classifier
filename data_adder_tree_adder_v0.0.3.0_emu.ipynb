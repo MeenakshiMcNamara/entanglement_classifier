{
 "cells": [
  {
   "cell_type": "code",
   "execution_count": 1,
   "metadata": {},
   "outputs": [
    {
     "name": "stderr",
     "output_type": "stream",
     "text": [
      "/home/zhou907/.conda/envs/cent7/5.1.0-py36/GANS2/lib/python3.6/site-packages/uproot/reading.py:186: FutureWarning: XRootD 5.1.1 is not fully supported; either upgrade to 5.2.0+ or set\n",
      "\n",
      "    open.defaults[\"xrootd_handler\"] = uproot.MultithreadedXRootDSource\n",
      "\n",
      "  warnings.warn(message, FutureWarning)\n"
     ]
    }
   ],
   "source": [
    "import uproot\n",
    "import matplotlib\n",
    "import ipykernel\n",
    "import numpy as np\n",
    "import scipy\n",
    "import torch\n",
    "import pandas as pd\n",
    "import sklearn\n",
    "import uproot as uproot"
   ]
  },
  {
   "cell_type": "code",
   "execution_count": 2,
   "metadata": {},
   "outputs": [
    {
     "name": "stdout",
     "output_type": "stream",
     "text": [
      "Welcome to JupyROOT 6.24/00\n"
     ]
    }
   ],
   "source": [
    "import root_pandas"
   ]
  },
  {
   "cell_type": "code",
   "execution_count": 3,
   "metadata": {},
   "outputs": [],
   "source": [
    "depo_dir = '/depot-new/cms/top/mcnama20/TopSpinCorr-Run2-Entanglement/CMSSW_10_2_22/src/TopAnalysis/Configuration/analysis/diLeptonic/'\n",
    "root_folder = \"spinCorrInput_wbosons/Nominal/\""
   ]
  },
  {
   "cell_type": "code",
   "execution_count": 4,
   "metadata": {},
   "outputs": [],
   "source": [
    "ee_f = \"ee/ee_ttbarsignalplustau_fromDilepton_TuneCP5.root\"\n",
    "emu_f = \"emu/emu_ttbarsignalplustau_fromDilepton_TuneCP5.root\"\n",
    "mumu_f = \"mumu/mumu_ttbarsignalplustau_fromDilepton_TuneCP5.root\""
   ]
  },
  {
   "cell_type": "code",
   "execution_count": 7,
   "metadata": {},
   "outputs": [
    {
     "data": {
      "text/plain": [
       "['ttBar_treeVariables_step0;23',\n",
       " 'ttBar_treeVariables_step0;22',\n",
       " 'ttBar_treeVariables_step1;19',\n",
       " 'ttBar_treeVariables_step1;18',\n",
       " 'ttBar_treeVariables_step3;15',\n",
       " 'ttBar_treeVariables_step3;14',\n",
       " 'ttBar_treeVariables_step4;15',\n",
       " 'ttBar_treeVariables_step4;14',\n",
       " 'ttBar_treeVariables_step5;13',\n",
       " 'ttBar_treeVariables_step5;12',\n",
       " 'ttBar_treeVariables_step6;13',\n",
       " 'ttBar_treeVariables_step6;12',\n",
       " 'ttBar_treeVariables_step7;12',\n",
       " 'ttBar_treeVariables_step7;11',\n",
       " 'ttBar_treeVariables_step8;11',\n",
       " 'ttBar_treeVariables_step8;10',\n",
       " 'ttBar_treeVariables_step2;8',\n",
       " 'ttBar_treeVariables_step2;7',\n",
       " 'weightedEvents;1']"
      ]
     },
     "execution_count": 7,
     "metadata": {},
     "output_type": "execute_result"
    }
   ],
   "source": [
    "data = uproot.open(depo_dir + root_folder + emu_f, key = \"ttBar_treeVariables_step8;3\")\n",
    "data.keys()"
   ]
  },
  {
   "cell_type": "code",
   "execution_count": 8,
   "metadata": {},
   "outputs": [
    {
     "data": {
      "text/plain": [
       "['ttBar_treeVariables_step0;12',\n",
       " 'ttBar_treeVariables_step0;11',\n",
       " 'ttBar_treeVariables_step1;11',\n",
       " 'ttBar_treeVariables_step1;10',\n",
       " 'ttBar_treeVariables_step3;10',\n",
       " 'ttBar_treeVariables_step3;9',\n",
       " 'ttBar_treeVariables_step5;7',\n",
       " 'ttBar_treeVariables_step5;6',\n",
       " 'ttBar_treeVariables_step4;7',\n",
       " 'ttBar_treeVariables_step4;6',\n",
       " 'ttBar_treeVariables_step6;6',\n",
       " 'ttBar_treeVariables_step6;5',\n",
       " 'ttBar_treeVariables_step7;6',\n",
       " 'ttBar_treeVariables_step7;5',\n",
       " 'ttBar_treeVariables_step2;6',\n",
       " 'ttBar_treeVariables_step2;5',\n",
       " 'ttBar_treeVariables_step8;5',\n",
       " 'ttBar_treeVariables_step8;4',\n",
       " 'weightedEvents;1']"
      ]
     },
     "execution_count": 8,
     "metadata": {},
     "output_type": "execute_result"
    }
   ],
   "source": [
    "#datamu = uproot.open(depo_dir + root_folder + mumu_f, key = \"ttBar_treeVariables_step8;3\")\n",
    "#datamu.keys()"
   ]
  },
  {
   "cell_type": "code",
   "execution_count": 9,
   "metadata": {},
   "outputs": [
    {
     "data": {
      "text/plain": [
       "['top_pt',\n",
       " 'top_phi',\n",
       " 'top_rapidity',\n",
       " 'top_arapidity',\n",
       " 'top_eta',\n",
       " 'top_mass',\n",
       " 'top_boosted_theta',\n",
       " 'top_boosted_eta',\n",
       " 'top_theta_v2',\n",
       " 'tbar_pt',\n",
       " 'tbar_phi',\n",
       " 'tbar_rapidity',\n",
       " 'tbar_arapidity',\n",
       " 'tbar_eta',\n",
       " 'tbar_mass',\n",
       " 'tbar_boosted_theta',\n",
       " 'tbar_boosted_eta',\n",
       " 'l_pt',\n",
       " 'lbar_pt',\n",
       " 'e_pt',\n",
       " 'ebar_pt',\n",
       " 'mu_pt',\n",
       " 'mubar_pt',\n",
       " 'b_pt',\n",
       " 'bbar_pt',\n",
       " 'nu_pt',\n",
       " 'nubar_pt',\n",
       " 'l_eta',\n",
       " 'lbar_eta',\n",
       " 'e_eta',\n",
       " 'ebar_eta',\n",
       " 'mu_eta',\n",
       " 'mubar_eta',\n",
       " 'b_eta',\n",
       " 'bbar_eta',\n",
       " 'nu_eta',\n",
       " 'nubar_eta',\n",
       " 'l_phi',\n",
       " 'lbar_phi',\n",
       " 'e_phi',\n",
       " 'ebar_phi',\n",
       " 'mu_phi',\n",
       " 'mubar_phi',\n",
       " 'b_phi',\n",
       " 'bbar_phi',\n",
       " 'nu_phi',\n",
       " 'nubar_phi',\n",
       " 'met_pt',\n",
       " 'ttbar_pt',\n",
       " 'ttbar_phi',\n",
       " 'ttbar_rapidity',\n",
       " 'ttbar_arapidity',\n",
       " 'ttbar_delta_phi',\n",
       " 'ttbar_delta_eta',\n",
       " 'ttbar_delta_rapidity',\n",
       " 'ttbar_mass',\n",
       " 'ttbar_eta',\n",
       " 'ttbar_boosted_pt',\n",
       " 'wplus_pt',\n",
       " 'wplus_eta',\n",
       " 'wplus_phi',\n",
       " 'wplus_mass',\n",
       " 'wminus_pt',\n",
       " 'wminus_eta',\n",
       " 'wminus_phi',\n",
       " 'wminus_mass',\n",
       " 'llbar_pt',\n",
       " 'llbar_phi',\n",
       " 'llbar_rapidity',\n",
       " 'llbar_arapidity',\n",
       " 'llbar_delta_phi',\n",
       " 'llbar_delta_eta',\n",
       " 'llbar_delta_rapidity',\n",
       " 'llbar_mass',\n",
       " 'bbbar_pt',\n",
       " 'bbbar_phi',\n",
       " 'bbbar_rapidity',\n",
       " 'bbbar_arapidity',\n",
       " 'bbbar_delta_phi',\n",
       " 'bbbar_delta_eta',\n",
       " 'bbbar_delta_rapidity',\n",
       " 'llbar_mass',\n",
       " 'nunubar_pt',\n",
       " 'nunubar_phi',\n",
       " 'nunubar_rapidity',\n",
       " 'nunubar_arapidity',\n",
       " 'nunubar_delta_phi',\n",
       " 'nunubar_delta_eta',\n",
       " 'nunubar_delta_rapidity',\n",
       " 'nunubar_mass',\n",
       " 'MT2',\n",
       " 'all_mass',\n",
       " 'r_mass',\n",
       " 'jet_multiplicity',\n",
       " 'bjet_multiplicity',\n",
       " 'x1',\n",
       " 'x2',\n",
       " 'production_mode',\n",
       " 'b1k',\n",
       " 'b2k',\n",
       " 'b1j',\n",
       " 'b2j',\n",
       " 'b1r',\n",
       " 'b2r',\n",
       " 'b1q',\n",
       " 'b2q',\n",
       " 'b1n',\n",
       " 'b2n',\n",
       " 'b_Pkk',\n",
       " 'b_Mkk',\n",
       " 'b_Pjj',\n",
       " 'b_Mjj',\n",
       " 'b_Prr',\n",
       " 'b_Mrr',\n",
       " 'b_Pqq',\n",
       " 'b_Mqq',\n",
       " 'b_Pnn',\n",
       " 'b_Mnn',\n",
       " 'c_kk',\n",
       " 'c_rr',\n",
       " 'c_nn',\n",
       " 'c_rk',\n",
       " 'c_kr',\n",
       " 'c_nr',\n",
       " 'c_rn',\n",
       " 'c_nk',\n",
       " 'c_kn',\n",
       " 'c_Prk',\n",
       " 'c_Mrk',\n",
       " 'c_Pnr',\n",
       " 'c_Mnr',\n",
       " 'c_Pnk',\n",
       " 'c_Mnk',\n",
       " 'll_cHel',\n",
       " 'll_cLab',\n",
       " 'll_kNorm',\n",
       " 'll_rNorm',\n",
       " 'gen_top_pt',\n",
       " 'gen_top_phi',\n",
       " 'gen_top_rapidity',\n",
       " 'gen_top_arapidity',\n",
       " 'gen_tbar_pt',\n",
       " 'gen_tbar_phi',\n",
       " 'gen_tbar_rapidity',\n",
       " 'gen_tbar_arapidity',\n",
       " 'gen_l_pt',\n",
       " 'gen_lbar_pt',\n",
       " 'gen_e_pt',\n",
       " 'gen_ebar_pt',\n",
       " 'gen_mu_pt',\n",
       " 'gen_mubar_pt',\n",
       " 'gen_b_pt',\n",
       " 'gen_bbar_pt',\n",
       " 'gen_nu_pt',\n",
       " 'gen_nubar_pt',\n",
       " 'gen_l_eta',\n",
       " 'gen_lbar_eta',\n",
       " 'gen_e_eta',\n",
       " 'gen_ebar_eta',\n",
       " 'gen_mu_eta',\n",
       " 'gen_mubar_eta',\n",
       " 'gen_b_eta',\n",
       " 'gen_bbar_eta',\n",
       " 'gen_nu_eta',\n",
       " 'gen_nubar_eta',\n",
       " 'gen_l_phi',\n",
       " 'gen_lbar_phi',\n",
       " 'gen_e_phi',\n",
       " 'gen_ebar_phi',\n",
       " 'gen_mu_phi',\n",
       " 'gen_mubar_phi',\n",
       " 'gen_b_phi',\n",
       " 'gen_bbar_phi',\n",
       " 'gen_nu_phi',\n",
       " 'gen_nubar_phi',\n",
       " 'gen_ttbar_pt',\n",
       " 'gen_ttbar_phi',\n",
       " 'gen_ttbar_rapidity',\n",
       " 'gen_ttbar_arapidity',\n",
       " 'gen_ttbar_delta_phi',\n",
       " 'gen_ttbar_delta_eta',\n",
       " 'gen_ttbar_delta_rapidity',\n",
       " 'gen_ttbar_mass',\n",
       " 'gen_llbar_pt',\n",
       " 'gen_llbar_phi',\n",
       " 'gen_llbar_rapidity',\n",
       " 'gen_llbar_arapidity',\n",
       " 'gen_llbar_delta_phi',\n",
       " 'gen_llbar_delta_eta',\n",
       " 'gen_llbar_delta_rapidity',\n",
       " 'gen_llbar_mass',\n",
       " 'gen_bbbar_pt',\n",
       " 'gen_bbbar_phi',\n",
       " 'gen_bbbar_rapidity',\n",
       " 'gen_bbbar_arapidity',\n",
       " 'gen_bbbar_delta_phi',\n",
       " 'gen_bbbar_delta_eta',\n",
       " 'gen_bbbar_delta_rapidity',\n",
       " 'gen_bbbar_mass',\n",
       " 'gen_nunubar_pt',\n",
       " 'gen_nunubar_phi',\n",
       " 'gen_nunubar_rapidity',\n",
       " 'gen_nunubar_arapidity',\n",
       " 'gen_nunubar_delta_phi',\n",
       " 'gen_nunubar_delta_eta',\n",
       " 'gen_nunubar_delta_rapidity',\n",
       " 'gen_nunubar_mass',\n",
       " 'gen_MT2',\n",
       " 'gen_all_mass',\n",
       " 'gen_r_mass',\n",
       " 'gen_jet_multiplicity',\n",
       " 'gen_x1',\n",
       " 'gen_x2',\n",
       " 'gen_theta',\n",
       " 'gen_b1k',\n",
       " 'gen_b2k',\n",
       " 'gen_b1j',\n",
       " 'gen_b2j',\n",
       " 'gen_b1r',\n",
       " 'gen_b2r',\n",
       " 'gen_b1q',\n",
       " 'gen_b2q',\n",
       " 'gen_b1n',\n",
       " 'gen_b2n',\n",
       " 'gen_b_Pkk',\n",
       " 'gen_b_Mkk',\n",
       " 'gen_b_Pjj',\n",
       " 'gen_b_Mjj',\n",
       " 'gen_b_Prr',\n",
       " 'gen_b_Mrr',\n",
       " 'gen_b_Pqq',\n",
       " 'gen_b_Mqq',\n",
       " 'gen_b_Pnn',\n",
       " 'gen_b_Mnn',\n",
       " 'gen_c_kk',\n",
       " 'gen_c_rr',\n",
       " 'gen_c_nn',\n",
       " 'gen_c_rk',\n",
       " 'gen_c_kr',\n",
       " 'gen_c_nr',\n",
       " 'gen_c_rn',\n",
       " 'gen_c_nk',\n",
       " 'gen_c_kn',\n",
       " 'gen_c_Prk',\n",
       " 'gen_c_Mrk',\n",
       " 'gen_c_Pnr',\n",
       " 'gen_c_Mnr',\n",
       " 'gen_c_Pnk',\n",
       " 'gen_c_Mnk',\n",
       " 'gen_ll_cHel',\n",
       " 'gen_ll_cLab',\n",
       " 'gen_ll_kNorm',\n",
       " 'gen_ll_rNorm',\n",
       " 'entry',\n",
       " 'isTopGen',\n",
       " 'isKinReco',\n",
       " 'eventWeight',\n",
       " 'trueLevelWeight']"
      ]
     },
     "execution_count": 9,
     "metadata": {},
     "output_type": "execute_result"
    }
   ],
   "source": [
    "data[\"ttBar_treeVariables_step8;11\"].keys()"
   ]
  },
  {
   "cell_type": "markdown",
   "metadata": {},
   "source": [
    "## creating delta eta & delta phi"
   ]
  },
  {
   "cell_type": "code",
   "execution_count": 11,
   "metadata": {},
   "outputs": [],
   "source": [
    "l_eta = data[\"ttBar_treeVariables_step8;11\"+'/l_eta'].array(library=\"np\")\n",
    "lbar_eta = data[\"ttBar_treeVariables_step8;11\"+'/lbar_eta'].array(library=\"np\")\n",
    "\n",
    "l_phi = data[\"ttBar_treeVariables_step8;11\"+'/l_phi'].array(library=\"np\")\n",
    "lbar_phi = data[\"ttBar_treeVariables_step8;11\"+'/lbar_phi'].array(library=\"np\")"
   ]
  },
  {
   "cell_type": "code",
   "execution_count": 12,
   "metadata": {},
   "outputs": [],
   "source": [
    "b_eta = data[\"ttBar_treeVariables_step8;11\"+'/b_eta'].array(library=\"np\")\n",
    "bbar_eta = data[\"ttBar_treeVariables_step8;11\"+'/bbar_eta'].array(library=\"np\")\n",
    "\n",
    "b_phi = data[\"ttBar_treeVariables_step8;11\"+'/b_phi'].array(library=\"np\")\n",
    "bbar_phi = data[\"ttBar_treeVariables_step8;11\"+'/bbar_phi'].array(library=\"np\")"
   ]
  },
  {
   "cell_type": "code",
   "execution_count": 13,
   "metadata": {},
   "outputs": [],
   "source": [
    "nu_eta = data[\"ttBar_treeVariables_step8;11\"+'/nu_eta'].array(library=\"np\")\n",
    "nubar_eta = data[\"ttBar_treeVariables_step8;11\"+'/nubar_eta'].array(library=\"np\")\n",
    "\n",
    "nu_phi = data[\"ttBar_treeVariables_step8;11\"+'/nu_phi'].array(library=\"np\")\n",
    "nubar_phi = data[\"ttBar_treeVariables_step8;11\"+'/nubar_phi'].array(library=\"np\")"
   ]
  },
  {
   "cell_type": "code",
   "execution_count": 14,
   "metadata": {},
   "outputs": [],
   "source": [
    "wplus_eta = data[\"ttBar_treeVariables_step8;11\"+'/wplus_eta'].array(library=\"np\")\n",
    "wminus_eta = data[\"ttBar_treeVariables_step8;11\"+'/wminus_eta'].array(library=\"np\")\n",
    "\n",
    "wplus_phi = data[\"ttBar_treeVariables_step8;11\"+'/wplus_phi'].array(library=\"np\")\n",
    "wminus_phi = data[\"ttBar_treeVariables_step8;11\"+'/wminus_phi'].array(library=\"np\")"
   ]
  },
  {
   "cell_type": "code",
   "execution_count": 15,
   "metadata": {},
   "outputs": [],
   "source": [
    "lb_delta_eta = np.abs(np.subtract(l_eta,b_eta))\n",
    "lbbar_delta_eta = np.abs(np.subtract(l_eta,bbar_eta))\n",
    "lnu_delta_eta = np.abs(np.subtract(l_eta,nu_eta))\n",
    "lnubar_delta_eta = np.abs(np.subtract(l_eta,nubar_eta))\n",
    "lbarb_delta_eta = np.abs(np.subtract(lbar_eta,b_eta))\n",
    "lbarbbar_delta_eta = np.abs(np.subtract(lbar_eta,bbar_eta))\n",
    "lbarnu_delta_eta = np.abs(np.subtract(lbar_eta,nu_eta))\n",
    "lbarnubar_delta_eta = np.abs(np.subtract(lbar_eta,nubar_eta))\n",
    "bnu_delta_eta = np.abs(np.subtract(b_eta,nu_eta))\n",
    "bnubar_delta_eta = np.abs(np.subtract(b_eta,nubar_eta))\n",
    "bbarnu_delta_eta = np.abs(np.subtract(bbar_eta,nu_eta))\n",
    "bbarnubar_delta_eta = np.abs(np.subtract(bbar_eta,nubar_eta))"
   ]
  },
  {
   "cell_type": "code",
   "execution_count": 16,
   "metadata": {},
   "outputs": [],
   "source": [
    "df = pd.DataFrame()"
   ]
  },
  {
   "cell_type": "code",
   "execution_count": 17,
   "metadata": {},
   "outputs": [],
   "source": [
    "df['lb_delta_eta'] = lb_delta_eta.tolist()\n",
    "df['lbbar_delta_eta'] = lbbar_delta_eta.tolist()\n",
    "df['lnu_delta_eta'] = lnu_delta_eta.tolist()\n",
    "df['lnubar_delta_eta'] = lnubar_delta_eta.tolist()\n",
    "df['lbarb_delta_eta'] = lbarb_delta_eta.tolist()\n",
    "df['lbarbbar_delta_eta'] = lbarbbar_delta_eta.tolist()\n",
    "df['lbarnu_delta_eta'] = lbarnu_delta_eta.tolist()\n",
    "df['lbarnubar_delta_eta'] = lbarnubar_delta_eta.tolist()\n",
    "df['bnu_delta_eta'] = bnu_delta_eta.tolist()\n",
    "df['bnubar_delta_eta'] = bnubar_delta_eta.tolist()\n",
    "df['bbarnu_delta_eta'] = bbarnu_delta_eta.tolist()\n",
    "df['bbarnubar_delta_eta'] = bbarnubar_delta_eta.tolist()"
   ]
  },
  {
   "cell_type": "code",
   "execution_count": 18,
   "metadata": {},
   "outputs": [],
   "source": [
    "#phi\n",
    "lb_delta_phi = np.abs(np.subtract(l_phi,b_phi))\n",
    "lbbar_delta_phi = np.abs(np.subtract(l_phi,bbar_phi))\n",
    "lnu_delta_phi = np.abs(np.subtract(l_phi,nu_phi))\n",
    "lnubar_delta_phi = np.abs(np.subtract(l_phi,nubar_phi))\n",
    "lbarb_delta_phi = np.abs(np.subtract(lbar_phi,b_phi))\n",
    "lbarbbar_delta_phi = np.abs(np.subtract(lbar_phi,bbar_phi))\n",
    "lbarnu_delta_phi = np.abs(np.subtract(lbar_phi,nu_phi))\n",
    "lbarnubar_delta_phi = np.abs(np.subtract(lbar_phi,nubar_phi))\n",
    "bnu_delta_phi = np.abs(np.subtract(b_phi,nu_phi))\n",
    "bnubar_delta_phi = np.abs(np.subtract(b_phi,nubar_phi))\n",
    "bbarnu_delta_phi = np.abs(np.subtract(bbar_phi,nu_phi))\n",
    "bbarnubar_delta_phi = np.abs(np.subtract(bbar_phi,nubar_phi))"
   ]
  },
  {
   "cell_type": "code",
   "execution_count": 19,
   "metadata": {},
   "outputs": [],
   "source": [
    "df['lb_delta_phi'] = lb_delta_phi.tolist()\n",
    "df['lbbar_delta_phi'] = lbbar_delta_phi.tolist()\n",
    "df['lnu_delta_phi'] = lnu_delta_phi.tolist()\n",
    "df['lnubar_delta_phi'] = lnubar_delta_phi.tolist()\n",
    "df['lbarb_delta_phi'] = lbarb_delta_phi.tolist()\n",
    "df['lbarbbar_delta_phi'] = lbarbbar_delta_phi.tolist()\n",
    "df['lbarnu_delta_phi'] = lbarnu_delta_phi.tolist()\n",
    "df['lbarnubar_delta_phi'] = lbarnubar_delta_phi.tolist()\n",
    "df['bnu_delta_phi'] = bnu_delta_phi.tolist()\n",
    "df['bnubar_delta_phi'] = bnubar_delta_phi.tolist()\n",
    "df['bbarnu_delta_phi'] = bbarnu_delta_phi.tolist()\n",
    "df['bbarnubar_delta_phi'] = bbarnubar_delta_phi.tolist()"
   ]
  },
  {
   "cell_type": "code",
   "execution_count": 20,
   "metadata": {},
   "outputs": [],
   "source": [
    "#df"
   ]
  },
  {
   "cell_type": "code",
   "execution_count": 21,
   "metadata": {},
   "outputs": [
    {
     "data": {
      "text/plain": [
       "Index(['lb_delta_eta', 'lbbar_delta_eta', 'lnu_delta_eta', 'lnubar_delta_eta',\n",
       "       'lbarb_delta_eta', 'lbarbbar_delta_eta', 'lbarnu_delta_eta',\n",
       "       'lbarnubar_delta_eta', 'bnu_delta_eta', 'bnubar_delta_eta',\n",
       "       'bbarnu_delta_eta', 'bbarnubar_delta_eta', 'lb_delta_phi',\n",
       "       'lbbar_delta_phi', 'lnu_delta_phi', 'lnubar_delta_phi',\n",
       "       'lbarb_delta_phi', 'lbarbbar_delta_phi', 'lbarnu_delta_phi',\n",
       "       'lbarnubar_delta_phi', 'bnu_delta_phi', 'bnubar_delta_phi',\n",
       "       'bbarnu_delta_phi', 'bbarnubar_delta_phi'],\n",
       "      dtype='object')"
      ]
     },
     "execution_count": 21,
     "metadata": {},
     "output_type": "execute_result"
    }
   ],
   "source": [
    "df.keys()"
   ]
  },
  {
   "cell_type": "code",
   "execution_count": 22,
   "metadata": {},
   "outputs": [],
   "source": [
    "#W\n",
    "wplusb_delta_eta = np.abs(np.subtract(wplus_eta,b_eta))\n",
    "wplusbbar_delta_eta = np.abs(np.subtract(wplus_eta,bbar_eta))\n",
    "wminusb_delta_eta = np.abs(np.subtract(wminus_eta,b_eta))\n",
    "wminusbbar_delta_eta = np.abs(np.subtract(wminus_eta,bbar_eta))\n",
    "\n",
    "df['wplusb_delta_eta'] = wplusb_delta_eta.tolist()\n",
    "df['wplusbbar_delta_eta'] = wplusbbar_delta_eta.tolist()\n",
    "df['wminusb_delta_eta'] = wminusb_delta_eta.tolist()\n",
    "df['wminusbbar_delta_eta'] = wminusbbar_delta_eta.tolist()"
   ]
  },
  {
   "cell_type": "code",
   "execution_count": 23,
   "metadata": {},
   "outputs": [],
   "source": [
    "wplusb_delta_phi = np.abs(np.subtract(wplus_phi,b_phi))\n",
    "wplusbbar_delta_phi = np.abs(np.subtract(wplus_phi,bbar_phi))\n",
    "wminusb_delta_phi = np.abs(np.subtract(wminus_phi,b_phi))\n",
    "wminusbbar_delta_phi = np.abs(np.subtract(wminus_phi,bbar_phi))\n",
    "\n",
    "df['wplusb_delta_phi'] = wplusb_delta_phi.tolist()\n",
    "df['wplusbbar_delta_phi'] = wplusbbar_delta_phi.tolist()\n",
    "df['wminusb_delta_phi'] = wminusb_delta_phi.tolist()\n",
    "df['wminusbbar_delta_phi'] = wminusbbar_delta_phi.tolist()"
   ]
  },
  {
   "cell_type": "code",
   "execution_count": 24,
   "metadata": {},
   "outputs": [],
   "source": [
    "#df"
   ]
  },
  {
   "cell_type": "code",
   "execution_count": 25,
   "metadata": {},
   "outputs": [],
   "source": [
    "eta_L = []"
   ]
  },
  {
   "cell_type": "code",
   "execution_count": 26,
   "metadata": {},
   "outputs": [],
   "source": [
    "phi_L = []"
   ]
  },
  {
   "cell_type": "code",
   "execution_count": 27,
   "metadata": {},
   "outputs": [],
   "source": [
    "#for key in data[\"ttBar_treeVariables_step8;3\"].keys():\n",
    "#    if \"eta\" in key and \"gen\" not in key:\n",
    "#        print (key)"
   ]
  },
  {
   "cell_type": "code",
   "execution_count": 28,
   "metadata": {},
   "outputs": [],
   "source": [
    "for key in data[\"ttBar_treeVariables_step8;11\"].keys():\n",
    "    if \"eta\" in key and \"gen\" not in key:\n",
    "        eta_L.append(key)"
   ]
  },
  {
   "cell_type": "code",
   "execution_count": 29,
   "metadata": {},
   "outputs": [],
   "source": [
    "for key in data[\"ttBar_treeVariables_step8;11\"].keys():\n",
    "    if \"phi\" in key and \"gen\" not in key:\n",
    "        phi_L.append(key)"
   ]
  },
  {
   "cell_type": "code",
   "execution_count": 30,
   "metadata": {},
   "outputs": [
    {
     "data": {
      "text/plain": [
       "['top_eta',\n",
       " 'top_boosted_theta',\n",
       " 'top_boosted_eta',\n",
       " 'top_theta_v2',\n",
       " 'tbar_eta',\n",
       " 'tbar_boosted_theta',\n",
       " 'tbar_boosted_eta',\n",
       " 'l_eta',\n",
       " 'lbar_eta',\n",
       " 'e_eta',\n",
       " 'ebar_eta',\n",
       " 'mu_eta',\n",
       " 'mubar_eta',\n",
       " 'b_eta',\n",
       " 'bbar_eta',\n",
       " 'nu_eta',\n",
       " 'nubar_eta',\n",
       " 'ttbar_delta_eta',\n",
       " 'ttbar_eta',\n",
       " 'wplus_eta',\n",
       " 'wminus_eta',\n",
       " 'llbar_delta_eta',\n",
       " 'bbbar_delta_eta',\n",
       " 'nunubar_delta_eta']"
      ]
     },
     "execution_count": 30,
     "metadata": {},
     "output_type": "execute_result"
    }
   ],
   "source": [
    "eta_L"
   ]
  },
  {
   "cell_type": "code",
   "execution_count": 31,
   "metadata": {},
   "outputs": [
    {
     "data": {
      "text/plain": [
       "24"
      ]
     },
     "execution_count": 31,
     "metadata": {},
     "output_type": "execute_result"
    }
   ],
   "source": [
    "len(eta_L)"
   ]
  },
  {
   "cell_type": "code",
   "execution_count": 32,
   "metadata": {},
   "outputs": [
    {
     "data": {
      "text/plain": [
       "['top_phi',\n",
       " 'tbar_phi',\n",
       " 'l_phi',\n",
       " 'lbar_phi',\n",
       " 'e_phi',\n",
       " 'ebar_phi',\n",
       " 'mu_phi',\n",
       " 'mubar_phi',\n",
       " 'b_phi',\n",
       " 'bbar_phi',\n",
       " 'nu_phi',\n",
       " 'nubar_phi',\n",
       " 'ttbar_phi',\n",
       " 'ttbar_delta_phi',\n",
       " 'wplus_phi',\n",
       " 'wminus_phi',\n",
       " 'llbar_phi',\n",
       " 'llbar_delta_phi',\n",
       " 'bbbar_phi',\n",
       " 'bbbar_delta_phi',\n",
       " 'nunubar_phi',\n",
       " 'nunubar_delta_phi']"
      ]
     },
     "execution_count": 32,
     "metadata": {},
     "output_type": "execute_result"
    }
   ],
   "source": [
    "phi_L"
   ]
  },
  {
   "cell_type": "code",
   "execution_count": 33,
   "metadata": {},
   "outputs": [
    {
     "data": {
      "text/plain": [
       "22"
      ]
     },
     "execution_count": 33,
     "metadata": {},
     "output_type": "execute_result"
    }
   ],
   "source": [
    "len(phi_L)"
   ]
  },
  {
   "cell_type": "code",
   "execution_count": 34,
   "metadata": {},
   "outputs": [],
   "source": [
    "top_eta = data[\"ttBar_treeVariables_step8;11\"+'/top_eta'].array(library=\"np\")\n",
    "#top_boosted_theta = data[\"ttBar_treeVariables_step8;3\"+'/top_boosted_theta'].array(library=\"np\")\n",
    "top_boosted_eta = data[\"ttBar_treeVariables_step8;11\"+'/top_boosted_eta'].array(library=\"np\")\n",
    "#top_theta_v2 = data[\"ttBar_treeVariables_step8;3\"+'/top_theta_v2'].array(library=\"np\")\n",
    "tbar_eta = data[\"ttBar_treeVariables_step8;11\"+'/tbar_eta'].array(library=\"np\")\n",
    "#tbar_boosted_theta = data[\"ttBar_treeVariables_step8;3\"+'/tbar_boosted_theta'].array(library=\"np\")\n",
    "tbar_boosted_eta = data[\"ttBar_treeVariables_step8;11\"+'/top_eta'].array(library=\"np\")\n",
    "#l_eta = data[\"ttBar_treeVariables_step8;3\"+'/l_eta'].array(library=\"np\")\n",
    "#lbar_eta = data[\"ttBar_treeVariables_step8;3\"+'/lbar_eta'].array(library=\"np\")\n",
    "e_eta = data[\"ttBar_treeVariables_step8;11\"+'/e_eta'].array(library=\"np\")\n",
    "ebar_eta = data[\"ttBar_treeVariables_step8;11\"+'/ebar_eta'].array(library=\"np\")\n",
    "mu_eta = data[\"ttBar_treeVariables_step8;11\"+'/mu_eta'].array(library=\"np\")\n",
    "mubar_eta = data[\"ttBar_treeVariables_step8;11\"+'/mubar_eta'].array(library=\"np\")\n",
    "#b_eta = data[\"ttBar_treeVariables_step8;3\"+'/b_eta'].array(library=\"np\")\n",
    "#bbar_eta = data[\"ttBar_treeVariables_step8;3\"+'/bbar_eta'].array(library=\"np\")\n",
    "#nu_eta = data[\"ttBar_treeVariables_step8;3\"+'/nu_eta'].array(library=\"np\")\n",
    "#nubar_eta = data[\"ttBar_treeVariables_step8;3\"+'/nubar_eta'].array(library=\"np\")\n",
    "ttbar_delta_eta = data[\"ttBar_treeVariables_step8;11\"+'/ttbar_delta_eta'].array(library=\"np\")\n",
    "ttbar_eta = data[\"ttBar_treeVariables_step8;11\"+'/ttbar_eta'].array(library=\"np\")\n",
    "#wplus_eta = data[\"ttBar_treeVariables_step8;3\"+'/wplus_eta'].array(library=\"np\")\n",
    "#wminus_eta = data[\"ttBar_treeVariables_step8;3\"+'/wminus_eta'].array(library=\"np\")\n",
    "llbar_delta_eta = data[\"ttBar_treeVariables_step8;11\"+'/llbar_delta_eta'].array(library=\"np\")\n",
    "bbbar_delta_eta = data[\"ttBar_treeVariables_step8;11\"+'/bbbar_delta_eta'].array(library=\"np\")\n",
    "nunubar_delta_eta = data[\"ttBar_treeVariables_step8;11\"+'/nunubar_delta_eta'].array(library=\"np\")"
   ]
  },
  {
   "cell_type": "code",
   "execution_count": 35,
   "metadata": {},
   "outputs": [],
   "source": [
    "top_phi = data[\"ttBar_treeVariables_step8;11\"+'/top_phi'].array(library=\"np\")\n",
    "tbar_phi = data[\"ttBar_treeVariables_step8;11\"+'/tbar_phi'].array(library=\"np\")\n",
    "#l_phi = data[\"ttBar_treeVariables_step8;3\"+'/l_phi'].array(library=\"np\")\n",
    "#lbar_phi = data[\"ttBar_treeVariables_step8;3\"+'/lbar_phi'].array(library=\"np\")\n",
    "e_phi = data[\"ttBar_treeVariables_step8;11\"+'/e_phi'].array(library=\"np\")\n",
    "ebar_phi = data[\"ttBar_treeVariables_step8;11\"+'/ebar_phi'].array(library=\"np\")\n",
    "mu_phi = data[\"ttBar_treeVariables_step8;11\"+'/mu_phi'].array(library=\"np\")\n",
    "mubar_phi = data[\"ttBar_treeVariables_step8;11\"+'/mubar_phi'].array(library=\"np\")\n",
    "#b_phi = data[\"ttBar_treeVariables_step8;3\"+'/b_phi'].array(library=\"np\")\n",
    "#bbar_phi = data[\"ttBar_treeVariables_step8;3\"+'/bbar_phi'].array(library=\"np\")\n",
    "#nu_phi = data[\"ttBar_treeVariables_step8;3\"+'/nu_phi'].array(library=\"np\")\n",
    "#nubar_phi = data[\"ttBar_treeVariables_step8;3\"+'/nubar_phi'].array(library=\"np\")\n",
    "ttbar_phi = data[\"ttBar_treeVariables_step8;11\"+'/ttbar_phi'].array(library=\"np\")\n",
    "ttbar_delta_phi = data[\"ttBar_treeVariables_step8;11\"+'/ttbar_delta_phi'].array(library=\"np\")\n",
    "#wplus_phi = data[\"ttBar_treeVariables_step8;3\"+'/wplus_phi'].array(library=\"np\")\n",
    "#wminus_phi = data[\"ttBar_treeVariables_step8;3\"+'/wminus_phi'].array(library=\"np\")\n",
    "llbar_phi = data[\"ttBar_treeVariables_step8;11\"+'/llbar_phi'].array(library=\"np\")\n",
    "llbar_delta_phi = data[\"ttBar_treeVariables_step8;11\"+'/llbar_delta_phi'].array(library=\"np\")\n",
    "bbbar_phi = data[\"ttBar_treeVariables_step8;11\"+'/bbbar_phi'].array(library=\"np\")\n",
    "bbbar_delta_phi = data[\"ttBar_treeVariables_step8;11\"+'/bbbar_delta_phi'].array(library=\"np\")\n",
    "nunubar_phi = data[\"ttBar_treeVariables_step8;11\"+'/nunubar_phi'].array(library=\"np\")\n",
    "nunubar_delta_phi = data[\"ttBar_treeVariables_step8;11\"+'/nunubar_delta_phi'].array(library=\"np\")\n"
   ]
  },
  {
   "cell_type": "code",
   "execution_count": 36,
   "metadata": {},
   "outputs": [],
   "source": [
    "df['top_eta'] = top_eta.tolist()\n",
    "df['top_boosted_eta'] = top_boosted_eta.tolist()\n",
    "df['tbar_eta'] = tbar_eta.tolist()\n",
    "df['tbar_boosted_eta'] = tbar_boosted_eta.tolist()\n",
    "df['e_eta'] = e_eta.tolist()\n",
    "df['ebar_eta'] = ebar_eta.tolist()\n",
    "df['mu_eta'] = mu_eta.tolist()\n",
    "df['mubar_eta'] = mubar_eta.tolist()\n",
    "df['ttbar_delta_eta'] = ttbar_delta_eta.tolist()\n",
    "df['ttbar_eta'] = ttbar_eta.tolist()\n",
    "df['llbar_delta_eta'] = llbar_delta_eta.tolist()\n",
    "df['bbbar_delta_eta'] = bbbar_delta_eta.tolist()\n",
    "df['nunubar_delta_eta'] = nunubar_delta_eta.tolist()\n",
    "df['top_phi'] = top_phi.tolist()\n",
    "df['tbar_phi'] = tbar_phi.tolist()\n",
    "df['e_phi'] = e_phi.tolist()\n",
    "df['ebar_phi'] = ebar_phi.tolist()\n",
    "df['mu_phi'] = mu_phi.tolist()\n",
    "df['mubar_phi'] = mubar_phi.tolist()\n",
    "df['ttbar_phi'] = ttbar_phi.tolist()\n",
    "df['ttbar_delta_phi'] = ttbar_delta_phi.tolist()\n",
    "df['llbar_phi'] = llbar_phi.tolist()\n",
    "df['llbar_delta_phi'] = llbar_delta_phi.tolist()\n",
    "df['bbbar_phi'] = bbbar_phi.tolist()\n",
    "df['bbbar_delta_phi'] = bbbar_delta_phi.tolist()\n",
    "df['nunubar_phi'] = nunubar_phi.tolist()\n",
    "df['nunubar_delta_phi'] = nunubar_delta_phi.tolist()"
   ]
  },
  {
   "cell_type": "code",
   "execution_count": 37,
   "metadata": {},
   "outputs": [],
   "source": [
    "df['l_eta'] = l_eta.tolist()\n",
    "df['lbar_eta'] = lbar_eta.tolist()\n",
    "df['l_phi'] = l_phi.tolist()\n",
    "df['lbar_phi'] = lbar_phi.tolist()\n",
    "df['b_eta'] = b_eta.tolist()\n",
    "df['bbar_eta'] = bbar_eta.tolist()\n",
    "df['b_phi'] = b_phi.tolist()\n",
    "df['bbar_phi'] = bbar_phi.tolist()\n",
    "df['nu_eta'] = nu_eta.tolist()\n",
    "df['nubar_eta'] = nubar_eta.tolist()\n",
    "df['nu_phi'] = nu_phi.tolist()\n",
    "df['nubar_phi'] = nubar_phi.tolist()\n",
    "df['wplus_eta'] = wplus_eta.tolist()\n",
    "df['wminus_eta'] = wminus_eta.tolist()\n",
    "df['wplus_phi'] = wplus_phi.tolist()\n",
    "df['wminus_phi'] = wminus_phi.tolist()"
   ]
  },
  {
   "cell_type": "code",
   "execution_count": 38,
   "metadata": {},
   "outputs": [
    {
     "data": {
      "text/plain": [
       "Index(['lb_delta_eta', 'lbbar_delta_eta', 'lnu_delta_eta', 'lnubar_delta_eta',\n",
       "       'lbarb_delta_eta', 'lbarbbar_delta_eta', 'lbarnu_delta_eta',\n",
       "       'lbarnubar_delta_eta', 'bnu_delta_eta', 'bnubar_delta_eta',\n",
       "       'bbarnu_delta_eta', 'bbarnubar_delta_eta', 'lb_delta_phi',\n",
       "       'lbbar_delta_phi', 'lnu_delta_phi', 'lnubar_delta_phi',\n",
       "       'lbarb_delta_phi', 'lbarbbar_delta_phi', 'lbarnu_delta_phi',\n",
       "       'lbarnubar_delta_phi', 'bnu_delta_phi', 'bnubar_delta_phi',\n",
       "       'bbarnu_delta_phi', 'bbarnubar_delta_phi', 'wplusb_delta_eta',\n",
       "       'wplusbbar_delta_eta', 'wminusb_delta_eta', 'wminusbbar_delta_eta',\n",
       "       'wplusb_delta_phi', 'wplusbbar_delta_phi', 'wminusb_delta_phi',\n",
       "       'wminusbbar_delta_phi', 'top_eta', 'top_boosted_eta', 'tbar_eta',\n",
       "       'tbar_boosted_eta', 'e_eta', 'ebar_eta', 'mu_eta', 'mubar_eta',\n",
       "       'ttbar_delta_eta', 'ttbar_eta', 'llbar_delta_eta', 'bbbar_delta_eta',\n",
       "       'nunubar_delta_eta', 'top_phi', 'tbar_phi', 'e_phi', 'ebar_phi',\n",
       "       'mu_phi', 'mubar_phi', 'ttbar_phi', 'ttbar_delta_phi', 'llbar_phi',\n",
       "       'llbar_delta_phi', 'bbbar_phi', 'bbbar_delta_phi', 'nunubar_phi',\n",
       "       'nunubar_delta_phi', 'l_eta', 'lbar_eta', 'l_phi', 'lbar_phi', 'b_eta',\n",
       "       'bbar_eta', 'b_phi', 'bbar_phi', 'nu_eta', 'nubar_eta', 'nu_phi',\n",
       "       'nubar_phi', 'wplus_eta', 'wminus_eta', 'wplus_phi', 'wminus_phi'],\n",
       "      dtype='object')"
      ]
     },
     "execution_count": 38,
     "metadata": {},
     "output_type": "execute_result"
    }
   ],
   "source": [
    "df.keys()"
   ]
  },
  {
   "cell_type": "code",
   "execution_count": 39,
   "metadata": {},
   "outputs": [],
   "source": [
    "pt_L = []"
   ]
  },
  {
   "cell_type": "code",
   "execution_count": 40,
   "metadata": {},
   "outputs": [],
   "source": [
    "mass_L = []"
   ]
  },
  {
   "cell_type": "code",
   "execution_count": 41,
   "metadata": {},
   "outputs": [],
   "source": [
    "for key in data[\"ttBar_treeVariables_step8;11\"].keys():\n",
    "    if \"mass\" in key and \"gen\" not in key:\n",
    "        mass_L.append(key)"
   ]
  },
  {
   "cell_type": "code",
   "execution_count": 42,
   "metadata": {},
   "outputs": [],
   "source": [
    "for key in data[\"ttBar_treeVariables_step8;11\"].keys():\n",
    "    if \"pt\" in key and \"gen\" not in key:\n",
    "        pt_L.append(key)"
   ]
  },
  {
   "cell_type": "code",
   "execution_count": 43,
   "metadata": {},
   "outputs": [
    {
     "data": {
      "text/plain": [
       "['top_pt',\n",
       " 'tbar_pt',\n",
       " 'l_pt',\n",
       " 'lbar_pt',\n",
       " 'e_pt',\n",
       " 'ebar_pt',\n",
       " 'mu_pt',\n",
       " 'mubar_pt',\n",
       " 'b_pt',\n",
       " 'bbar_pt',\n",
       " 'nu_pt',\n",
       " 'nubar_pt',\n",
       " 'met_pt',\n",
       " 'ttbar_pt',\n",
       " 'ttbar_boosted_pt',\n",
       " 'wplus_pt',\n",
       " 'wminus_pt',\n",
       " 'llbar_pt',\n",
       " 'bbbar_pt',\n",
       " 'nunubar_pt']"
      ]
     },
     "execution_count": 43,
     "metadata": {},
     "output_type": "execute_result"
    }
   ],
   "source": [
    "pt_L"
   ]
  },
  {
   "cell_type": "code",
   "execution_count": 44,
   "metadata": {},
   "outputs": [
    {
     "data": {
      "text/plain": [
       "20"
      ]
     },
     "execution_count": 44,
     "metadata": {},
     "output_type": "execute_result"
    }
   ],
   "source": [
    "len(pt_L)"
   ]
  },
  {
   "cell_type": "code",
   "execution_count": 45,
   "metadata": {},
   "outputs": [
    {
     "data": {
      "text/plain": [
       "10"
      ]
     },
     "execution_count": 45,
     "metadata": {},
     "output_type": "execute_result"
    }
   ],
   "source": [
    "len(mass_L)"
   ]
  },
  {
   "cell_type": "code",
   "execution_count": 46,
   "metadata": {},
   "outputs": [
    {
     "data": {
      "text/plain": [
       "['top_mass',\n",
       " 'tbar_mass',\n",
       " 'ttbar_mass',\n",
       " 'wplus_mass',\n",
       " 'wminus_mass',\n",
       " 'llbar_mass',\n",
       " 'llbar_mass',\n",
       " 'nunubar_mass',\n",
       " 'all_mass',\n",
       " 'r_mass']"
      ]
     },
     "execution_count": 46,
     "metadata": {},
     "output_type": "execute_result"
    }
   ],
   "source": [
    "mass_L"
   ]
  },
  {
   "cell_type": "code",
   "execution_count": 47,
   "metadata": {},
   "outputs": [],
   "source": [
    "top_pt = data[\"ttBar_treeVariables_step8;11\"+'/top_pt'].array(library=\"np\")\n",
    "tbar_pt = data[\"ttBar_treeVariables_step8;11\"+'/tbar_pt'].array(library=\"np\")\n",
    "l_pt = data[\"ttBar_treeVariables_step8;11\"+'/l_pt'].array(library=\"np\")\n",
    "lbar_pt = data[\"ttBar_treeVariables_step8;11\"+'/lbar_pt'].array(library=\"np\")\n",
    "e_pt = data[\"ttBar_treeVariables_step8;11\"+'/e_pt'].array(library=\"np\")\n",
    "ebar_pt = data[\"ttBar_treeVariables_step8;11\"+'/ebar_pt'].array(library=\"np\")\n",
    "mu_pt = data[\"ttBar_treeVariables_step8;11\"+'/mu_pt'].array(library=\"np\")\n",
    "mubar_pt = data[\"ttBar_treeVariables_step8;11\"+'/mubar_pt'].array(library=\"np\")\n",
    "b_pt = data[\"ttBar_treeVariables_step8;11\"+'/b_pt'].array(library=\"np\")\n",
    "bbar_pt = data[\"ttBar_treeVariables_step8;11\"+'/bbar_pt'].array(library=\"np\")\n",
    "nu_pt = data[\"ttBar_treeVariables_step8;11\"+'/nu_pt'].array(library=\"np\")\n",
    "nubar_pt = data[\"ttBar_treeVariables_step8;11\"+'/nubar_pt'].array(library=\"np\")\n",
    "met_pt = data[\"ttBar_treeVariables_step8;11\"+'/met_pt'].array(library=\"np\")\n",
    "ttbar_pt = data[\"ttBar_treeVariables_step8;11\"+'/ttbar_pt'].array(library=\"np\")\n",
    "ttbar_boosted_pt = data[\"ttBar_treeVariables_step8;11\"+'/ttbar_boosted_pt'].array(library=\"np\")\n",
    "wplus_pt = data[\"ttBar_treeVariables_step8;11\"+'/wplus_pt'].array(library=\"np\")\n",
    "wminus_pt = data[\"ttBar_treeVariables_step8;11\"+'/wminus_pt'].array(library=\"np\")\n"
   ]
  },
  {
   "cell_type": "code",
   "execution_count": 48,
   "metadata": {},
   "outputs": [],
   "source": [
    "top_mass = data[\"ttBar_treeVariables_step8;11\"+'/top_mass'].array(library=\"np\")\n",
    "tbar_mass = data[\"ttBar_treeVariables_step8;11\"+'/tbar_mass'].array(library=\"np\")\n",
    "ttbar_mass = data[\"ttBar_treeVariables_step8;11\"+'/ttbar_mass'].array(library=\"np\")\n",
    "wplus_mass = data[\"ttBar_treeVariables_step8;11\"+'/wplus_mass'].array(library=\"np\")\n",
    "wminus_mass = data[\"ttBar_treeVariables_step8;11\"+'/wminus_mass'].array(library=\"np\")\n",
    "all_mass = data[\"ttBar_treeVariables_step8;11\"+'/all_mass'].array(library=\"np\")\n",
    "r_mass = data[\"ttBar_treeVariables_step8;11\"+'/r_mass'].array(library=\"np\")"
   ]
  },
  {
   "cell_type": "code",
   "execution_count": 49,
   "metadata": {},
   "outputs": [],
   "source": [
    "df['top_pt'] = top_pt.tolist()\n",
    "df['tbar_pt'] = tbar_pt.tolist()\n",
    "df['l_pt'] = l_pt.tolist()\n",
    "df['e_pt'] = e_pt.tolist()\n",
    "df['ebar_pt'] = ebar_pt.tolist()\n",
    "df['mu_pt'] = mu_pt.tolist()\n",
    "df['mubar_pt'] = mubar_pt.tolist()\n",
    "df['b_pt'] = b_pt.tolist()\n",
    "df['bbar_pt'] = bbar_pt.tolist()\n",
    "df['nu_pt'] = nu_pt.tolist()\n",
    "df['nubar_pt'] = nubar_pt.tolist()\n",
    "df['met_pt'] = met_pt.tolist()\n",
    "df['ttbar_pt'] = ttbar_pt.tolist()\n",
    "df['ttbar_boosted_pt'] = ttbar_boosted_pt.tolist()\n",
    "df['wplus_pt'] = wplus_pt.tolist()\n",
    "df['wminus_pt'] = wminus_pt.tolist()\n"
   ]
  },
  {
   "cell_type": "code",
   "execution_count": 50,
   "metadata": {},
   "outputs": [],
   "source": [
    "#df['top_mass'] = top_mass.tolist()\n",
    "#df['tbar_mass'] = tbar_mass.tolist()\n",
    "df['ttbar_mass'] = ttbar_mass.tolist()\n",
    "#df['wplus_mass'] = wplus_mass.tolist()\n",
    "#df['wminus_mass'] = wminus_mass.tolist()\n",
    "#df['all_mass'] = all_mass.tolist()\n",
    "#df['r_mass'] = r_mass.tolist()\n"
   ]
  },
  {
   "cell_type": "code",
   "execution_count": 51,
   "metadata": {},
   "outputs": [
    {
     "data": {
      "text/plain": [
       "Index(['lb_delta_eta', 'lbbar_delta_eta', 'lnu_delta_eta', 'lnubar_delta_eta',\n",
       "       'lbarb_delta_eta', 'lbarbbar_delta_eta', 'lbarnu_delta_eta',\n",
       "       'lbarnubar_delta_eta', 'bnu_delta_eta', 'bnubar_delta_eta',\n",
       "       'bbarnu_delta_eta', 'bbarnubar_delta_eta', 'lb_delta_phi',\n",
       "       'lbbar_delta_phi', 'lnu_delta_phi', 'lnubar_delta_phi',\n",
       "       'lbarb_delta_phi', 'lbarbbar_delta_phi', 'lbarnu_delta_phi',\n",
       "       'lbarnubar_delta_phi', 'bnu_delta_phi', 'bnubar_delta_phi',\n",
       "       'bbarnu_delta_phi', 'bbarnubar_delta_phi', 'wplusb_delta_eta',\n",
       "       'wplusbbar_delta_eta', 'wminusb_delta_eta', 'wminusbbar_delta_eta',\n",
       "       'wplusb_delta_phi', 'wplusbbar_delta_phi', 'wminusb_delta_phi',\n",
       "       'wminusbbar_delta_phi', 'top_eta', 'top_boosted_eta', 'tbar_eta',\n",
       "       'tbar_boosted_eta', 'e_eta', 'ebar_eta', 'mu_eta', 'mubar_eta',\n",
       "       'ttbar_delta_eta', 'ttbar_eta', 'llbar_delta_eta', 'bbbar_delta_eta',\n",
       "       'nunubar_delta_eta', 'top_phi', 'tbar_phi', 'e_phi', 'ebar_phi',\n",
       "       'mu_phi', 'mubar_phi', 'ttbar_phi', 'ttbar_delta_phi', 'llbar_phi',\n",
       "       'llbar_delta_phi', 'bbbar_phi', 'bbbar_delta_phi', 'nunubar_phi',\n",
       "       'nunubar_delta_phi', 'l_eta', 'lbar_eta', 'l_phi', 'lbar_phi', 'b_eta',\n",
       "       'bbar_eta', 'b_phi', 'bbar_phi', 'nu_eta', 'nubar_eta', 'nu_phi',\n",
       "       'nubar_phi', 'wplus_eta', 'wminus_eta', 'wplus_phi', 'wminus_phi',\n",
       "       'top_pt', 'tbar_pt', 'l_pt', 'e_pt', 'ebar_pt', 'mu_pt', 'mubar_pt',\n",
       "       'b_pt', 'bbar_pt', 'nu_pt', 'nubar_pt', 'met_pt', 'ttbar_pt',\n",
       "       'ttbar_boosted_pt', 'wplus_pt', 'wminus_pt', 'ttbar_mass'],\n",
       "      dtype='object')"
      ]
     },
     "execution_count": 51,
     "metadata": {},
     "output_type": "execute_result"
    }
   ],
   "source": [
    "df.keys()"
   ]
  },
  {
   "cell_type": "code",
   "execution_count": 52,
   "metadata": {},
   "outputs": [],
   "source": [
    "mode_L = []"
   ]
  },
  {
   "cell_type": "code",
   "execution_count": 53,
   "metadata": {},
   "outputs": [],
   "source": [
    "for key in data[\"ttBar_treeVariables_step8;11\"].keys():\n",
    "    if \"mode\" in key and \"gen\" not in key:\n",
    "        mode_L.append(key)"
   ]
  },
  {
   "cell_type": "code",
   "execution_count": 54,
   "metadata": {},
   "outputs": [
    {
     "data": {
      "text/plain": [
       "['production_mode']"
      ]
     },
     "execution_count": 54,
     "metadata": {},
     "output_type": "execute_result"
    }
   ],
   "source": [
    "mode_L"
   ]
  },
  {
   "cell_type": "markdown",
   "metadata": {},
   "source": [
    "weights\n",
    "production mode"
   ]
  },
  {
   "cell_type": "code",
   "execution_count": 55,
   "metadata": {},
   "outputs": [],
   "source": [
    "production_mode = data[\"ttBar_treeVariables_step8;11\"+'/production_mode'].array(library=\"np\")\n",
    "eventWeight = data[\"ttBar_treeVariables_step8;11\"+'/eventWeight'].array(library=\"np\")"
   ]
  },
  {
   "cell_type": "code",
   "execution_count": 56,
   "metadata": {},
   "outputs": [],
   "source": [
    "df['production_mode'] = production_mode.tolist()\n",
    "df['eventWeight'] = eventWeight.tolist()"
   ]
  },
  {
   "cell_type": "code",
   "execution_count": 57,
   "metadata": {},
   "outputs": [
    {
     "data": {
      "text/plain": [
       "Index(['lb_delta_eta', 'lbbar_delta_eta', 'lnu_delta_eta', 'lnubar_delta_eta',\n",
       "       'lbarb_delta_eta', 'lbarbbar_delta_eta', 'lbarnu_delta_eta',\n",
       "       'lbarnubar_delta_eta', 'bnu_delta_eta', 'bnubar_delta_eta',\n",
       "       'bbarnu_delta_eta', 'bbarnubar_delta_eta', 'lb_delta_phi',\n",
       "       'lbbar_delta_phi', 'lnu_delta_phi', 'lnubar_delta_phi',\n",
       "       'lbarb_delta_phi', 'lbarbbar_delta_phi', 'lbarnu_delta_phi',\n",
       "       'lbarnubar_delta_phi', 'bnu_delta_phi', 'bnubar_delta_phi',\n",
       "       'bbarnu_delta_phi', 'bbarnubar_delta_phi', 'wplusb_delta_eta',\n",
       "       'wplusbbar_delta_eta', 'wminusb_delta_eta', 'wminusbbar_delta_eta',\n",
       "       'wplusb_delta_phi', 'wplusbbar_delta_phi', 'wminusb_delta_phi',\n",
       "       'wminusbbar_delta_phi', 'top_eta', 'top_boosted_eta', 'tbar_eta',\n",
       "       'tbar_boosted_eta', 'e_eta', 'ebar_eta', 'mu_eta', 'mubar_eta',\n",
       "       'ttbar_delta_eta', 'ttbar_eta', 'llbar_delta_eta', 'bbbar_delta_eta',\n",
       "       'nunubar_delta_eta', 'top_phi', 'tbar_phi', 'e_phi', 'ebar_phi',\n",
       "       'mu_phi', 'mubar_phi', 'ttbar_phi', 'ttbar_delta_phi', 'llbar_phi',\n",
       "       'llbar_delta_phi', 'bbbar_phi', 'bbbar_delta_phi', 'nunubar_phi',\n",
       "       'nunubar_delta_phi', 'l_eta', 'lbar_eta', 'l_phi', 'lbar_phi', 'b_eta',\n",
       "       'bbar_eta', 'b_phi', 'bbar_phi', 'nu_eta', 'nubar_eta', 'nu_phi',\n",
       "       'nubar_phi', 'wplus_eta', 'wminus_eta', 'wplus_phi', 'wminus_phi',\n",
       "       'top_pt', 'tbar_pt', 'l_pt', 'e_pt', 'ebar_pt', 'mu_pt', 'mubar_pt',\n",
       "       'b_pt', 'bbar_pt', 'nu_pt', 'nubar_pt', 'met_pt', 'ttbar_pt',\n",
       "       'ttbar_boosted_pt', 'wplus_pt', 'wminus_pt', 'ttbar_mass',\n",
       "       'production_mode', 'eventWeight'],\n",
       "      dtype='object')"
      ]
     },
     "execution_count": 57,
     "metadata": {},
     "output_type": "execute_result"
    }
   ],
   "source": [
    "df.keys()"
   ]
  },
  {
   "cell_type": "markdown",
   "metadata": {},
   "source": [
    "## save as root"
   ]
  },
  {
   "cell_type": "code",
   "execution_count": 58,
   "metadata": {},
   "outputs": [],
   "source": [
    "df.to_root('~/Desktop/summer_cms/emu_modified_root.root', key = \"ttBar_treeVariables_step8;11\")"
   ]
  },
  {
   "cell_type": "code",
   "execution_count": 59,
   "metadata": {},
   "outputs": [],
   "source": [
    "data_n = uproot.open('~/Desktop/summer_cms/emu_modified_root.root', key = \"ttBar_treeVariables_step8;11\")"
   ]
  },
  {
   "cell_type": "code",
   "execution_count": 60,
   "metadata": {},
   "outputs": [
    {
     "data": {
      "text/plain": [
       "<ReadOnlyDirectory '/' at 0x2acde2eddfd0>"
      ]
     },
     "execution_count": 60,
     "metadata": {},
     "output_type": "execute_result"
    }
   ],
   "source": [
    "data_n"
   ]
  },
  {
   "cell_type": "code",
   "execution_count": 62,
   "metadata": {},
   "outputs": [
    {
     "data": {
      "text/plain": [
       "['lb_delta_eta',\n",
       " 'lbbar_delta_eta',\n",
       " 'lnu_delta_eta',\n",
       " 'lnubar_delta_eta',\n",
       " 'lbarb_delta_eta',\n",
       " 'lbarbbar_delta_eta',\n",
       " 'lbarnu_delta_eta',\n",
       " 'lbarnubar_delta_eta',\n",
       " 'bnu_delta_eta',\n",
       " 'bnubar_delta_eta',\n",
       " 'bbarnu_delta_eta',\n",
       " 'bbarnubar_delta_eta',\n",
       " 'lb_delta_phi',\n",
       " 'lbbar_delta_phi',\n",
       " 'lnu_delta_phi',\n",
       " 'lnubar_delta_phi',\n",
       " 'lbarb_delta_phi',\n",
       " 'lbarbbar_delta_phi',\n",
       " 'lbarnu_delta_phi',\n",
       " 'lbarnubar_delta_phi',\n",
       " 'bnu_delta_phi',\n",
       " 'bnubar_delta_phi',\n",
       " 'bbarnu_delta_phi',\n",
       " 'bbarnubar_delta_phi',\n",
       " 'wplusb_delta_eta',\n",
       " 'wplusbbar_delta_eta',\n",
       " 'wminusb_delta_eta',\n",
       " 'wminusbbar_delta_eta',\n",
       " 'wplusb_delta_phi',\n",
       " 'wplusbbar_delta_phi',\n",
       " 'wminusb_delta_phi',\n",
       " 'wminusbbar_delta_phi',\n",
       " 'top_eta',\n",
       " 'top_boosted_eta',\n",
       " 'tbar_eta',\n",
       " 'tbar_boosted_eta',\n",
       " 'e_eta',\n",
       " 'ebar_eta',\n",
       " 'mu_eta',\n",
       " 'mubar_eta',\n",
       " 'ttbar_delta_eta',\n",
       " 'ttbar_eta',\n",
       " 'llbar_delta_eta',\n",
       " 'bbbar_delta_eta',\n",
       " 'nunubar_delta_eta',\n",
       " 'top_phi',\n",
       " 'tbar_phi',\n",
       " 'e_phi',\n",
       " 'ebar_phi',\n",
       " 'mu_phi',\n",
       " 'mubar_phi',\n",
       " 'ttbar_phi',\n",
       " 'ttbar_delta_phi',\n",
       " 'llbar_phi',\n",
       " 'llbar_delta_phi',\n",
       " 'bbbar_phi',\n",
       " 'bbbar_delta_phi',\n",
       " 'nunubar_phi',\n",
       " 'nunubar_delta_phi',\n",
       " 'l_eta',\n",
       " 'lbar_eta',\n",
       " 'l_phi',\n",
       " 'lbar_phi',\n",
       " 'b_eta',\n",
       " 'bbar_eta',\n",
       " 'b_phi',\n",
       " 'bbar_phi',\n",
       " 'nu_eta',\n",
       " 'nubar_eta',\n",
       " 'nu_phi',\n",
       " 'nubar_phi',\n",
       " 'wplus_eta',\n",
       " 'wminus_eta',\n",
       " 'wplus_phi',\n",
       " 'wminus_phi',\n",
       " 'top_pt',\n",
       " 'tbar_pt',\n",
       " 'l_pt',\n",
       " 'e_pt',\n",
       " 'ebar_pt',\n",
       " 'mu_pt',\n",
       " 'mubar_pt',\n",
       " 'b_pt',\n",
       " 'bbar_pt',\n",
       " 'nu_pt',\n",
       " 'nubar_pt',\n",
       " 'met_pt',\n",
       " 'ttbar_pt',\n",
       " 'ttbar_boosted_pt',\n",
       " 'wplus_pt',\n",
       " 'wminus_pt',\n",
       " 'ttbar_mass',\n",
       " 'production_mode',\n",
       " 'eventWeight',\n",
       " '__index__']"
      ]
     },
     "execution_count": 62,
     "metadata": {},
     "output_type": "execute_result"
    }
   ],
   "source": [
    "data_n[\"ttBar_treeVariables_step8;11;1\"].keys()"
   ]
  },
  {
   "cell_type": "code",
   "execution_count": null,
   "metadata": {},
   "outputs": [],
   "source": []
  }
 ],
 "metadata": {
  "kernelspec": {
   "display_name": "Python (GANS2)",
   "language": "python",
   "name": "gans2"
  },
  "language_info": {
   "codemirror_mode": {
    "name": "ipython",
    "version": 3
   },
   "file_extension": ".py",
   "mimetype": "text/x-python",
   "name": "python",
   "nbconvert_exporter": "python",
   "pygments_lexer": "ipython3",
   "version": "3.6.13"
  }
 },
 "nbformat": 4,
 "nbformat_minor": 2
}
