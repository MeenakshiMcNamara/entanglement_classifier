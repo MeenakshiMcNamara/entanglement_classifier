{
 "cells": [
  {
   "cell_type": "markdown",
   "metadata": {},
   "source": [
    "run ee and mumu first, as they are small and can still be loaded into brown front end and not crash. emu file is too big that cannot be saved as csv without crashing. so in this file i loaded the ee and mumu csv and combined them all here\n",
    "\n",
    "the issue with the 'unnamed:0' column, is that when you are savin csv, set index = False. "
   ]
  },
  {
   "cell_type": "code",
   "execution_count": 1,
   "metadata": {
    "ExecuteTime": {
     "end_time": "2021-07-15T00:31:00.349392Z",
     "start_time": "2021-07-15T00:30:57.815674Z"
    }
   },
   "outputs": [
    {
     "name": "stderr",
     "output_type": "stream",
     "text": [
      "/home/zhou907/.conda/envs/cent7/5.1.0-py36/GANS2/lib/python3.6/site-packages/uproot/reading.py:186: FutureWarning: XRootD 5.1.1 is not fully supported; either upgrade to 5.2.0+ or set\n",
      "\n",
      "    open.defaults[\"xrootd_handler\"] = uproot.MultithreadedXRootDSource\n",
      "\n",
      "  warnings.warn(message, FutureWarning)\n"
     ]
    }
   ],
   "source": [
    "import uproot\n",
    "import matplotlib\n",
    "import ipykernel\n",
    "import numpy as np\n",
    "import scipy\n",
    "import torch\n",
    "import pandas as pd\n",
    "import sklearn\n",
    "import uproot as uproot"
   ]
  },
  {
   "cell_type": "code",
   "execution_count": 2,
   "metadata": {
    "ExecuteTime": {
     "end_time": "2021-07-15T00:31:03.633734Z",
     "start_time": "2021-07-15T00:31:00.351253Z"
    }
   },
   "outputs": [
    {
     "name": "stdout",
     "output_type": "stream",
     "text": [
      "Welcome to JupyROOT 6.24/00\n"
     ]
    }
   ],
   "source": [
    "import root_pandas"
   ]
  },
  {
   "cell_type": "code",
   "execution_count": 3,
   "metadata": {
    "ExecuteTime": {
     "end_time": "2021-07-15T00:31:03.745779Z",
     "start_time": "2021-07-15T00:31:03.640360Z"
    },
    "collapsed": true
   },
   "outputs": [],
   "source": [
    "depo_dir = '/depot-new/cms/top/mcnama20/TopSpinCorr-Run2-Entanglement/CMSSW_10_2_22/src/TopAnalysis/Configuration/analysis/diLeptonic/spinCorrInput_wbosons_masses_all/Nominal'\n",
    "root_folder = \"/emu\""
   ]
  },
  {
   "cell_type": "code",
   "execution_count": 4,
   "metadata": {
    "ExecuteTime": {
     "end_time": "2021-07-15T00:31:03.853696Z",
     "start_time": "2021-07-15T00:31:03.749316Z"
    },
    "collapsed": true
   },
   "outputs": [],
   "source": [
    "emu_f = \"/emu_ttbarsignalplustau_fromDilepton_TuneCP5.root\""
   ]
  },
  {
   "cell_type": "code",
   "execution_count": 5,
   "metadata": {
    "ExecuteTime": {
     "end_time": "2021-07-15T00:31:03.984891Z",
     "start_time": "2021-07-15T00:31:03.856485Z"
    }
   },
   "outputs": [
    {
     "data": {
      "text/plain": [
       "['ttBar_treeVariables_step0;190',\n",
       " 'ttBar_treeVariables_step0;189',\n",
       " 'ttBar_treeVariables_step1;158',\n",
       " 'ttBar_treeVariables_step1;157',\n",
       " 'ttBar_treeVariables_step3;118',\n",
       " 'ttBar_treeVariables_step3;117',\n",
       " 'ttBar_treeVariables_step4;118',\n",
       " 'ttBar_treeVariables_step4;117',\n",
       " 'ttBar_treeVariables_step5;101',\n",
       " 'ttBar_treeVariables_step5;100',\n",
       " 'ttBar_treeVariables_step6;101',\n",
       " 'ttBar_treeVariables_step6;100',\n",
       " 'ttBar_treeVariables_step7;97',\n",
       " 'ttBar_treeVariables_step7;96',\n",
       " 'ttBar_treeVariables_step8;88',\n",
       " 'ttBar_treeVariables_step8;87',\n",
       " 'ttBar_treeVariables_step2;60',\n",
       " 'ttBar_treeVariables_step2;59',\n",
       " 'weightedEvents;1']"
      ]
     },
     "execution_count": 5,
     "metadata": {},
     "output_type": "execute_result"
    }
   ],
   "source": [
    "data = uproot.open(depo_dir + root_folder + emu_f, key = \"ttBar_treeVariables_step8;3\")\n",
    "data.keys()"
   ]
  },
  {
   "cell_type": "code",
   "execution_count": 6,
   "metadata": {
    "ExecuteTime": {
     "end_time": "2021-07-15T00:31:04.091949Z",
     "start_time": "2021-07-15T00:31:03.988239Z"
    },
    "collapsed": true
   },
   "outputs": [],
   "source": [
    "#datamu = uproot.open(depo_dir + root_folder + mumu_f, key = \"ttBar_treeVariables_step8;3\")\n",
    "#datamu.keys()"
   ]
  },
  {
   "cell_type": "code",
   "execution_count": 7,
   "metadata": {
    "ExecuteTime": {
     "end_time": "2021-07-15T00:31:04.475384Z",
     "start_time": "2021-07-15T00:31:04.095427Z"
    }
   },
   "outputs": [
    {
     "data": {
      "text/plain": [
       "['top_pt',\n",
       " 'top_phi',\n",
       " 'top_rapidity',\n",
       " 'top_arapidity',\n",
       " 'top_eta',\n",
       " 'top_mass',\n",
       " 'top_boosted_theta',\n",
       " 'top_boosted_eta',\n",
       " 'top_theta_v2',\n",
       " 'tbar_pt',\n",
       " 'tbar_phi',\n",
       " 'tbar_rapidity',\n",
       " 'tbar_arapidity',\n",
       " 'tbar_eta',\n",
       " 'tbar_mass',\n",
       " 'tbar_boosted_theta',\n",
       " 'tbar_boosted_eta',\n",
       " 'l_pt',\n",
       " 'lbar_pt',\n",
       " 'e_pt',\n",
       " 'ebar_pt',\n",
       " 'mu_pt',\n",
       " 'mubar_pt',\n",
       " 'b_pt',\n",
       " 'bbar_pt',\n",
       " 'nu_pt',\n",
       " 'nubar_pt',\n",
       " 'l_eta',\n",
       " 'lbar_eta',\n",
       " 'e_eta',\n",
       " 'ebar_eta',\n",
       " 'mu_eta',\n",
       " 'mubar_eta',\n",
       " 'b_eta',\n",
       " 'bbar_eta',\n",
       " 'nu_eta',\n",
       " 'nubar_eta',\n",
       " 'l_phi',\n",
       " 'lbar_phi',\n",
       " 'e_phi',\n",
       " 'ebar_phi',\n",
       " 'mu_phi',\n",
       " 'mubar_phi',\n",
       " 'b_phi',\n",
       " 'bbar_phi',\n",
       " 'nu_phi',\n",
       " 'nubar_phi',\n",
       " 'l_mass',\n",
       " 'lbar_mass',\n",
       " 'e_mass',\n",
       " 'ebar_mass',\n",
       " 'mu_mass',\n",
       " 'mubar_mass',\n",
       " 'b_mass',\n",
       " 'bbar_mass',\n",
       " 'nu_mass',\n",
       " 'nubar_mass',\n",
       " 'met_pt',\n",
       " 'ttbar_pt',\n",
       " 'ttbar_phi',\n",
       " 'ttbar_rapidity',\n",
       " 'ttbar_arapidity',\n",
       " 'ttbar_delta_phi',\n",
       " 'ttbar_delta_eta',\n",
       " 'ttbar_delta_rapidity',\n",
       " 'ttbar_mass',\n",
       " 'ttbar_eta',\n",
       " 'ttbar_boosted_pt',\n",
       " 'wplus_pt',\n",
       " 'wplus_eta',\n",
       " 'wplus_phi',\n",
       " 'wplus_mass',\n",
       " 'wminus_pt',\n",
       " 'wminus_eta',\n",
       " 'wminus_phi',\n",
       " 'wminus_mass',\n",
       " 'llbar_pt',\n",
       " 'llbar_phi',\n",
       " 'llbar_rapidity',\n",
       " 'llbar_arapidity',\n",
       " 'llbar_delta_phi',\n",
       " 'llbar_delta_eta',\n",
       " 'llbar_delta_rapidity',\n",
       " 'llbar_mass',\n",
       " 'bbbar_pt',\n",
       " 'bbbar_phi',\n",
       " 'bbbar_rapidity',\n",
       " 'bbbar_arapidity',\n",
       " 'bbbar_delta_phi',\n",
       " 'bbbar_delta_eta',\n",
       " 'bbbar_delta_rapidity',\n",
       " 'llbar_mass',\n",
       " 'nunubar_pt',\n",
       " 'nunubar_phi',\n",
       " 'nunubar_rapidity',\n",
       " 'nunubar_arapidity',\n",
       " 'nunubar_delta_phi',\n",
       " 'nunubar_delta_eta',\n",
       " 'nunubar_delta_rapidity',\n",
       " 'nunubar_mass',\n",
       " 'MT2',\n",
       " 'all_mass',\n",
       " 'r_mass',\n",
       " 'jet_multiplicity',\n",
       " 'bjet_multiplicity',\n",
       " 'x1',\n",
       " 'x2',\n",
       " 'production_mode',\n",
       " 'b1k',\n",
       " 'b2k',\n",
       " 'b1j',\n",
       " 'b2j',\n",
       " 'b1r',\n",
       " 'b2r',\n",
       " 'b1q',\n",
       " 'b2q',\n",
       " 'b1n',\n",
       " 'b2n',\n",
       " 'b_Pkk',\n",
       " 'b_Mkk',\n",
       " 'b_Pjj',\n",
       " 'b_Mjj',\n",
       " 'b_Prr',\n",
       " 'b_Mrr',\n",
       " 'b_Pqq',\n",
       " 'b_Mqq',\n",
       " 'b_Pnn',\n",
       " 'b_Mnn',\n",
       " 'c_kk',\n",
       " 'c_rr',\n",
       " 'c_nn',\n",
       " 'c_rk',\n",
       " 'c_kr',\n",
       " 'c_nr',\n",
       " 'c_rn',\n",
       " 'c_nk',\n",
       " 'c_kn',\n",
       " 'c_Prk',\n",
       " 'c_Mrk',\n",
       " 'c_Pnr',\n",
       " 'c_Mnr',\n",
       " 'c_Pnk',\n",
       " 'c_Mnk',\n",
       " 'll_cHel',\n",
       " 'll_cLab',\n",
       " 'll_kNorm',\n",
       " 'll_rNorm',\n",
       " 'gen_top_pt',\n",
       " 'gen_top_phi',\n",
       " 'gen_top_rapidity',\n",
       " 'gen_top_arapidity',\n",
       " 'gen_tbar_pt',\n",
       " 'gen_tbar_phi',\n",
       " 'gen_tbar_rapidity',\n",
       " 'gen_tbar_arapidity',\n",
       " 'gen_l_pt',\n",
       " 'gen_lbar_pt',\n",
       " 'gen_e_pt',\n",
       " 'gen_ebar_pt',\n",
       " 'gen_mu_pt',\n",
       " 'gen_mubar_pt',\n",
       " 'gen_b_pt',\n",
       " 'gen_bbar_pt',\n",
       " 'gen_nu_pt',\n",
       " 'gen_nubar_pt',\n",
       " 'gen_l_eta',\n",
       " 'gen_lbar_eta',\n",
       " 'gen_e_eta',\n",
       " 'gen_ebar_eta',\n",
       " 'gen_mu_eta',\n",
       " 'gen_mubar_eta',\n",
       " 'gen_b_eta',\n",
       " 'gen_bbar_eta',\n",
       " 'gen_nu_eta',\n",
       " 'gen_nubar_eta',\n",
       " 'gen_l_phi',\n",
       " 'gen_lbar_phi',\n",
       " 'gen_e_phi',\n",
       " 'gen_ebar_phi',\n",
       " 'gen_mu_phi',\n",
       " 'gen_mubar_phi',\n",
       " 'gen_b_phi',\n",
       " 'gen_bbar_phi',\n",
       " 'gen_nu_phi',\n",
       " 'gen_nubar_phi',\n",
       " 'gen_ttbar_pt',\n",
       " 'gen_ttbar_phi',\n",
       " 'gen_ttbar_rapidity',\n",
       " 'gen_ttbar_arapidity',\n",
       " 'gen_ttbar_delta_phi',\n",
       " 'gen_ttbar_delta_eta',\n",
       " 'gen_ttbar_delta_rapidity',\n",
       " 'gen_ttbar_mass',\n",
       " 'gen_llbar_pt',\n",
       " 'gen_llbar_phi',\n",
       " 'gen_llbar_rapidity',\n",
       " 'gen_llbar_arapidity',\n",
       " 'gen_llbar_delta_phi',\n",
       " 'gen_llbar_delta_eta',\n",
       " 'gen_llbar_delta_rapidity',\n",
       " 'gen_llbar_mass',\n",
       " 'gen_bbbar_pt',\n",
       " 'gen_bbbar_phi',\n",
       " 'gen_bbbar_rapidity',\n",
       " 'gen_bbbar_arapidity',\n",
       " 'gen_bbbar_delta_phi',\n",
       " 'gen_bbbar_delta_eta',\n",
       " 'gen_bbbar_delta_rapidity',\n",
       " 'gen_bbbar_mass',\n",
       " 'gen_nunubar_pt',\n",
       " 'gen_nunubar_phi',\n",
       " 'gen_nunubar_rapidity',\n",
       " 'gen_nunubar_arapidity',\n",
       " 'gen_nunubar_delta_phi',\n",
       " 'gen_nunubar_delta_eta',\n",
       " 'gen_nunubar_delta_rapidity',\n",
       " 'gen_nunubar_mass',\n",
       " 'gen_MT2',\n",
       " 'gen_all_mass',\n",
       " 'gen_r_mass',\n",
       " 'gen_jet_multiplicity',\n",
       " 'gen_x1',\n",
       " 'gen_x2',\n",
       " 'gen_theta',\n",
       " 'gen_b1k',\n",
       " 'gen_b2k',\n",
       " 'gen_b1j',\n",
       " 'gen_b2j',\n",
       " 'gen_b1r',\n",
       " 'gen_b2r',\n",
       " 'gen_b1q',\n",
       " 'gen_b2q',\n",
       " 'gen_b1n',\n",
       " 'gen_b2n',\n",
       " 'gen_b_Pkk',\n",
       " 'gen_b_Mkk',\n",
       " 'gen_b_Pjj',\n",
       " 'gen_b_Mjj',\n",
       " 'gen_b_Prr',\n",
       " 'gen_b_Mrr',\n",
       " 'gen_b_Pqq',\n",
       " 'gen_b_Mqq',\n",
       " 'gen_b_Pnn',\n",
       " 'gen_b_Mnn',\n",
       " 'gen_c_kk',\n",
       " 'gen_c_rr',\n",
       " 'gen_c_nn',\n",
       " 'gen_c_rk',\n",
       " 'gen_c_kr',\n",
       " 'gen_c_nr',\n",
       " 'gen_c_rn',\n",
       " 'gen_c_nk',\n",
       " 'gen_c_kn',\n",
       " 'gen_c_Prk',\n",
       " 'gen_c_Mrk',\n",
       " 'gen_c_Pnr',\n",
       " 'gen_c_Mnr',\n",
       " 'gen_c_Pnk',\n",
       " 'gen_c_Mnk',\n",
       " 'gen_ll_cHel',\n",
       " 'gen_ll_cLab',\n",
       " 'gen_ll_kNorm',\n",
       " 'gen_ll_rNorm',\n",
       " 'entry',\n",
       " 'isTopGen',\n",
       " 'isKinReco',\n",
       " 'eventWeight',\n",
       " 'trueLevelWeight']"
      ]
     },
     "execution_count": 7,
     "metadata": {},
     "output_type": "execute_result"
    }
   ],
   "source": [
    "data[\"ttBar_treeVariables_step8;88\"].keys()"
   ]
  },
  {
   "cell_type": "markdown",
   "metadata": {},
   "source": [
    "## creating delta eta & delta phi"
   ]
  },
  {
   "cell_type": "code",
   "execution_count": 8,
   "metadata": {
    "ExecuteTime": {
     "end_time": "2021-07-15T00:31:05.974992Z",
     "start_time": "2021-07-15T00:31:04.479619Z"
    },
    "collapsed": true
   },
   "outputs": [],
   "source": [
    "l_eta = data[\"ttBar_treeVariables_step8;88\"+'/l_eta'].array(library=\"np\")\n",
    "lbar_eta = data[\"ttBar_treeVariables_step8;88\"+'/lbar_eta'].array(library=\"np\")\n",
    "\n",
    "l_phi = data[\"ttBar_treeVariables_step8;88\"+'/l_phi'].array(library=\"np\")\n",
    "lbar_phi = data[\"ttBar_treeVariables_step8;88\"+'/lbar_phi'].array(library=\"np\")"
   ]
  },
  {
   "cell_type": "code",
   "execution_count": 9,
   "metadata": {
    "ExecuteTime": {
     "end_time": "2021-07-15T00:31:06.596160Z",
     "start_time": "2021-07-15T00:31:05.978515Z"
    },
    "collapsed": true
   },
   "outputs": [],
   "source": [
    "b_eta = data[\"ttBar_treeVariables_step8;88\"+'/b_eta'].array(library=\"np\")\n",
    "bbar_eta = data[\"ttBar_treeVariables_step8;88\"+'/bbar_eta'].array(library=\"np\")\n",
    "\n",
    "b_phi = data[\"ttBar_treeVariables_step8;88\"+'/b_phi'].array(library=\"np\")\n",
    "bbar_phi = data[\"ttBar_treeVariables_step8;88\"+'/bbar_phi'].array(library=\"np\")"
   ]
  },
  {
   "cell_type": "code",
   "execution_count": 10,
   "metadata": {
    "ExecuteTime": {
     "end_time": "2021-07-15T00:31:07.163802Z",
     "start_time": "2021-07-15T00:31:06.599994Z"
    },
    "collapsed": true
   },
   "outputs": [],
   "source": [
    "nu_eta = data[\"ttBar_treeVariables_step8;88\"+'/nu_eta'].array(library=\"np\")\n",
    "nubar_eta = data[\"ttBar_treeVariables_step8;88\"+'/nubar_eta'].array(library=\"np\")\n",
    "\n",
    "nu_phi = data[\"ttBar_treeVariables_step8;88\"+'/nu_phi'].array(library=\"np\")\n",
    "nubar_phi = data[\"ttBar_treeVariables_step8;88\"+'/nubar_phi'].array(library=\"np\")"
   ]
  },
  {
   "cell_type": "code",
   "execution_count": 11,
   "metadata": {
    "ExecuteTime": {
     "end_time": "2021-07-15T00:31:07.790128Z",
     "start_time": "2021-07-15T00:31:07.167045Z"
    },
    "collapsed": true
   },
   "outputs": [],
   "source": [
    "wplus_eta = data[\"ttBar_treeVariables_step8;88\"+'/wplus_eta'].array(library=\"np\")\n",
    "wminus_eta = data[\"ttBar_treeVariables_step8;88\"+'/wminus_eta'].array(library=\"np\")\n",
    "\n",
    "wplus_phi = data[\"ttBar_treeVariables_step8;88\"+'/wplus_phi'].array(library=\"np\")\n",
    "wminus_phi = data[\"ttBar_treeVariables_step8;88\"+'/wminus_phi'].array(library=\"np\")"
   ]
  },
  {
   "cell_type": "code",
   "execution_count": 12,
   "metadata": {
    "ExecuteTime": {
     "end_time": "2021-07-15T00:31:11.017875Z",
     "start_time": "2021-07-15T00:31:10.662025Z"
    },
    "collapsed": true
   },
   "outputs": [],
   "source": [
    "lb_delta_eta = np.abs(np.subtract(l_eta,b_eta))\n",
    "lbbar_delta_eta = np.abs(np.subtract(l_eta,bbar_eta))\n",
    "lnu_delta_eta = np.abs(np.subtract(l_eta,nu_eta))\n",
    "lnubar_delta_eta = np.abs(np.subtract(l_eta,nubar_eta))\n",
    "lbarb_delta_eta = np.abs(np.subtract(lbar_eta,b_eta))\n",
    "lbarbbar_delta_eta = np.abs(np.subtract(lbar_eta,bbar_eta))\n",
    "lbarnu_delta_eta = np.abs(np.subtract(lbar_eta,nu_eta))\n",
    "lbarnubar_delta_eta = np.abs(np.subtract(lbar_eta,nubar_eta))\n",
    "bnu_delta_eta = np.abs(np.subtract(b_eta,nu_eta))\n",
    "bnubar_delta_eta = np.abs(np.subtract(b_eta,nubar_eta))\n",
    "bbarnu_delta_eta = np.abs(np.subtract(bbar_eta,nu_eta))\n",
    "bbarnubar_delta_eta = np.abs(np.subtract(bbar_eta,nubar_eta))"
   ]
  },
  {
   "cell_type": "code",
   "execution_count": 13,
   "metadata": {
    "ExecuteTime": {
     "end_time": "2021-07-15T00:31:11.126855Z",
     "start_time": "2021-07-15T00:31:11.021242Z"
    },
    "collapsed": true
   },
   "outputs": [],
   "source": [
    "df = pd.DataFrame()"
   ]
  },
  {
   "cell_type": "code",
   "execution_count": 14,
   "metadata": {
    "ExecuteTime": {
     "end_time": "2021-07-15T00:31:16.898191Z",
     "start_time": "2021-07-15T00:31:11.306409Z"
    },
    "collapsed": true
   },
   "outputs": [],
   "source": [
    "df['lb_delta_eta'] = lb_delta_eta.tolist()\n",
    "df['lbbar_delta_eta'] = lbbar_delta_eta.tolist()\n",
    "df['lnu_delta_eta'] = lnu_delta_eta.tolist()\n",
    "df['lnubar_delta_eta'] = lnubar_delta_eta.tolist()\n",
    "df['lbarb_delta_eta'] = lbarb_delta_eta.tolist()\n",
    "df['lbarbbar_delta_eta'] = lbarbbar_delta_eta.tolist()\n",
    "df['lbarnu_delta_eta'] = lbarnu_delta_eta.tolist()\n",
    "df['lbarnubar_delta_eta'] = lbarnubar_delta_eta.tolist()\n",
    "df['bnu_delta_eta'] = bnu_delta_eta.tolist()\n",
    "df['bnubar_delta_eta'] = bnubar_delta_eta.tolist()\n",
    "df['bbarnu_delta_eta'] = bbarnu_delta_eta.tolist()\n",
    "df['bbarnubar_delta_eta'] = bbarnubar_delta_eta.tolist()"
   ]
  },
  {
   "cell_type": "code",
   "execution_count": 15,
   "metadata": {
    "ExecuteTime": {
     "end_time": "2021-07-15T00:31:17.165001Z",
     "start_time": "2021-07-15T00:31:16.901449Z"
    },
    "collapsed": true
   },
   "outputs": [],
   "source": [
    "#phi\n",
    "lb_delta_phi = np.abs(np.subtract(l_phi,b_phi))\n",
    "lbbar_delta_phi = np.abs(np.subtract(l_phi,bbar_phi))\n",
    "lnu_delta_phi = np.abs(np.subtract(l_phi,nu_phi))\n",
    "lnubar_delta_phi = np.abs(np.subtract(l_phi,nubar_phi))\n",
    "lbarb_delta_phi = np.abs(np.subtract(lbar_phi,b_phi))\n",
    "lbarbbar_delta_phi = np.abs(np.subtract(lbar_phi,bbar_phi))\n",
    "lbarnu_delta_phi = np.abs(np.subtract(lbar_phi,nu_phi))\n",
    "lbarnubar_delta_phi = np.abs(np.subtract(lbar_phi,nubar_phi))\n",
    "bnu_delta_phi = np.abs(np.subtract(b_phi,nu_phi))\n",
    "bnubar_delta_phi = np.abs(np.subtract(b_phi,nubar_phi))\n",
    "bbarnu_delta_phi = np.abs(np.subtract(bbar_phi,nu_phi))\n",
    "bbarnubar_delta_phi = np.abs(np.subtract(bbar_phi,nubar_phi))"
   ]
  },
  {
   "cell_type": "code",
   "execution_count": 16,
   "metadata": {
    "ExecuteTime": {
     "end_time": "2021-07-15T00:31:22.339074Z",
     "start_time": "2021-07-15T00:31:17.169279Z"
    },
    "collapsed": true
   },
   "outputs": [],
   "source": [
    "df['lb_delta_phi'] = lb_delta_phi.tolist()\n",
    "df['lbbar_delta_phi'] = lbbar_delta_phi.tolist()\n",
    "df['lnu_delta_phi'] = lnu_delta_phi.tolist()\n",
    "df['lnubar_delta_phi'] = lnubar_delta_phi.tolist()\n",
    "df['lbarb_delta_phi'] = lbarb_delta_phi.tolist()\n",
    "df['lbarbbar_delta_phi'] = lbarbbar_delta_phi.tolist()\n",
    "df['lbarnu_delta_phi'] = lbarnu_delta_phi.tolist()\n",
    "df['lbarnubar_delta_phi'] = lbarnubar_delta_phi.tolist()\n",
    "df['bnu_delta_phi'] = bnu_delta_phi.tolist()\n",
    "df['bnubar_delta_phi'] = bnubar_delta_phi.tolist()\n",
    "df['bbarnu_delta_phi'] = bbarnu_delta_phi.tolist()\n",
    "df['bbarnubar_delta_phi'] = bbarnubar_delta_phi.tolist()"
   ]
  },
  {
   "cell_type": "code",
   "execution_count": 17,
   "metadata": {
    "ExecuteTime": {
     "end_time": "2021-07-15T00:31:22.447338Z",
     "start_time": "2021-07-15T00:31:22.343223Z"
    },
    "collapsed": true
   },
   "outputs": [],
   "source": [
    "#df"
   ]
  },
  {
   "cell_type": "code",
   "execution_count": 18,
   "metadata": {
    "ExecuteTime": {
     "end_time": "2021-07-15T00:31:22.560348Z",
     "start_time": "2021-07-15T00:31:22.451006Z"
    }
   },
   "outputs": [
    {
     "data": {
      "text/plain": [
       "Index(['lb_delta_eta', 'lbbar_delta_eta', 'lnu_delta_eta', 'lnubar_delta_eta',\n",
       "       'lbarb_delta_eta', 'lbarbbar_delta_eta', 'lbarnu_delta_eta',\n",
       "       'lbarnubar_delta_eta', 'bnu_delta_eta', 'bnubar_delta_eta',\n",
       "       'bbarnu_delta_eta', 'bbarnubar_delta_eta', 'lb_delta_phi',\n",
       "       'lbbar_delta_phi', 'lnu_delta_phi', 'lnubar_delta_phi',\n",
       "       'lbarb_delta_phi', 'lbarbbar_delta_phi', 'lbarnu_delta_phi',\n",
       "       'lbarnubar_delta_phi', 'bnu_delta_phi', 'bnubar_delta_phi',\n",
       "       'bbarnu_delta_phi', 'bbarnubar_delta_phi'],\n",
       "      dtype='object')"
      ]
     },
     "execution_count": 18,
     "metadata": {},
     "output_type": "execute_result"
    }
   ],
   "source": [
    "df.keys()"
   ]
  },
  {
   "cell_type": "code",
   "execution_count": 19,
   "metadata": {
    "ExecuteTime": {
     "end_time": "2021-07-15T00:31:24.421372Z",
     "start_time": "2021-07-15T00:31:22.563782Z"
    },
    "collapsed": true
   },
   "outputs": [],
   "source": [
    "#W\n",
    "wplusb_delta_eta = np.abs(np.subtract(wplus_eta,b_eta))\n",
    "wplusbbar_delta_eta = np.abs(np.subtract(wplus_eta,bbar_eta))\n",
    "wminusb_delta_eta = np.abs(np.subtract(wminus_eta,b_eta))\n",
    "wminusbbar_delta_eta = np.abs(np.subtract(wminus_eta,bbar_eta))\n",
    "\n",
    "df['wplusb_delta_eta'] = wplusb_delta_eta.tolist()\n",
    "df['wplusbbar_delta_eta'] = wplusbbar_delta_eta.tolist()\n",
    "df['wminusb_delta_eta'] = wminusb_delta_eta.tolist()\n",
    "df['wminusbbar_delta_eta'] = wminusbbar_delta_eta.tolist()"
   ]
  },
  {
   "cell_type": "code",
   "execution_count": 20,
   "metadata": {
    "ExecuteTime": {
     "end_time": "2021-07-15T00:31:26.205069Z",
     "start_time": "2021-07-15T00:31:24.423867Z"
    },
    "collapsed": true
   },
   "outputs": [],
   "source": [
    "wplusb_delta_phi = np.abs(np.subtract(wplus_phi,b_phi))\n",
    "wplusbbar_delta_phi = np.abs(np.subtract(wplus_phi,bbar_phi))\n",
    "wminusb_delta_phi = np.abs(np.subtract(wminus_phi,b_phi))\n",
    "wminusbbar_delta_phi = np.abs(np.subtract(wminus_phi,bbar_phi))\n",
    "\n",
    "df['wplusb_delta_phi'] = wplusb_delta_phi.tolist()\n",
    "df['wplusbbar_delta_phi'] = wplusbbar_delta_phi.tolist()\n",
    "df['wminusb_delta_phi'] = wminusb_delta_phi.tolist()\n",
    "df['wminusbbar_delta_phi'] = wminusbbar_delta_phi.tolist()"
   ]
  },
  {
   "cell_type": "code",
   "execution_count": 21,
   "metadata": {
    "ExecuteTime": {
     "end_time": "2021-07-15T00:31:26.313374Z",
     "start_time": "2021-07-15T00:31:26.209376Z"
    },
    "collapsed": true
   },
   "outputs": [],
   "source": [
    "#df"
   ]
  },
  {
   "cell_type": "code",
   "execution_count": 22,
   "metadata": {
    "ExecuteTime": {
     "end_time": "2021-07-15T00:31:42.201518Z",
     "start_time": "2021-07-15T00:31:42.098314Z"
    },
    "collapsed": true
   },
   "outputs": [],
   "source": [
    "#eta_L = []"
   ]
  },
  {
   "cell_type": "code",
   "execution_count": 23,
   "metadata": {
    "ExecuteTime": {
     "end_time": "2021-07-15T00:31:42.733190Z",
     "start_time": "2021-07-15T00:31:42.623779Z"
    },
    "collapsed": true
   },
   "outputs": [],
   "source": [
    "#phi_L = []"
   ]
  },
  {
   "cell_type": "code",
   "execution_count": 24,
   "metadata": {
    "ExecuteTime": {
     "end_time": "2021-07-15T00:31:42.988428Z",
     "start_time": "2021-07-15T00:31:42.884479Z"
    },
    "collapsed": true
   },
   "outputs": [],
   "source": [
    "#for key in data[\"ttBar_treeVariables_step8;3\"].keys():\n",
    "#    if \"eta\" in key and \"gen\" not in key:\n",
    "#        print (key)"
   ]
  },
  {
   "cell_type": "code",
   "execution_count": 25,
   "metadata": {
    "ExecuteTime": {
     "end_time": "2021-07-15T00:31:43.230540Z",
     "start_time": "2021-07-15T00:31:43.126743Z"
    },
    "collapsed": true
   },
   "outputs": [],
   "source": [
    "#for key in data[\"ttBar_treeVariables_step8;88\"].keys():\n",
    "#    if \"eta\" in key and \"gen\" not in key:\n",
    "#        eta_L.append(key)"
   ]
  },
  {
   "cell_type": "code",
   "execution_count": 26,
   "metadata": {
    "ExecuteTime": {
     "end_time": "2021-07-15T00:31:43.536029Z",
     "start_time": "2021-07-15T00:31:43.431941Z"
    },
    "collapsed": true
   },
   "outputs": [],
   "source": [
    "#for key in data[\"ttBar_treeVariables_step8;88\"].keys():\n",
    "#    if \"phi\" in key and \"gen\" not in key:\n",
    "#        phi_L.append(key)"
   ]
  },
  {
   "cell_type": "code",
   "execution_count": 27,
   "metadata": {
    "ExecuteTime": {
     "end_time": "2021-07-15T00:31:43.843022Z",
     "start_time": "2021-07-15T00:31:43.739119Z"
    },
    "collapsed": true
   },
   "outputs": [],
   "source": [
    "#eta_L"
   ]
  },
  {
   "cell_type": "code",
   "execution_count": 28,
   "metadata": {
    "ExecuteTime": {
     "end_time": "2021-07-15T00:31:44.083466Z",
     "start_time": "2021-07-15T00:31:43.979560Z"
    },
    "collapsed": true
   },
   "outputs": [],
   "source": [
    "#len(eta_L)"
   ]
  },
  {
   "cell_type": "code",
   "execution_count": 29,
   "metadata": {
    "ExecuteTime": {
     "end_time": "2021-07-15T00:31:44.341938Z",
     "start_time": "2021-07-15T00:31:44.238083Z"
    },
    "collapsed": true
   },
   "outputs": [],
   "source": [
    "#phi_L"
   ]
  },
  {
   "cell_type": "code",
   "execution_count": 30,
   "metadata": {
    "ExecuteTime": {
     "end_time": "2021-07-15T00:31:44.594271Z",
     "start_time": "2021-07-15T00:31:44.490262Z"
    },
    "collapsed": true
   },
   "outputs": [],
   "source": [
    "#len(phi_L)"
   ]
  },
  {
   "cell_type": "code",
   "execution_count": 31,
   "metadata": {
    "ExecuteTime": {
     "end_time": "2021-07-15T00:31:47.988967Z",
     "start_time": "2021-07-15T00:31:45.480332Z"
    },
    "collapsed": true
   },
   "outputs": [],
   "source": [
    "top_eta = data[\"ttBar_treeVariables_step8;88\"+'/top_eta'].array(library=\"np\")\n",
    "#top_boosted_theta = data[\"ttBar_treeVariables_step8;3\"+'/top_boosted_theta'].array(library=\"np\")\n",
    "top_boosted_eta = data[\"ttBar_treeVariables_step8;88\"+'/top_boosted_eta'].array(library=\"np\")\n",
    "#top_theta_v2 = data[\"ttBar_treeVariables_step8;3\"+'/top_theta_v2'].array(library=\"np\")\n",
    "tbar_eta = data[\"ttBar_treeVariables_step8;88\"+'/tbar_eta'].array(library=\"np\")\n",
    "#tbar_boosted_theta = data[\"ttBar_treeVariables_step8;3\"+'/tbar_boosted_theta'].array(library=\"np\")\n",
    "tbar_boosted_eta = data[\"ttBar_treeVariables_step8;88\"+'/top_eta'].array(library=\"np\")\n",
    "#l_eta = data[\"ttBar_treeVariables_step8;3\"+'/l_eta'].array(library=\"np\")\n",
    "#lbar_eta = data[\"ttBar_treeVariables_step8;3\"+'/lbar_eta'].array(library=\"np\")\n",
    "e_eta = data[\"ttBar_treeVariables_step8;88\"+'/e_eta'].array(library=\"np\")\n",
    "ebar_eta = data[\"ttBar_treeVariables_step8;88\"+'/ebar_eta'].array(library=\"np\")\n",
    "mu_eta = data[\"ttBar_treeVariables_step8;88\"+'/mu_eta'].array(library=\"np\")\n",
    "mubar_eta = data[\"ttBar_treeVariables_step8;88\"+'/mubar_eta'].array(library=\"np\")\n",
    "#b_eta = data[\"ttBar_treeVariables_step8;3\"+'/b_eta'].array(library=\"np\")\n",
    "#bbar_eta = data[\"ttBar_treeVariables_step8;3\"+'/bbar_eta'].array(library=\"np\")\n",
    "#nu_eta = data[\"ttBar_treeVariables_step8;3\"+'/nu_eta'].array(library=\"np\")\n",
    "#nubar_eta = data[\"ttBar_treeVariables_step8;3\"+'/nubar_eta'].array(library=\"np\")\n",
    "ttbar_delta_eta = data[\"ttBar_treeVariables_step8;88\"+'/ttbar_delta_eta'].array(library=\"np\")\n",
    "ttbar_eta = data[\"ttBar_treeVariables_step8;88\"+'/ttbar_eta'].array(library=\"np\")\n",
    "#wplus_eta = data[\"ttBar_treeVariables_step8;3\"+'/wplus_eta'].array(library=\"np\")\n",
    "#wminus_eta = data[\"ttBar_treeVariables_step8;3\"+'/wminus_eta'].array(library=\"np\")\n",
    "llbar_delta_eta = data[\"ttBar_treeVariables_step8;88\"+'/llbar_delta_eta'].array(library=\"np\")\n",
    "bbbar_delta_eta = data[\"ttBar_treeVariables_step8;88\"+'/bbbar_delta_eta'].array(library=\"np\")\n",
    "nunubar_delta_eta = data[\"ttBar_treeVariables_step8;88\"+'/nunubar_delta_eta'].array(library=\"np\")"
   ]
  },
  {
   "cell_type": "code",
   "execution_count": 32,
   "metadata": {
    "ExecuteTime": {
     "end_time": "2021-07-15T00:31:49.488748Z",
     "start_time": "2021-07-15T00:31:48.059217Z"
    },
    "collapsed": true
   },
   "outputs": [],
   "source": [
    "top_phi = data[\"ttBar_treeVariables_step8;88\"+'/top_phi'].array(library=\"np\")\n",
    "tbar_phi = data[\"ttBar_treeVariables_step8;88\"+'/tbar_phi'].array(library=\"np\")\n",
    "#l_phi = data[\"ttBar_treeVariables_step8;3\"+'/l_phi'].array(library=\"np\")\n",
    "#lbar_phi = data[\"ttBar_treeVariables_step8;3\"+'/lbar_phi'].array(library=\"np\")\n",
    "e_phi = data[\"ttBar_treeVariables_step8;88\"+'/e_phi'].array(library=\"np\")\n",
    "ebar_phi = data[\"ttBar_treeVariables_step8;88\"+'/ebar_phi'].array(library=\"np\")\n",
    "mu_phi = data[\"ttBar_treeVariables_step8;88\"+'/mu_phi'].array(library=\"np\")\n",
    "mubar_phi = data[\"ttBar_treeVariables_step8;88\"+'/mubar_phi'].array(library=\"np\")\n",
    "#b_phi = data[\"ttBar_treeVariables_step8;3\"+'/b_phi'].array(library=\"np\")\n",
    "#bbar_phi = data[\"ttBar_treeVariables_step8;3\"+'/bbar_phi'].array(library=\"np\")\n",
    "#nu_phi = data[\"ttBar_treeVariables_step8;3\"+'/nu_phi'].array(library=\"np\")\n",
    "#nubar_phi = data[\"ttBar_treeVariables_step8;3\"+'/nubar_phi'].array(library=\"np\")\n",
    "ttbar_phi = data[\"ttBar_treeVariables_step8;88\"+'/ttbar_phi'].array(library=\"np\")\n",
    "ttbar_delta_phi = data[\"ttBar_treeVariables_step8;88\"+'/ttbar_delta_phi'].array(library=\"np\")\n",
    "#wplus_phi = data[\"ttBar_treeVariables_step8;3\"+'/wplus_phi'].array(library=\"np\")\n",
    "#wminus_phi = data[\"ttBar_treeVariables_step8;3\"+'/wminus_phi'].array(library=\"np\")\n",
    "llbar_phi = data[\"ttBar_treeVariables_step8;88\"+'/llbar_phi'].array(library=\"np\")\n",
    "llbar_delta_phi = data[\"ttBar_treeVariables_step8;88\"+'/llbar_delta_phi'].array(library=\"np\")\n",
    "bbbar_phi = data[\"ttBar_treeVariables_step8;88\"+'/bbbar_phi'].array(library=\"np\")\n",
    "bbbar_delta_phi = data[\"ttBar_treeVariables_step8;88\"+'/bbbar_delta_phi'].array(library=\"np\")\n",
    "nunubar_phi = data[\"ttBar_treeVariables_step8;88\"+'/nunubar_phi'].array(library=\"np\")\n",
    "nunubar_delta_phi = data[\"ttBar_treeVariables_step8;88\"+'/nunubar_delta_phi'].array(library=\"np\")\n"
   ]
  },
  {
   "cell_type": "code",
   "execution_count": 33,
   "metadata": {
    "ExecuteTime": {
     "end_time": "2021-07-15T00:31:57.759270Z",
     "start_time": "2021-07-15T00:31:49.921048Z"
    },
    "collapsed": true
   },
   "outputs": [],
   "source": [
    "df['top_eta'] = top_eta.tolist()\n",
    "df['top_boosted_eta'] = top_boosted_eta.tolist()\n",
    "df['tbar_eta'] = tbar_eta.tolist()\n",
    "df['tbar_boosted_eta'] = tbar_boosted_eta.tolist()\n",
    "#df['e_eta'] = e_eta.tolist()\n",
    "#df['ebar_eta'] = ebar_eta.tolist()\n",
    "#df['mu_eta'] = mu_eta.tolist()\n",
    "#df['mubar_eta'] = mubar_eta.tolist()\n",
    "df['ttbar_delta_eta'] = ttbar_delta_eta.tolist()\n",
    "df['ttbar_eta'] = ttbar_eta.tolist()\n",
    "df['llbar_delta_eta'] = llbar_delta_eta.tolist()\n",
    "df['bbbar_delta_eta'] = bbbar_delta_eta.tolist()\n",
    "df['nunubar_delta_eta'] = nunubar_delta_eta.tolist()\n",
    "df['top_phi'] = top_phi.tolist()\n",
    "df['tbar_phi'] = tbar_phi.tolist()\n",
    "#df['e_phi'] = e_phi.tolist()\n",
    "#df['ebar_phi'] = ebar_phi.tolist()\n",
    "#df['mu_phi'] = mu_phi.tolist()\n",
    "#df['mubar_phi'] = mubar_phi.tolist()\n",
    "df['ttbar_phi'] = ttbar_phi.tolist()\n",
    "df['ttbar_delta_phi'] = ttbar_delta_phi.tolist()\n",
    "df['llbar_phi'] = llbar_phi.tolist()\n",
    "df['llbar_delta_phi'] = llbar_delta_phi.tolist()\n",
    "df['bbbar_phi'] = bbbar_phi.tolist()\n",
    "df['bbbar_delta_phi'] = bbbar_delta_phi.tolist()\n",
    "df['nunubar_phi'] = nunubar_phi.tolist()\n",
    "df['nunubar_delta_phi'] = nunubar_delta_phi.tolist()"
   ]
  },
  {
   "cell_type": "code",
   "execution_count": 34,
   "metadata": {
    "ExecuteTime": {
     "end_time": "2021-07-15T00:32:04.368840Z",
     "start_time": "2021-07-15T00:31:57.762983Z"
    },
    "collapsed": true
   },
   "outputs": [],
   "source": [
    "df['l_eta'] = l_eta.tolist()\n",
    "df['lbar_eta'] = lbar_eta.tolist()\n",
    "df['l_phi'] = l_phi.tolist()\n",
    "df['lbar_phi'] = lbar_phi.tolist()\n",
    "df['b_eta'] = b_eta.tolist()\n",
    "df['bbar_eta'] = bbar_eta.tolist()\n",
    "df['b_phi'] = b_phi.tolist()\n",
    "df['bbar_phi'] = bbar_phi.tolist()\n",
    "df['nu_eta'] = nu_eta.tolist()\n",
    "df['nubar_eta'] = nubar_eta.tolist()\n",
    "df['nu_phi'] = nu_phi.tolist()\n",
    "df['nubar_phi'] = nubar_phi.tolist()\n",
    "df['wplus_eta'] = wplus_eta.tolist()\n",
    "df['wminus_eta'] = wminus_eta.tolist()\n",
    "df['wplus_phi'] = wplus_phi.tolist()\n",
    "df['wminus_phi'] = wminus_phi.tolist()"
   ]
  },
  {
   "cell_type": "code",
   "execution_count": 35,
   "metadata": {
    "ExecuteTime": {
     "end_time": "2021-07-15T00:32:04.478077Z",
     "start_time": "2021-07-15T00:32:04.371466Z"
    }
   },
   "outputs": [
    {
     "data": {
      "text/plain": [
       "Index(['lb_delta_eta', 'lbbar_delta_eta', 'lnu_delta_eta', 'lnubar_delta_eta',\n",
       "       'lbarb_delta_eta', 'lbarbbar_delta_eta', 'lbarnu_delta_eta',\n",
       "       'lbarnubar_delta_eta', 'bnu_delta_eta', 'bnubar_delta_eta',\n",
       "       'bbarnu_delta_eta', 'bbarnubar_delta_eta', 'lb_delta_phi',\n",
       "       'lbbar_delta_phi', 'lnu_delta_phi', 'lnubar_delta_phi',\n",
       "       'lbarb_delta_phi', 'lbarbbar_delta_phi', 'lbarnu_delta_phi',\n",
       "       'lbarnubar_delta_phi', 'bnu_delta_phi', 'bnubar_delta_phi',\n",
       "       'bbarnu_delta_phi', 'bbarnubar_delta_phi', 'wplusb_delta_eta',\n",
       "       'wplusbbar_delta_eta', 'wminusb_delta_eta', 'wminusbbar_delta_eta',\n",
       "       'wplusb_delta_phi', 'wplusbbar_delta_phi', 'wminusb_delta_phi',\n",
       "       'wminusbbar_delta_phi', 'top_eta', 'top_boosted_eta', 'tbar_eta',\n",
       "       'tbar_boosted_eta', 'ttbar_delta_eta', 'ttbar_eta', 'llbar_delta_eta',\n",
       "       'bbbar_delta_eta', 'nunubar_delta_eta', 'top_phi', 'tbar_phi',\n",
       "       'ttbar_phi', 'ttbar_delta_phi', 'llbar_phi', 'llbar_delta_phi',\n",
       "       'bbbar_phi', 'bbbar_delta_phi', 'nunubar_phi', 'nunubar_delta_phi',\n",
       "       'l_eta', 'lbar_eta', 'l_phi', 'lbar_phi', 'b_eta', 'bbar_eta', 'b_phi',\n",
       "       'bbar_phi', 'nu_eta', 'nubar_eta', 'nu_phi', 'nubar_phi', 'wplus_eta',\n",
       "       'wminus_eta', 'wplus_phi', 'wminus_phi'],\n",
       "      dtype='object')"
      ]
     },
     "execution_count": 35,
     "metadata": {},
     "output_type": "execute_result"
    }
   ],
   "source": [
    "df.keys()"
   ]
  },
  {
   "cell_type": "code",
   "execution_count": 36,
   "metadata": {
    "ExecuteTime": {
     "end_time": "2021-07-15T00:32:12.550958Z",
     "start_time": "2021-07-15T00:32:12.447211Z"
    },
    "collapsed": true
   },
   "outputs": [],
   "source": [
    "#pt_L = []"
   ]
  },
  {
   "cell_type": "code",
   "execution_count": 37,
   "metadata": {
    "ExecuteTime": {
     "end_time": "2021-07-15T00:32:12.840734Z",
     "start_time": "2021-07-15T00:32:12.736688Z"
    },
    "collapsed": true
   },
   "outputs": [],
   "source": [
    "#mass_L = []"
   ]
  },
  {
   "cell_type": "code",
   "execution_count": 38,
   "metadata": {
    "ExecuteTime": {
     "end_time": "2021-07-15T00:32:13.108802Z",
     "start_time": "2021-07-15T00:32:13.005131Z"
    },
    "collapsed": true
   },
   "outputs": [],
   "source": [
    "#for key in data[\"ttBar_treeVariables_step8;88\"].keys():\n",
    "#    if \"mass\" in key and \"gen\" not in key:\n",
    "#        mass_L.append(key)"
   ]
  },
  {
   "cell_type": "code",
   "execution_count": 39,
   "metadata": {
    "ExecuteTime": {
     "end_time": "2021-07-15T00:32:13.373256Z",
     "start_time": "2021-07-15T00:32:13.269637Z"
    },
    "collapsed": true
   },
   "outputs": [],
   "source": [
    "#for key in data[\"ttBar_treeVariables_step8;88\"].keys():\n",
    "#    if \"pt\" in key and \"gen\" not in key:\n",
    "#        pt_L.append(key)"
   ]
  },
  {
   "cell_type": "code",
   "execution_count": 40,
   "metadata": {
    "ExecuteTime": {
     "end_time": "2021-07-15T00:32:13.598768Z",
     "start_time": "2021-07-15T00:32:13.495024Z"
    },
    "collapsed": true
   },
   "outputs": [],
   "source": [
    "#pt_L"
   ]
  },
  {
   "cell_type": "code",
   "execution_count": 41,
   "metadata": {
    "ExecuteTime": {
     "end_time": "2021-07-15T00:32:13.808774Z",
     "start_time": "2021-07-15T00:32:13.704860Z"
    },
    "collapsed": true
   },
   "outputs": [],
   "source": [
    "#len(pt_L)"
   ]
  },
  {
   "cell_type": "code",
   "execution_count": 42,
   "metadata": {
    "ExecuteTime": {
     "end_time": "2021-07-15T00:32:14.082911Z",
     "start_time": "2021-07-15T00:32:13.978851Z"
    },
    "collapsed": true
   },
   "outputs": [],
   "source": [
    "#len(mass_L)"
   ]
  },
  {
   "cell_type": "code",
   "execution_count": 43,
   "metadata": {
    "ExecuteTime": {
     "end_time": "2021-07-15T00:32:14.776956Z",
     "start_time": "2021-07-15T00:32:14.673053Z"
    },
    "collapsed": true
   },
   "outputs": [],
   "source": [
    "#mass_L"
   ]
  },
  {
   "cell_type": "code",
   "execution_count": 44,
   "metadata": {
    "ExecuteTime": {
     "end_time": "2021-07-15T00:32:18.840891Z",
     "start_time": "2021-07-15T00:32:16.333769Z"
    },
    "collapsed": true
   },
   "outputs": [],
   "source": [
    "top_pt = data[\"ttBar_treeVariables_step8;88\"+'/top_pt'].array(library=\"np\")\n",
    "tbar_pt = data[\"ttBar_treeVariables_step8;88\"+'/tbar_pt'].array(library=\"np\")\n",
    "l_pt = data[\"ttBar_treeVariables_step8;88\"+'/l_pt'].array(library=\"np\")\n",
    "lbar_pt = data[\"ttBar_treeVariables_step8;88\"+'/lbar_pt'].array(library=\"np\")\n",
    "e_pt = data[\"ttBar_treeVariables_step8;88\"+'/e_pt'].array(library=\"np\")\n",
    "ebar_pt = data[\"ttBar_treeVariables_step8;88\"+'/ebar_pt'].array(library=\"np\")\n",
    "mu_pt = data[\"ttBar_treeVariables_step8;88\"+'/mu_pt'].array(library=\"np\")\n",
    "mubar_pt = data[\"ttBar_treeVariables_step8;88\"+'/mubar_pt'].array(library=\"np\")\n",
    "b_pt = data[\"ttBar_treeVariables_step8;88\"+'/b_pt'].array(library=\"np\")\n",
    "bbar_pt = data[\"ttBar_treeVariables_step8;88\"+'/bbar_pt'].array(library=\"np\")\n",
    "nu_pt = data[\"ttBar_treeVariables_step8;88\"+'/nu_pt'].array(library=\"np\")\n",
    "nubar_pt = data[\"ttBar_treeVariables_step8;88\"+'/nubar_pt'].array(library=\"np\")\n",
    "met_pt = data[\"ttBar_treeVariables_step8;88\"+'/met_pt'].array(library=\"np\")\n",
    "ttbar_pt = data[\"ttBar_treeVariables_step8;88\"+'/ttbar_pt'].array(library=\"np\")\n",
    "ttbar_boosted_pt = data[\"ttBar_treeVariables_step8;88\"+'/ttbar_boosted_pt'].array(library=\"np\")\n",
    "wplus_pt = data[\"ttBar_treeVariables_step8;88\"+'/wplus_pt'].array(library=\"np\")\n",
    "wminus_pt = data[\"ttBar_treeVariables_step8;88\"+'/wminus_pt'].array(library=\"np\")\n"
   ]
  },
  {
   "cell_type": "code",
   "execution_count": 45,
   "metadata": {
    "ExecuteTime": {
     "end_time": "2021-07-15T00:32:19.662184Z",
     "start_time": "2021-07-15T00:32:18.842956Z"
    },
    "collapsed": true
   },
   "outputs": [],
   "source": [
    "top_mass = data[\"ttBar_treeVariables_step8;88\"+'/top_mass'].array(library=\"np\")\n",
    "tbar_mass = data[\"ttBar_treeVariables_step8;88\"+'/tbar_mass'].array(library=\"np\")\n",
    "ttbar_mass = data[\"ttBar_treeVariables_step8;88\"+'/ttbar_mass'].array(library=\"np\")\n",
    "wplus_mass = data[\"ttBar_treeVariables_step8;88\"+'/wplus_mass'].array(library=\"np\")\n",
    "wminus_mass = data[\"ttBar_treeVariables_step8;88\"+'/wminus_mass'].array(library=\"np\")\n",
    "all_mass = data[\"ttBar_treeVariables_step8;88\"+'/all_mass'].array(library=\"np\")\n",
    "r_mass = data[\"ttBar_treeVariables_step8;88\"+'/r_mass'].array(library=\"np\")"
   ]
  },
  {
   "cell_type": "code",
   "execution_count": 46,
   "metadata": {
    "ExecuteTime": {
     "end_time": "2021-07-15T00:32:24.677760Z",
     "start_time": "2021-07-15T00:32:19.666300Z"
    },
    "collapsed": true
   },
   "outputs": [],
   "source": [
    "df['top_pt'] = top_pt.tolist()\n",
    "df['tbar_pt'] = tbar_pt.tolist()\n",
    "df['l_pt'] = l_pt.tolist()\n",
    "#df['e_pt'] = e_pt.tolist()\n",
    "#df['ebar_pt'] = ebar_pt.tolist()\n",
    "#df['mu_pt'] = mu_pt.tolist()\n",
    "#df['mubar_pt'] = mubar_pt.tolist()\n",
    "df['b_pt'] = b_pt.tolist()\n",
    "df['bbar_pt'] = bbar_pt.tolist()\n",
    "df['nu_pt'] = nu_pt.tolist()\n",
    "df['nubar_pt'] = nubar_pt.tolist()\n",
    "df['met_pt'] = met_pt.tolist()\n",
    "df['ttbar_pt'] = ttbar_pt.tolist()\n",
    "df['ttbar_boosted_pt'] = ttbar_boosted_pt.tolist()\n",
    "df['wplus_pt'] = wplus_pt.tolist()\n",
    "df['wminus_pt'] = wminus_pt.tolist()\n"
   ]
  },
  {
   "cell_type": "code",
   "execution_count": 47,
   "metadata": {
    "ExecuteTime": {
     "end_time": "2021-07-15T00:32:25.212131Z",
     "start_time": "2021-07-15T00:32:24.680070Z"
    },
    "collapsed": true
   },
   "outputs": [],
   "source": [
    "#df['top_mass'] = top_mass.tolist()\n",
    "#df['tbar_mass'] = tbar_mass.tolist()\n",
    "df['ttbar_mass'] = ttbar_mass.tolist()\n",
    "#df['wplus_mass'] = wplus_mass.tolist()\n",
    "#df['wminus_mass'] = wminus_mass.tolist()\n",
    "#df['all_mass'] = all_mass.tolist()\n",
    "#df['r_mass'] = r_mass.tolist()\n"
   ]
  },
  {
   "cell_type": "code",
   "execution_count": 48,
   "metadata": {
    "ExecuteTime": {
     "end_time": "2021-07-15T00:32:27.221876Z",
     "start_time": "2021-07-15T00:32:27.112372Z"
    }
   },
   "outputs": [
    {
     "data": {
      "text/plain": [
       "Index(['lb_delta_eta', 'lbbar_delta_eta', 'lnu_delta_eta', 'lnubar_delta_eta',\n",
       "       'lbarb_delta_eta', 'lbarbbar_delta_eta', 'lbarnu_delta_eta',\n",
       "       'lbarnubar_delta_eta', 'bnu_delta_eta', 'bnubar_delta_eta',\n",
       "       'bbarnu_delta_eta', 'bbarnubar_delta_eta', 'lb_delta_phi',\n",
       "       'lbbar_delta_phi', 'lnu_delta_phi', 'lnubar_delta_phi',\n",
       "       'lbarb_delta_phi', 'lbarbbar_delta_phi', 'lbarnu_delta_phi',\n",
       "       'lbarnubar_delta_phi', 'bnu_delta_phi', 'bnubar_delta_phi',\n",
       "       'bbarnu_delta_phi', 'bbarnubar_delta_phi', 'wplusb_delta_eta',\n",
       "       'wplusbbar_delta_eta', 'wminusb_delta_eta', 'wminusbbar_delta_eta',\n",
       "       'wplusb_delta_phi', 'wplusbbar_delta_phi', 'wminusb_delta_phi',\n",
       "       'wminusbbar_delta_phi', 'top_eta', 'top_boosted_eta', 'tbar_eta',\n",
       "       'tbar_boosted_eta', 'ttbar_delta_eta', 'ttbar_eta', 'llbar_delta_eta',\n",
       "       'bbbar_delta_eta', 'nunubar_delta_eta', 'top_phi', 'tbar_phi',\n",
       "       'ttbar_phi', 'ttbar_delta_phi', 'llbar_phi', 'llbar_delta_phi',\n",
       "       'bbbar_phi', 'bbbar_delta_phi', 'nunubar_phi', 'nunubar_delta_phi',\n",
       "       'l_eta', 'lbar_eta', 'l_phi', 'lbar_phi', 'b_eta', 'bbar_eta', 'b_phi',\n",
       "       'bbar_phi', 'nu_eta', 'nubar_eta', 'nu_phi', 'nubar_phi', 'wplus_eta',\n",
       "       'wminus_eta', 'wplus_phi', 'wminus_phi', 'top_pt', 'tbar_pt', 'l_pt',\n",
       "       'b_pt', 'bbar_pt', 'nu_pt', 'nubar_pt', 'met_pt', 'ttbar_pt',\n",
       "       'ttbar_boosted_pt', 'wplus_pt', 'wminus_pt', 'ttbar_mass'],\n",
       "      dtype='object')"
      ]
     },
     "execution_count": 48,
     "metadata": {},
     "output_type": "execute_result"
    }
   ],
   "source": [
    "df.keys()"
   ]
  },
  {
   "cell_type": "code",
   "execution_count": 49,
   "metadata": {
    "ExecuteTime": {
     "end_time": "2021-07-15T00:32:35.123854Z",
     "start_time": "2021-07-15T00:32:35.020503Z"
    },
    "collapsed": true
   },
   "outputs": [],
   "source": [
    "#mode_L = []"
   ]
  },
  {
   "cell_type": "code",
   "execution_count": 51,
   "metadata": {
    "ExecuteTime": {
     "end_time": "2021-07-15T00:32:41.417355Z",
     "start_time": "2021-07-15T00:32:41.313370Z"
    },
    "collapsed": true
   },
   "outputs": [],
   "source": [
    "#for key in data[\"ttBar_treeVariables_step8;88\"].keys():\n",
    "#    if \"mode\" in key and \"gen\" not in key:\n",
    "#        mode_L.append(key)"
   ]
  },
  {
   "cell_type": "code",
   "execution_count": 52,
   "metadata": {
    "ExecuteTime": {
     "end_time": "2021-07-15T00:32:43.777802Z",
     "start_time": "2021-07-15T00:32:43.674431Z"
    },
    "collapsed": true
   },
   "outputs": [],
   "source": [
    "#mode_L"
   ]
  },
  {
   "cell_type": "markdown",
   "metadata": {},
   "source": [
    "weights\n",
    "production mode"
   ]
  },
  {
   "cell_type": "code",
   "execution_count": 53,
   "metadata": {
    "ExecuteTime": {
     "end_time": "2021-07-15T00:32:48.492794Z",
     "start_time": "2021-07-15T00:32:46.985443Z"
    },
    "collapsed": true
   },
   "outputs": [],
   "source": [
    "production_mode = data[\"ttBar_treeVariables_step8;88\"+'/production_mode'].array(library=\"np\")\n",
    "eventWeight = data[\"ttBar_treeVariables_step8;88\"+'/eventWeight'].array(library=\"np\")"
   ]
  },
  {
   "cell_type": "code",
   "execution_count": 54,
   "metadata": {
    "ExecuteTime": {
     "end_time": "2021-07-15T00:32:50.405194Z",
     "start_time": "2021-07-15T00:32:49.308225Z"
    },
    "collapsed": true
   },
   "outputs": [],
   "source": [
    "df['production_mode'] = production_mode.tolist()\n",
    "df['eventWeight'] = eventWeight.tolist()"
   ]
  },
  {
   "cell_type": "code",
   "execution_count": 55,
   "metadata": {
    "ExecuteTime": {
     "end_time": "2021-07-15T00:32:52.350951Z",
     "start_time": "2021-07-15T00:32:52.242029Z"
    }
   },
   "outputs": [
    {
     "data": {
      "text/plain": [
       "Index(['lb_delta_eta', 'lbbar_delta_eta', 'lnu_delta_eta', 'lnubar_delta_eta',\n",
       "       'lbarb_delta_eta', 'lbarbbar_delta_eta', 'lbarnu_delta_eta',\n",
       "       'lbarnubar_delta_eta', 'bnu_delta_eta', 'bnubar_delta_eta',\n",
       "       'bbarnu_delta_eta', 'bbarnubar_delta_eta', 'lb_delta_phi',\n",
       "       'lbbar_delta_phi', 'lnu_delta_phi', 'lnubar_delta_phi',\n",
       "       'lbarb_delta_phi', 'lbarbbar_delta_phi', 'lbarnu_delta_phi',\n",
       "       'lbarnubar_delta_phi', 'bnu_delta_phi', 'bnubar_delta_phi',\n",
       "       'bbarnu_delta_phi', 'bbarnubar_delta_phi', 'wplusb_delta_eta',\n",
       "       'wplusbbar_delta_eta', 'wminusb_delta_eta', 'wminusbbar_delta_eta',\n",
       "       'wplusb_delta_phi', 'wplusbbar_delta_phi', 'wminusb_delta_phi',\n",
       "       'wminusbbar_delta_phi', 'top_eta', 'top_boosted_eta', 'tbar_eta',\n",
       "       'tbar_boosted_eta', 'ttbar_delta_eta', 'ttbar_eta', 'llbar_delta_eta',\n",
       "       'bbbar_delta_eta', 'nunubar_delta_eta', 'top_phi', 'tbar_phi',\n",
       "       'ttbar_phi', 'ttbar_delta_phi', 'llbar_phi', 'llbar_delta_phi',\n",
       "       'bbbar_phi', 'bbbar_delta_phi', 'nunubar_phi', 'nunubar_delta_phi',\n",
       "       'l_eta', 'lbar_eta', 'l_phi', 'lbar_phi', 'b_eta', 'bbar_eta', 'b_phi',\n",
       "       'bbar_phi', 'nu_eta', 'nubar_eta', 'nu_phi', 'nubar_phi', 'wplus_eta',\n",
       "       'wminus_eta', 'wplus_phi', 'wminus_phi', 'top_pt', 'tbar_pt', 'l_pt',\n",
       "       'b_pt', 'bbar_pt', 'nu_pt', 'nubar_pt', 'met_pt', 'ttbar_pt',\n",
       "       'ttbar_boosted_pt', 'wplus_pt', 'wminus_pt', 'ttbar_mass',\n",
       "       'production_mode', 'eventWeight'],\n",
       "      dtype='object')"
      ]
     },
     "execution_count": 55,
     "metadata": {},
     "output_type": "execute_result"
    }
   ],
   "source": [
    "df.keys()"
   ]
  },
  {
   "cell_type": "markdown",
   "metadata": {},
   "source": [
    "# break"
   ]
  },
  {
   "cell_type": "code",
   "execution_count": 56,
   "metadata": {
    "ExecuteTime": {
     "end_time": "2021-07-15T00:33:21.388199Z",
     "start_time": "2021-07-15T00:33:21.283917Z"
    },
    "collapsed": true
   },
   "outputs": [],
   "source": [
    "#df = df.drop(columns='Unnamed: 0')"
   ]
  },
  {
   "cell_type": "code",
   "execution_count": 57,
   "metadata": {
    "ExecuteTime": {
     "end_time": "2021-07-15T00:33:21.991408Z",
     "start_time": "2021-07-15T00:33:21.887900Z"
    },
    "collapsed": true
   },
   "outputs": [],
   "source": [
    "#df.keys()"
   ]
  },
  {
   "cell_type": "markdown",
   "metadata": {},
   "source": [
    "# save as csv"
   ]
  },
  {
   "cell_type": "code",
   "execution_count": 58,
   "metadata": {
    "ExecuteTime": {
     "end_time": "2021-07-15T00:33:23.370306Z",
     "start_time": "2021-07-15T00:33:23.266140Z"
    },
    "collapsed": true
   },
   "outputs": [],
   "source": [
    "#df.to_csv('~/Desktop/summer_cms/emu_modified_root_2_1.csv')"
   ]
  },
  {
   "cell_type": "code",
   "execution_count": 59,
   "metadata": {
    "ExecuteTime": {
     "end_time": "2021-07-15T00:33:23.886769Z",
     "start_time": "2021-07-15T00:33:23.783171Z"
    },
    "collapsed": true
   },
   "outputs": [],
   "source": [
    "#depo_dir = '~/Desktop/summer_cms/'\n",
    "#data = pd.read_csv(depo_dir+'emu_modified_root_2_1.csv')"
   ]
  },
  {
   "cell_type": "code",
   "execution_count": 60,
   "metadata": {
    "ExecuteTime": {
     "end_time": "2021-07-15T00:33:24.410424Z",
     "start_time": "2021-07-15T00:33:24.306427Z"
    },
    "collapsed": true
   },
   "outputs": [],
   "source": [
    "#data"
   ]
  },
  {
   "cell_type": "markdown",
   "metadata": {},
   "source": [
    "## save as root"
   ]
  },
  {
   "cell_type": "code",
   "execution_count": 61,
   "metadata": {
    "ExecuteTime": {
     "end_time": "2021-07-15T00:33:26.016645Z",
     "start_time": "2021-07-15T00:33:25.912397Z"
    },
    "collapsed": true
   },
   "outputs": [],
   "source": [
    "#df.to_root('~/Desktop/summer_cms/emu_modified_root_1.root', key = \"ttBar_treeVariables_step8;11\")"
   ]
  },
  {
   "cell_type": "code",
   "execution_count": 62,
   "metadata": {
    "ExecuteTime": {
     "end_time": "2021-07-15T00:33:26.328728Z",
     "start_time": "2021-07-15T00:33:26.224749Z"
    },
    "collapsed": true
   },
   "outputs": [],
   "source": [
    "#data_n = uproot.open('~/Desktop/summer_cms/emu_modified_root_1.root', key = \"ttBar_treeVariables_step8;11\")"
   ]
  },
  {
   "cell_type": "code",
   "execution_count": 63,
   "metadata": {
    "ExecuteTime": {
     "end_time": "2021-07-15T00:33:26.741389Z",
     "start_time": "2021-07-15T00:33:26.638003Z"
    },
    "collapsed": true
   },
   "outputs": [],
   "source": [
    "#data_n"
   ]
  },
  {
   "cell_type": "code",
   "execution_count": 64,
   "metadata": {
    "ExecuteTime": {
     "end_time": "2021-07-15T00:33:27.208448Z",
     "start_time": "2021-07-15T00:33:27.104408Z"
    },
    "collapsed": true
   },
   "outputs": [],
   "source": [
    "#data_n[\"ttBar_treeVariables_step8;11;1\"].keys()"
   ]
  },
  {
   "cell_type": "markdown",
   "metadata": {},
   "source": [
    "# emergency code"
   ]
  },
  {
   "cell_type": "code",
   "execution_count": 65,
   "metadata": {
    "ExecuteTime": {
     "end_time": "2021-07-15T00:34:06.505978Z",
     "start_time": "2021-07-15T00:33:31.272416Z"
    },
    "collapsed": true
   },
   "outputs": [],
   "source": [
    "depo_dir_1 = '~/Desktop/summer_cms/'\n",
    "data_mumu = pd.read_csv(depo_dir_1+'mumu_modified_root_2_2.csv')\n",
    "data_ee = pd.read_csv(depo_dir_1+'ee_modified_root_2_3.csv')"
   ]
  },
  {
   "cell_type": "code",
   "execution_count": 66,
   "metadata": {
    "ExecuteTime": {
     "end_time": "2021-07-15T00:34:44.123104Z",
     "start_time": "2021-07-15T00:34:36.102215Z"
    },
    "collapsed": true
   },
   "outputs": [],
   "source": [
    "data_eeemu= pd.concat([data_ee,df])"
   ]
  },
  {
   "cell_type": "code",
   "execution_count": 67,
   "metadata": {
    "ExecuteTime": {
     "end_time": "2021-07-15T00:34:48.403484Z",
     "start_time": "2021-07-15T00:34:44.126939Z"
    },
    "collapsed": true
   },
   "outputs": [],
   "source": [
    "data_all = pd.concat([data_eeemu,data_mumu])"
   ]
  },
  {
   "cell_type": "code",
   "execution_count": 68,
   "metadata": {
    "ExecuteTime": {
     "end_time": "2021-07-15T00:34:48.969615Z",
     "start_time": "2021-07-15T00:34:48.406166Z"
    }
   },
   "outputs": [
    {
     "data": {
      "text/html": [
       "<div>\n",
       "<style scoped>\n",
       "    .dataframe tbody tr th:only-of-type {\n",
       "        vertical-align: middle;\n",
       "    }\n",
       "\n",
       "    .dataframe tbody tr th {\n",
       "        vertical-align: top;\n",
       "    }\n",
       "\n",
       "    .dataframe thead th {\n",
       "        text-align: right;\n",
       "    }\n",
       "</style>\n",
       "<table border=\"1\" class=\"dataframe\">\n",
       "  <thead>\n",
       "    <tr style=\"text-align: right;\">\n",
       "      <th></th>\n",
       "      <th>lb_delta_eta</th>\n",
       "      <th>lbbar_delta_eta</th>\n",
       "      <th>lnu_delta_eta</th>\n",
       "      <th>lnubar_delta_eta</th>\n",
       "      <th>lbarb_delta_eta</th>\n",
       "      <th>lbarbbar_delta_eta</th>\n",
       "      <th>lbarnu_delta_eta</th>\n",
       "      <th>lbarnubar_delta_eta</th>\n",
       "      <th>bnu_delta_eta</th>\n",
       "      <th>bnubar_delta_eta</th>\n",
       "      <th>...</th>\n",
       "      <th>nu_pt</th>\n",
       "      <th>nubar_pt</th>\n",
       "      <th>met_pt</th>\n",
       "      <th>ttbar_pt</th>\n",
       "      <th>ttbar_boosted_pt</th>\n",
       "      <th>wplus_pt</th>\n",
       "      <th>wminus_pt</th>\n",
       "      <th>ttbar_mass</th>\n",
       "      <th>production_mode</th>\n",
       "      <th>eventWeight</th>\n",
       "    </tr>\n",
       "  </thead>\n",
       "  <tbody>\n",
       "    <tr>\n",
       "      <th>0</th>\n",
       "      <td>0.196395</td>\n",
       "      <td>0.401817</td>\n",
       "      <td>1.523488</td>\n",
       "      <td>1.100096</td>\n",
       "      <td>0.437924</td>\n",
       "      <td>0.232502</td>\n",
       "      <td>0.889169</td>\n",
       "      <td>0.465777</td>\n",
       "      <td>1.327093</td>\n",
       "      <td>0.903701</td>\n",
       "      <td>...</td>\n",
       "      <td>55.912968</td>\n",
       "      <td>60.569515</td>\n",
       "      <td>73.736588</td>\n",
       "      <td>85.727631</td>\n",
       "      <td>0.000000e+00</td>\n",
       "      <td>132.345215</td>\n",
       "      <td>86.564339</td>\n",
       "      <td>395.892334</td>\n",
       "      <td>0.0</td>\n",
       "      <td>66.410027</td>\n",
       "    </tr>\n",
       "    <tr>\n",
       "      <th>1</th>\n",
       "      <td>0.172882</td>\n",
       "      <td>0.338345</td>\n",
       "      <td>0.095944</td>\n",
       "      <td>2.081524</td>\n",
       "      <td>0.151838</td>\n",
       "      <td>0.663065</td>\n",
       "      <td>0.420664</td>\n",
       "      <td>1.756804</td>\n",
       "      <td>0.268826</td>\n",
       "      <td>1.908642</td>\n",
       "      <td>...</td>\n",
       "      <td>66.662498</td>\n",
       "      <td>9.865296</td>\n",
       "      <td>86.294891</td>\n",
       "      <td>34.284901</td>\n",
       "      <td>0.000000e+00</td>\n",
       "      <td>91.426224</td>\n",
       "      <td>51.661064</td>\n",
       "      <td>357.865204</td>\n",
       "      <td>1.0</td>\n",
       "      <td>7.390667</td>\n",
       "    </tr>\n",
       "    <tr>\n",
       "      <th>2</th>\n",
       "      <td>0.927498</td>\n",
       "      <td>0.191133</td>\n",
       "      <td>3.020247</td>\n",
       "      <td>0.361787</td>\n",
       "      <td>1.366539</td>\n",
       "      <td>2.485170</td>\n",
       "      <td>0.726209</td>\n",
       "      <td>1.932250</td>\n",
       "      <td>2.092748</td>\n",
       "      <td>0.565711</td>\n",
       "      <td>...</td>\n",
       "      <td>42.291389</td>\n",
       "      <td>70.709892</td>\n",
       "      <td>149.972198</td>\n",
       "      <td>40.723141</td>\n",
       "      <td>1.110223e-16</td>\n",
       "      <td>20.742170</td>\n",
       "      <td>71.965454</td>\n",
       "      <td>568.250061</td>\n",
       "      <td>0.0</td>\n",
       "      <td>77.069023</td>\n",
       "    </tr>\n",
       "    <tr>\n",
       "      <th>3</th>\n",
       "      <td>0.180216</td>\n",
       "      <td>0.155463</td>\n",
       "      <td>1.146340</td>\n",
       "      <td>1.088407</td>\n",
       "      <td>1.069548</td>\n",
       "      <td>1.094300</td>\n",
       "      <td>0.103424</td>\n",
       "      <td>2.338171</td>\n",
       "      <td>0.966124</td>\n",
       "      <td>1.268623</td>\n",
       "      <td>...</td>\n",
       "      <td>59.980759</td>\n",
       "      <td>14.512580</td>\n",
       "      <td>85.544365</td>\n",
       "      <td>48.901600</td>\n",
       "      <td>7.105427e-15</td>\n",
       "      <td>38.919216</td>\n",
       "      <td>31.414345</td>\n",
       "      <td>373.534393</td>\n",
       "      <td>0.0</td>\n",
       "      <td>76.395515</td>\n",
       "    </tr>\n",
       "    <tr>\n",
       "      <th>4</th>\n",
       "      <td>1.693352</td>\n",
       "      <td>0.851445</td>\n",
       "      <td>0.393477</td>\n",
       "      <td>0.611020</td>\n",
       "      <td>1.780469</td>\n",
       "      <td>0.764327</td>\n",
       "      <td>0.480594</td>\n",
       "      <td>0.698138</td>\n",
       "      <td>1.299875</td>\n",
       "      <td>1.082331</td>\n",
       "      <td>...</td>\n",
       "      <td>115.054474</td>\n",
       "      <td>32.219822</td>\n",
       "      <td>140.827530</td>\n",
       "      <td>147.562439</td>\n",
       "      <td>0.000000e+00</td>\n",
       "      <td>167.645020</td>\n",
       "      <td>58.836834</td>\n",
       "      <td>428.166321</td>\n",
       "      <td>0.0</td>\n",
       "      <td>71.350548</td>\n",
       "    </tr>\n",
       "    <tr>\n",
       "      <th>...</th>\n",
       "      <td>...</td>\n",
       "      <td>...</td>\n",
       "      <td>...</td>\n",
       "      <td>...</td>\n",
       "      <td>...</td>\n",
       "      <td>...</td>\n",
       "      <td>...</td>\n",
       "      <td>...</td>\n",
       "      <td>...</td>\n",
       "      <td>...</td>\n",
       "      <td>...</td>\n",
       "      <td>...</td>\n",
       "      <td>...</td>\n",
       "      <td>...</td>\n",
       "      <td>...</td>\n",
       "      <td>...</td>\n",
       "      <td>...</td>\n",
       "      <td>...</td>\n",
       "      <td>...</td>\n",
       "      <td>...</td>\n",
       "      <td>...</td>\n",
       "    </tr>\n",
       "    <tr>\n",
       "      <th>1587253</th>\n",
       "      <td>0.669881</td>\n",
       "      <td>1.356039</td>\n",
       "      <td>0.494681</td>\n",
       "      <td>0.015631</td>\n",
       "      <td>0.395039</td>\n",
       "      <td>2.420959</td>\n",
       "      <td>0.570240</td>\n",
       "      <td>1.080552</td>\n",
       "      <td>0.175200</td>\n",
       "      <td>0.685512</td>\n",
       "      <td>...</td>\n",
       "      <td>37.566612</td>\n",
       "      <td>75.745758</td>\n",
       "      <td>47.873409</td>\n",
       "      <td>18.083267</td>\n",
       "      <td>0.000000e+00</td>\n",
       "      <td>21.167845</td>\n",
       "      <td>86.692520</td>\n",
       "      <td>536.564758</td>\n",
       "      <td>0.0</td>\n",
       "      <td>72.362854</td>\n",
       "    </tr>\n",
       "    <tr>\n",
       "      <th>1587254</th>\n",
       "      <td>0.346537</td>\n",
       "      <td>0.147339</td>\n",
       "      <td>0.248885</td>\n",
       "      <td>0.095425</td>\n",
       "      <td>1.200701</td>\n",
       "      <td>0.706825</td>\n",
       "      <td>0.605279</td>\n",
       "      <td>0.949589</td>\n",
       "      <td>0.595423</td>\n",
       "      <td>0.251112</td>\n",
       "      <td>...</td>\n",
       "      <td>20.450628</td>\n",
       "      <td>112.142876</td>\n",
       "      <td>127.715424</td>\n",
       "      <td>204.999283</td>\n",
       "      <td>0.000000e+00</td>\n",
       "      <td>68.838882</td>\n",
       "      <td>147.341766</td>\n",
       "      <td>355.505981</td>\n",
       "      <td>2.0</td>\n",
       "      <td>70.901337</td>\n",
       "    </tr>\n",
       "    <tr>\n",
       "      <th>1587255</th>\n",
       "      <td>1.542537</td>\n",
       "      <td>0.536009</td>\n",
       "      <td>1.640348</td>\n",
       "      <td>0.595500</td>\n",
       "      <td>0.738051</td>\n",
       "      <td>1.744579</td>\n",
       "      <td>0.640240</td>\n",
       "      <td>1.685088</td>\n",
       "      <td>0.097811</td>\n",
       "      <td>0.947037</td>\n",
       "      <td>...</td>\n",
       "      <td>130.628586</td>\n",
       "      <td>132.873047</td>\n",
       "      <td>93.275795</td>\n",
       "      <td>14.786276</td>\n",
       "      <td>0.000000e+00</td>\n",
       "      <td>164.841400</td>\n",
       "      <td>191.560455</td>\n",
       "      <td>582.725220</td>\n",
       "      <td>0.0</td>\n",
       "      <td>69.048996</td>\n",
       "    </tr>\n",
       "    <tr>\n",
       "      <th>1587256</th>\n",
       "      <td>0.229844</td>\n",
       "      <td>1.747619</td>\n",
       "      <td>2.553822</td>\n",
       "      <td>1.590117</td>\n",
       "      <td>0.936125</td>\n",
       "      <td>2.453900</td>\n",
       "      <td>1.847540</td>\n",
       "      <td>2.296398</td>\n",
       "      <td>2.783665</td>\n",
       "      <td>1.360273</td>\n",
       "      <td>...</td>\n",
       "      <td>5.224781</td>\n",
       "      <td>46.880993</td>\n",
       "      <td>53.338894</td>\n",
       "      <td>15.105637</td>\n",
       "      <td>3.552714e-15</td>\n",
       "      <td>46.019104</td>\n",
       "      <td>49.958004</td>\n",
       "      <td>479.572083</td>\n",
       "      <td>0.0</td>\n",
       "      <td>79.164299</td>\n",
       "    </tr>\n",
       "    <tr>\n",
       "      <th>1587257</th>\n",
       "      <td>0.068958</td>\n",
       "      <td>0.203429</td>\n",
       "      <td>2.466457</td>\n",
       "      <td>0.686430</td>\n",
       "      <td>2.208677</td>\n",
       "      <td>2.074206</td>\n",
       "      <td>0.188822</td>\n",
       "      <td>1.591205</td>\n",
       "      <td>2.397500</td>\n",
       "      <td>0.617473</td>\n",
       "      <td>...</td>\n",
       "      <td>41.292801</td>\n",
       "      <td>42.877281</td>\n",
       "      <td>105.395599</td>\n",
       "      <td>64.337769</td>\n",
       "      <td>4.440892e-16</td>\n",
       "      <td>14.540850</td>\n",
       "      <td>64.599297</td>\n",
       "      <td>437.122467</td>\n",
       "      <td>0.0</td>\n",
       "      <td>76.923012</td>\n",
       "    </tr>\n",
       "  </tbody>\n",
       "</table>\n",
       "<p>5891955 rows × 82 columns</p>\n",
       "</div>"
      ],
      "text/plain": [
       "         lb_delta_eta  lbbar_delta_eta  lnu_delta_eta  lnubar_delta_eta  \\\n",
       "0            0.196395         0.401817       1.523488          1.100096   \n",
       "1            0.172882         0.338345       0.095944          2.081524   \n",
       "2            0.927498         0.191133       3.020247          0.361787   \n",
       "3            0.180216         0.155463       1.146340          1.088407   \n",
       "4            1.693352         0.851445       0.393477          0.611020   \n",
       "...               ...              ...            ...               ...   \n",
       "1587253      0.669881         1.356039       0.494681          0.015631   \n",
       "1587254      0.346537         0.147339       0.248885          0.095425   \n",
       "1587255      1.542537         0.536009       1.640348          0.595500   \n",
       "1587256      0.229844         1.747619       2.553822          1.590117   \n",
       "1587257      0.068958         0.203429       2.466457          0.686430   \n",
       "\n",
       "         lbarb_delta_eta  lbarbbar_delta_eta  lbarnu_delta_eta  \\\n",
       "0               0.437924            0.232502          0.889169   \n",
       "1               0.151838            0.663065          0.420664   \n",
       "2               1.366539            2.485170          0.726209   \n",
       "3               1.069548            1.094300          0.103424   \n",
       "4               1.780469            0.764327          0.480594   \n",
       "...                  ...                 ...               ...   \n",
       "1587253         0.395039            2.420959          0.570240   \n",
       "1587254         1.200701            0.706825          0.605279   \n",
       "1587255         0.738051            1.744579          0.640240   \n",
       "1587256         0.936125            2.453900          1.847540   \n",
       "1587257         2.208677            2.074206          0.188822   \n",
       "\n",
       "         lbarnubar_delta_eta  bnu_delta_eta  bnubar_delta_eta  ...  \\\n",
       "0                   0.465777       1.327093          0.903701  ...   \n",
       "1                   1.756804       0.268826          1.908642  ...   \n",
       "2                   1.932250       2.092748          0.565711  ...   \n",
       "3                   2.338171       0.966124          1.268623  ...   \n",
       "4                   0.698138       1.299875          1.082331  ...   \n",
       "...                      ...            ...               ...  ...   \n",
       "1587253             1.080552       0.175200          0.685512  ...   \n",
       "1587254             0.949589       0.595423          0.251112  ...   \n",
       "1587255             1.685088       0.097811          0.947037  ...   \n",
       "1587256             2.296398       2.783665          1.360273  ...   \n",
       "1587257             1.591205       2.397500          0.617473  ...   \n",
       "\n",
       "              nu_pt    nubar_pt      met_pt    ttbar_pt  ttbar_boosted_pt  \\\n",
       "0         55.912968   60.569515   73.736588   85.727631      0.000000e+00   \n",
       "1         66.662498    9.865296   86.294891   34.284901      0.000000e+00   \n",
       "2         42.291389   70.709892  149.972198   40.723141      1.110223e-16   \n",
       "3         59.980759   14.512580   85.544365   48.901600      7.105427e-15   \n",
       "4        115.054474   32.219822  140.827530  147.562439      0.000000e+00   \n",
       "...             ...         ...         ...         ...               ...   \n",
       "1587253   37.566612   75.745758   47.873409   18.083267      0.000000e+00   \n",
       "1587254   20.450628  112.142876  127.715424  204.999283      0.000000e+00   \n",
       "1587255  130.628586  132.873047   93.275795   14.786276      0.000000e+00   \n",
       "1587256    5.224781   46.880993   53.338894   15.105637      3.552714e-15   \n",
       "1587257   41.292801   42.877281  105.395599   64.337769      4.440892e-16   \n",
       "\n",
       "           wplus_pt   wminus_pt  ttbar_mass  production_mode  eventWeight  \n",
       "0        132.345215   86.564339  395.892334              0.0    66.410027  \n",
       "1         91.426224   51.661064  357.865204              1.0     7.390667  \n",
       "2         20.742170   71.965454  568.250061              0.0    77.069023  \n",
       "3         38.919216   31.414345  373.534393              0.0    76.395515  \n",
       "4        167.645020   58.836834  428.166321              0.0    71.350548  \n",
       "...             ...         ...         ...              ...          ...  \n",
       "1587253   21.167845   86.692520  536.564758              0.0    72.362854  \n",
       "1587254   68.838882  147.341766  355.505981              2.0    70.901337  \n",
       "1587255  164.841400  191.560455  582.725220              0.0    69.048996  \n",
       "1587256   46.019104   49.958004  479.572083              0.0    79.164299  \n",
       "1587257   14.540850   64.599297  437.122467              0.0    76.923012  \n",
       "\n",
       "[5891955 rows x 82 columns]"
      ]
     },
     "execution_count": 68,
     "metadata": {},
     "output_type": "execute_result"
    }
   ],
   "source": [
    "data_all"
   ]
  },
  {
   "cell_type": "code",
   "execution_count": 69,
   "metadata": {
    "ExecuteTime": {
     "end_time": "2021-07-15T00:35:04.237914Z",
     "start_time": "2021-07-15T00:35:04.134097Z"
    },
    "collapsed": true
   },
   "outputs": [],
   "source": [
    "#data_all_1 = data_all.drop(columns='Unnamed: 0')"
   ]
  },
  {
   "cell_type": "code",
   "execution_count": 70,
   "metadata": {
    "ExecuteTime": {
     "end_time": "2021-07-15T00:35:04.946984Z",
     "start_time": "2021-07-15T00:35:04.843272Z"
    },
    "collapsed": true
   },
   "outputs": [],
   "source": [
    "#print(data_all_1.columns)"
   ]
  },
  {
   "cell_type": "code",
   "execution_count": 72,
   "metadata": {
    "ExecuteTime": {
     "end_time": "2021-07-15T00:39:04.387631Z",
     "start_time": "2021-07-15T00:35:44.189183Z"
    },
    "collapsed": true
   },
   "outputs": [],
   "source": [
    "data_all.to_root('/depot/darkmatter/data/jupyterhub/Physics_Undergrads/Steve/things/all_2.root', key = \"ttBar_treeVariables_step8;5\")"
   ]
  },
  {
   "cell_type": "code",
   "execution_count": 73,
   "metadata": {
    "ExecuteTime": {
     "end_time": "2021-07-15T00:39:04.513904Z",
     "start_time": "2021-07-15T00:39:04.396327Z"
    },
    "collapsed": true
   },
   "outputs": [],
   "source": [
    "data_n_1 = uproot.open('/depot/darkmatter/data/jupyterhub/Physics_Undergrads/Steve/things/all_2.root', key = \"ttBar_treeVariables_step8;5\")"
   ]
  },
  {
   "cell_type": "code",
   "execution_count": 74,
   "metadata": {
    "ExecuteTime": {
     "end_time": "2021-07-15T00:39:04.815782Z",
     "start_time": "2021-07-15T00:39:04.517763Z"
    }
   },
   "outputs": [
    {
     "data": {
      "text/plain": [
       "['lb_delta_eta',\n",
       " 'lbbar_delta_eta',\n",
       " 'lnu_delta_eta',\n",
       " 'lnubar_delta_eta',\n",
       " 'lbarb_delta_eta',\n",
       " 'lbarbbar_delta_eta',\n",
       " 'lbarnu_delta_eta',\n",
       " 'lbarnubar_delta_eta',\n",
       " 'bnu_delta_eta',\n",
       " 'bnubar_delta_eta',\n",
       " 'bbarnu_delta_eta',\n",
       " 'bbarnubar_delta_eta',\n",
       " 'lb_delta_phi',\n",
       " 'lbbar_delta_phi',\n",
       " 'lnu_delta_phi',\n",
       " 'lnubar_delta_phi',\n",
       " 'lbarb_delta_phi',\n",
       " 'lbarbbar_delta_phi',\n",
       " 'lbarnu_delta_phi',\n",
       " 'lbarnubar_delta_phi',\n",
       " 'bnu_delta_phi',\n",
       " 'bnubar_delta_phi',\n",
       " 'bbarnu_delta_phi',\n",
       " 'bbarnubar_delta_phi',\n",
       " 'wplusb_delta_eta',\n",
       " 'wplusbbar_delta_eta',\n",
       " 'wminusb_delta_eta',\n",
       " 'wminusbbar_delta_eta',\n",
       " 'wplusb_delta_phi',\n",
       " 'wplusbbar_delta_phi',\n",
       " 'wminusb_delta_phi',\n",
       " 'wminusbbar_delta_phi',\n",
       " 'top_eta',\n",
       " 'top_boosted_eta',\n",
       " 'tbar_eta',\n",
       " 'tbar_boosted_eta',\n",
       " 'ttbar_delta_eta',\n",
       " 'ttbar_eta',\n",
       " 'llbar_delta_eta',\n",
       " 'bbbar_delta_eta',\n",
       " 'nunubar_delta_eta',\n",
       " 'top_phi',\n",
       " 'tbar_phi',\n",
       " 'ttbar_phi',\n",
       " 'ttbar_delta_phi',\n",
       " 'llbar_phi',\n",
       " 'llbar_delta_phi',\n",
       " 'bbbar_phi',\n",
       " 'bbbar_delta_phi',\n",
       " 'nunubar_phi',\n",
       " 'nunubar_delta_phi',\n",
       " 'l_eta',\n",
       " 'lbar_eta',\n",
       " 'l_phi',\n",
       " 'lbar_phi',\n",
       " 'b_eta',\n",
       " 'bbar_eta',\n",
       " 'b_phi',\n",
       " 'bbar_phi',\n",
       " 'nu_eta',\n",
       " 'nubar_eta',\n",
       " 'nu_phi',\n",
       " 'nubar_phi',\n",
       " 'wplus_eta',\n",
       " 'wminus_eta',\n",
       " 'wplus_phi',\n",
       " 'wminus_phi',\n",
       " 'top_pt',\n",
       " 'tbar_pt',\n",
       " 'l_pt',\n",
       " 'b_pt',\n",
       " 'bbar_pt',\n",
       " 'nu_pt',\n",
       " 'nubar_pt',\n",
       " 'met_pt',\n",
       " 'ttbar_pt',\n",
       " 'ttbar_boosted_pt',\n",
       " 'wplus_pt',\n",
       " 'wminus_pt',\n",
       " 'ttbar_mass',\n",
       " 'production_mode',\n",
       " 'eventWeight',\n",
       " '__index__']"
      ]
     },
     "execution_count": 74,
     "metadata": {},
     "output_type": "execute_result"
    }
   ],
   "source": [
    "data_n_1[\"ttBar_treeVariables_step8;5;1\"].keys()"
   ]
  },
  {
   "cell_type": "code",
   "execution_count": null,
   "metadata": {
    "collapsed": true
   },
   "outputs": [],
   "source": []
  }
 ],
 "metadata": {
  "kernelspec": {
   "display_name": "Python (GANS2)",
   "language": "python",
   "name": "gans2"
  },
  "language_info": {
   "codemirror_mode": {
    "name": "ipython",
    "version": 3
   },
   "file_extension": ".py",
   "mimetype": "text/x-python",
   "name": "python",
   "nbconvert_exporter": "python",
   "pygments_lexer": "ipython3",
   "version": "3.6.13"
  }
 },
 "nbformat": 4,
 "nbformat_minor": 2
}
