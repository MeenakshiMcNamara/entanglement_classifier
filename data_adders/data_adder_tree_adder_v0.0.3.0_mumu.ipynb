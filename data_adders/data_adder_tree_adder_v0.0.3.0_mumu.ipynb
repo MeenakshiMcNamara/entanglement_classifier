{
 "cells": [
  {
   "cell_type": "code",
   "execution_count": 1,
   "metadata": {
    "ExecuteTime": {
     "end_time": "2021-07-15T00:24:37.349312Z",
     "start_time": "2021-07-15T00:24:34.740173Z"
    }
   },
   "outputs": [],
   "source": [
    "import uproot\n",
    "import matplotlib\n",
    "import ipykernel\n",
    "import numpy as np\n",
    "import scipy\n",
    "import torch\n",
    "import pandas as pd\n",
    "import sklearn\n",
    "import uproot as uproot"
   ]
  },
  {
   "cell_type": "code",
   "execution_count": 2,
   "metadata": {
    "ExecuteTime": {
     "end_time": "2021-07-15T00:24:40.714660Z",
     "start_time": "2021-07-15T00:24:37.351505Z"
    }
   },
   "outputs": [
    {
     "name": "stdout",
     "output_type": "stream",
     "text": [
      "Welcome to JupyROOT 6.22/06\n"
     ]
    }
   ],
   "source": [
    "import root_pandas"
   ]
  },
  {
   "cell_type": "code",
   "execution_count": 7,
   "metadata": {
    "ExecuteTime": {
     "end_time": "2021-07-15T00:24:40.820506Z",
     "start_time": "2021-07-15T00:24:40.717427Z"
    },
    "collapsed": true
   },
   "outputs": [],
   "source": [
    "depo_dir = '/depot/cms/top/mcnama20/TopSpinCorr-Run2-Entanglement/CMSSW_10_2_22/src/TopAnalysis/Configuration/analysis/diLeptonic/spinCorrInput_wbosons_masses_all/Nominal'\n",
    "root_folder = \"/mumu\""
   ]
  },
  {
   "cell_type": "code",
   "execution_count": 8,
   "metadata": {
    "ExecuteTime": {
     "end_time": "2021-07-15T00:24:40.927611Z",
     "start_time": "2021-07-15T00:24:40.823319Z"
    },
    "collapsed": true
   },
   "outputs": [],
   "source": [
    "mumu_f = \"/mumu_ttbarsignalplustau_fromDilepton_TuneCP5.root\""
   ]
  },
  {
   "cell_type": "code",
   "execution_count": 9,
   "metadata": {
    "ExecuteTime": {
     "end_time": "2021-07-15T00:24:41.063698Z",
     "start_time": "2021-07-15T00:24:40.931065Z"
    }
   },
   "outputs": [
    {
     "data": {
      "text/plain": [
       "['ttBar_treeVariables_step0;95',\n",
       " 'ttBar_treeVariables_step0;94',\n",
       " 'ttBar_treeVariables_step1;86',\n",
       " 'ttBar_treeVariables_step1;85',\n",
       " 'ttBar_treeVariables_step3;84',\n",
       " 'ttBar_treeVariables_step3;83',\n",
       " 'ttBar_treeVariables_step4;66',\n",
       " 'ttBar_treeVariables_step4;65',\n",
       " 'ttBar_treeVariables_step5;57',\n",
       " 'ttBar_treeVariables_step5;56',\n",
       " 'ttBar_treeVariables_step6;48',\n",
       " 'ttBar_treeVariables_step6;47',\n",
       " 'ttBar_treeVariables_step7;46',\n",
       " 'ttBar_treeVariables_step7;45',\n",
       " 'ttBar_treeVariables_step2;43',\n",
       " 'ttBar_treeVariables_step2;42',\n",
       " 'ttBar_treeVariables_step8;40',\n",
       " 'ttBar_treeVariables_step8;39',\n",
       " 'weightedEvents;1']"
      ]
     },
     "execution_count": 9,
     "metadata": {},
     "output_type": "execute_result"
    }
   ],
   "source": [
    "data = uproot.open(depo_dir + root_folder + mumu_f, key = \"ttBar_treeVariables_step8;3\")\n",
    "data.keys()"
   ]
  },
  {
   "cell_type": "code",
   "execution_count": 10,
   "metadata": {
    "ExecuteTime": {
     "end_time": "2021-07-15T00:24:41.430114Z",
     "start_time": "2021-07-15T00:24:41.067433Z"
    }
   },
   "outputs": [
    {
     "data": {
      "text/plain": [
       "['top_pt',\n",
       " 'top_phi',\n",
       " 'top_rapidity',\n",
       " 'top_arapidity',\n",
       " 'top_eta',\n",
       " 'top_mass',\n",
       " 'top_boosted_theta',\n",
       " 'top_boosted_eta',\n",
       " 'top_theta_v2',\n",
       " 'tbar_pt',\n",
       " 'tbar_phi',\n",
       " 'tbar_rapidity',\n",
       " 'tbar_arapidity',\n",
       " 'tbar_eta',\n",
       " 'tbar_mass',\n",
       " 'tbar_boosted_theta',\n",
       " 'tbar_boosted_eta',\n",
       " 'l_pt',\n",
       " 'lbar_pt',\n",
       " 'e_pt',\n",
       " 'ebar_pt',\n",
       " 'mu_pt',\n",
       " 'mubar_pt',\n",
       " 'b_pt',\n",
       " 'bbar_pt',\n",
       " 'nu_pt',\n",
       " 'nubar_pt',\n",
       " 'l_eta',\n",
       " 'lbar_eta',\n",
       " 'e_eta',\n",
       " 'ebar_eta',\n",
       " 'mu_eta',\n",
       " 'mubar_eta',\n",
       " 'b_eta',\n",
       " 'bbar_eta',\n",
       " 'nu_eta',\n",
       " 'nubar_eta',\n",
       " 'l_phi',\n",
       " 'lbar_phi',\n",
       " 'e_phi',\n",
       " 'ebar_phi',\n",
       " 'mu_phi',\n",
       " 'mubar_phi',\n",
       " 'b_phi',\n",
       " 'bbar_phi',\n",
       " 'nu_phi',\n",
       " 'nubar_phi',\n",
       " 'l_mass',\n",
       " 'lbar_mass',\n",
       " 'e_mass',\n",
       " 'ebar_mass',\n",
       " 'mu_mass',\n",
       " 'mubar_mass',\n",
       " 'b_mass',\n",
       " 'bbar_mass',\n",
       " 'nu_mass',\n",
       " 'nubar_mass',\n",
       " 'met_pt',\n",
       " 'ttbar_pt',\n",
       " 'ttbar_phi',\n",
       " 'ttbar_rapidity',\n",
       " 'ttbar_arapidity',\n",
       " 'ttbar_delta_phi',\n",
       " 'ttbar_delta_eta',\n",
       " 'ttbar_delta_rapidity',\n",
       " 'ttbar_mass',\n",
       " 'ttbar_eta',\n",
       " 'ttbar_boosted_pt',\n",
       " 'wplus_pt',\n",
       " 'wplus_eta',\n",
       " 'wplus_phi',\n",
       " 'wplus_mass',\n",
       " 'wminus_pt',\n",
       " 'wminus_eta',\n",
       " 'wminus_phi',\n",
       " 'wminus_mass',\n",
       " 'llbar_pt',\n",
       " 'llbar_phi',\n",
       " 'llbar_rapidity',\n",
       " 'llbar_arapidity',\n",
       " 'llbar_delta_phi',\n",
       " 'llbar_delta_eta',\n",
       " 'llbar_delta_rapidity',\n",
       " 'llbar_mass',\n",
       " 'bbbar_pt',\n",
       " 'bbbar_phi',\n",
       " 'bbbar_rapidity',\n",
       " 'bbbar_arapidity',\n",
       " 'bbbar_delta_phi',\n",
       " 'bbbar_delta_eta',\n",
       " 'bbbar_delta_rapidity',\n",
       " 'llbar_mass',\n",
       " 'nunubar_pt',\n",
       " 'nunubar_phi',\n",
       " 'nunubar_rapidity',\n",
       " 'nunubar_arapidity',\n",
       " 'nunubar_delta_phi',\n",
       " 'nunubar_delta_eta',\n",
       " 'nunubar_delta_rapidity',\n",
       " 'nunubar_mass',\n",
       " 'MT2',\n",
       " 'all_mass',\n",
       " 'r_mass',\n",
       " 'jet_multiplicity',\n",
       " 'bjet_multiplicity',\n",
       " 'x1',\n",
       " 'x2',\n",
       " 'production_mode',\n",
       " 'b1k',\n",
       " 'b2k',\n",
       " 'b1j',\n",
       " 'b2j',\n",
       " 'b1r',\n",
       " 'b2r',\n",
       " 'b1q',\n",
       " 'b2q',\n",
       " 'b1n',\n",
       " 'b2n',\n",
       " 'b_Pkk',\n",
       " 'b_Mkk',\n",
       " 'b_Pjj',\n",
       " 'b_Mjj',\n",
       " 'b_Prr',\n",
       " 'b_Mrr',\n",
       " 'b_Pqq',\n",
       " 'b_Mqq',\n",
       " 'b_Pnn',\n",
       " 'b_Mnn',\n",
       " 'c_kk',\n",
       " 'c_rr',\n",
       " 'c_nn',\n",
       " 'c_rk',\n",
       " 'c_kr',\n",
       " 'c_nr',\n",
       " 'c_rn',\n",
       " 'c_nk',\n",
       " 'c_kn',\n",
       " 'c_Prk',\n",
       " 'c_Mrk',\n",
       " 'c_Pnr',\n",
       " 'c_Mnr',\n",
       " 'c_Pnk',\n",
       " 'c_Mnk',\n",
       " 'll_cHel',\n",
       " 'll_cLab',\n",
       " 'll_kNorm',\n",
       " 'll_rNorm',\n",
       " 'gen_top_pt',\n",
       " 'gen_top_phi',\n",
       " 'gen_top_rapidity',\n",
       " 'gen_top_arapidity',\n",
       " 'gen_tbar_pt',\n",
       " 'gen_tbar_phi',\n",
       " 'gen_tbar_rapidity',\n",
       " 'gen_tbar_arapidity',\n",
       " 'gen_l_pt',\n",
       " 'gen_lbar_pt',\n",
       " 'gen_e_pt',\n",
       " 'gen_ebar_pt',\n",
       " 'gen_mu_pt',\n",
       " 'gen_mubar_pt',\n",
       " 'gen_b_pt',\n",
       " 'gen_bbar_pt',\n",
       " 'gen_nu_pt',\n",
       " 'gen_nubar_pt',\n",
       " 'gen_l_eta',\n",
       " 'gen_lbar_eta',\n",
       " 'gen_e_eta',\n",
       " 'gen_ebar_eta',\n",
       " 'gen_mu_eta',\n",
       " 'gen_mubar_eta',\n",
       " 'gen_b_eta',\n",
       " 'gen_bbar_eta',\n",
       " 'gen_nu_eta',\n",
       " 'gen_nubar_eta',\n",
       " 'gen_l_phi',\n",
       " 'gen_lbar_phi',\n",
       " 'gen_e_phi',\n",
       " 'gen_ebar_phi',\n",
       " 'gen_mu_phi',\n",
       " 'gen_mubar_phi',\n",
       " 'gen_b_phi',\n",
       " 'gen_bbar_phi',\n",
       " 'gen_nu_phi',\n",
       " 'gen_nubar_phi',\n",
       " 'gen_ttbar_pt',\n",
       " 'gen_ttbar_phi',\n",
       " 'gen_ttbar_rapidity',\n",
       " 'gen_ttbar_arapidity',\n",
       " 'gen_ttbar_delta_phi',\n",
       " 'gen_ttbar_delta_eta',\n",
       " 'gen_ttbar_delta_rapidity',\n",
       " 'gen_ttbar_mass',\n",
       " 'gen_llbar_pt',\n",
       " 'gen_llbar_phi',\n",
       " 'gen_llbar_rapidity',\n",
       " 'gen_llbar_arapidity',\n",
       " 'gen_llbar_delta_phi',\n",
       " 'gen_llbar_delta_eta',\n",
       " 'gen_llbar_delta_rapidity',\n",
       " 'gen_llbar_mass',\n",
       " 'gen_bbbar_pt',\n",
       " 'gen_bbbar_phi',\n",
       " 'gen_bbbar_rapidity',\n",
       " 'gen_bbbar_arapidity',\n",
       " 'gen_bbbar_delta_phi',\n",
       " 'gen_bbbar_delta_eta',\n",
       " 'gen_bbbar_delta_rapidity',\n",
       " 'gen_bbbar_mass',\n",
       " 'gen_nunubar_pt',\n",
       " 'gen_nunubar_phi',\n",
       " 'gen_nunubar_rapidity',\n",
       " 'gen_nunubar_arapidity',\n",
       " 'gen_nunubar_delta_phi',\n",
       " 'gen_nunubar_delta_eta',\n",
       " 'gen_nunubar_delta_rapidity',\n",
       " 'gen_nunubar_mass',\n",
       " 'gen_MT2',\n",
       " 'gen_all_mass',\n",
       " 'gen_r_mass',\n",
       " 'gen_jet_multiplicity',\n",
       " 'gen_x1',\n",
       " 'gen_x2',\n",
       " 'gen_theta',\n",
       " 'gen_b1k',\n",
       " 'gen_b2k',\n",
       " 'gen_b1j',\n",
       " 'gen_b2j',\n",
       " 'gen_b1r',\n",
       " 'gen_b2r',\n",
       " 'gen_b1q',\n",
       " 'gen_b2q',\n",
       " 'gen_b1n',\n",
       " 'gen_b2n',\n",
       " 'gen_b_Pkk',\n",
       " 'gen_b_Mkk',\n",
       " 'gen_b_Pjj',\n",
       " 'gen_b_Mjj',\n",
       " 'gen_b_Prr',\n",
       " 'gen_b_Mrr',\n",
       " 'gen_b_Pqq',\n",
       " 'gen_b_Mqq',\n",
       " 'gen_b_Pnn',\n",
       " 'gen_b_Mnn',\n",
       " 'gen_c_kk',\n",
       " 'gen_c_rr',\n",
       " 'gen_c_nn',\n",
       " 'gen_c_rk',\n",
       " 'gen_c_kr',\n",
       " 'gen_c_nr',\n",
       " 'gen_c_rn',\n",
       " 'gen_c_nk',\n",
       " 'gen_c_kn',\n",
       " 'gen_c_Prk',\n",
       " 'gen_c_Mrk',\n",
       " 'gen_c_Pnr',\n",
       " 'gen_c_Mnr',\n",
       " 'gen_c_Pnk',\n",
       " 'gen_c_Mnk',\n",
       " 'gen_ll_cHel',\n",
       " 'gen_ll_cLab',\n",
       " 'gen_ll_kNorm',\n",
       " 'gen_ll_rNorm',\n",
       " 'entry',\n",
       " 'isTopGen',\n",
       " 'isKinReco',\n",
       " 'eventWeight',\n",
       " 'trueLevelWeight']"
      ]
     },
     "execution_count": 10,
     "metadata": {},
     "output_type": "execute_result"
    }
   ],
   "source": [
    "data[\"ttBar_treeVariables_step8;40\"].keys()"
   ]
  },
  {
   "cell_type": "markdown",
   "metadata": {},
   "source": [
    "## creating delta eta & delta phi"
   ]
  },
  {
   "cell_type": "code",
   "execution_count": 11,
   "metadata": {
    "ExecuteTime": {
     "end_time": "2021-07-15T00:24:41.806632Z",
     "start_time": "2021-07-15T00:24:41.434370Z"
    },
    "collapsed": true
   },
   "outputs": [],
   "source": [
    "l_eta = data[\"ttBar_treeVariables_step8;40\"+'/l_eta'].array(library=\"np\")\n",
    "lbar_eta = data[\"ttBar_treeVariables_step8;40\"+'/lbar_eta'].array(library=\"np\")\n",
    "\n",
    "l_phi = data[\"ttBar_treeVariables_step8;40\"+'/l_phi'].array(library=\"np\")\n",
    "lbar_phi = data[\"ttBar_treeVariables_step8;40\"+'/lbar_phi'].array(library=\"np\")"
   ]
  },
  {
   "cell_type": "code",
   "execution_count": 12,
   "metadata": {
    "ExecuteTime": {
     "end_time": "2021-07-15T00:24:42.129101Z",
     "start_time": "2021-07-15T00:24:41.809980Z"
    },
    "collapsed": true
   },
   "outputs": [],
   "source": [
    "b_eta = data[\"ttBar_treeVariables_step8;40\"+'/b_eta'].array(library=\"np\")\n",
    "bbar_eta = data[\"ttBar_treeVariables_step8;40\"+'/bbar_eta'].array(library=\"np\")\n",
    "\n",
    "b_phi = data[\"ttBar_treeVariables_step8;40\"+'/b_phi'].array(library=\"np\")\n",
    "bbar_phi = data[\"ttBar_treeVariables_step8;40\"+'/bbar_phi'].array(library=\"np\")"
   ]
  },
  {
   "cell_type": "code",
   "execution_count": 13,
   "metadata": {
    "ExecuteTime": {
     "end_time": "2021-07-15T00:24:42.495328Z",
     "start_time": "2021-07-15T00:24:42.132959Z"
    },
    "collapsed": true
   },
   "outputs": [],
   "source": [
    "nu_eta = data[\"ttBar_treeVariables_step8;40\"+'/nu_eta'].array(library=\"np\")\n",
    "nubar_eta = data[\"ttBar_treeVariables_step8;40\"+'/nubar_eta'].array(library=\"np\")\n",
    "\n",
    "nu_phi = data[\"ttBar_treeVariables_step8;40\"+'/nu_phi'].array(library=\"np\")\n",
    "nubar_phi = data[\"ttBar_treeVariables_step8;40\"+'/nubar_phi'].array(library=\"np\")"
   ]
  },
  {
   "cell_type": "code",
   "execution_count": 14,
   "metadata": {
    "ExecuteTime": {
     "end_time": "2021-07-15T00:24:42.822210Z",
     "start_time": "2021-07-15T00:24:42.498863Z"
    },
    "collapsed": true
   },
   "outputs": [],
   "source": [
    "wplus_eta = data[\"ttBar_treeVariables_step8;40\"+'/wplus_eta'].array(library=\"np\")\n",
    "wminus_eta = data[\"ttBar_treeVariables_step8;40\"+'/wminus_eta'].array(library=\"np\")\n",
    "\n",
    "wplus_phi = data[\"ttBar_treeVariables_step8;40\"+'/wplus_phi'].array(library=\"np\")\n",
    "wminus_phi = data[\"ttBar_treeVariables_step8;40\"+'/wminus_phi'].array(library=\"np\")"
   ]
  },
  {
   "cell_type": "code",
   "execution_count": 15,
   "metadata": {
    "ExecuteTime": {
     "end_time": "2021-07-15T00:24:43.067934Z",
     "start_time": "2021-07-15T00:24:42.825554Z"
    },
    "collapsed": true
   },
   "outputs": [],
   "source": [
    "lb_delta_eta = np.abs(np.subtract(l_eta,b_eta))\n",
    "lbbar_delta_eta = np.abs(np.subtract(l_eta,bbar_eta))\n",
    "lnu_delta_eta = np.abs(np.subtract(l_eta,nu_eta))\n",
    "lnubar_delta_eta = np.abs(np.subtract(l_eta,nubar_eta))\n",
    "lbarb_delta_eta = np.abs(np.subtract(lbar_eta,b_eta))\n",
    "lbarbbar_delta_eta = np.abs(np.subtract(lbar_eta,bbar_eta))\n",
    "lbarnu_delta_eta = np.abs(np.subtract(lbar_eta,nu_eta))\n",
    "lbarnubar_delta_eta = np.abs(np.subtract(lbar_eta,nubar_eta))\n",
    "bnu_delta_eta = np.abs(np.subtract(b_eta,nu_eta))\n",
    "bnubar_delta_eta = np.abs(np.subtract(b_eta,nubar_eta))\n",
    "bbarnu_delta_eta = np.abs(np.subtract(bbar_eta,nu_eta))\n",
    "bbarnubar_delta_eta = np.abs(np.subtract(bbar_eta,nubar_eta))"
   ]
  },
  {
   "cell_type": "code",
   "execution_count": 16,
   "metadata": {
    "ExecuteTime": {
     "end_time": "2021-07-15T00:24:43.179787Z",
     "start_time": "2021-07-15T00:24:43.071109Z"
    },
    "collapsed": true
   },
   "outputs": [],
   "source": [
    "df = pd.DataFrame()"
   ]
  },
  {
   "cell_type": "code",
   "execution_count": 17,
   "metadata": {
    "ExecuteTime": {
     "end_time": "2021-07-15T00:24:45.962051Z",
     "start_time": "2021-07-15T00:24:43.188108Z"
    },
    "collapsed": true
   },
   "outputs": [],
   "source": [
    "df['lb_delta_eta'] = lb_delta_eta.tolist()\n",
    "df['lbbar_delta_eta'] = lbbar_delta_eta.tolist()\n",
    "df['lnu_delta_eta'] = lnu_delta_eta.tolist()\n",
    "df['lnubar_delta_eta'] = lnubar_delta_eta.tolist()\n",
    "df['lbarb_delta_eta'] = lbarb_delta_eta.tolist()\n",
    "df['lbarbbar_delta_eta'] = lbarbbar_delta_eta.tolist()\n",
    "df['lbarnu_delta_eta'] = lbarnu_delta_eta.tolist()\n",
    "df['lbarnubar_delta_eta'] = lbarnubar_delta_eta.tolist()\n",
    "df['bnu_delta_eta'] = bnu_delta_eta.tolist()\n",
    "df['bnubar_delta_eta'] = bnubar_delta_eta.tolist()\n",
    "df['bbarnu_delta_eta'] = bbarnu_delta_eta.tolist()\n",
    "df['bbarnubar_delta_eta'] = bbarnubar_delta_eta.tolist()"
   ]
  },
  {
   "cell_type": "code",
   "execution_count": 18,
   "metadata": {
    "ExecuteTime": {
     "end_time": "2021-07-15T00:24:46.178189Z",
     "start_time": "2021-07-15T00:24:45.967095Z"
    },
    "collapsed": true
   },
   "outputs": [],
   "source": [
    "#phi\n",
    "lb_delta_phi = np.abs(np.subtract(l_phi,b_phi))\n",
    "lbbar_delta_phi = np.abs(np.subtract(l_phi,bbar_phi))\n",
    "lnu_delta_phi = np.abs(np.subtract(l_phi,nu_phi))\n",
    "lnubar_delta_phi = np.abs(np.subtract(l_phi,nubar_phi))\n",
    "lbarb_delta_phi = np.abs(np.subtract(lbar_phi,b_phi))\n",
    "lbarbbar_delta_phi = np.abs(np.subtract(lbar_phi,bbar_phi))\n",
    "lbarnu_delta_phi = np.abs(np.subtract(lbar_phi,nu_phi))\n",
    "lbarnubar_delta_phi = np.abs(np.subtract(lbar_phi,nubar_phi))\n",
    "bnu_delta_phi = np.abs(np.subtract(b_phi,nu_phi))\n",
    "bnubar_delta_phi = np.abs(np.subtract(b_phi,nubar_phi))\n",
    "bbarnu_delta_phi = np.abs(np.subtract(bbar_phi,nu_phi))\n",
    "bbarnubar_delta_phi = np.abs(np.subtract(bbar_phi,nubar_phi))"
   ]
  },
  {
   "cell_type": "code",
   "execution_count": 19,
   "metadata": {
    "ExecuteTime": {
     "end_time": "2021-07-15T00:24:48.587023Z",
     "start_time": "2021-07-15T00:24:46.181799Z"
    },
    "collapsed": true
   },
   "outputs": [],
   "source": [
    "df['lb_delta_phi'] = lb_delta_phi.tolist()\n",
    "df['lbbar_delta_phi'] = lbbar_delta_phi.tolist()\n",
    "df['lnu_delta_phi'] = lnu_delta_phi.tolist()\n",
    "df['lnubar_delta_phi'] = lnubar_delta_phi.tolist()\n",
    "df['lbarb_delta_phi'] = lbarb_delta_phi.tolist()\n",
    "df['lbarbbar_delta_phi'] = lbarbbar_delta_phi.tolist()\n",
    "df['lbarnu_delta_phi'] = lbarnu_delta_phi.tolist()\n",
    "df['lbarnubar_delta_phi'] = lbarnubar_delta_phi.tolist()\n",
    "df['bnu_delta_phi'] = bnu_delta_phi.tolist()\n",
    "df['bnubar_delta_phi'] = bnubar_delta_phi.tolist()\n",
    "df['bbarnu_delta_phi'] = bbarnu_delta_phi.tolist()\n",
    "df['bbarnubar_delta_phi'] = bbarnubar_delta_phi.tolist()"
   ]
  },
  {
   "cell_type": "code",
   "execution_count": 20,
   "metadata": {
    "ExecuteTime": {
     "end_time": "2021-07-15T00:24:48.693447Z",
     "start_time": "2021-07-15T00:24:48.589711Z"
    },
    "collapsed": true
   },
   "outputs": [],
   "source": [
    "#df"
   ]
  },
  {
   "cell_type": "code",
   "execution_count": 21,
   "metadata": {
    "ExecuteTime": {
     "end_time": "2021-07-15T00:24:48.806562Z",
     "start_time": "2021-07-15T00:24:48.696737Z"
    }
   },
   "outputs": [
    {
     "data": {
      "text/plain": [
       "Index(['lb_delta_eta', 'lbbar_delta_eta', 'lnu_delta_eta', 'lnubar_delta_eta',\n",
       "       'lbarb_delta_eta', 'lbarbbar_delta_eta', 'lbarnu_delta_eta',\n",
       "       'lbarnubar_delta_eta', 'bnu_delta_eta', 'bnubar_delta_eta',\n",
       "       'bbarnu_delta_eta', 'bbarnubar_delta_eta', 'lb_delta_phi',\n",
       "       'lbbar_delta_phi', 'lnu_delta_phi', 'lnubar_delta_phi',\n",
       "       'lbarb_delta_phi', 'lbarbbar_delta_phi', 'lbarnu_delta_phi',\n",
       "       'lbarnubar_delta_phi', 'bnu_delta_phi', 'bnubar_delta_phi',\n",
       "       'bbarnu_delta_phi', 'bbarnubar_delta_phi'],\n",
       "      dtype='object')"
      ]
     },
     "execution_count": 21,
     "metadata": {},
     "output_type": "execute_result"
    }
   ],
   "source": [
    "df.keys()"
   ]
  },
  {
   "cell_type": "code",
   "execution_count": 22,
   "metadata": {
    "ExecuteTime": {
     "end_time": "2021-07-15T00:24:49.742836Z",
     "start_time": "2021-07-15T00:24:48.809545Z"
    },
    "collapsed": true
   },
   "outputs": [],
   "source": [
    "#W\n",
    "wplusb_delta_eta = np.abs(np.subtract(wplus_eta,b_eta))\n",
    "wplusbbar_delta_eta = np.abs(np.subtract(wplus_eta,bbar_eta))\n",
    "wminusb_delta_eta = np.abs(np.subtract(wminus_eta,b_eta))\n",
    "wminusbbar_delta_eta = np.abs(np.subtract(wminus_eta,bbar_eta))\n",
    "\n",
    "df['wplusb_delta_eta'] = wplusb_delta_eta.tolist()\n",
    "df['wplusbbar_delta_eta'] = wplusbbar_delta_eta.tolist()\n",
    "df['wminusb_delta_eta'] = wminusb_delta_eta.tolist()\n",
    "df['wminusbbar_delta_eta'] = wminusbbar_delta_eta.tolist()"
   ]
  },
  {
   "cell_type": "code",
   "execution_count": 23,
   "metadata": {
    "ExecuteTime": {
     "end_time": "2021-07-15T00:24:50.639119Z",
     "start_time": "2021-07-15T00:24:49.745272Z"
    },
    "collapsed": true
   },
   "outputs": [],
   "source": [
    "wplusb_delta_phi = np.abs(np.subtract(wplus_phi,b_phi))\n",
    "wplusbbar_delta_phi = np.abs(np.subtract(wplus_phi,bbar_phi))\n",
    "wminusb_delta_phi = np.abs(np.subtract(wminus_phi,b_phi))\n",
    "wminusbbar_delta_phi = np.abs(np.subtract(wminus_phi,bbar_phi))\n",
    "\n",
    "df['wplusb_delta_phi'] = wplusb_delta_phi.tolist()\n",
    "df['wplusbbar_delta_phi'] = wplusbbar_delta_phi.tolist()\n",
    "df['wminusb_delta_phi'] = wminusb_delta_phi.tolist()\n",
    "df['wminusbbar_delta_phi'] = wminusbbar_delta_phi.tolist()"
   ]
  },
  {
   "cell_type": "code",
   "execution_count": 24,
   "metadata": {
    "ExecuteTime": {
     "end_time": "2021-07-15T00:24:50.745856Z",
     "start_time": "2021-07-15T00:24:50.642382Z"
    },
    "collapsed": true
   },
   "outputs": [],
   "source": [
    "#df"
   ]
  },
  {
   "cell_type": "code",
   "execution_count": 25,
   "metadata": {
    "ExecuteTime": {
     "end_time": "2021-07-15T00:24:50.853695Z",
     "start_time": "2021-07-15T00:24:50.749383Z"
    },
    "collapsed": true
   },
   "outputs": [],
   "source": [
    "eta_L = []"
   ]
  },
  {
   "cell_type": "code",
   "execution_count": 26,
   "metadata": {
    "ExecuteTime": {
     "end_time": "2021-07-15T00:24:50.960682Z",
     "start_time": "2021-07-15T00:24:50.856579Z"
    },
    "collapsed": true
   },
   "outputs": [],
   "source": [
    "phi_L = []"
   ]
  },
  {
   "cell_type": "code",
   "execution_count": 27,
   "metadata": {
    "ExecuteTime": {
     "end_time": "2021-07-15T00:24:51.092952Z",
     "start_time": "2021-07-15T00:24:50.968240Z"
    },
    "collapsed": true
   },
   "outputs": [],
   "source": [
    "#for key in data[\"ttBar_treeVariables_step8;3\"].keys():\n",
    "#    if \"eta\" in key and \"gen\" not in key:\n",
    "#        print (key)"
   ]
  },
  {
   "cell_type": "code",
   "execution_count": 28,
   "metadata": {
    "ExecuteTime": {
     "end_time": "2021-07-15T00:24:51.208835Z",
     "start_time": "2021-07-15T00:24:51.097205Z"
    },
    "collapsed": true
   },
   "outputs": [],
   "source": [
    "for key in data[\"ttBar_treeVariables_step8;40\"].keys():\n",
    "    if \"eta\" in key and \"gen\" not in key:\n",
    "        eta_L.append(key)"
   ]
  },
  {
   "cell_type": "code",
   "execution_count": 29,
   "metadata": {
    "ExecuteTime": {
     "end_time": "2021-07-15T00:24:51.321326Z",
     "start_time": "2021-07-15T00:24:51.212154Z"
    },
    "collapsed": true
   },
   "outputs": [],
   "source": [
    "for key in data[\"ttBar_treeVariables_step8;40\"].keys():\n",
    "    if \"phi\" in key and \"gen\" not in key:\n",
    "        phi_L.append(key)"
   ]
  },
  {
   "cell_type": "code",
   "execution_count": 30,
   "metadata": {
    "ExecuteTime": {
     "end_time": "2021-07-15T00:24:51.432534Z",
     "start_time": "2021-07-15T00:24:51.324684Z"
    }
   },
   "outputs": [
    {
     "data": {
      "text/plain": [
       "['top_eta',\n",
       " 'top_boosted_theta',\n",
       " 'top_boosted_eta',\n",
       " 'top_theta_v2',\n",
       " 'tbar_eta',\n",
       " 'tbar_boosted_theta',\n",
       " 'tbar_boosted_eta',\n",
       " 'l_eta',\n",
       " 'lbar_eta',\n",
       " 'e_eta',\n",
       " 'ebar_eta',\n",
       " 'mu_eta',\n",
       " 'mubar_eta',\n",
       " 'b_eta',\n",
       " 'bbar_eta',\n",
       " 'nu_eta',\n",
       " 'nubar_eta',\n",
       " 'ttbar_delta_eta',\n",
       " 'ttbar_eta',\n",
       " 'wplus_eta',\n",
       " 'wminus_eta',\n",
       " 'llbar_delta_eta',\n",
       " 'bbbar_delta_eta',\n",
       " 'nunubar_delta_eta']"
      ]
     },
     "execution_count": 30,
     "metadata": {},
     "output_type": "execute_result"
    }
   ],
   "source": [
    "eta_L"
   ]
  },
  {
   "cell_type": "code",
   "execution_count": 31,
   "metadata": {
    "ExecuteTime": {
     "end_time": "2021-07-15T00:24:51.542778Z",
     "start_time": "2021-07-15T00:24:51.435773Z"
    }
   },
   "outputs": [
    {
     "data": {
      "text/plain": [
       "24"
      ]
     },
     "execution_count": 31,
     "metadata": {},
     "output_type": "execute_result"
    }
   ],
   "source": [
    "len(eta_L)"
   ]
  },
  {
   "cell_type": "code",
   "execution_count": 32,
   "metadata": {
    "ExecuteTime": {
     "end_time": "2021-07-15T00:24:51.653295Z",
     "start_time": "2021-07-15T00:24:51.545966Z"
    }
   },
   "outputs": [
    {
     "data": {
      "text/plain": [
       "['top_phi',\n",
       " 'tbar_phi',\n",
       " 'l_phi',\n",
       " 'lbar_phi',\n",
       " 'e_phi',\n",
       " 'ebar_phi',\n",
       " 'mu_phi',\n",
       " 'mubar_phi',\n",
       " 'b_phi',\n",
       " 'bbar_phi',\n",
       " 'nu_phi',\n",
       " 'nubar_phi',\n",
       " 'ttbar_phi',\n",
       " 'ttbar_delta_phi',\n",
       " 'wplus_phi',\n",
       " 'wminus_phi',\n",
       " 'llbar_phi',\n",
       " 'llbar_delta_phi',\n",
       " 'bbbar_phi',\n",
       " 'bbbar_delta_phi',\n",
       " 'nunubar_phi',\n",
       " 'nunubar_delta_phi']"
      ]
     },
     "execution_count": 32,
     "metadata": {},
     "output_type": "execute_result"
    }
   ],
   "source": [
    "phi_L"
   ]
  },
  {
   "cell_type": "code",
   "execution_count": 33,
   "metadata": {
    "ExecuteTime": {
     "end_time": "2021-07-15T00:24:51.763433Z",
     "start_time": "2021-07-15T00:24:51.656416Z"
    }
   },
   "outputs": [
    {
     "data": {
      "text/plain": [
       "22"
      ]
     },
     "execution_count": 33,
     "metadata": {},
     "output_type": "execute_result"
    }
   ],
   "source": [
    "len(phi_L)"
   ]
  },
  {
   "cell_type": "code",
   "execution_count": 34,
   "metadata": {
    "ExecuteTime": {
     "end_time": "2021-07-15T00:24:52.339468Z",
     "start_time": "2021-07-15T00:24:51.766716Z"
    },
    "collapsed": true
   },
   "outputs": [],
   "source": [
    "top_eta = data[\"ttBar_treeVariables_step8;40\"+'/top_eta'].array(library=\"np\")\n",
    "#top_boosted_theta = data[\"ttBar_treeVariables_step8;3\"+'/top_boosted_theta'].array(library=\"np\")\n",
    "top_boosted_eta = data[\"ttBar_treeVariables_step8;40\"+'/top_boosted_eta'].array(library=\"np\")\n",
    "#top_theta_v2 = data[\"ttBar_treeVariables_step8;3\"+'/top_theta_v2'].array(library=\"np\")\n",
    "tbar_eta = data[\"ttBar_treeVariables_step8;40\"+'/tbar_eta'].array(library=\"np\")\n",
    "#tbar_boosted_theta = data[\"ttBar_treeVariables_step8;3\"+'/tbar_boosted_theta'].array(library=\"np\")\n",
    "tbar_boosted_eta = data[\"ttBar_treeVariables_step8;40\"+'/top_eta'].array(library=\"np\")\n",
    "#l_eta = data[\"ttBar_treeVariables_step8;3\"+'/l_eta'].array(library=\"np\")\n",
    "#lbar_eta = data[\"ttBar_treeVariables_step8;3\"+'/lbar_eta'].array(library=\"np\")\n",
    "e_eta = data[\"ttBar_treeVariables_step8;40\"+'/e_eta'].array(library=\"np\")\n",
    "ebar_eta = data[\"ttBar_treeVariables_step8;40\"+'/ebar_eta'].array(library=\"np\")\n",
    "mu_eta = data[\"ttBar_treeVariables_step8;40\"+'/mu_eta'].array(library=\"np\")\n",
    "mubar_eta = data[\"ttBar_treeVariables_step8;40\"+'/mubar_eta'].array(library=\"np\")\n",
    "#b_eta = data[\"ttBar_treeVariables_step8;3\"+'/b_eta'].array(library=\"np\")\n",
    "#bbar_eta = data[\"ttBar_treeVariables_step8;3\"+'/bbar_eta'].array(library=\"np\")\n",
    "#nu_eta = data[\"ttBar_treeVariables_step8;3\"+'/nu_eta'].array(library=\"np\")\n",
    "#nubar_eta = data[\"ttBar_treeVariables_step8;3\"+'/nubar_eta'].array(library=\"np\")\n",
    "ttbar_delta_eta = data[\"ttBar_treeVariables_step8;40\"+'/ttbar_delta_eta'].array(library=\"np\")\n",
    "ttbar_eta = data[\"ttBar_treeVariables_step8;40\"+'/ttbar_eta'].array(library=\"np\")\n",
    "#wplus_eta = data[\"ttBar_treeVariables_step8;3\"+'/wplus_eta'].array(library=\"np\")\n",
    "#wminus_eta = data[\"ttBar_treeVariables_step8;3\"+'/wminus_eta'].array(library=\"np\")\n",
    "llbar_delta_eta = data[\"ttBar_treeVariables_step8;40\"+'/llbar_delta_eta'].array(library=\"np\")\n",
    "bbbar_delta_eta = data[\"ttBar_treeVariables_step8;40\"+'/bbbar_delta_eta'].array(library=\"np\")\n",
    "nunubar_delta_eta = data[\"ttBar_treeVariables_step8;40\"+'/nunubar_delta_eta'].array(library=\"np\")"
   ]
  },
  {
   "cell_type": "code",
   "execution_count": 35,
   "metadata": {
    "ExecuteTime": {
     "end_time": "2021-07-15T00:24:52.954884Z",
     "start_time": "2021-07-15T00:24:52.342526Z"
    },
    "collapsed": true
   },
   "outputs": [],
   "source": [
    "top_phi = data[\"ttBar_treeVariables_step8;40\"+'/top_phi'].array(library=\"np\")\n",
    "tbar_phi = data[\"ttBar_treeVariables_step8;40\"+'/tbar_phi'].array(library=\"np\")\n",
    "#l_phi = data[\"ttBar_treeVariables_step8;3\"+'/l_phi'].array(library=\"np\")\n",
    "#lbar_phi = data[\"ttBar_treeVariables_step8;3\"+'/lbar_phi'].array(library=\"np\")\n",
    "e_phi = data[\"ttBar_treeVariables_step8;40\"+'/e_phi'].array(library=\"np\")\n",
    "ebar_phi = data[\"ttBar_treeVariables_step8;40\"+'/ebar_phi'].array(library=\"np\")\n",
    "mu_phi = data[\"ttBar_treeVariables_step8;40\"+'/mu_phi'].array(library=\"np\")\n",
    "mubar_phi = data[\"ttBar_treeVariables_step8;40\"+'/mubar_phi'].array(library=\"np\")\n",
    "#b_phi = data[\"ttBar_treeVariables_step8;3\"+'/b_phi'].array(library=\"np\")\n",
    "#bbar_phi = data[\"ttBar_treeVariables_step8;3\"+'/bbar_phi'].array(library=\"np\")\n",
    "#nu_phi = data[\"ttBar_treeVariables_step8;3\"+'/nu_phi'].array(library=\"np\")\n",
    "#nubar_phi = data[\"ttBar_treeVariables_step8;3\"+'/nubar_phi'].array(library=\"np\")\n",
    "ttbar_phi = data[\"ttBar_treeVariables_step8;40\"+'/ttbar_phi'].array(library=\"np\")\n",
    "ttbar_delta_phi = data[\"ttBar_treeVariables_step8;40\"+'/ttbar_delta_phi'].array(library=\"np\")\n",
    "#wplus_phi = data[\"ttBar_treeVariables_step8;3\"+'/wplus_phi'].array(library=\"np\")\n",
    "#wminus_phi = data[\"ttBar_treeVariables_step8;3\"+'/wminus_phi'].array(library=\"np\")\n",
    "llbar_phi = data[\"ttBar_treeVariables_step8;40\"+'/llbar_phi'].array(library=\"np\")\n",
    "llbar_delta_phi = data[\"ttBar_treeVariables_step8;40\"+'/llbar_delta_phi'].array(library=\"np\")\n",
    "bbbar_phi = data[\"ttBar_treeVariables_step8;40\"+'/bbbar_phi'].array(library=\"np\")\n",
    "bbbar_delta_phi = data[\"ttBar_treeVariables_step8;40\"+'/bbbar_delta_phi'].array(library=\"np\")\n",
    "nunubar_phi = data[\"ttBar_treeVariables_step8;40\"+'/nunubar_phi'].array(library=\"np\")\n",
    "nunubar_delta_phi = data[\"ttBar_treeVariables_step8;40\"+'/nunubar_delta_phi'].array(library=\"np\")\n"
   ]
  },
  {
   "cell_type": "code",
   "execution_count": 36,
   "metadata": {
    "ExecuteTime": {
     "end_time": "2021-07-15T00:24:56.732955Z",
     "start_time": "2021-07-15T00:24:52.957042Z"
    },
    "collapsed": true
   },
   "outputs": [],
   "source": [
    "df['top_eta'] = top_eta.tolist()\n",
    "df['top_boosted_eta'] = top_boosted_eta.tolist()\n",
    "df['tbar_eta'] = tbar_eta.tolist()\n",
    "df['tbar_boosted_eta'] = tbar_boosted_eta.tolist()\n",
    "#df['e_eta'] = e_eta.tolist()\n",
    "#df['ebar_eta'] = ebar_eta.tolist()\n",
    "#df['mu_eta'] = mu_eta.tolist()\n",
    "#df['mubar_eta'] = mubar_eta.tolist()\n",
    "df['ttbar_delta_eta'] = ttbar_delta_eta.tolist()\n",
    "df['ttbar_eta'] = ttbar_eta.tolist()\n",
    "df['llbar_delta_eta'] = llbar_delta_eta.tolist()\n",
    "df['bbbar_delta_eta'] = bbbar_delta_eta.tolist()\n",
    "df['nunubar_delta_eta'] = nunubar_delta_eta.tolist()\n",
    "df['top_phi'] = top_phi.tolist()\n",
    "df['tbar_phi'] = tbar_phi.tolist()\n",
    "#df['e_phi'] = e_phi.tolist()\n",
    "#df['ebar_phi'] = ebar_phi.tolist()\n",
    "#df['mu_phi'] = mu_phi.tolist()\n",
    "#df['mubar_phi'] = mubar_phi.tolist()\n",
    "df['ttbar_phi'] = ttbar_phi.tolist()\n",
    "df['ttbar_delta_phi'] = ttbar_delta_phi.tolist()\n",
    "df['llbar_phi'] = llbar_phi.tolist()\n",
    "df['llbar_delta_phi'] = llbar_delta_phi.tolist()\n",
    "df['bbbar_phi'] = bbbar_phi.tolist()\n",
    "df['bbbar_delta_phi'] = bbbar_delta_phi.tolist()\n",
    "df['nunubar_phi'] = nunubar_phi.tolist()\n",
    "df['nunubar_delta_phi'] = nunubar_delta_phi.tolist()"
   ]
  },
  {
   "cell_type": "code",
   "execution_count": 37,
   "metadata": {
    "ExecuteTime": {
     "end_time": "2021-07-15T00:25:00.080104Z",
     "start_time": "2021-07-15T00:24:56.737322Z"
    },
    "collapsed": true
   },
   "outputs": [],
   "source": [
    "df['l_eta'] = l_eta.tolist()\n",
    "df['lbar_eta'] = lbar_eta.tolist()\n",
    "df['l_phi'] = l_phi.tolist()\n",
    "df['lbar_phi'] = lbar_phi.tolist()\n",
    "df['b_eta'] = b_eta.tolist()\n",
    "df['bbar_eta'] = bbar_eta.tolist()\n",
    "df['b_phi'] = b_phi.tolist()\n",
    "df['bbar_phi'] = bbar_phi.tolist()\n",
    "df['nu_eta'] = nu_eta.tolist()\n",
    "df['nubar_eta'] = nubar_eta.tolist()\n",
    "df['nu_phi'] = nu_phi.tolist()\n",
    "df['nubar_phi'] = nubar_phi.tolist()\n",
    "df['wplus_eta'] = wplus_eta.tolist()\n",
    "df['wminus_eta'] = wminus_eta.tolist()\n",
    "df['wplus_phi'] = wplus_phi.tolist()\n",
    "df['wminus_phi'] = wminus_phi.tolist()"
   ]
  },
  {
   "cell_type": "code",
   "execution_count": 38,
   "metadata": {
    "ExecuteTime": {
     "end_time": "2021-07-15T00:25:00.193749Z",
     "start_time": "2021-07-15T00:25:00.083644Z"
    }
   },
   "outputs": [
    {
     "data": {
      "text/plain": [
       "Index(['lb_delta_eta', 'lbbar_delta_eta', 'lnu_delta_eta', 'lnubar_delta_eta',\n",
       "       'lbarb_delta_eta', 'lbarbbar_delta_eta', 'lbarnu_delta_eta',\n",
       "       'lbarnubar_delta_eta', 'bnu_delta_eta', 'bnubar_delta_eta',\n",
       "       'bbarnu_delta_eta', 'bbarnubar_delta_eta', 'lb_delta_phi',\n",
       "       'lbbar_delta_phi', 'lnu_delta_phi', 'lnubar_delta_phi',\n",
       "       'lbarb_delta_phi', 'lbarbbar_delta_phi', 'lbarnu_delta_phi',\n",
       "       'lbarnubar_delta_phi', 'bnu_delta_phi', 'bnubar_delta_phi',\n",
       "       'bbarnu_delta_phi', 'bbarnubar_delta_phi', 'wplusb_delta_eta',\n",
       "       'wplusbbar_delta_eta', 'wminusb_delta_eta', 'wminusbbar_delta_eta',\n",
       "       'wplusb_delta_phi', 'wplusbbar_delta_phi', 'wminusb_delta_phi',\n",
       "       'wminusbbar_delta_phi', 'top_eta', 'top_boosted_eta', 'tbar_eta',\n",
       "       'tbar_boosted_eta', 'ttbar_delta_eta', 'ttbar_eta', 'llbar_delta_eta',\n",
       "       'bbbar_delta_eta', 'nunubar_delta_eta', 'top_phi', 'tbar_phi',\n",
       "       'ttbar_phi', 'ttbar_delta_phi', 'llbar_phi', 'llbar_delta_phi',\n",
       "       'bbbar_phi', 'bbbar_delta_phi', 'nunubar_phi', 'nunubar_delta_phi',\n",
       "       'l_eta', 'lbar_eta', 'l_phi', 'lbar_phi', 'b_eta', 'bbar_eta', 'b_phi',\n",
       "       'bbar_phi', 'nu_eta', 'nubar_eta', 'nu_phi', 'nubar_phi', 'wplus_eta',\n",
       "       'wminus_eta', 'wplus_phi', 'wminus_phi'],\n",
       "      dtype='object')"
      ]
     },
     "execution_count": 38,
     "metadata": {},
     "output_type": "execute_result"
    }
   ],
   "source": [
    "df.keys()"
   ]
  },
  {
   "cell_type": "code",
   "execution_count": 39,
   "metadata": {
    "ExecuteTime": {
     "end_time": "2021-07-15T00:25:00.301729Z",
     "start_time": "2021-07-15T00:25:00.197260Z"
    },
    "collapsed": true
   },
   "outputs": [],
   "source": [
    "pt_L = []"
   ]
  },
  {
   "cell_type": "code",
   "execution_count": 40,
   "metadata": {
    "ExecuteTime": {
     "end_time": "2021-07-15T00:25:00.409976Z",
     "start_time": "2021-07-15T00:25:00.304841Z"
    },
    "collapsed": true
   },
   "outputs": [],
   "source": [
    "mass_L = []"
   ]
  },
  {
   "cell_type": "code",
   "execution_count": 41,
   "metadata": {
    "ExecuteTime": {
     "end_time": "2021-07-15T00:25:00.526711Z",
     "start_time": "2021-07-15T00:25:00.413843Z"
    },
    "collapsed": true
   },
   "outputs": [],
   "source": [
    "for key in data[\"ttBar_treeVariables_step8;40\"].keys():\n",
    "    if \"mass\" in key and \"gen\" not in key:\n",
    "        mass_L.append(key)"
   ]
  },
  {
   "cell_type": "code",
   "execution_count": 42,
   "metadata": {
    "ExecuteTime": {
     "end_time": "2021-07-15T00:25:00.640559Z",
     "start_time": "2021-07-15T00:25:00.530608Z"
    },
    "collapsed": true
   },
   "outputs": [],
   "source": [
    "for key in data[\"ttBar_treeVariables_step8;40\"].keys():\n",
    "    if \"pt\" in key and \"gen\" not in key:\n",
    "        pt_L.append(key)"
   ]
  },
  {
   "cell_type": "code",
   "execution_count": 43,
   "metadata": {
    "ExecuteTime": {
     "end_time": "2021-07-15T00:25:00.751883Z",
     "start_time": "2021-07-15T00:25:00.643937Z"
    }
   },
   "outputs": [
    {
     "data": {
      "text/plain": [
       "['top_pt',\n",
       " 'tbar_pt',\n",
       " 'l_pt',\n",
       " 'lbar_pt',\n",
       " 'e_pt',\n",
       " 'ebar_pt',\n",
       " 'mu_pt',\n",
       " 'mubar_pt',\n",
       " 'b_pt',\n",
       " 'bbar_pt',\n",
       " 'nu_pt',\n",
       " 'nubar_pt',\n",
       " 'met_pt',\n",
       " 'ttbar_pt',\n",
       " 'ttbar_boosted_pt',\n",
       " 'wplus_pt',\n",
       " 'wminus_pt',\n",
       " 'llbar_pt',\n",
       " 'bbbar_pt',\n",
       " 'nunubar_pt']"
      ]
     },
     "execution_count": 43,
     "metadata": {},
     "output_type": "execute_result"
    }
   ],
   "source": [
    "pt_L"
   ]
  },
  {
   "cell_type": "code",
   "execution_count": 44,
   "metadata": {
    "ExecuteTime": {
     "end_time": "2021-07-15T00:25:00.863021Z",
     "start_time": "2021-07-15T00:25:00.755493Z"
    }
   },
   "outputs": [
    {
     "data": {
      "text/plain": [
       "20"
      ]
     },
     "execution_count": 44,
     "metadata": {},
     "output_type": "execute_result"
    }
   ],
   "source": [
    "len(pt_L)"
   ]
  },
  {
   "cell_type": "code",
   "execution_count": 45,
   "metadata": {
    "ExecuteTime": {
     "end_time": "2021-07-15T00:25:00.973544Z",
     "start_time": "2021-07-15T00:25:00.866437Z"
    }
   },
   "outputs": [
    {
     "data": {
      "text/plain": [
       "20"
      ]
     },
     "execution_count": 45,
     "metadata": {},
     "output_type": "execute_result"
    }
   ],
   "source": [
    "len(mass_L)"
   ]
  },
  {
   "cell_type": "code",
   "execution_count": 46,
   "metadata": {
    "ExecuteTime": {
     "end_time": "2021-07-15T00:25:01.080935Z",
     "start_time": "2021-07-15T00:25:00.975945Z"
    }
   },
   "outputs": [
    {
     "data": {
      "text/plain": [
       "['top_mass',\n",
       " 'tbar_mass',\n",
       " 'l_mass',\n",
       " 'lbar_mass',\n",
       " 'e_mass',\n",
       " 'ebar_mass',\n",
       " 'mu_mass',\n",
       " 'mubar_mass',\n",
       " 'b_mass',\n",
       " 'bbar_mass',\n",
       " 'nu_mass',\n",
       " 'nubar_mass',\n",
       " 'ttbar_mass',\n",
       " 'wplus_mass',\n",
       " 'wminus_mass',\n",
       " 'llbar_mass',\n",
       " 'llbar_mass',\n",
       " 'nunubar_mass',\n",
       " 'all_mass',\n",
       " 'r_mass']"
      ]
     },
     "execution_count": 46,
     "metadata": {},
     "output_type": "execute_result"
    }
   ],
   "source": [
    "mass_L"
   ]
  },
  {
   "cell_type": "code",
   "execution_count": 47,
   "metadata": {
    "ExecuteTime": {
     "end_time": "2021-07-15T00:25:01.887614Z",
     "start_time": "2021-07-15T00:25:01.084429Z"
    },
    "collapsed": true
   },
   "outputs": [],
   "source": [
    "top_pt = data[\"ttBar_treeVariables_step8;40\"+'/top_pt'].array(library=\"np\")\n",
    "tbar_pt = data[\"ttBar_treeVariables_step8;40\"+'/tbar_pt'].array(library=\"np\")\n",
    "l_pt = data[\"ttBar_treeVariables_step8;40\"+'/l_pt'].array(library=\"np\")\n",
    "lbar_pt = data[\"ttBar_treeVariables_step8;40\"+'/lbar_pt'].array(library=\"np\")\n",
    "e_pt = data[\"ttBar_treeVariables_step8;40\"+'/e_pt'].array(library=\"np\")\n",
    "ebar_pt = data[\"ttBar_treeVariables_step8;40\"+'/ebar_pt'].array(library=\"np\")\n",
    "mu_pt = data[\"ttBar_treeVariables_step8;40\"+'/mu_pt'].array(library=\"np\")\n",
    "mubar_pt = data[\"ttBar_treeVariables_step8;40\"+'/mubar_pt'].array(library=\"np\")\n",
    "b_pt = data[\"ttBar_treeVariables_step8;40\"+'/b_pt'].array(library=\"np\")\n",
    "bbar_pt = data[\"ttBar_treeVariables_step8;40\"+'/bbar_pt'].array(library=\"np\")\n",
    "nu_pt = data[\"ttBar_treeVariables_step8;40\"+'/nu_pt'].array(library=\"np\")\n",
    "nubar_pt = data[\"ttBar_treeVariables_step8;40\"+'/nubar_pt'].array(library=\"np\")\n",
    "met_pt = data[\"ttBar_treeVariables_step8;40\"+'/met_pt'].array(library=\"np\")\n",
    "ttbar_pt = data[\"ttBar_treeVariables_step8;40\"+'/ttbar_pt'].array(library=\"np\")\n",
    "ttbar_boosted_pt = data[\"ttBar_treeVariables_step8;40\"+'/ttbar_boosted_pt'].array(library=\"np\")\n",
    "wplus_pt = data[\"ttBar_treeVariables_step8;40\"+'/wplus_pt'].array(library=\"np\")\n",
    "wminus_pt = data[\"ttBar_treeVariables_step8;40\"+'/wminus_pt'].array(library=\"np\")\n"
   ]
  },
  {
   "cell_type": "code",
   "execution_count": 48,
   "metadata": {
    "ExecuteTime": {
     "end_time": "2021-07-15T00:25:02.305180Z",
     "start_time": "2021-07-15T00:25:01.890747Z"
    },
    "collapsed": true
   },
   "outputs": [],
   "source": [
    "top_mass = data[\"ttBar_treeVariables_step8;40\"+'/top_mass'].array(library=\"np\")\n",
    "tbar_mass = data[\"ttBar_treeVariables_step8;40\"+'/tbar_mass'].array(library=\"np\")\n",
    "ttbar_mass = data[\"ttBar_treeVariables_step8;40\"+'/ttbar_mass'].array(library=\"np\")\n",
    "wplus_mass = data[\"ttBar_treeVariables_step8;40\"+'/wplus_mass'].array(library=\"np\")\n",
    "wminus_mass = data[\"ttBar_treeVariables_step8;40\"+'/wminus_mass'].array(library=\"np\")\n",
    "all_mass = data[\"ttBar_treeVariables_step8;40\"+'/all_mass'].array(library=\"np\")\n",
    "r_mass = data[\"ttBar_treeVariables_step8;40\"+'/r_mass'].array(library=\"np\")"
   ]
  },
  {
   "cell_type": "code",
   "execution_count": 49,
   "metadata": {
    "ExecuteTime": {
     "end_time": "2021-07-15T00:25:04.715807Z",
     "start_time": "2021-07-15T00:25:02.309001Z"
    },
    "collapsed": true
   },
   "outputs": [],
   "source": [
    "df['top_pt'] = top_pt.tolist()\n",
    "df['tbar_pt'] = tbar_pt.tolist()\n",
    "df['l_pt'] = l_pt.tolist()\n",
    "#df['e_pt'] = e_pt.tolist()\n",
    "#df['ebar_pt'] = ebar_pt.tolist()\n",
    "#df['mu_pt'] = mu_pt.tolist()\n",
    "#df['mubar_pt'] = mubar_pt.tolist()\n",
    "df['b_pt'] = b_pt.tolist()\n",
    "df['bbar_pt'] = bbar_pt.tolist()\n",
    "df['nu_pt'] = nu_pt.tolist()\n",
    "df['nubar_pt'] = nubar_pt.tolist()\n",
    "df['met_pt'] = met_pt.tolist()\n",
    "df['ttbar_pt'] = ttbar_pt.tolist()\n",
    "df['ttbar_boosted_pt'] = ttbar_boosted_pt.tolist()\n",
    "df['wplus_pt'] = wplus_pt.tolist()\n",
    "df['wminus_pt'] = wminus_pt.tolist()\n"
   ]
  },
  {
   "cell_type": "code",
   "execution_count": 50,
   "metadata": {
    "ExecuteTime": {
     "end_time": "2021-07-15T00:25:05.050739Z",
     "start_time": "2021-07-15T00:25:04.719098Z"
    },
    "collapsed": true
   },
   "outputs": [],
   "source": [
    "#df['top_mass'] = top_mass.tolist()\n",
    "#df['tbar_mass'] = tbar_mass.tolist()\n",
    "df['ttbar_mass'] = ttbar_mass.tolist()\n",
    "#df['wplus_mass'] = wplus_mass.tolist()\n",
    "#df['wminus_mass'] = wminus_mass.tolist()\n",
    "#df['all_mass'] = all_mass.tolist()\n",
    "#df['r_mass'] = r_mass.tolist()\n"
   ]
  },
  {
   "cell_type": "code",
   "execution_count": 51,
   "metadata": {
    "ExecuteTime": {
     "end_time": "2021-07-15T00:25:05.165228Z",
     "start_time": "2021-07-15T00:25:05.055088Z"
    }
   },
   "outputs": [
    {
     "data": {
      "text/plain": [
       "Index(['lb_delta_eta', 'lbbar_delta_eta', 'lnu_delta_eta', 'lnubar_delta_eta',\n",
       "       'lbarb_delta_eta', 'lbarbbar_delta_eta', 'lbarnu_delta_eta',\n",
       "       'lbarnubar_delta_eta', 'bnu_delta_eta', 'bnubar_delta_eta',\n",
       "       'bbarnu_delta_eta', 'bbarnubar_delta_eta', 'lb_delta_phi',\n",
       "       'lbbar_delta_phi', 'lnu_delta_phi', 'lnubar_delta_phi',\n",
       "       'lbarb_delta_phi', 'lbarbbar_delta_phi', 'lbarnu_delta_phi',\n",
       "       'lbarnubar_delta_phi', 'bnu_delta_phi', 'bnubar_delta_phi',\n",
       "       'bbarnu_delta_phi', 'bbarnubar_delta_phi', 'wplusb_delta_eta',\n",
       "       'wplusbbar_delta_eta', 'wminusb_delta_eta', 'wminusbbar_delta_eta',\n",
       "       'wplusb_delta_phi', 'wplusbbar_delta_phi', 'wminusb_delta_phi',\n",
       "       'wminusbbar_delta_phi', 'top_eta', 'top_boosted_eta', 'tbar_eta',\n",
       "       'tbar_boosted_eta', 'ttbar_delta_eta', 'ttbar_eta', 'llbar_delta_eta',\n",
       "       'bbbar_delta_eta', 'nunubar_delta_eta', 'top_phi', 'tbar_phi',\n",
       "       'ttbar_phi', 'ttbar_delta_phi', 'llbar_phi', 'llbar_delta_phi',\n",
       "       'bbbar_phi', 'bbbar_delta_phi', 'nunubar_phi', 'nunubar_delta_phi',\n",
       "       'l_eta', 'lbar_eta', 'l_phi', 'lbar_phi', 'b_eta', 'bbar_eta', 'b_phi',\n",
       "       'bbar_phi', 'nu_eta', 'nubar_eta', 'nu_phi', 'nubar_phi', 'wplus_eta',\n",
       "       'wminus_eta', 'wplus_phi', 'wminus_phi', 'top_pt', 'tbar_pt', 'l_pt',\n",
       "       'b_pt', 'bbar_pt', 'nu_pt', 'nubar_pt', 'met_pt', 'ttbar_pt',\n",
       "       'ttbar_boosted_pt', 'wplus_pt', 'wminus_pt', 'ttbar_mass'],\n",
       "      dtype='object')"
      ]
     },
     "execution_count": 51,
     "metadata": {},
     "output_type": "execute_result"
    }
   ],
   "source": [
    "df.keys()"
   ]
  },
  {
   "cell_type": "code",
   "execution_count": 52,
   "metadata": {
    "ExecuteTime": {
     "end_time": "2021-07-15T00:25:05.272716Z",
     "start_time": "2021-07-15T00:25:05.168719Z"
    },
    "collapsed": true
   },
   "outputs": [],
   "source": [
    "mode_L = []"
   ]
  },
  {
   "cell_type": "code",
   "execution_count": 53,
   "metadata": {
    "ExecuteTime": {
     "end_time": "2021-07-15T00:25:05.393960Z",
     "start_time": "2021-07-15T00:25:05.275592Z"
    },
    "collapsed": true
   },
   "outputs": [],
   "source": [
    "for key in data[\"ttBar_treeVariables_step8;40\"].keys():\n",
    "    if \"mode\" in key and \"gen\" not in key:\n",
    "        mode_L.append(key)"
   ]
  },
  {
   "cell_type": "code",
   "execution_count": 54,
   "metadata": {
    "ExecuteTime": {
     "end_time": "2021-07-15T00:25:05.501598Z",
     "start_time": "2021-07-15T00:25:05.395715Z"
    }
   },
   "outputs": [
    {
     "data": {
      "text/plain": [
       "['production_mode']"
      ]
     },
     "execution_count": 54,
     "metadata": {},
     "output_type": "execute_result"
    }
   ],
   "source": [
    "mode_L"
   ]
  },
  {
   "cell_type": "markdown",
   "metadata": {},
   "source": [
    "weights\n",
    "production mode"
   ]
  },
  {
   "cell_type": "code",
   "execution_count": 55,
   "metadata": {
    "ExecuteTime": {
     "end_time": "2021-07-15T00:25:05.737013Z",
     "start_time": "2021-07-15T00:25:05.505028Z"
    },
    "collapsed": true
   },
   "outputs": [],
   "source": [
    "production_mode = data[\"ttBar_treeVariables_step8;40\"+'/production_mode'].array(library=\"np\")\n",
    "eventWeight = data[\"ttBar_treeVariables_step8;40\"+'/eventWeight'].array(library=\"np\")"
   ]
  },
  {
   "cell_type": "code",
   "execution_count": 56,
   "metadata": {
    "ExecuteTime": {
     "end_time": "2021-07-15T00:25:06.227413Z",
     "start_time": "2021-07-15T00:25:05.738448Z"
    },
    "collapsed": true
   },
   "outputs": [],
   "source": [
    "df['production_mode'] = production_mode.tolist()\n",
    "df['eventWeight'] = eventWeight.tolist()"
   ]
  },
  {
   "cell_type": "code",
   "execution_count": 57,
   "metadata": {
    "ExecuteTime": {
     "end_time": "2021-07-15T00:25:06.333650Z",
     "start_time": "2021-07-15T00:25:06.229004Z"
    }
   },
   "outputs": [
    {
     "data": {
      "text/plain": [
       "Index(['lb_delta_eta', 'lbbar_delta_eta', 'lnu_delta_eta', 'lnubar_delta_eta',\n",
       "       'lbarb_delta_eta', 'lbarbbar_delta_eta', 'lbarnu_delta_eta',\n",
       "       'lbarnubar_delta_eta', 'bnu_delta_eta', 'bnubar_delta_eta',\n",
       "       'bbarnu_delta_eta', 'bbarnubar_delta_eta', 'lb_delta_phi',\n",
       "       'lbbar_delta_phi', 'lnu_delta_phi', 'lnubar_delta_phi',\n",
       "       'lbarb_delta_phi', 'lbarbbar_delta_phi', 'lbarnu_delta_phi',\n",
       "       'lbarnubar_delta_phi', 'bnu_delta_phi', 'bnubar_delta_phi',\n",
       "       'bbarnu_delta_phi', 'bbarnubar_delta_phi', 'wplusb_delta_eta',\n",
       "       'wplusbbar_delta_eta', 'wminusb_delta_eta', 'wminusbbar_delta_eta',\n",
       "       'wplusb_delta_phi', 'wplusbbar_delta_phi', 'wminusb_delta_phi',\n",
       "       'wminusbbar_delta_phi', 'top_eta', 'top_boosted_eta', 'tbar_eta',\n",
       "       'tbar_boosted_eta', 'ttbar_delta_eta', 'ttbar_eta', 'llbar_delta_eta',\n",
       "       'bbbar_delta_eta', 'nunubar_delta_eta', 'top_phi', 'tbar_phi',\n",
       "       'ttbar_phi', 'ttbar_delta_phi', 'llbar_phi', 'llbar_delta_phi',\n",
       "       'bbbar_phi', 'bbbar_delta_phi', 'nunubar_phi', 'nunubar_delta_phi',\n",
       "       'l_eta', 'lbar_eta', 'l_phi', 'lbar_phi', 'b_eta', 'bbar_eta', 'b_phi',\n",
       "       'bbar_phi', 'nu_eta', 'nubar_eta', 'nu_phi', 'nubar_phi', 'wplus_eta',\n",
       "       'wminus_eta', 'wplus_phi', 'wminus_phi', 'top_pt', 'tbar_pt', 'l_pt',\n",
       "       'b_pt', 'bbar_pt', 'nu_pt', 'nubar_pt', 'met_pt', 'ttbar_pt',\n",
       "       'ttbar_boosted_pt', 'wplus_pt', 'wminus_pt', 'ttbar_mass',\n",
       "       'production_mode', 'eventWeight'],\n",
       "      dtype='object')"
      ]
     },
     "execution_count": 57,
     "metadata": {},
     "output_type": "execute_result"
    }
   ],
   "source": [
    "df.keys()"
   ]
  },
  {
   "cell_type": "code",
   "execution_count": null,
   "metadata": {
    "ExecuteTime": {
     "end_time": "2021-07-14T23:32:19.650217Z",
     "start_time": "2021-07-14T23:32:19.134238Z"
    },
    "collapsed": true
   },
   "outputs": [],
   "source": []
  },
  {
   "cell_type": "markdown",
   "metadata": {},
   "source": [
    "# save as csv"
   ]
  },
  {
   "cell_type": "code",
   "execution_count": 54,
   "metadata": {
    "ExecuteTime": {
     "end_time": "2021-07-15T00:28:11.425678Z",
     "start_time": "2021-07-15T00:25:06.335574Z"
    },
    "collapsed": true
   },
   "outputs": [],
   "source": [
    "# df.to_csv('~/Desktop/summer_cms/mumu_modified_root_2_2.csv', index = False)"
   ]
  },
  {
   "cell_type": "code",
   "execution_count": 55,
   "metadata": {
    "ExecuteTime": {
     "end_time": "2021-07-15T00:28:34.649396Z",
     "start_time": "2021-07-15T00:28:11.430972Z"
    },
    "collapsed": true
   },
   "outputs": [],
   "source": [
    "depo_dir_1 = '~/Desktop/summer_cms/'\n",
    "data_pre = pd.read_csv(depo_dir_1+'mumu_modified_root_2_2.csv')"
   ]
  },
  {
   "cell_type": "code",
   "execution_count": 56,
   "metadata": {
    "ExecuteTime": {
     "end_time": "2021-07-15T00:28:34.920278Z",
     "start_time": "2021-07-15T00:28:34.653002Z"
    }
   },
   "outputs": [
    {
     "data": {
      "text/html": [
       "<div>\n",
       "<style scoped>\n",
       "    .dataframe tbody tr th:only-of-type {\n",
       "        vertical-align: middle;\n",
       "    }\n",
       "\n",
       "    .dataframe tbody tr th {\n",
       "        vertical-align: top;\n",
       "    }\n",
       "\n",
       "    .dataframe thead th {\n",
       "        text-align: right;\n",
       "    }\n",
       "</style>\n",
       "<table border=\"1\" class=\"dataframe\">\n",
       "  <thead>\n",
       "    <tr style=\"text-align: right;\">\n",
       "      <th></th>\n",
       "      <th>lb_delta_eta</th>\n",
       "      <th>lbbar_delta_eta</th>\n",
       "      <th>lnu_delta_eta</th>\n",
       "      <th>lnubar_delta_eta</th>\n",
       "      <th>lbarb_delta_eta</th>\n",
       "      <th>lbarbbar_delta_eta</th>\n",
       "      <th>lbarnu_delta_eta</th>\n",
       "      <th>lbarnubar_delta_eta</th>\n",
       "      <th>bnu_delta_eta</th>\n",
       "      <th>bnubar_delta_eta</th>\n",
       "      <th>...</th>\n",
       "      <th>nu_pt</th>\n",
       "      <th>nubar_pt</th>\n",
       "      <th>met_pt</th>\n",
       "      <th>ttbar_pt</th>\n",
       "      <th>ttbar_boosted_pt</th>\n",
       "      <th>wplus_pt</th>\n",
       "      <th>wminus_pt</th>\n",
       "      <th>ttbar_mass</th>\n",
       "      <th>production_mode</th>\n",
       "      <th>eventWeight</th>\n",
       "    </tr>\n",
       "  </thead>\n",
       "  <tbody>\n",
       "    <tr>\n",
       "      <th>0</th>\n",
       "      <td>0.532937</td>\n",
       "      <td>0.866948</td>\n",
       "      <td>0.993912</td>\n",
       "      <td>0.172879</td>\n",
       "      <td>0.160346</td>\n",
       "      <td>0.494357</td>\n",
       "      <td>0.621322</td>\n",
       "      <td>0.545469</td>\n",
       "      <td>0.460975</td>\n",
       "      <td>0.705815</td>\n",
       "      <td>...</td>\n",
       "      <td>99.624977</td>\n",
       "      <td>29.776569</td>\n",
       "      <td>102.740883</td>\n",
       "      <td>40.734203</td>\n",
       "      <td>0.000000e+00</td>\n",
       "      <td>94.192207</td>\n",
       "      <td>61.985336</td>\n",
       "      <td>486.746216</td>\n",
       "      <td>0.0</td>\n",
       "      <td>40.208149</td>\n",
       "    </tr>\n",
       "    <tr>\n",
       "      <th>1</th>\n",
       "      <td>0.294229</td>\n",
       "      <td>0.346466</td>\n",
       "      <td>0.525028</td>\n",
       "      <td>0.145126</td>\n",
       "      <td>0.999962</td>\n",
       "      <td>1.052199</td>\n",
       "      <td>0.180705</td>\n",
       "      <td>0.560607</td>\n",
       "      <td>0.819257</td>\n",
       "      <td>0.439355</td>\n",
       "      <td>...</td>\n",
       "      <td>71.944153</td>\n",
       "      <td>113.464027</td>\n",
       "      <td>142.160995</td>\n",
       "      <td>23.313484</td>\n",
       "      <td>7.944109e-15</td>\n",
       "      <td>111.312805</td>\n",
       "      <td>154.187561</td>\n",
       "      <td>575.562012</td>\n",
       "      <td>1.0</td>\n",
       "      <td>74.750771</td>\n",
       "    </tr>\n",
       "    <tr>\n",
       "      <th>2</th>\n",
       "      <td>1.741053</td>\n",
       "      <td>1.985757</td>\n",
       "      <td>0.143307</td>\n",
       "      <td>0.443150</td>\n",
       "      <td>0.572550</td>\n",
       "      <td>0.817254</td>\n",
       "      <td>1.311809</td>\n",
       "      <td>0.725352</td>\n",
       "      <td>1.884360</td>\n",
       "      <td>1.297902</td>\n",
       "      <td>...</td>\n",
       "      <td>20.153009</td>\n",
       "      <td>171.534210</td>\n",
       "      <td>157.927292</td>\n",
       "      <td>32.570293</td>\n",
       "      <td>4.440892e-16</td>\n",
       "      <td>138.055695</td>\n",
       "      <td>180.454041</td>\n",
       "      <td>575.838196</td>\n",
       "      <td>0.0</td>\n",
       "      <td>79.971519</td>\n",
       "    </tr>\n",
       "    <tr>\n",
       "      <th>3</th>\n",
       "      <td>1.278029</td>\n",
       "      <td>0.628922</td>\n",
       "      <td>0.346951</td>\n",
       "      <td>0.317834</td>\n",
       "      <td>1.627410</td>\n",
       "      <td>0.978302</td>\n",
       "      <td>0.002429</td>\n",
       "      <td>0.667214</td>\n",
       "      <td>1.624981</td>\n",
       "      <td>0.960196</td>\n",
       "      <td>...</td>\n",
       "      <td>57.075191</td>\n",
       "      <td>38.290646</td>\n",
       "      <td>105.087555</td>\n",
       "      <td>24.752222</td>\n",
       "      <td>0.000000e+00</td>\n",
       "      <td>103.620811</td>\n",
       "      <td>73.650711</td>\n",
       "      <td>427.477234</td>\n",
       "      <td>0.0</td>\n",
       "      <td>85.705040</td>\n",
       "    </tr>\n",
       "    <tr>\n",
       "      <th>4</th>\n",
       "      <td>1.086272</td>\n",
       "      <td>0.943390</td>\n",
       "      <td>1.156843</td>\n",
       "      <td>0.264315</td>\n",
       "      <td>1.872472</td>\n",
       "      <td>1.729589</td>\n",
       "      <td>0.370643</td>\n",
       "      <td>0.521885</td>\n",
       "      <td>2.243115</td>\n",
       "      <td>1.350587</td>\n",
       "      <td>...</td>\n",
       "      <td>45.723309</td>\n",
       "      <td>57.660534</td>\n",
       "      <td>84.977509</td>\n",
       "      <td>43.913189</td>\n",
       "      <td>7.105427e-15</td>\n",
       "      <td>95.444168</td>\n",
       "      <td>108.774406</td>\n",
       "      <td>482.619202</td>\n",
       "      <td>2.0</td>\n",
       "      <td>76.136414</td>\n",
       "    </tr>\n",
       "    <tr>\n",
       "      <th>...</th>\n",
       "      <td>...</td>\n",
       "      <td>...</td>\n",
       "      <td>...</td>\n",
       "      <td>...</td>\n",
       "      <td>...</td>\n",
       "      <td>...</td>\n",
       "      <td>...</td>\n",
       "      <td>...</td>\n",
       "      <td>...</td>\n",
       "      <td>...</td>\n",
       "      <td>...</td>\n",
       "      <td>...</td>\n",
       "      <td>...</td>\n",
       "      <td>...</td>\n",
       "      <td>...</td>\n",
       "      <td>...</td>\n",
       "      <td>...</td>\n",
       "      <td>...</td>\n",
       "      <td>...</td>\n",
       "      <td>...</td>\n",
       "      <td>...</td>\n",
       "    </tr>\n",
       "    <tr>\n",
       "      <th>1587253</th>\n",
       "      <td>0.669881</td>\n",
       "      <td>1.356039</td>\n",
       "      <td>0.494681</td>\n",
       "      <td>0.015631</td>\n",
       "      <td>0.395039</td>\n",
       "      <td>2.420959</td>\n",
       "      <td>0.570240</td>\n",
       "      <td>1.080552</td>\n",
       "      <td>0.175200</td>\n",
       "      <td>0.685512</td>\n",
       "      <td>...</td>\n",
       "      <td>37.566612</td>\n",
       "      <td>75.745758</td>\n",
       "      <td>47.873409</td>\n",
       "      <td>18.083267</td>\n",
       "      <td>0.000000e+00</td>\n",
       "      <td>21.167845</td>\n",
       "      <td>86.692520</td>\n",
       "      <td>536.564758</td>\n",
       "      <td>0.0</td>\n",
       "      <td>72.362854</td>\n",
       "    </tr>\n",
       "    <tr>\n",
       "      <th>1587254</th>\n",
       "      <td>0.346537</td>\n",
       "      <td>0.147339</td>\n",
       "      <td>0.248885</td>\n",
       "      <td>0.095425</td>\n",
       "      <td>1.200701</td>\n",
       "      <td>0.706825</td>\n",
       "      <td>0.605279</td>\n",
       "      <td>0.949589</td>\n",
       "      <td>0.595423</td>\n",
       "      <td>0.251112</td>\n",
       "      <td>...</td>\n",
       "      <td>20.450628</td>\n",
       "      <td>112.142876</td>\n",
       "      <td>127.715424</td>\n",
       "      <td>204.999283</td>\n",
       "      <td>0.000000e+00</td>\n",
       "      <td>68.838882</td>\n",
       "      <td>147.341766</td>\n",
       "      <td>355.505981</td>\n",
       "      <td>2.0</td>\n",
       "      <td>70.901337</td>\n",
       "    </tr>\n",
       "    <tr>\n",
       "      <th>1587255</th>\n",
       "      <td>1.542537</td>\n",
       "      <td>0.536009</td>\n",
       "      <td>1.640348</td>\n",
       "      <td>0.595500</td>\n",
       "      <td>0.738051</td>\n",
       "      <td>1.744579</td>\n",
       "      <td>0.640240</td>\n",
       "      <td>1.685088</td>\n",
       "      <td>0.097811</td>\n",
       "      <td>0.947037</td>\n",
       "      <td>...</td>\n",
       "      <td>130.628586</td>\n",
       "      <td>132.873047</td>\n",
       "      <td>93.275795</td>\n",
       "      <td>14.786276</td>\n",
       "      <td>0.000000e+00</td>\n",
       "      <td>164.841400</td>\n",
       "      <td>191.560455</td>\n",
       "      <td>582.725220</td>\n",
       "      <td>0.0</td>\n",
       "      <td>69.048996</td>\n",
       "    </tr>\n",
       "    <tr>\n",
       "      <th>1587256</th>\n",
       "      <td>0.229844</td>\n",
       "      <td>1.747619</td>\n",
       "      <td>2.553822</td>\n",
       "      <td>1.590117</td>\n",
       "      <td>0.936125</td>\n",
       "      <td>2.453900</td>\n",
       "      <td>1.847540</td>\n",
       "      <td>2.296398</td>\n",
       "      <td>2.783665</td>\n",
       "      <td>1.360273</td>\n",
       "      <td>...</td>\n",
       "      <td>5.224781</td>\n",
       "      <td>46.880993</td>\n",
       "      <td>53.338894</td>\n",
       "      <td>15.105637</td>\n",
       "      <td>3.552714e-15</td>\n",
       "      <td>46.019104</td>\n",
       "      <td>49.958004</td>\n",
       "      <td>479.572083</td>\n",
       "      <td>0.0</td>\n",
       "      <td>79.164299</td>\n",
       "    </tr>\n",
       "    <tr>\n",
       "      <th>1587257</th>\n",
       "      <td>0.068958</td>\n",
       "      <td>0.203429</td>\n",
       "      <td>2.466457</td>\n",
       "      <td>0.686430</td>\n",
       "      <td>2.208677</td>\n",
       "      <td>2.074206</td>\n",
       "      <td>0.188822</td>\n",
       "      <td>1.591205</td>\n",
       "      <td>2.397500</td>\n",
       "      <td>0.617473</td>\n",
       "      <td>...</td>\n",
       "      <td>41.292801</td>\n",
       "      <td>42.877281</td>\n",
       "      <td>105.395599</td>\n",
       "      <td>64.337769</td>\n",
       "      <td>4.440892e-16</td>\n",
       "      <td>14.540850</td>\n",
       "      <td>64.599297</td>\n",
       "      <td>437.122467</td>\n",
       "      <td>0.0</td>\n",
       "      <td>76.923012</td>\n",
       "    </tr>\n",
       "  </tbody>\n",
       "</table>\n",
       "<p>1587258 rows × 82 columns</p>\n",
       "</div>"
      ],
      "text/plain": [
       "         lb_delta_eta  lbbar_delta_eta  lnu_delta_eta  lnubar_delta_eta  \\\n",
       "0            0.532937         0.866948       0.993912          0.172879   \n",
       "1            0.294229         0.346466       0.525028          0.145126   \n",
       "2            1.741053         1.985757       0.143307          0.443150   \n",
       "3            1.278029         0.628922       0.346951          0.317834   \n",
       "4            1.086272         0.943390       1.156843          0.264315   \n",
       "...               ...              ...            ...               ...   \n",
       "1587253      0.669881         1.356039       0.494681          0.015631   \n",
       "1587254      0.346537         0.147339       0.248885          0.095425   \n",
       "1587255      1.542537         0.536009       1.640348          0.595500   \n",
       "1587256      0.229844         1.747619       2.553822          1.590117   \n",
       "1587257      0.068958         0.203429       2.466457          0.686430   \n",
       "\n",
       "         lbarb_delta_eta  lbarbbar_delta_eta  lbarnu_delta_eta  \\\n",
       "0               0.160346            0.494357          0.621322   \n",
       "1               0.999962            1.052199          0.180705   \n",
       "2               0.572550            0.817254          1.311809   \n",
       "3               1.627410            0.978302          0.002429   \n",
       "4               1.872472            1.729589          0.370643   \n",
       "...                  ...                 ...               ...   \n",
       "1587253         0.395039            2.420959          0.570240   \n",
       "1587254         1.200701            0.706825          0.605279   \n",
       "1587255         0.738051            1.744579          0.640240   \n",
       "1587256         0.936125            2.453900          1.847540   \n",
       "1587257         2.208677            2.074206          0.188822   \n",
       "\n",
       "         lbarnubar_delta_eta  bnu_delta_eta  bnubar_delta_eta  ...  \\\n",
       "0                   0.545469       0.460975          0.705815  ...   \n",
       "1                   0.560607       0.819257          0.439355  ...   \n",
       "2                   0.725352       1.884360          1.297902  ...   \n",
       "3                   0.667214       1.624981          0.960196  ...   \n",
       "4                   0.521885       2.243115          1.350587  ...   \n",
       "...                      ...            ...               ...  ...   \n",
       "1587253             1.080552       0.175200          0.685512  ...   \n",
       "1587254             0.949589       0.595423          0.251112  ...   \n",
       "1587255             1.685088       0.097811          0.947037  ...   \n",
       "1587256             2.296398       2.783665          1.360273  ...   \n",
       "1587257             1.591205       2.397500          0.617473  ...   \n",
       "\n",
       "              nu_pt    nubar_pt      met_pt    ttbar_pt  ttbar_boosted_pt  \\\n",
       "0         99.624977   29.776569  102.740883   40.734203      0.000000e+00   \n",
       "1         71.944153  113.464027  142.160995   23.313484      7.944109e-15   \n",
       "2         20.153009  171.534210  157.927292   32.570293      4.440892e-16   \n",
       "3         57.075191   38.290646  105.087555   24.752222      0.000000e+00   \n",
       "4         45.723309   57.660534   84.977509   43.913189      7.105427e-15   \n",
       "...             ...         ...         ...         ...               ...   \n",
       "1587253   37.566612   75.745758   47.873409   18.083267      0.000000e+00   \n",
       "1587254   20.450628  112.142876  127.715424  204.999283      0.000000e+00   \n",
       "1587255  130.628586  132.873047   93.275795   14.786276      0.000000e+00   \n",
       "1587256    5.224781   46.880993   53.338894   15.105637      3.552714e-15   \n",
       "1587257   41.292801   42.877281  105.395599   64.337769      4.440892e-16   \n",
       "\n",
       "           wplus_pt   wminus_pt  ttbar_mass  production_mode  eventWeight  \n",
       "0         94.192207   61.985336  486.746216              0.0    40.208149  \n",
       "1        111.312805  154.187561  575.562012              1.0    74.750771  \n",
       "2        138.055695  180.454041  575.838196              0.0    79.971519  \n",
       "3        103.620811   73.650711  427.477234              0.0    85.705040  \n",
       "4         95.444168  108.774406  482.619202              2.0    76.136414  \n",
       "...             ...         ...         ...              ...          ...  \n",
       "1587253   21.167845   86.692520  536.564758              0.0    72.362854  \n",
       "1587254   68.838882  147.341766  355.505981              2.0    70.901337  \n",
       "1587255  164.841400  191.560455  582.725220              0.0    69.048996  \n",
       "1587256   46.019104   49.958004  479.572083              0.0    79.164299  \n",
       "1587257   14.540850   64.599297  437.122467              0.0    76.923012  \n",
       "\n",
       "[1587258 rows x 82 columns]"
      ]
     },
     "execution_count": 56,
     "metadata": {},
     "output_type": "execute_result"
    }
   ],
   "source": [
    "data_pre"
   ]
  },
  {
   "cell_type": "code",
   "execution_count": null,
   "metadata": {
    "ExecuteTime": {
     "end_time": "2021-07-15T00:00:32.026223Z",
     "start_time": "2021-07-15T00:00:30.537107Z"
    },
    "collapsed": true
   },
   "outputs": [],
   "source": [
    "#datanew = data_pre.drop(columns='Unnamed: 0')"
   ]
  },
  {
   "cell_type": "code",
   "execution_count": null,
   "metadata": {
    "ExecuteTime": {
     "end_time": "2021-07-15T00:00:32.263105Z",
     "start_time": "2021-07-15T00:00:32.028698Z"
    },
    "collapsed": true
   },
   "outputs": [],
   "source": [
    "#datanew"
   ]
  },
  {
   "cell_type": "code",
   "execution_count": null,
   "metadata": {
    "collapsed": true
   },
   "outputs": [],
   "source": []
  },
  {
   "cell_type": "code",
   "execution_count": null,
   "metadata": {
    "ExecuteTime": {
     "end_time": "2021-07-15T00:04:34.356219Z",
     "start_time": "2021-07-15T00:01:28.474104Z"
    },
    "collapsed": true
   },
   "outputs": [],
   "source": [
    "#datanew.to_csv('~/Desktop/summer_cms/mumu_modified_root_2_3.csv')"
   ]
  },
  {
   "cell_type": "code",
   "execution_count": null,
   "metadata": {
    "ExecuteTime": {
     "end_time": "2021-07-15T00:06:04.608480Z",
     "start_time": "2021-07-15T00:05:52.001295Z"
    },
    "collapsed": true
   },
   "outputs": [],
   "source": [
    "#data_new = pd.read_csv(depo_dir_1+'ee_modified_root_2_2.csv')\n",
    "#data_new"
   ]
  },
  {
   "cell_type": "markdown",
   "metadata": {},
   "source": [
    "## save as root"
   ]
  },
  {
   "cell_type": "code",
   "execution_count": 58,
   "metadata": {
    "collapsed": true
   },
   "outputs": [],
   "source": [
    "path = \"/depot/cms/top/mcnama20/TopSpinCorr-Run2-Entanglement/CMSSW_10_2_22/src/TopAnalysis/Configuration/analysis/diLeptonic/three_files/Nominal\""
   ]
  },
  {
   "cell_type": "code",
   "execution_count": 59,
   "metadata": {
    "collapsed": true
   },
   "outputs": [],
   "source": [
    "df.to_root(path + '/mumu_modified_root_1_long.root', key = \"ttBar_treeVariables_step8;40\")"
   ]
  },
  {
   "cell_type": "code",
   "execution_count": null,
   "metadata": {
    "collapsed": true
   },
   "outputs": [],
   "source": [
    "#data_n = uproot.open('~/Desktop/summer_cms/mumu_modified_root_1.root', key = \"ttBar_treeVariables_step8;5\")"
   ]
  },
  {
   "cell_type": "code",
   "execution_count": null,
   "metadata": {
    "collapsed": true
   },
   "outputs": [],
   "source": [
    "#data_n"
   ]
  },
  {
   "cell_type": "code",
   "execution_count": null,
   "metadata": {
    "collapsed": true
   },
   "outputs": [],
   "source": [
    "#data_n[\"ttBar_treeVariables_step8;5;1\"].keys()"
   ]
  },
  {
   "cell_type": "code",
   "execution_count": null,
   "metadata": {
    "collapsed": true
   },
   "outputs": [],
   "source": []
  }
 ],
 "metadata": {
  "kernelspec": {
   "display_name": "Python (GANS)",
   "language": "python",
   "name": "gans"
  },
  "language_info": {
   "codemirror_mode": {
    "name": "ipython",
    "version": 3
   },
   "file_extension": ".py",
   "mimetype": "text/x-python",
   "name": "python",
   "nbconvert_exporter": "python",
   "pygments_lexer": "ipython3",
   "version": "3.6.12"
  }
 },
 "nbformat": 4,
 "nbformat_minor": 2
}
