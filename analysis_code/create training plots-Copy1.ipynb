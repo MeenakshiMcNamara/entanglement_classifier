{
 "cells": [
  {
   "cell_type": "code",
   "execution_count": 11,
   "metadata": {
    "collapsed": true
   },
   "outputs": [],
   "source": [
    "import numpy as np\n",
    "from matplotlib import pyplot as plt\n"
   ]
  },
  {
   "cell_type": "code",
   "execution_count": 7,
   "metadata": {
    "collapsed": true
   },
   "outputs": [],
   "source": [
    "################# THIS IS WHERE YOU CHOOSE WHAT TO LOAD ################################\n",
    "\n",
    "correlation_cut = -1   # if negative none, current other options are 0.9 and 0.8, but more can be added\n",
    "\n",
    "cut_version = -1   # -1 means OG, otherwise can be 2 or 3 (or more if added)\n",
    "\n",
    "event_type = \"ee\"  # could be ee, emu, mumu\n",
    "\n",
    "weight_cmd = \"true\"   # could also be \"false\", \"true\" or \"no-neg\"\n",
    "\n",
    "drop = 0.2  # drop rate\n",
    "\n",
    "input_type = \"allorentz\"#\"lorentzdelta_gen\"\n",
    "\n",
    "qg_cmd = False\n",
    "\n",
    "batch_size = 2000\n",
    "\n",
    "layer_number = \"GNN\"\n",
    "layer_num_type = \"more\"\n",
    "\n",
    "#This is only here in case format is changed... should be good for all three layer stuff otherwise\n",
    "if layer_number != \"GNN\":\n",
    "    model_name = layer_number + \"LayerModel_\" + event_type + \"_corrCut_\" + str(correlation_cut) + \"_weights_\" + weight_cmd + \"_drop_\" + str(drop)\n",
    "else:\n",
    "    model_name = layer_number + \"_Model_\" + event_type + \"_corrCut_\" + str(correlation_cut) + \"_weights_\" + weight_cmd + \"_drop_\" + str(drop) \n",
    "    \n",
    "if cut_version > 0:\n",
    "    model_name += \"cutV\" + str(cut_version)\n",
    "\n",
    "if input_type != \"all\":\n",
    "    model_name += \"_\" + input_type\n",
    "    \n",
    "if not qg_cmd:\n",
    "    model_name += \"_no_qg\"\n",
    "    \n",
    "# if batch_size != -1:\n",
    "#     model_name += \"batch_\" + str(batch_size)"
   ]
  },
  {
   "cell_type": "code",
   "execution_count": 9,
   "metadata": {},
   "outputs": [
    {
     "data": {
      "text/plain": [
       "'GNN_Model_ee_corrCut_-1_weights_true_drop_0.2_allorentz_no_qgbatch_2000'"
      ]
     },
     "execution_count": 9,
     "metadata": {},
     "output_type": "execute_result"
    }
   ],
   "source": [
    "model_name"
   ]
  },
  {
   "cell_type": "code",
   "execution_count": 12,
   "metadata": {},
   "outputs": [
    {
     "ename": "FileNotFoundError",
     "evalue": "[Errno 2] No such file or directory: '../data/more_layers/GNN_Model_ee_corrCut_-1_weights_true_drop_0.2_allorentz_no_qgbatch_2000_loss_val_array.npy'",
     "output_type": "error",
     "traceback": [
      "\u001b[0;31m---------------------------------------------------------------------------\u001b[0m",
      "\u001b[0;31mFileNotFoundError\u001b[0m                         Traceback (most recent call last)",
      "\u001b[0;32m<ipython-input-12-dfcc10da4f15>\u001b[0m in \u001b[0;36m<module>\u001b[0;34m\u001b[0m\n\u001b[0;32m----> 1\u001b[0;31m \u001b[0mvalidation\u001b[0m \u001b[0;34m=\u001b[0m \u001b[0mnp\u001b[0m\u001b[0;34m.\u001b[0m\u001b[0mload\u001b[0m\u001b[0;34m(\u001b[0m\u001b[0;34m\"../data/\"\u001b[0m \u001b[0;34m+\u001b[0m \u001b[0mlayer_num_type\u001b[0m \u001b[0;34m+\u001b[0m \u001b[0;34m\"_layers/\"\u001b[0m \u001b[0;34m+\u001b[0m \u001b[0mmodel_name\u001b[0m \u001b[0;34m+\u001b[0m \u001b[0;34m\"_loss_val_array.npy\"\u001b[0m\u001b[0;34m)\u001b[0m\u001b[0;34m\u001b[0m\u001b[0;34m\u001b[0m\u001b[0m\n\u001b[0m\u001b[1;32m      2\u001b[0m \u001b[0mtrain\u001b[0m \u001b[0;34m=\u001b[0m \u001b[0mnp\u001b[0m\u001b[0;34m.\u001b[0m\u001b[0mload\u001b[0m\u001b[0;34m(\u001b[0m\u001b[0;34m\"../data/\"\u001b[0m \u001b[0;34m+\u001b[0m \u001b[0mlayer_num_type\u001b[0m \u001b[0;34m+\u001b[0m \u001b[0;34m\"_layers/\"\u001b[0m \u001b[0;34m+\u001b[0m \u001b[0mmodel_name\u001b[0m \u001b[0;34m+\u001b[0m \u001b[0;34m\"_loss_train_array.npy\"\u001b[0m\u001b[0;34m)\u001b[0m\u001b[0;34m\u001b[0m\u001b[0;34m\u001b[0m\u001b[0m\n",
      "\u001b[0;32m~/.conda/envs/cent7/5.1.0-py36/GANS_7/lib/python3.6/site-packages/numpy/lib/npyio.py\u001b[0m in \u001b[0;36mload\u001b[0;34m(file, mmap_mode, allow_pickle, fix_imports, encoding)\u001b[0m\n\u001b[1;32m    414\u001b[0m             \u001b[0mown_fid\u001b[0m \u001b[0;34m=\u001b[0m \u001b[0;32mFalse\u001b[0m\u001b[0;34m\u001b[0m\u001b[0;34m\u001b[0m\u001b[0m\n\u001b[1;32m    415\u001b[0m         \u001b[0;32melse\u001b[0m\u001b[0;34m:\u001b[0m\u001b[0;34m\u001b[0m\u001b[0;34m\u001b[0m\u001b[0m\n\u001b[0;32m--> 416\u001b[0;31m             \u001b[0mfid\u001b[0m \u001b[0;34m=\u001b[0m \u001b[0mstack\u001b[0m\u001b[0;34m.\u001b[0m\u001b[0menter_context\u001b[0m\u001b[0;34m(\u001b[0m\u001b[0mopen\u001b[0m\u001b[0;34m(\u001b[0m\u001b[0mos_fspath\u001b[0m\u001b[0;34m(\u001b[0m\u001b[0mfile\u001b[0m\u001b[0;34m)\u001b[0m\u001b[0;34m,\u001b[0m \u001b[0;34m\"rb\"\u001b[0m\u001b[0;34m)\u001b[0m\u001b[0;34m)\u001b[0m\u001b[0;34m\u001b[0m\u001b[0;34m\u001b[0m\u001b[0m\n\u001b[0m\u001b[1;32m    417\u001b[0m             \u001b[0mown_fid\u001b[0m \u001b[0;34m=\u001b[0m \u001b[0;32mTrue\u001b[0m\u001b[0;34m\u001b[0m\u001b[0;34m\u001b[0m\u001b[0m\n\u001b[1;32m    418\u001b[0m \u001b[0;34m\u001b[0m\u001b[0m\n",
      "\u001b[0;31mFileNotFoundError\u001b[0m: [Errno 2] No such file or directory: '../data/more_layers/GNN_Model_ee_corrCut_-1_weights_true_drop_0.2_allorentz_no_qgbatch_2000_loss_val_array.npy'"
     ]
    }
   ],
   "source": [
    "validation = np.load(\"../data/\" + layer_num_type + \"_layers/\" + model_name + \"_loss_val_array.npy\")\n",
    "train = np.load(\"../data/\" + layer_num_type + \"_layers/\" + model_name + \"_loss_train_array.npy\")"
   ]
  },
  {
   "cell_type": "code",
   "execution_count": 15,
   "metadata": {},
   "outputs": [
    {
     "name": "stdout",
     "output_type": "stream",
     "text": [
      "epochs are 6460\n"
     ]
    }
   ],
   "source": [
    "print(\"epochs are \" + str(10 * len(train)))"
   ]
  },
  {
   "cell_type": "code",
   "execution_count": 16,
   "metadata": {},
   "outputs": [
    {
     "data": {
      "text/plain": [
       "array([0.58393371, 0.57441968, 0.55944955, 0.56780791, 0.57200158,\n",
       "       0.55896509, 0.56449431, 0.55812186, 0.55597365, 0.55994594,\n",
       "       0.55423212, 0.56627673, 0.554681  , 0.55083638, 0.55768007,\n",
       "       0.5675348 , 0.55506802, 0.55666858, 0.54977208, 0.5596481 ,\n",
       "       0.55585724, 0.54437393, 0.55974144, 0.56646168, 0.54208016,\n",
       "       0.5515784 , 0.5535897 , 0.54353392, 0.54778278, 0.54129469,\n",
       "       0.5530377 , 0.54451269, 0.55334377, 0.55119944, 0.55213851,\n",
       "       0.54072404, 0.54743373, 0.55435413, 0.55055308, 0.53929979,\n",
       "       0.54866374, 0.54863197, 0.55184311, 0.55034316, 0.55803603,\n",
       "       0.54644716, 0.54248464, 0.54652065, 0.5465818 , 0.55924898,\n",
       "       0.54573011, 0.54359651, 0.53621811, 0.5528124 , 0.54676563,\n",
       "       0.5498153 , 0.53943175, 0.54658329, 0.56043661, 0.53836   ,\n",
       "       0.55408704, 0.55895269, 0.54324698, 0.5475232 , 0.54689336,\n",
       "       0.54540175, 0.5434171 , 0.53833157, 0.55057311, 0.5462482 ,\n",
       "       0.53706163, 0.55707514, 0.54942292, 0.56209219, 0.54859954,\n",
       "       0.54632634, 0.53961205, 0.55032581, 0.54705536, 0.53695458,\n",
       "       0.54592627, 0.54713124, 0.55941278, 0.54539317, 0.55310452,\n",
       "       0.53980064, 0.53728282, 0.54055482, 0.54220527, 0.55112869,\n",
       "       0.54983449, 0.54360443, 0.55674112, 0.55191374, 0.539361  ,\n",
       "       0.53306895, 0.54381275, 0.54092759, 0.5505603 , 0.54355931,\n",
       "       0.55312479, 0.54366529, 0.53615367, 0.54213011, 0.54538566,\n",
       "       0.54897738, 0.55359375, 0.55258447, 0.54889476, 0.53728408,\n",
       "       0.54445714, 0.5488292 , 0.53931326, 0.54224551, 0.55132592,\n",
       "       0.54225808, 0.55189407, 0.54304099, 0.5351001 , 0.54580837,\n",
       "       0.54088414, 0.54952961, 0.55411696, 0.54864752, 0.54563075,\n",
       "       0.55124891, 0.54973769, 0.53692329, 0.56450611, 0.55308539,\n",
       "       0.55796725, 0.53316098, 0.54803687, 0.54866624, 0.54812849,\n",
       "       0.54555702, 0.55338031, 0.54840285, 0.53859824, 0.54268897,\n",
       "       0.54589355, 0.54390627, 0.54451013, 0.55237144, 0.54683071,\n",
       "       0.54436517, 0.54251343, 0.54642653, 0.54396456, 0.5439595 ,\n",
       "       0.54003191, 0.54852748, 0.54026806, 0.54179293, 0.54087377,\n",
       "       0.54540992, 0.53443247, 0.549582  , 0.54717946, 0.53740829,\n",
       "       0.53094774, 0.54437721, 0.5449304 , 0.54707187, 0.54133803,\n",
       "       0.53771782, 0.53633082, 0.55029625, 0.53747034, 0.55543125,\n",
       "       0.53959632, 0.54982436, 0.54144651, 0.53929025, 0.53387934,\n",
       "       0.55448049, 0.5478043 , 0.54850721, 0.54076648, 0.54072279,\n",
       "       0.5382672 , 0.55770499, 0.54289341, 0.55365932, 0.54670376,\n",
       "       0.54507363, 0.54137552, 0.55081975, 0.54031146, 0.5416978 ,\n",
       "       0.54349452, 0.54081744, 0.54341799, 0.54878408, 0.53655702,\n",
       "       0.54197776, 0.55154967, 0.54659593, 0.54346794, 0.54341704,\n",
       "       0.54544997, 0.53681922, 0.54548442, 0.54366052, 0.54996228,\n",
       "       0.55275512, 0.55260801, 0.53847218, 0.5326997 , 0.54846776,\n",
       "       0.54222614, 0.53617907, 0.54149562, 0.54659277, 0.53623158,\n",
       "       0.53994018, 0.54430896, 0.53992873, 0.5422278 , 0.53565782,\n",
       "       0.53533882, 0.54192799, 0.54138356, 0.54381388, 0.53359181,\n",
       "       0.53879577, 0.54287004, 0.54889494, 0.53715432, 0.53857231,\n",
       "       0.55279529, 0.54587132, 0.53595865, 0.54479223, 0.54515523,\n",
       "       0.54363942, 0.5386129 , 0.55366868, 0.54360867, 0.53663582,\n",
       "       0.54626036, 0.53906816, 0.53635073, 0.54352564, 0.54922402,\n",
       "       0.54309225, 0.54553676, 0.54957181, 0.54709542, 0.53863519,\n",
       "       0.54805249, 0.53534019, 0.54734856, 0.54559171, 0.54678828,\n",
       "       0.53946269, 0.52805227, 0.54816782, 0.54644281, 0.53978479,\n",
       "       0.5449096 , 0.54467613, 0.54414076, 0.53269666, 0.54919726,\n",
       "       0.53285033, 0.54820144, 0.5347473 , 0.54270488, 0.55552936,\n",
       "       0.54576653, 0.53238994, 0.55271369, 0.53939849, 0.54498273,\n",
       "       0.55149889, 0.54632193, 0.54676235, 0.54074895, 0.54337841,\n",
       "       0.53664321, 0.55086052, 0.53786242, 0.55185932, 0.54075271,\n",
       "       0.54620963, 0.54290903, 0.53492481, 0.54834992, 0.53773779,\n",
       "       0.54001164, 0.5560047 , 0.54502636, 0.53692013, 0.54907542,\n",
       "       0.53769749, 0.55220097, 0.55369699, 0.54419923, 0.53529835,\n",
       "       0.5439595 , 0.54196674, 0.54215336, 0.5349282 , 0.53319126,\n",
       "       0.54443324, 0.54547036, 0.54334599, 0.5380398 , 0.52798378,\n",
       "       0.5452705 , 0.55250198, 0.5507412 , 0.53730577, 0.54163378,\n",
       "       0.54944587, 0.54751182, 0.54529363, 0.54947305, 0.5481534 ,\n",
       "       0.54593527, 0.54872829, 0.54112893, 0.53968328, 0.54129088,\n",
       "       0.54222089, 0.53103614, 0.53558528, 0.53639489, 0.55297232,\n",
       "       0.54078406, 0.53896564, 0.53724533, 0.53183633, 0.53907239,\n",
       "       0.54543042, 0.5445286 , 0.54629177, 0.540479  , 0.54159802,\n",
       "       0.52585489, 0.52929127, 0.53666508, 0.53913575, 0.54838616,\n",
       "       0.53357249, 0.53590858, 0.54056507, 0.55299401, 0.54530746,\n",
       "       0.54314512, 0.53297532, 0.54321742, 0.54104322, 0.55017984,\n",
       "       0.54080915, 0.55032784, 0.54172021, 0.53386992, 0.54526389,\n",
       "       0.54531407, 0.54226601, 0.53624302, 0.54781651, 0.5417245 ,\n",
       "       0.54136902, 0.5446322 , 0.54934561, 0.54938024, 0.54331434,\n",
       "       0.5393889 , 0.55055606, 0.53617096, 0.54917592, 0.5367676 ,\n",
       "       0.55135959, 0.54433739, 0.54694343, 0.5471006 , 0.54092985,\n",
       "       0.53007239, 0.55759853, 0.53562135, 0.54584426, 0.54198968,\n",
       "       0.5415448 , 0.55383956, 0.54879946, 0.54091698, 0.53767085,\n",
       "       0.53454101, 0.54911637, 0.54679263, 0.53368092, 0.5412674 ,\n",
       "       0.53844595, 0.54740143, 0.5398922 , 0.53731018, 0.53673309,\n",
       "       0.54104692, 0.54070592, 0.5364064 , 0.54156935, 0.54270899,\n",
       "       0.546583  , 0.54278767, 0.53779721, 0.54580218, 0.54252166,\n",
       "       0.54099476, 0.54234999, 0.54039305, 0.53572702, 0.54673058,\n",
       "       0.5545072 , 0.54444373, 0.54223132, 0.52902454, 0.55530393,\n",
       "       0.55087686, 0.5495519 , 0.53841722, 0.5512349 , 0.5412932 ,\n",
       "       0.53879905, 0.54339147, 0.55362731, 0.54792219, 0.54014528,\n",
       "       0.54330003, 0.54537523, 0.53585851, 0.55359894, 0.53944528,\n",
       "       0.53741151, 0.53707278, 0.54334646, 0.53948778, 0.5391919 ,\n",
       "       0.54081237, 0.53490883, 0.54628664, 0.53749889, 0.5474329 ,\n",
       "       0.55471486, 0.54507762, 0.53581727, 0.5319106 , 0.53682506,\n",
       "       0.53215986, 0.54156774, 0.54085988, 0.54701233, 0.54481977,\n",
       "       0.53909659, 0.53308302, 0.53771901, 0.53908056, 0.52863133,\n",
       "       0.55407667, 0.54836941, 0.53489149, 0.54067487, 0.5398851 ,\n",
       "       0.54019165, 0.54284412, 0.54637635, 0.54252118, 0.54439318,\n",
       "       0.5408808 , 0.53645813, 0.53894567, 0.55080724, 0.54660833,\n",
       "       0.54199004, 0.5485357 , 0.53276968, 0.55046469, 0.54310662,\n",
       "       0.5498153 , 0.54705799, 0.53554124, 0.55274284, 0.54125756,\n",
       "       0.53906983, 0.549891  , 0.53851265, 0.54577398, 0.54708898,\n",
       "       0.54505956, 0.5420326 , 0.54867661, 0.55305791, 0.55614269,\n",
       "       0.54957896, 0.5543583 , 0.53935301, 0.54699463, 0.54755688,\n",
       "       0.53982824, 0.53434342, 0.53934342, 0.54351228, 0.54608506,\n",
       "       0.54293281, 0.54606944, 0.54218858, 0.54991674, 0.52643812,\n",
       "       0.54507715, 0.53998005, 0.539464  , 0.53229004, 0.53882104,\n",
       "       0.5465188 , 0.53306115, 0.5531019 , 0.54441953, 0.53651255,\n",
       "       0.55066097, 0.53015167, 0.54702467, 0.5430249 , 0.54089022,\n",
       "       0.53473645, 0.55108213, 0.53634614, 0.55170447, 0.53645205,\n",
       "       0.53404665, 0.54016334, 0.54286557, 0.55047679, 0.5422914 ,\n",
       "       0.53658414, 0.54014957, 0.5345329 , 0.54318833, 0.54726779,\n",
       "       0.5373261 , 0.54403758, 0.54719371, 0.53767246, 0.54696864,\n",
       "       0.53831846, 0.53755862, 0.54310328, 0.54010284, 0.53300464,\n",
       "       0.53053993, 0.54072368, 0.54713267, 0.55246949, 0.54686338,\n",
       "       0.52978551, 0.54055905, 0.55417883, 0.54566884, 0.54856128,\n",
       "       0.53545886, 0.54754335, 0.54612291, 0.53757453, 0.54342848,\n",
       "       0.54338014, 0.53742009, 0.54049003, 0.5418421 , 0.54477888,\n",
       "       0.54190493, 0.5439797 , 0.54472244, 0.54582924, 0.53709626,\n",
       "       0.5417794 , 0.55181688, 0.5426386 , 0.54679644, 0.533871  ,\n",
       "       0.54808825, 0.53838712, 0.54754883, 0.54573554, 0.54017395,\n",
       "       0.53975624, 0.54059899, 0.54604322, 0.54723412, 0.55010581,\n",
       "       0.54460984, 0.53159046, 0.5443722 , 0.54874319, 0.54381543,\n",
       "       0.54675102, 0.53808641, 0.53987294, 0.54514486, 0.54120779,\n",
       "       0.53988594, 0.5416466 , 0.54624921, 0.53795117, 0.54600495,\n",
       "       0.54677242, 0.54939389, 0.54375464, 0.53120941, 0.54667985,\n",
       "       0.54822731, 0.54518467, 0.53764009, 0.54302889, 0.54604781,\n",
       "       0.54368949, 0.54638767, 0.54315013, 0.53664118, 0.54518926,\n",
       "       0.54569376, 0.55482435, 0.53698999, 0.54222482, 0.54005361,\n",
       "       0.52790505, 0.53333336, 0.53298426, 0.5310089 , 0.54483765,\n",
       "       0.54353344, 0.54209995, 0.54645574, 0.54690892, 0.53450477,\n",
       "       0.5449338 , 0.54007494, 0.55171466, 0.54133385, 0.54416269,\n",
       "       0.55097687, 0.54181653, 0.53278279, 0.5483368 , 0.54208738,\n",
       "       0.54713732])"
      ]
     },
     "execution_count": 16,
     "metadata": {},
     "output_type": "execute_result"
    }
   ],
   "source": [
    "train"
   ]
  },
  {
   "cell_type": "code",
   "execution_count": 17,
   "metadata": {},
   "outputs": [
    {
     "data": {
      "text/plain": [
       "Text(0.5, 1.0, 'fiveLayerModel_ee_corrCut_-1.0_weights_true_drop_0.5_lorentzdelta_gen_no_qgbatch_2000')"
      ]
     },
     "execution_count": 17,
     "metadata": {},
     "output_type": "execute_result"
    },
    {
     "data": {
      "image/png": "[encoded data removed]",
      "text/plain": [
       "<Figure size 432x288 with 1 Axes>"
      ]
     },
     "metadata": {
      "needs_background": "light"
     },
     "output_type": "display_data"
    }
   ],
   "source": [
    "figure = plt.figure()\n",
    "ax = figure.add_subplot(111)\n",
    "ax.plot(10 *np.array(range( len(validation))), validation, label = \"validation loss\")\n",
    "ax.plot(10 *np.array(range(len(train))), train, label=\"training loss\")\n",
    "ax.legend()\n",
    "plt.title(model_name)\n",
    "# plt.yscale(\"log\")"
   ]
  }
 ],
 "metadata": {
  "kernelspec": {
   "display_name": "Python [conda env: GANS_7]",
   "language": "python",
   "name": "conda-env-GANS_7-py"
  },
  "language_info": {
   "codemirror_mode": {
    "name": "ipython",
    "version": 3
   },
   "file_extension": ".py",
   "mimetype": "text/x-python",
   "name": "python",
   "nbconvert_exporter": "python",
   "pygments_lexer": "ipython3",
   "version": "3.6.12"
  }
 },
 "nbformat": 4,
 "nbformat_minor": 2
}
