{
 "cells": [
  {
   "cell_type": "code",
   "execution_count": 1,
   "metadata": {},
   "outputs": [
    {
     "name": "stderr",
     "output_type": "stream",
     "text": [
      "Using backend: pytorch\n"
     ]
    }
   ],
   "source": [
    "import sys\n",
    "sys.path.append(\"..\")   # this allows us to import from sibling directory\n",
    "\n",
    "import matplotlib.pyplot as plt  \n",
    "import sklearn\n",
    "from code_to_import.dataset_preprocessing import ProductionModeDataset\n",
    "\n",
    "import torch\n",
    "# from sklearn.inspection import permutation_importance\n",
    "import numpy as np\n",
    "import uproot\n",
    "import torch.nn as nn\n",
    "from matplotlib import pyplot as plt\n",
    "\n",
    "from skorch import NeuralNetClassifier\n",
    "\n",
    "from code_to_import.Classifier_module import Classifier\n",
    "from code_to_import.Classifier_module import Three_Layer_Classifier\n",
    "from code_to_import.Classifier_module import Two_Layer_Classifier\n",
    "from code_to_import.Classifier_module import Five_Layer_Classifier\n",
    "from torch.autograd import Variable\n"
   ]
  },
  {
   "cell_type": "code",
   "execution_count": 2,
   "metadata": {},
   "outputs": [],
   "source": [
    "################# THIS IS WHERE YOU CHOOSE WHAT TO LOAD ################################\n",
    "\n",
    "correlation_cut = -1.0   # if negative none, current other options are 0.9 and 0.8, but more can be added\n",
    "\n",
    "cut_version = -1   # -1 means OG, otherwise can be 2 or 3 (or more if added)\n",
    "\n",
    "event_type = \"ee\"  # could be ee, emu, mumu\n",
    "\n",
    "weight_cmd = \"true\"   # could also be \"false\", \"true\" or \"no-neg\"\n",
    "\n",
    "drop = 0.2  # drop rate\n",
    "\n",
    "input_type = \"lorentzdelta_gen\"\n",
    "\n",
    "qg_cmd = False\n",
    "\n",
    "batch_size = 2000\n",
    "\n",
    "\n",
    "layer_number = \"five\"\n",
    "layer_num_type = \"more\"\n",
    "\n",
    "#This is only here in case format is changed... should be good for all three layer stuff otherwise\n",
    "model_name = layer_number + \"LayerModel_\" + event_type + \"_corrCut_\" + str(correlation_cut) + \"_weights_\" + weight_cmd + \"_drop_\" + str(drop)\n",
    "\n",
    "if cut_version > 0:\n",
    "    model_name += \"cutV\" + str(cut_version)\n",
    "\n",
    "if input_type != \"all\":\n",
    "    model_name += \"_\" + input_type\n",
    "    \n",
    "if not qg_cmd:\n",
    "    model_name += \"_no_qg\"\n",
    "    \n",
    "if batch_size != -1:\n",
    "    model_name += \"batch_\" + str(batch_size)\n",
    "    \n",
    "model_name +=\"_layerordergood\""
   ]
  },
  {
   "cell_type": "code",
   "execution_count": 3,
   "metadata": {},
   "outputs": [
    {
     "data": {
      "text/plain": [
       "'fiveLayerModel_ee_corrCut_-1.0_weights_true_drop_0.2_lorentzdelta_gen_no_qgbatch_2000_layerordergood'"
      ]
     },
     "execution_count": 3,
     "metadata": {},
     "output_type": "execute_result"
    }
   ],
   "source": [
    "model_name"
   ]
  },
  {
   "cell_type": "code",
   "execution_count": 4,
   "metadata": {},
   "outputs": [],
   "source": [
    "\n",
    "    \n",
    "# root_path = \"/depot-new/cms/top/mcnama20/TopSpinCorr-Run2-Entanglement/CMSSW_10_2_22/src/TopAnalysis/Configuration/analysis/diLeptonic/three_files/Nominal\"\n",
    "\n",
    "# file = root_path + \"/\" + event_type + \"_modified_root_1_spinCorr.root\"\n",
    "\n",
    "path_to_model = \"../models/\" + layer_num_type + \"_layers/\" + model_name + \".pt\"\n",
    "\n",
    "title = \"confusion_plot_\" + model_name"
   ]
  },
  {
   "cell_type": "code",
   "execution_count": 5,
   "metadata": {},
   "outputs": [],
   "source": [
    "############### Create a production mode dataset object and get the validation dataset.############################\n",
    "################## NOTE: THIS NEEDS TO BE REPLACED BY LOADING THE SAVED DATASET FOR MODEL #########################\n",
    "# data_object = ProductionModeDataset(file)\n",
    "# x = data_object.get_eval_data()\n",
    "\n",
    "x = np.load(\"../data/\" + layer_num_type + \"_layers/train_val_datasets/validation_dataset_\" + model_name + \".npy\")\n"
   ]
  },
  {
   "cell_type": "code",
   "execution_count": 6,
   "metadata": {},
   "outputs": [],
   "source": [
    "############ remove parts of dataset not used in nn input and get output goals (target) and weights ####################\n",
    "l = x.shape[1]   # get the initial length of the validation dataset\n",
    "weight = x[:,l-2]   # get an array of weights for plotting\n",
    "target = x[:,l-3]   # get targets\n",
    "target = Variable(torch.from_numpy(target).type(torch.LongTensor))   # reformate target into a tensor\n",
    "\n",
    "######################### remove excess inputs from x and call new variable y\n",
    "y = np.transpose(x)   \n",
    "y = np.delete(y, [l-3, l-2, l-1], 0)\n",
    "y = np.transpose(y)\n",
    "\n",
    "# the final validation input is gotten from turning y into a tensor\n",
    "input = Variable(torch.from_numpy(y).type(torch.Tensor))"
   ]
  },
  {
   "cell_type": "code",
   "execution_count": 7,
   "metadata": {},
   "outputs": [
    {
     "data": {
      "text/plain": [
       "Five_Layer_Classifier(\n",
       "  (model): Sequential(\n",
       "    (0): Linear(in_features=28, out_features=64, bias=True)\n",
       "    (1): BatchNorm1d(64, eps=1e-05, momentum=0.1, affine=True, track_running_stats=True)\n",
       "    (2): LeakyReLU(negative_slope=0.2, inplace=True)\n",
       "    (3): Dropout(p=0.0, inplace=False)\n",
       "    (4): Linear(in_features=64, out_features=128, bias=True)\n",
       "    (5): BatchNorm1d(128, eps=1e-05, momentum=0.1, affine=True, track_running_stats=True)\n",
       "    (6): LeakyReLU(negative_slope=0.2, inplace=True)\n",
       "    (7): Dropout(p=0.0, inplace=False)\n",
       "    (8): Linear(in_features=128, out_features=128, bias=True)\n",
       "    (9): BatchNorm1d(128, eps=1e-05, momentum=0.1, affine=True, track_running_stats=True)\n",
       "    (10): LeakyReLU(negative_slope=0.2, inplace=True)\n",
       "    (11): Dropout(p=0.0, inplace=False)\n",
       "    (12): Linear(in_features=128, out_features=64, bias=True)\n",
       "    (13): BatchNorm1d(64, eps=1e-05, momentum=0.1, affine=True, track_running_stats=True)\n",
       "    (14): LeakyReLU(negative_slope=0.2, inplace=True)\n",
       "    (15): Dropout(p=0.0, inplace=False)\n",
       "    (16): Linear(in_features=64, out_features=2, bias=True)\n",
       "    (17): LeakyReLU(negative_slope=0.2, inplace=True)\n",
       "  )\n",
       ")"
      ]
     },
     "execution_count": 7,
     "metadata": {},
     "output_type": "execute_result"
    }
   ],
   "source": [
    "############################## Load the model and run eval so we know to evaluate ##################################\n",
    "# try:\n",
    "#     model = Classifier()\n",
    "#     model.load_state_dict(torch.load(path_to_model))\n",
    "# except:\n",
    "if layer_number == \"three\":\n",
    "    if not qg_cmd:\n",
    "        model = Three_Layer_Classifier(input_size=input.shape[1], number_of_classes=2)\n",
    "    else: \n",
    "        model = Three_Layer_Classifier(input_size=input.shape[1])\n",
    "    model.load_state_dict(torch.load(path_to_model))\n",
    "elif layer_number == \"two\":\n",
    "    if not qg_cmd:\n",
    "        model = Two_Layer_Classifier(input_size=input.shape[1], number_of_classes=2)\n",
    "    else: \n",
    "        model = Two_Layer_Classifier(input_size=input.shape[1])\n",
    "    model.load_state_dict(torch.load(path_to_model))\n",
    "elif layer_number == \"five\":\n",
    "    if not qg_cmd:\n",
    "        model = Five_Layer_Classifier(input_size=input.shape[1], number_of_classes=2)\n",
    "    else: \n",
    "        model = Five_Layer_Classifier(input_size=input.shape[1])\n",
    "    model.load_state_dict(torch.load(path_to_model))\n",
    "model.eval()"
   ]
  },
  {
   "cell_type": "code",
   "execution_count": 8,
   "metadata": {},
   "outputs": [
    {
     "data": {
      "text/plain": [
       "array([-0.00417613,  0.18900031,  0.06687748, ..., -0.03034153,\n",
       "       -0.01126488, -0.04955424], dtype=float32)"
      ]
     },
     "execution_count": 8,
     "metadata": {},
     "output_type": "execute_result"
    }
   ],
   "source": [
    "data  = model(input).detach().numpy()\n",
    "\n",
    "data = data[:,1]\n",
    "\n",
    "data =data/ max(np.abs(data))\n",
    "\n",
    "data"
   ]
  },
  {
   "cell_type": "code",
   "execution_count": 9,
   "metadata": {},
   "outputs": [
    {
     "data": {
      "text/plain": [
       "array([[-0.03142875, -0.0129513 ],\n",
       "       [ 0.7990404 ,  0.58614135],\n",
       "       [-0.4674513 ,  0.20740524],\n",
       "       ...,\n",
       "       [ 0.941988  , -0.09409734],\n",
       "       [-0.16102503, -0.03493544],\n",
       "       [ 0.32901472, -0.15368117]], dtype=float32)"
      ]
     },
     "execution_count": 9,
     "metadata": {},
     "output_type": "execute_result"
    }
   ],
   "source": [
    "model(input).detach().numpy()\n"
   ]
  },
  {
   "cell_type": "code",
   "execution_count": 10,
   "metadata": {},
   "outputs": [
    {
     "data": {
      "text/plain": [
       "tensor([1, 0, 1,  ..., 1, 1, 1])"
      ]
     },
     "execution_count": 10,
     "metadata": {},
     "output_type": "execute_result"
    }
   ],
   "source": [
    "target"
   ]
  },
  {
   "cell_type": "code",
   "execution_count": 11,
   "metadata": {},
   "outputs": [
    {
     "ename": "ValueError",
     "evalue": "x is neither increasing nor decreasing : [ 0.00000000e+00 -1.05380350e-04 -1.05380350e-04 ...  9.99909973e-01\n  1.00000000e+00  1.00000000e+00].",
     "output_type": "error",
     "traceback": [
      "\u001b[0;31m---------------------------------------------------------------------------\u001b[0m",
      "\u001b[0;31mValueError\u001b[0m                                Traceback (most recent call last)",
      "\u001b[0;32m<ipython-input-11-5ee1a7b11cc6>\u001b[0m in \u001b[0;36m<module>\u001b[0;34m\u001b[0m\n\u001b[1;32m      1\u001b[0m \u001b[0mfpr\u001b[0m\u001b[0;34m,\u001b[0m \u001b[0mtpr\u001b[0m\u001b[0;34m,\u001b[0m \u001b[0mthresholds\u001b[0m \u001b[0;34m=\u001b[0m \u001b[0msklearn\u001b[0m\u001b[0;34m.\u001b[0m\u001b[0mmetrics\u001b[0m\u001b[0;34m.\u001b[0m\u001b[0mroc_curve\u001b[0m\u001b[0;34m(\u001b[0m\u001b[0mtarget\u001b[0m\u001b[0;34m.\u001b[0m\u001b[0mdetach\u001b[0m\u001b[0;34m(\u001b[0m\u001b[0;34m)\u001b[0m\u001b[0;34m.\u001b[0m\u001b[0mnumpy\u001b[0m\u001b[0;34m(\u001b[0m\u001b[0;34m)\u001b[0m\u001b[0;34m,\u001b[0m \u001b[0mdata\u001b[0m\u001b[0;34m,\u001b[0m \u001b[0msample_weight\u001b[0m \u001b[0;34m=\u001b[0m \u001b[0mweight\u001b[0m\u001b[0;34m)\u001b[0m\u001b[0;34m\u001b[0m\u001b[0;34m\u001b[0m\u001b[0m\n\u001b[0;32m----> 2\u001b[0;31m \u001b[0mauroc\u001b[0m \u001b[0;34m=\u001b[0m \u001b[0msklearn\u001b[0m\u001b[0;34m.\u001b[0m\u001b[0mmetrics\u001b[0m\u001b[0;34m.\u001b[0m\u001b[0mauc\u001b[0m\u001b[0;34m(\u001b[0m\u001b[0mfpr\u001b[0m\u001b[0;34m,\u001b[0m \u001b[0mtpr\u001b[0m\u001b[0;34m)\u001b[0m\u001b[0;34m\u001b[0m\u001b[0;34m\u001b[0m\u001b[0m\n\u001b[0m",
      "\u001b[0;32m~/.conda/envs/cent7/5.1.0-py36/GANS_7/lib/python3.6/site-packages/sklearn/metrics/_ranking.py\u001b[0m in \u001b[0;36mauc\u001b[0;34m(x, y)\u001b[0m\n\u001b[1;32m     96\u001b[0m         \u001b[0;32melse\u001b[0m\u001b[0;34m:\u001b[0m\u001b[0;34m\u001b[0m\u001b[0;34m\u001b[0m\u001b[0m\n\u001b[1;32m     97\u001b[0m             raise ValueError(\"x is neither increasing nor decreasing \"\n\u001b[0;32m---> 98\u001b[0;31m                              \": {}.\".format(x))\n\u001b[0m\u001b[1;32m     99\u001b[0m \u001b[0;34m\u001b[0m\u001b[0m\n\u001b[1;32m    100\u001b[0m     \u001b[0marea\u001b[0m \u001b[0;34m=\u001b[0m \u001b[0mdirection\u001b[0m \u001b[0;34m*\u001b[0m \u001b[0mnp\u001b[0m\u001b[0;34m.\u001b[0m\u001b[0mtrapz\u001b[0m\u001b[0;34m(\u001b[0m\u001b[0my\u001b[0m\u001b[0;34m,\u001b[0m \u001b[0mx\u001b[0m\u001b[0;34m)\u001b[0m\u001b[0;34m\u001b[0m\u001b[0;34m\u001b[0m\u001b[0m\n",
      "\u001b[0;31mValueError\u001b[0m: x is neither increasing nor decreasing : [ 0.00000000e+00 -1.05380350e-04 -1.05380350e-04 ...  9.99909973e-01\n  1.00000000e+00  1.00000000e+00]."
     ]
    }
   ],
   "source": [
    "fpr, tpr, thresholds = sklearn.metrics.roc_curve(target.detach().numpy(), data, sample_weight = weight)\n",
    "auroc = sklearn.metrics.auc(fpr, tpr)"
   ]
  },
  {
   "cell_type": "code",
   "execution_count": 12,
   "metadata": {},
   "outputs": [
    {
     "data": {
      "text/plain": [
       "array([ 0.00000000e+00, -1.05380350e-04, -1.05380350e-04, ...,\n",
       "        9.99909973e-01,  1.00000000e+00,  1.00000000e+00])"
      ]
     },
     "execution_count": 12,
     "metadata": {},
     "output_type": "execute_result"
    }
   ],
   "source": [
    "fpr"
   ]
  },
  {
   "cell_type": "code",
   "execution_count": 13,
   "metadata": {},
   "outputs": [
    {
     "data": {
      "text/plain": [
       "array([ 0.00000000e+00, -0.00000000e+00,  1.04708187e-04, ...,\n",
       "        9.99895402e-01,  9.99895402e-01,  1.00000000e+00])"
      ]
     },
     "execution_count": 13,
     "metadata": {},
     "output_type": "execute_result"
    }
   ],
   "source": [
    "tpr"
   ]
  },
  {
   "cell_type": "code",
   "execution_count": 14,
   "metadata": {},
   "outputs": [
    {
     "data": {
      "text/plain": [
       "array([ 2.        ,  1.        ,  0.8457719 , ..., -0.25740132,\n",
       "       -0.2681401 , -0.2693256 ], dtype=float32)"
      ]
     },
     "execution_count": 14,
     "metadata": {},
     "output_type": "execute_result"
    }
   ],
   "source": [
    "thresholds"
   ]
  },
  {
   "cell_type": "code",
   "execution_count": 15,
   "metadata": {},
   "outputs": [
    {
     "data": {
      "image/png": "[encoded data removed]",
      "text/plain": [
       "<Figure size 432x288 with 1 Axes>"
      ]
     },
     "metadata": {
      "needs_background": "light"
     },
     "output_type": "display_data"
    }
   ],
   "source": [
    "plt.plot(fpr, tpr, label='ROC curve')\n",
    "plt.plot(np.arange(0, 1, 0.01), np.arange(0, 1, 0.01), label='TPR=FPR')\n",
    "plt.legend()\n",
    "\n",
    "\n",
    "plt.xlabel('False Positive Rate')\n",
    "plt.ylabel('True Positive Rate')\n",
    "plt.show()"
   ]
  },
  {
   "cell_type": "code",
   "execution_count": 16,
   "metadata": {},
   "outputs": [
    {
     "data": {
      "image/png": "[encoded data removed]",
      "text/plain": [
       "<Figure size 432x288 with 1 Axes>"
      ]
     },
     "metadata": {
      "needs_background": "light"
     },
     "output_type": "display_data"
    }
   ],
   "source": [
    "plt.plot(fpr, tpr, label='ROC curve')\n",
    "plt.plot(np.arange(0, 1, 0.01), np.arange(0, 1, 0.01), label='TPR=FPR')\n",
    "plt.legend()\n",
    "plt.yscale('log')\n",
    "\n",
    "plt.xlabel('False Positive Rate')\n",
    "plt.ylabel('True Positive Rate')\n",
    "plt.show()"
   ]
  },
  {
   "cell_type": "code",
   "execution_count": 17,
   "metadata": {},
   "outputs": [
    {
     "data": {
      "image/png": "[encoded data removed]",
      "text/plain": [
       "<Figure size 432x288 with 1 Axes>"
      ]
     },
     "metadata": {
      "needs_background": "light"
     },
     "output_type": "display_data"
    }
   ],
   "source": [
    "\n",
    "plt.plot(thresholds, fpr, label='False Positive Rate')\n",
    "plt.plot(thresholds, tpr, label='True Positive Rate')\n",
    "plt.xlabel('Threshold Value')\n",
    "plt.legend()\n",
    "plt.show()"
   ]
  },
  {
   "cell_type": "code",
   "execution_count": 18,
   "metadata": {},
   "outputs": [
    {
     "data": {
      "image/png": "[encoded data removed]",
      "text/plain": [
       "<Figure size 432x288 with 1 Axes>"
      ]
     },
     "metadata": {
      "needs_background": "light"
     },
     "output_type": "display_data"
    }
   ],
   "source": [
    "plt.hist(data, bins=100)\n",
    "plt.yscale('log')\n",
    "\n",
    "ax = plt.gca()\n",
    "ax.set_xlim(0.0, 1.0)\n",
    "\n",
    "plt.show()"
   ]
  },
  {
   "cell_type": "code",
   "execution_count": 28,
   "metadata": {},
   "outputs": [
    {
     "data": {
      "text/plain": [
       "array([-0.00417613,  0.18900031,  0.06687748, ..., -0.03034153,\n",
       "       -0.01126488, -0.04955424], dtype=float32)"
      ]
     },
     "execution_count": 28,
     "metadata": {},
     "output_type": "execute_result"
    }
   ],
   "source": [
    "data"
   ]
  },
  {
   "cell_type": "code",
   "execution_count": 19,
   "metadata": {},
   "outputs": [],
   "source": [
    "y_pred_test =  Variable(torch.from_numpy(data))"
   ]
  },
  {
   "cell_type": "code",
   "execution_count": 20,
   "metadata": {},
   "outputs": [
    {
     "data": {
      "text/plain": [
       "<matplotlib.legend.Legend at 0x2b900e75fb00>"
      ]
     },
     "execution_count": 20,
     "metadata": {},
     "output_type": "execute_result"
    },
    {
     "data": {
      "image/png": "[encoded data removed]",
      "text/plain": [
       "<Figure size 576x432 with 1 Axes>"
      ]
     },
     "metadata": {
      "needs_background": "light"
     },
     "output_type": "display_data"
    }
   ],
   "source": [
    "# # Predictions for signal and background\n",
    "# tt_pred  = model.predict(tt_df_test) \n",
    "# si_pred  = model.predict(sig_df_test)\n",
    "\n",
    "# # Set binning, tick size\n",
    "binning = np.linspace(0, 1, 20)\n",
    "plt.figure(figsize=(8,6))\n",
    "plt.tick_params(axis=\"y\", labelsize=14)\n",
    "plt.tick_params(axis=\"x\", labelsize=14)\n",
    "\n",
    "# Now plot the model outputs\n",
    "plt.hist(data, bins=binning, alpha=0.3, label='ttbar', density=True)\n",
    "# plt.hist(si_pred, bins=binning, alpha=0.3, label='SUSY all', density=True)\n",
    "#plt.yscale('log')\n",
    "plt.xlim(0,1)\n",
    "plt.xlabel('DNN score', fontsize=15)\n",
    "plt.ylabel('Number of events', fontsize=15)\n",
    "plt.grid()\n",
    "plt.legend(loc='best', fontsize=15)\n",
    "#plt.savefig('DNN score Mstop_235 Mchi_60.jpg')"
   ]
  },
  {
   "cell_type": "code",
   "execution_count": 21,
   "metadata": {},
   "outputs": [],
   "source": [
    "y_pred_test = y_pred_test.reshape(len(y_pred_test))\n"
   ]
  },
  {
   "cell_type": "code",
   "execution_count": 22,
   "metadata": {},
   "outputs": [
    {
     "data": {
      "text/plain": [
       "torch.Size([20105])"
      ]
     },
     "execution_count": 22,
     "metadata": {},
     "output_type": "execute_result"
    }
   ],
   "source": [
    "target.shape"
   ]
  },
  {
   "cell_type": "code",
   "execution_count": 23,
   "metadata": {},
   "outputs": [
    {
     "data": {
      "text/plain": [
       "<function Tensor.type>"
      ]
     },
     "execution_count": 23,
     "metadata": {},
     "output_type": "execute_result"
    }
   ],
   "source": [
    "target.type"
   ]
  },
  {
   "cell_type": "code",
   "execution_count": 24,
   "metadata": {},
   "outputs": [],
   "source": [
    "class_0_mask = torch.BoolTensor(target == 0)\n",
    "class_1_mask = torch.BoolTensor(target == 1)\n",
    "\n",
    "class_0_predictions = torch.masked_select(y_pred_test, class_0_mask).detach().numpy()\n",
    "class_1_predictions = torch.masked_select(y_pred_test, class_1_mask).detach().numpy()"
   ]
  },
  {
   "cell_type": "code",
   "execution_count": 25,
   "metadata": {},
   "outputs": [
    {
     "data": {
      "text/plain": [
       "tensor([False,  True, False,  ..., False, False, False])"
      ]
     },
     "execution_count": 25,
     "metadata": {},
     "output_type": "execute_result"
    }
   ],
   "source": [
    "class_0_mask"
   ]
  },
  {
   "cell_type": "code",
   "execution_count": 26,
   "metadata": {},
   "outputs": [
    {
     "data": {
      "image/png": "[encoded data removed]",
      "text/plain": [
       "<Figure size 432x288 with 1 Axes>"
      ]
     },
     "metadata": {
      "needs_background": "light"
     },
     "output_type": "display_data"
    }
   ],
   "source": [
    "plt.hist([class_0_predictions], stacked=True, bins = 100)\n",
    "plt.yscale('log')"
   ]
  },
  {
   "cell_type": "code",
   "execution_count": 27,
   "metadata": {},
   "outputs": [
    {
     "data": {
      "image/png": "[encoded data removed]",
      "text/plain": [
       "<Figure size 432x288 with 1 Axes>"
      ]
     },
     "metadata": {
      "needs_background": "light"
     },
     "output_type": "display_data"
    }
   ],
   "source": [
    "plt.hist([class_0_predictions, class_1_predictions], stacked=True, label=['y = 0', 'y = 1'], bins = 100)\n",
    "# plt.hist(y_pred_test[test_labels == 0], color='red', label='$\\hat{y} = 0', bins=10)\n",
    "# plt.yscale('log')\n",
    "\n",
    "# ax = plt.gca()\n",
    "# ax.set_xlim(0.0, 1.0)\n",
    "\n",
    "plt.legend()\n",
    "plt.show()"
   ]
  }
 ],
 "metadata": {
  "kernelspec": {
   "display_name": "Python (GANS)",
   "language": "python",
   "name": "gans"
  },
  "language_info": {
   "codemirror_mode": {
    "name": "ipython",
    "version": 3
   },
   "file_extension": ".py",
   "mimetype": "text/x-python",
   "name": "python",
   "nbconvert_exporter": "python",
   "pygments_lexer": "ipython3",
   "version": "3.6.12"
  }
 },
 "nbformat": 4,
 "nbformat_minor": 2
}
