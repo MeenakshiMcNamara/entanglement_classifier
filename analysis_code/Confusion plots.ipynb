{
 "cells": [
  {
   "cell_type": "code",
   "execution_count": 1,
   "metadata": {
    "collapsed": true
   },
   "outputs": [],
   "source": [
    "import sys\n",
    "sys.path.append(\"..\")   # this allows us to import from sibling directory\n",
    "\n",
    "import matplotlib.pyplot as plt  \n",
    "from sklearn.metrics import plot_confusion_matrix\n",
    "from code_to_import.dataset_preprocessing import ProductionModeDataset\n",
    "\n",
    "import torch\n",
    "# from sklearn.inspection import permutation_importance\n",
    "import numpy as np\n",
    "import uproot\n",
    "import torch.nn as nn\n",
    "from matplotlib import pyplot as plt\n",
    "\n",
    "from skorch import NeuralNetClassifier\n",
    "\n",
    "from code_to_import.Classifier_module import Classifier\n",
    "from code_to_import.Classifier_module import Three_Layer_Classifier\n",
    "from torch.autograd import Variable\n"
   ]
  },
  {
   "cell_type": "code",
   "execution_count": null,
   "metadata": {
    "collapsed": true
   },
   "outputs": [],
   "source": [
    "################# THIS IS WHERE YOU CHOOSE WHAT TO LOAD ################################\n",
    "\n",
    "correlation_cut = 0.9   # if negative none, current other options are 0.9 and 0.8, but more can be added\n",
    "\n",
    "cut_version = -1   # -1 means OG, otherwise can be 2 or 3 (or more if added)\n",
    "\n",
    "event_type = \"mumu\"  # could be ee, emu, mumu\n",
    "\n",
    "weight_cmd = \"true\"   # could also be \"false\", \"true\" or \"no-neg\"\n",
    "\n",
    "drop = 0.2   # drop rate\n",
    "\n",
    "#This is only here in case format is changed... should be good for all three layer stuff otherwise\n",
    "model_name = \"threeLayerModel_\" + event_type + \"_corrCut_\" + str(correlation_cut) + \"_weights_\" + weight_cmd + \"_drop_\" + str(drop)\n",
    "\n",
    "if cut_version > 0:\n",
    "    model_name += \"cutV\" + str(cut_version)"
   ]
  },
  {
   "cell_type": "code",
   "execution_count": 14,
   "metadata": {
    "collapsed": true
   },
   "outputs": [],
   "source": [
    "\n",
    "    \n",
    "root_path = \"/depot-new/cms/top/mcnama20/TopSpinCorr-Run2-Entanglement/CMSSW_10_2_22/src/TopAnalysis/Configuration/analysis/diLeptonic/three_files/Nominal\"\n",
    "\n",
    "file = root_path + \"/\" + event_type + \"_modified_root_1.root\"\n",
    "\n",
    "path_to_model = \"../models/three_layers/\" + model_name + \".pt\"\n",
    "\n",
    "title = \"confusion_plot_\" + model_name"
   ]
  },
  {
   "cell_type": "code",
   "execution_count": 15,
   "metadata": {
    "collapsed": true
   },
   "outputs": [],
   "source": [
    "############### Create a production mode dataset object and get the validation dataset.############################\n",
    "################## NOTE: THIS NEEDS TO BE REPLACED BY LOADING THE SAVED DATASET FOR MODEL #########################\n",
    "# data_object = ProductionModeDataset(file)\n",
    "# x = data_object.get_eval_data()\n",
    "\n",
    "x = np.load(\"../data/three_layers/train_val_datasets/validation_dataset_\" + model_name + \".npy\")\n"
   ]
  },
  {
   "cell_type": "code",
   "execution_count": 16,
   "metadata": {
    "collapsed": true
   },
   "outputs": [],
   "source": [
    "############ remove parts of dataset not used in nn input and get output goals (target) and weights ####################\n",
    "l = x.shape[1]   # get the initial length of the validation dataset\n",
    "weight = x[:,l-2]   # get an array of weights for plotting\n",
    "target = x[:,l-3]   # get targets\n",
    "target = Variable(torch.from_numpy(target).type(torch.LongTensor))   # reformate target into a tensor\n",
    "\n",
    "######################### remove excess inputs from x and call new variable y\n",
    "y = np.transpose(x)   \n",
    "y = np.delete(y, [l-3, l-2, l-1], 0)\n",
    "y = np.transpose(y)\n",
    "\n",
    "# the final validation input is gotten from turning y into a tensor\n",
    "input = Variable(torch.from_numpy(y).type(torch.Tensor))"
   ]
  },
  {
   "cell_type": "code",
   "execution_count": 17,
   "metadata": {},
   "outputs": [
    {
     "data": {
      "text/plain": [
       "77"
      ]
     },
     "execution_count": 17,
     "metadata": {},
     "output_type": "execute_result"
    }
   ],
   "source": [
    "input.shape[1]   # print to check stuff"
   ]
  },
  {
   "cell_type": "code",
   "execution_count": 18,
   "metadata": {},
   "outputs": [
    {
     "data": {
      "text/plain": [
       "Three_Layer_Classifier(\n",
       "  (model): Sequential(\n",
       "    (0): Linear(in_features=77, out_features=512, bias=True)\n",
       "    (1): BatchNorm1d(512, eps=1e-05, momentum=0.1, affine=True, track_running_stats=True)\n",
       "    (2): LeakyReLU(negative_slope=0.2, inplace=True)\n",
       "    (3): Linear(in_features=512, out_features=256, bias=True)\n",
       "    (4): BatchNorm1d(256, eps=1e-05, momentum=0.1, affine=True, track_running_stats=True)\n",
       "    (5): LeakyReLU(negative_slope=0.2, inplace=True)\n",
       "    (6): Linear(in_features=256, out_features=3, bias=True)\n",
       "    (7): BatchNorm1d(3, eps=1e-05, momentum=0.1, affine=True, track_running_stats=True)\n",
       "    (8): LeakyReLU(negative_slope=0.2, inplace=True)\n",
       "  )\n",
       ")"
      ]
     },
     "execution_count": 18,
     "metadata": {},
     "output_type": "execute_result"
    }
   ],
   "source": [
    "############################## Load the model and run eval so we know to evaluate ##################################\n",
    "try:\n",
    "    model = Classifier()\n",
    "    model.load_state_dict(torch.load(path_to_model))\n",
    "except:\n",
    "    model = Three_Layer_Classifier(input_size=input.shape[1])\n",
    "    model.load_state_dict(torch.load(path_to_model))\n",
    "model.eval()"
   ]
  },
  {
   "cell_type": "code",
   "execution_count": 19,
   "metadata": {},
   "outputs": [
    {
     "data": {
      "text/plain": [
       "<class 'skorch.classifier.NeuralNetClassifier'>[initialized](\n",
       "  module_=Three_Layer_Classifier(\n",
       "    (model): Sequential(\n",
       "      (0): Linear(in_features=77, out_features=512, bias=True)\n",
       "      (1): BatchNorm1d(512, eps=1e-05, momentum=0.1, affine=True, track_running_stats=True)\n",
       "      (2): LeakyReLU(negative_slope=0.2, inplace=True)\n",
       "      (3): Linear(in_features=512, out_features=256, bias=True)\n",
       "      (4): BatchNorm1d(256, eps=1e-05, momentum=0.1, affine=True, track_running_stats=True)\n",
       "      (5): LeakyReLU(negative_slope=0.2, inplace=True)\n",
       "      (6): Linear(in_features=256, out_features=3, bias=True)\n",
       "      (7): BatchNorm1d(3, eps=1e-05, momentum=0.1, affine=True, track_running_stats=True)\n",
       "      (8): LeakyReLU(negative_slope=0.2, inplace=True)\n",
       "    )\n",
       "  ),\n",
       ")"
      ]
     },
     "execution_count": 19,
     "metadata": {},
     "output_type": "execute_result"
    }
   ],
   "source": [
    "########################### wrap the model into a skorch network so that sklearn functions can be used####################\n",
    "nn = NeuralNetClassifier(model, max_epochs=0, lr=0.00, batch_size=5000)\n",
    "nn.initialize()"
   ]
  },
  {
   "cell_type": "code",
   "execution_count": 20,
   "metadata": {},
   "outputs": [
    {
     "data": {
      "text/plain": [
       "0.4439875872295511"
      ]
     },
     "execution_count": 20,
     "metadata": {},
     "output_type": "execute_result"
    }
   ],
   "source": [
    "nn.score(input, target, sample_weight = weight)"
   ]
  },
  {
   "cell_type": "code",
   "execution_count": 23,
   "metadata": {},
   "outputs": [
    {
     "data": {
      "image/png": "[encoded data removed]",
      "text/plain": [
       "<Figure size 432x288 with 2 Axes>"
      ]
     },
     "metadata": {
      "needs_background": "light"
     },
     "output_type": "display_data"
    }
   ],
   "source": [
    "plot_confusion_matrix(nn,input, target, sample_weight = weight, normalize='true')  # create confusion matrix\n",
    "plt.title(title)\n",
    "plt.show()  # show confusion matrix\n",
    "\n",
    "if save:\n",
    "    # if save is true, then save the figure\n",
    "    plt.savefig('./results/' + title + '.pdf')"
   ]
  }
 ],
 "metadata": {
  "kernelspec": {
   "display_name": "Python [conda env: GANS_7]",
   "language": "python",
   "name": "conda-env-GANS_7-py"
  },
  "language_info": {
   "codemirror_mode": {
    "name": "ipython",
    "version": 3
   },
   "file_extension": ".py",
   "mimetype": "text/x-python",
   "name": "python",
   "nbconvert_exporter": "python",
   "pygments_lexer": "ipython3",
   "version": "3.6.12"
  }
 },
 "nbformat": 4,
 "nbformat_minor": 2
}
