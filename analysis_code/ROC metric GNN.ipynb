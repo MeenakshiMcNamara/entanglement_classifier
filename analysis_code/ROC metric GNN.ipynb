{
 "cells": [
  {
   "cell_type": "code",
   "execution_count": 1,
   "metadata": {},
   "outputs": [
    {
     "name": "stderr",
     "output_type": "stream",
     "text": [
      "Using backend: pytorch\n"
     ]
    }
   ],
   "source": [
    "import sys\n",
    "sys.path.append(\"..\")   # this allows us to import from sibling directory\n",
    "\n",
    "import matplotlib.pyplot as plt  \n",
    "import sklearn\n",
    "from code_to_import.dataset_preprocessing import ProductionModeDataset\n",
    "\n",
    "import torch\n",
    "# from sklearn.inspection import permutation_importance\n",
    "import numpy as np\n",
    "import uproot\n",
    "import torch.nn as nn\n",
    "from matplotlib import pyplot as plt\n",
    "\n",
    "from skorch import NeuralNetClassifier\n",
    "\n",
    "from code_to_import.Classifier_module import GCN4Layers\n",
    "from torch.autograd import Variable\n",
    "import dgl\n"
   ]
  },
  {
   "cell_type": "code",
   "execution_count": 458,
   "metadata": {
    "collapsed": true
   },
   "outputs": [],
   "source": [
    "################# THIS IS WHERE YOU CHOOSE WHAT TO LOAD ################################\n",
    "\n",
    "correlation_cut = -1   # if negative none, current other options are 0.9 and 0.8, but more can be added\n",
    "\n",
    "cut_version = -1   # -1 means OG, otherwise can be 2 or 3 (or more if added)\n",
    "\n",
    "event_type = \"ee\"  # could be ee, emu, mumu\n",
    "\n",
    "weight_cmd = \"true\"   # could also be \"false\", \"true\" or \"no-neg\"\n",
    "\n",
    "drop = 0.2  # drop rate\n",
    "\n",
    "input_type = \"allorentz_gen\"\n",
    "\n",
    "qg_cmd = False\n",
    "\n",
    "batch_size = 2000\n",
    "\n",
    "\n",
    "layer_number = \"five\"\n",
    "layer_num_type = \"more\"\n",
    "\n",
    "#This is only here in case format is changed... should be good for all three layer stuff otherwise\n",
    "model_name = \"GNN_Model4Layers_V1_\" + event_type + \"_corrCut_\" + str(correlation_cut) + \"_weights_\" + weight_cmd + \"_drop_\" + str(drop)\n",
    "\n",
    "if cut_version > 0:\n",
    "    model_name += \"cutV\" + str(cut_version)\n",
    "\n",
    "if input_type != \"all\":\n",
    "    model_name += \"_\" + input_type\n",
    "    \n",
    "if not qg_cmd:\n",
    "    model_name += \"_no_qg\"\n",
    "    \n",
    "\n",
    "model_name += \"batch\" + str(batch_size)"
   ]
  },
  {
   "cell_type": "code",
   "execution_count": 459,
   "metadata": {},
   "outputs": [
    {
     "data": {
      "text/plain": [
       "'GNN_Model4Layers_V1_ee_corrCut_-1_weights_true_drop_0.2_allorentz_gen_no_qgbatch2000'"
      ]
     },
     "execution_count": 459,
     "metadata": {},
     "output_type": "execute_result"
    }
   ],
   "source": [
    "model_name"
   ]
  },
  {
   "cell_type": "code",
   "execution_count": 460,
   "metadata": {
    "collapsed": true
   },
   "outputs": [],
   "source": [
    "\n",
    "    \n",
    "# root_path = \"/depot-new/cms/top/mcnama20/TopSpinCorr-Run2-Entanglement/CMSSW_10_2_22/src/TopAnalysis/Configuration/analysis/diLeptonic/three_files/Nominal\"\n",
    "\n",
    "# file = root_path + \"/\" + event_type + \"_modified_root_1_spinCorr.root\"\n",
    "\n",
    "path_to_model = \"../models/\" + \"GNN/\" + model_name + \".pt\"\n",
    "\n",
    "title = \"confusion_plot_\" + model_name"
   ]
  },
  {
   "cell_type": "code",
   "execution_count": 461,
   "metadata": {
    "collapsed": true
   },
   "outputs": [],
   "source": [
    "alt_name = \"GNN_Model1_ee_corrCut_-1_weights_true_drop_0.2_allorentz_gen_no_qg\""
   ]
  },
  {
   "cell_type": "code",
   "execution_count": 520,
   "metadata": {},
   "outputs": [],
   "source": [
    "############### Create a production mode dataset object and get the validation dataset.############################\n",
    "################## NOTE: THIS NEEDS TO BE REPLACED BY LOADING THE SAVED DATASET FOR MODEL #########################\n",
    "# data_object = ProductionModeDataset(file)\n",
    "# x = data_object.get_eval_data()\n",
    "\n",
    "train = np.load(\"../data/\" + \"GNN/train_val_datasets/training_dataset_\" + model_name + \".npy\", allow_pickle=True)\n"
   ]
  },
  {
   "cell_type": "code",
   "execution_count": 521,
   "metadata": {
    "collapsed": true
   },
   "outputs": [],
   "source": [
    "train_target = train[1]"
   ]
  },
  {
   "cell_type": "code",
   "execution_count": 523,
   "metadata": {},
   "outputs": [
    {
     "data": {
      "text/plain": [
       "(array([42257.,     0.,     0.,     0.,     0.,     0.,     0.,     0.,\n",
       "            0., 42395.]),\n",
       " array([0. , 0.1, 0.2, 0.3, 0.4, 0.5, 0.6, 0.7, 0.8, 0.9, 1. ]),\n",
       " <BarContainer object of 10 artists>)"
      ]
     },
     "execution_count": 523,
     "metadata": {},
     "output_type": "execute_result"
    },
    {
     "data": {
      "image/png": "[encoded data removed]",
      "text/plain": [
       "<Figure size 432x288 with 1 Axes>"
      ]
     },
     "metadata": {
      "needs_background": "light"
     },
     "output_type": "display_data"
    }
   ],
   "source": [
    "plt.hist(train_target)"
   ]
  },
  {
   "cell_type": "code",
   "execution_count": 517,
   "metadata": {},
   "outputs": [
    {
     "data": {
      "text/plain": [
       "(array([10651.,     0.,     0.,     0.,     0.,     0.,     0.,     0.,\n",
       "            0., 10512.]),\n",
       " array([0. , 0.1, 0.2, 0.3, 0.4, 0.5, 0.6, 0.7, 0.8, 0.9, 1. ]),\n",
       " <BarContainer object of 10 artists>)"
      ]
     },
     "execution_count": 517,
     "metadata": {},
     "output_type": "execute_result"
    },
    {
     "data": {
      "image/png": "[encoded data removed]",
      "text/plain": [
       "<Figure size 432x288 with 1 Axes>"
      ]
     },
     "metadata": {
      "needs_background": "light"
     },
     "output_type": "display_data"
    }
   ],
   "source": [
    "plt.hist(target)"
   ]
  },
  {
   "cell_type": "code",
   "execution_count": 464,
   "metadata": {
    "collapsed": true
   },
   "outputs": [],
   "source": [
    "####################################### load data for evaluation of model (not training set) and separate weights and target\n",
    "validation_data = x[0]\n",
    "\n",
    "y_val = validation_data\n",
    "val_data = torch.reshape(y_val, (10 * y_val.shape[0], 4))\n",
    "                    \n",
    "# # replace all negative weighted events with zero if the weight_cmd says to\n",
    "# if opt.weight_cmd == \"no-neg\":\n",
    "#     w_val[w_val < 0] = 0\n",
    "\n",
    "# # remove weighting (aka, set all to 1) if weight_cmd says to\n",
    "# if opt.weight_cmd == \"false\":\n",
    "#     w_val = np.ones(w_val.shape)\n",
    "    \n",
    "# w_val = Variable(torch.from_numpy(w_val).type(torch.FloatTensor))\n",
    "\n",
    "\n"
   ]
  },
  {
   "cell_type": "code",
   "execution_count": null,
   "metadata": {
    "collapsed": true
   },
   "outputs": [],
   "source": []
  },
  {
   "cell_type": "code",
   "execution_count": 465,
   "metadata": {},
   "outputs": [
    {
     "data": {
      "text/plain": [
       "GCN4Layers(\n",
       "  (conv1): GraphConv(in=4, out=128, normalization=both, activation=None)\n",
       "  (conv2): GraphConv(in=128, out=64, normalization=both, activation=None)\n",
       "  (conv3): GraphConv(in=64, out=32, normalization=both, activation=None)\n",
       "  (conv4): GraphConv(in=32, out=2, normalization=both, activation=None)\n",
       ")"
      ]
     },
     "execution_count": 465,
     "metadata": {},
     "output_type": "execute_result"
    }
   ],
   "source": [
    "############################## Load the model and run eval so we know to evaluate ##################################\n",
    "# try:\n",
    "#     model = Classifier()\n",
    "#     model.load_state_dict(torch.load(path_to_model))\n",
    "# except:\n",
    "model = GCN4Layers(4,2)\n",
    "model.load_state_dict(torch.load(path_to_model))\n",
    "model.eval()"
   ]
  },
  {
   "cell_type": "code",
   "execution_count": 466,
   "metadata": {
    "collapsed": true
   },
   "outputs": [],
   "source": [
    "# build up version\n",
    "        up_source = torch.tensor([6, 7, 8, 9, 2, 3, 4, 5])\n",
    "        up_range =  torch.tensor([3, 3, 4, 4, 0, 0, 1, 1])\n",
    "        \n",
    "        # build down version\n",
    "        down_source = torch.tensor([3, 3, 4, 4,  0, 0, 1, 1])\n",
    "        down_range = torch.tensor([6, 7, 8, 9, 2, 3, 4, 5])\n",
    "        \n",
    "        # similar type connection\n",
    "        sim_source = torch.tensor([6, 8, 7, 9, 2, 5, 3, 4, 0, 1])\n",
    "        sim_range = torch.tensor([8, 6, 9, 7, 5, 2, 4, 3, 1, 0])\n",
    "        \n",
    "        # same parent\n",
    "        child_source = torch.tensor([6, 7, 8, 9, 2, 3, 4, 5])\n",
    "        child_range = torch.tensor([7, 6, 9, 8, 3, 2, 5, 4])\n",
    "        \n",
    "        ############### for now I will include building up and both similar and same parent TODO: add parameter to determine\n",
    "        # this\n",
    "        source_ids = torch.cat((up_source, sim_source, child_source))\n",
    "        range_ids = torch.cat((up_range, sim_range, child_range))\n",
    "        graph = dgl.graph((source_ids, range_ids), num_nodes=10)\n",
    "        graph = dgl.add_self_loop(graph)\n"
   ]
  },
  {
   "cell_type": "code",
   "execution_count": 467,
   "metadata": {
    "collapsed": true
   },
   "outputs": [],
   "source": [
    "# val_graphs = graph\n",
    "\n",
    "# for i in range(y_val.shape[0] - 1):\n",
    "#     val_graphs = dgl.batch([val_graphs, graph])"
   ]
  },
  {
   "cell_type": "code",
   "execution_count": 468,
   "metadata": {},
   "outputs": [
    {
     "data": {
      "text/plain": [
       "Graph(num_nodes=211630, num_edges=761868,\n",
       "      ndata_schemes={'h': Scheme(shape=(2,), dtype=torch.float32)}\n",
       "      edata_schemes={})"
      ]
     },
     "execution_count": 468,
     "metadata": {},
     "output_type": "execute_result"
    }
   ],
   "source": [
    "val_graphs"
   ]
  },
  {
   "cell_type": "code",
   "execution_count": null,
   "metadata": {
    "collapsed": true
   },
   "outputs": [],
   "source": []
  },
  {
   "cell_type": "code",
   "execution_count": null,
   "metadata": {},
   "outputs": [],
   "source": []
  },
  {
   "cell_type": "code",
   "execution_count": 469,
   "metadata": {
    "collapsed": true
   },
   "outputs": [],
   "source": [
    "softmax = torch.nn.Softmax(dim=1)"
   ]
  },
  {
   "cell_type": "code",
   "execution_count": 493,
   "metadata": {},
   "outputs": [],
   "source": [
    "input = val_data\n",
    "\n",
    "d = model(val_graphs, input)\n",
    "data = softmax(d)\n",
    "data = data[:,1]\n",
    "data = data.detach().numpy()"
   ]
  },
  {
   "cell_type": "code",
   "execution_count": 494,
   "metadata": {},
   "outputs": [
    {
     "data": {
      "text/plain": [
       "array([0.41617447, 0.42043096, 0.510787  , ..., 0.519376  , 0.4707027 ,\n",
       "       0.4301585 ], dtype=float32)"
      ]
     },
     "execution_count": 494,
     "metadata": {},
     "output_type": "execute_result"
    }
   ],
   "source": [
    "data"
   ]
  },
  {
   "cell_type": "code",
   "execution_count": 495,
   "metadata": {},
   "outputs": [
    {
     "data": {
      "text/plain": [
       "array([[-0.4568689 , -0.79536647],\n",
       "       [-0.4336466 , -0.7546512 ],\n",
       "       [-0.6269774 , -0.58382255],\n",
       "       ...,\n",
       "       [-0.6339536 , -0.5564108 ],\n",
       "       [-0.5377411 , -0.6550648 ],\n",
       "       [-0.47450575, -0.7557103 ]], dtype=float32)"
      ]
     },
     "execution_count": 495,
     "metadata": {},
     "output_type": "execute_result"
    }
   ],
   "source": [
    "model(val_graphs, input).detach().numpy()\n"
   ]
  },
  {
   "cell_type": "code",
   "execution_count": 496,
   "metadata": {
    "collapsed": true
   },
   "outputs": [],
   "source": [
    "target = x[1]"
   ]
  },
  {
   "cell_type": "code",
   "execution_count": 497,
   "metadata": {},
   "outputs": [],
   "source": [
    "fpr, tpr, thresholds = sklearn.metrics.roc_curve(target, data) # sample_weight = weight)\n",
    "auroc = sklearn.metrics.auc(fpr, tpr)"
   ]
  },
  {
   "cell_type": "code",
   "execution_count": 498,
   "metadata": {},
   "outputs": [
    {
     "data": {
      "text/plain": [
       "0.5925108932111618"
      ]
     },
     "execution_count": 498,
     "metadata": {},
     "output_type": "execute_result"
    }
   ],
   "source": [
    "auroc"
   ]
  },
  {
   "cell_type": "code",
   "execution_count": 499,
   "metadata": {},
   "outputs": [
    {
     "data": {
      "text/plain": [
       "array([0.        , 0.        , 0.        , ..., 0.99971834, 0.99971834,\n",
       "       1.        ])"
      ]
     },
     "execution_count": 499,
     "metadata": {},
     "output_type": "execute_result"
    }
   ],
   "source": [
    "fpr"
   ]
  },
  {
   "cell_type": "code",
   "execution_count": 500,
   "metadata": {},
   "outputs": [
    {
     "data": {
      "text/plain": [
       "array([0.00000000e+00, 9.51293760e-05, 1.14155251e-03, ...,\n",
       "       9.99904871e-01, 1.00000000e+00, 1.00000000e+00])"
      ]
     },
     "execution_count": 500,
     "metadata": {},
     "output_type": "execute_result"
    }
   ],
   "source": [
    "tpr"
   ]
  },
  {
   "cell_type": "code",
   "execution_count": 501,
   "metadata": {},
   "outputs": [
    {
     "data": {
      "text/plain": [
       "array([1.930046  , 0.93004596, 0.8868138 , ..., 0.3798789 , 0.3789899 ,\n",
       "       0.37561986], dtype=float32)"
      ]
     },
     "execution_count": 501,
     "metadata": {},
     "output_type": "execute_result"
    }
   ],
   "source": [
    "thresholds"
   ]
  },
  {
   "cell_type": "code",
   "execution_count": 502,
   "metadata": {},
   "outputs": [
    {
     "data": {
      "image/png": "[encoded data removed]",
      "text/plain": [
       "<Figure size 432x288 with 1 Axes>"
      ]
     },
     "metadata": {
      "needs_background": "light"
     },
     "output_type": "display_data"
    }
   ],
   "source": [
    "plt.plot(fpr, tpr, label='ROC curve')\n",
    "plt.plot(np.arange(0, 1, 0.01), np.arange(0, 1, 0.01), label='TPR=FPR')\n",
    "plt.legend()\n",
    "\n",
    "\n",
    "plt.xlabel('False Positive Rate')\n",
    "plt.ylabel('True Positive Rate')\n",
    "plt.show()"
   ]
  },
  {
   "cell_type": "code",
   "execution_count": 503,
   "metadata": {},
   "outputs": [
    {
     "data": {
      "image/png": "[encoded data removed]",
      "text/plain": [
       "<Figure size 432x288 with 1 Axes>"
      ]
     },
     "metadata": {
      "needs_background": "light"
     },
     "output_type": "display_data"
    }
   ],
   "source": [
    "plt.plot(fpr, tpr, label='ROC curve')\n",
    "plt.plot(np.arange(0, 1, 0.01), np.arange(0, 1, 0.01), label='TPR=FPR')\n",
    "plt.legend()\n",
    "plt.yscale('log')\n",
    "\n",
    "plt.xlabel('False Positive Rate')\n",
    "plt.ylabel('True Positive Rate')\n",
    "plt.show()"
   ]
  },
  {
   "cell_type": "code",
   "execution_count": 504,
   "metadata": {},
   "outputs": [
    {
     "data": {
      "image/png": "[encoded data removed]",
      "text/plain": [
       "<Figure size 432x288 with 1 Axes>"
      ]
     },
     "metadata": {
      "needs_background": "light"
     },
     "output_type": "display_data"
    }
   ],
   "source": [
    "\n",
    "plt.plot(thresholds, fpr, label='False Positive Rate')\n",
    "plt.plot(thresholds, tpr, label='True Positive Rate')\n",
    "plt.xlabel('Threshold Value')\n",
    "plt.legend()\n",
    "plt.show()"
   ]
  },
  {
   "cell_type": "code",
   "execution_count": 505,
   "metadata": {},
   "outputs": [
    {
     "data": {
      "text/plain": [
       "0.93004596"
      ]
     },
     "execution_count": 505,
     "metadata": {},
     "output_type": "execute_result"
    }
   ],
   "source": [
    "max(data)"
   ]
  },
  {
   "cell_type": "code",
   "execution_count": 506,
   "metadata": {},
   "outputs": [
    {
     "data": {
      "image/png": "[encoded data removed]",
      "text/plain": [
       "<Figure size 432x288 with 1 Axes>"
      ]
     },
     "metadata": {
      "needs_background": "light"
     },
     "output_type": "display_data"
    }
   ],
   "source": [
    "plt.hist(data, bins = 100)\n",
    "# plt.yscale('log')\n",
    "\n",
    "ax = plt.gca()\n",
    "# ax.set_xlim(0.0, 1.0)\n",
    "\n",
    "plt.show()"
   ]
  },
  {
   "cell_type": "code",
   "execution_count": 507,
   "metadata": {
    "collapsed": true
   },
   "outputs": [],
   "source": [
    "y_pred_test =  Variable(torch.from_numpy(data))"
   ]
  },
  {
   "cell_type": "code",
   "execution_count": 508,
   "metadata": {},
   "outputs": [
    {
     "data": {
      "text/plain": [
       "tensor(0.9300)"
      ]
     },
     "execution_count": 508,
     "metadata": {},
     "output_type": "execute_result"
    }
   ],
   "source": [
    "max(y_pred_test)"
   ]
  },
  {
   "cell_type": "code",
   "execution_count": 509,
   "metadata": {},
   "outputs": [
    {
     "data": {
      "text/plain": [
       "<matplotlib.legend.Legend at 0x7f830d2a67f0>"
      ]
     },
     "execution_count": 509,
     "metadata": {},
     "output_type": "execute_result"
    },
    {
     "data": {
      "image/png": "[encoded data removed]",
      "text/plain": [
       "<Figure size 576x432 with 1 Axes>"
      ]
     },
     "metadata": {
      "needs_background": "light"
     },
     "output_type": "display_data"
    }
   ],
   "source": [
    "# # Predictions for signal and background\n",
    "# tt_pred  = model.predict(tt_df_test) \n",
    "# si_pred  = model.predict(sig_df_test)\n",
    "\n",
    "# # Set binning, tick size\n",
    "binning = np.linspace(-1, 1, 20)\n",
    "plt.figure(figsize=(8,6))\n",
    "plt.tick_params(axis=\"y\", labelsize=14)\n",
    "plt.tick_params(axis=\"x\", labelsize=14)\n",
    "\n",
    "# Now plot the model outputs\n",
    "plt.hist(data, alpha=0.3, label='ttbar', density=True, bins = 100)\n",
    "# plt.hist(si_pred, bins=binning, alpha=0.3, label='SUSY all', density=True)\n",
    "#plt.yscale('log')\n",
    "# plt.xlim(0,1)\n",
    "plt.xlabel('DNN score', fontsize=15)\n",
    "plt.ylabel('Number of events', fontsize=15)\n",
    "plt.grid()\n",
    "plt.legend(loc='best', fontsize=15)\n",
    "#plt.savefig('DNN score Mstop_235 Mchi_60.jpg')"
   ]
  },
  {
   "cell_type": "code",
   "execution_count": 510,
   "metadata": {},
   "outputs": [
    {
     "data": {
      "text/plain": [
       "tensor([0.4162, 0.4204, 0.5108,  ..., 0.5194, 0.4707, 0.4302])"
      ]
     },
     "execution_count": 510,
     "metadata": {},
     "output_type": "execute_result"
    }
   ],
   "source": [
    "y_pred_test = y_pred_test.reshape(len(y_pred_test))\n",
    "y_pred_test"
   ]
  },
  {
   "cell_type": "code",
   "execution_count": 511,
   "metadata": {},
   "outputs": [
    {
     "data": {
      "text/plain": [
       "(21163,)"
      ]
     },
     "execution_count": 511,
     "metadata": {},
     "output_type": "execute_result"
    }
   ],
   "source": [
    "target.shape"
   ]
  },
  {
   "cell_type": "code",
   "execution_count": 512,
   "metadata": {
    "collapsed": true
   },
   "outputs": [],
   "source": [
    "class_0_mask = torch.BoolTensor(target == 0)\n",
    "class_1_mask = torch.BoolTensor(target == 1)\n",
    "\n",
    "class_0_predictions = torch.masked_select(y_pred_test, class_0_mask).detach().numpy()\n",
    "class_1_predictions = torch.masked_select(y_pred_test, class_1_mask).detach().numpy()"
   ]
  },
  {
   "cell_type": "code",
   "execution_count": 513,
   "metadata": {},
   "outputs": [
    {
     "data": {
      "text/plain": [
       "array([0.510787  , 0.4353059 , 0.40338808, ..., 0.43744507, 0.519376  ,\n",
       "       0.4707027 ], dtype=float32)"
      ]
     },
     "execution_count": 513,
     "metadata": {},
     "output_type": "execute_result"
    }
   ],
   "source": [
    "class_0_predictions"
   ]
  },
  {
   "cell_type": "code",
   "execution_count": 514,
   "metadata": {},
   "outputs": [
    {
     "data": {
      "text/plain": [
       "(array([3559., 2946., 1671., 1087.,  703.,  393.,  188.,   70.,   24.,\n",
       "          10.]),\n",
       " array([0.37561986, 0.42646992, 0.47731996, 0.52817   , 0.57902   ,\n",
       "        0.6298701 , 0.68072015, 0.7315702 , 0.7824203 , 0.8332703 ,\n",
       "        0.88412035], dtype=float32),\n",
       " <BarContainer object of 10 artists>)"
      ]
     },
     "execution_count": 514,
     "metadata": {},
     "output_type": "execute_result"
    },
    {
     "data": {
      "image/png": "[encoded data removed]",
      "text/plain": [
       "<Figure size 432x288 with 1 Axes>"
      ]
     },
     "metadata": {
      "needs_background": "light"
     },
     "output_type": "display_data"
    }
   ],
   "source": [
    "plt.hist([class_0_predictions], stacked=True)#, bins = 100)\n",
    "# plt.yscale('log')"
   ]
  },
  {
   "cell_type": "code",
   "execution_count": 515,
   "metadata": {},
   "outputs": [
    {
     "data": {
      "image/png": "[encoded data removed]",
      "text/plain": [
       "<Figure size 432x288 with 1 Axes>"
      ]
     },
     "metadata": {
      "needs_background": "light"
     },
     "output_type": "display_data"
    }
   ],
   "source": [
    "plt.hist([class_0_predictions, class_1_predictions], stacked=True, label=['y = 0', 'y = 1'], bins = 100)\n",
    "# plt.hist(y_pred_test[test_labels == 0], color='red', label='$\\hat{y} = 0', bins=10)\n",
    "# plt.yscale('log')\n",
    "\n",
    "# ax = plt.gca()\n",
    "# ax.set_xlim(0.0, 1.0)\n",
    "\n",
    "plt.legend()\n",
    "plt.show()"
   ]
  },
  {
   "cell_type": "code",
   "execution_count": 524,
   "metadata": {},
   "outputs": [
    {
     "data": {
      "text/plain": [
       "tensor([[-0.4569, -0.7954],\n",
       "        [-0.4336, -0.7547],\n",
       "        [-0.6270, -0.5838],\n",
       "        ...,\n",
       "        [-0.6340, -0.5564],\n",
       "        [-0.5377, -0.6551],\n",
       "        [-0.4745, -0.7557]], grad_fn=<DivBackward0>)"
      ]
     },
     "execution_count": 524,
     "metadata": {},
     "output_type": "execute_result"
    }
   ],
   "source": [
    "d"
   ]
  },
  {
   "cell_type": "code",
   "execution_count": 525,
   "metadata": {
    "collapsed": true
   },
   "outputs": [],
   "source": [
    "criterion = nn.CrossEntropyLoss(reduction='none')# this is the loss function. reduction='none' makes it return a value for each input (reduce=False was deprecated)"
   ]
  },
  {
   "cell_type": "code",
   "execution_count": 553,
   "metadata": {},
   "outputs": [
    {
     "data": {
      "text/plain": [
       "array([0.86724532, 0.86724532, 0.59378856, ..., 1.        , 0.86724532,\n",
       "       0.9932525 ])"
      ]
     },
     "execution_count": 553,
     "metadata": {},
     "output_type": "execute_result"
    }
   ],
   "source": [
    "w_val = x[2]\n",
    "w_val"
   ]
  },
  {
   "cell_type": "code",
   "execution_count": 537,
   "metadata": {},
   "outputs": [],
   "source": [
    "target = torch.from_numpy(target)"
   ]
  },
  {
   "cell_type": "code",
   "execution_count": 540,
   "metadata": {},
   "outputs": [],
   "source": [
    "target = Variable(target.type(torch.LongTensor))"
   ]
  },
  {
   "cell_type": "code",
   "execution_count": 548,
   "metadata": {},
   "outputs": [],
   "source": [
    "output = criterion(d, target)"
   ]
  },
  {
   "cell_type": "code",
   "execution_count": 557,
   "metadata": {
    "collapsed": true
   },
   "outputs": [],
   "source": [
    "w_val = np.double(w_val)"
   ]
  },
  {
   "cell_type": "code",
   "execution_count": 558,
   "metadata": {},
   "outputs": [
    {
     "data": {
      "text/plain": [
       "array([0.86724532, 0.86724532, 0.59378856, ..., 1.        , 0.86724532,\n",
       "       0.9932525 ])"
      ]
     },
     "execution_count": 558,
     "metadata": {},
     "output_type": "execute_result"
    }
   ],
   "source": [
    "w_val"
   ]
  },
  {
   "cell_type": "code",
   "execution_count": 559,
   "metadata": {
    "collapsed": true
   },
   "outputs": [],
   "source": [
    "w_val = torch.from_numpy(w_val)"
   ]
  },
  {
   "cell_type": "code",
   "execution_count": 560,
   "metadata": {},
   "outputs": [],
   "source": [
    "w_val = w_val.type(torch.DoubleTensor)"
   ]
  },
  {
   "cell_type": "code",
   "execution_count": 561,
   "metadata": {},
   "outputs": [
    {
     "data": {
      "text/plain": [
       "tensor([0.8672, 0.8672, 0.5938,  ..., 1.0000, 0.8672, 0.9933],\n",
       "       dtype=torch.float64)"
      ]
     },
     "execution_count": 561,
     "metadata": {},
     "output_type": "execute_result"
    }
   ],
   "source": [
    "w_val"
   ]
  },
  {
   "cell_type": "code",
   "execution_count": 565,
   "metadata": {},
   "outputs": [
    {
     "data": {
      "text/plain": [
       "0.561944577611238"
      ]
     },
     "execution_count": 565,
     "metadata": {},
     "output_type": "execute_result"
    }
   ],
   "source": [
    "np.dot(w_val.detach().numpy(), criterion(d, target).detach().numpy())/(target.shape[0]) "
   ]
  }
 ],
 "metadata": {
  "kernelspec": {
   "display_name": "Python [conda env: GANS_7]",
   "language": "python",
   "name": "conda-env-GANS_7-py"
  },
  "language_info": {
   "codemirror_mode": {
    "name": "ipython",
    "version": 3
   },
   "file_extension": ".py",
   "mimetype": "text/x-python",
   "name": "python",
   "nbconvert_exporter": "python",
   "pygments_lexer": "ipython3",
   "version": "3.6.12"
  }
 },
 "nbformat": 4,
 "nbformat_minor": 2
}
