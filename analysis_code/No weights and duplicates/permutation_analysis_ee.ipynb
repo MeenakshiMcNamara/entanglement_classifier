{
 "cells": [
  {
   "cell_type": "code",
   "execution_count": 1,
   "metadata": {},
   "outputs": [
    {
     "name": "stderr",
     "output_type": "stream",
     "text": [
      "/home/zhou907/.conda/envs/cent7/5.1.0-py36/GANS2/lib/python3.6/site-packages/uproot/reading.py:186: FutureWarning: XRootD 5.1.1 is not fully supported; either upgrade to 5.2.0+ or set\n",
      "\n",
      "    open.defaults[\"xrootd_handler\"] = uproot.MultithreadedXRootDSource\n",
      "\n",
      "  warnings.warn(message, FutureWarning)\n"
     ]
    }
   ],
   "source": [
    "from dataset_preprocessing import ProductionModeDataset\n",
    "\n",
    "import torch\n",
    "from sklearn.inspection import permutation_importance\n",
    "import numpy as np\n",
    "import uproot\n",
    "import torch.nn as nn\n",
    "from matplotlib import pyplot as plt\n",
    "\n",
    "from Classifier_module import Three_Layer_Classifier\n",
    "from torch.autograd import Variable\n"
   ]
  },
  {
   "cell_type": "code",
   "execution_count": 2,
   "metadata": {},
   "outputs": [],
   "source": [
    "################# THIS IS WHERE YOU CHOOSE WHAT TO LOAD ################################\n",
    "path_to_model = \"/depot/cms/top/zhou907/threeLayerModel_ee_1.pt\"\n",
    "\n",
    "event_type = \"ee\"  # could be ee, emu, mumu\n",
    "root_path = \"/depot-new/cms/top/mcnama20/TopSpinCorr-Run2-Entanglement/CMSSW_10_2_22/src/TopAnalysis/Configuration/analysis/diLeptonic/three_files/Nominal\"\n",
    "\n",
    "file = root_path + \"/\" + event_type + \"_modified_root_1.root\""
   ]
  },
  {
   "cell_type": "code",
   "execution_count": 3,
   "metadata": {},
   "outputs": [
    {
     "data": {
      "text/plain": [
       "Three_Layer_Classifier(\n",
       "  (model): Sequential(\n",
       "    (0): Linear(in_features=80, out_features=512, bias=True)\n",
       "    (1): LeakyReLU(negative_slope=0.2, inplace=True)\n",
       "    (2): Linear(in_features=512, out_features=256, bias=True)\n",
       "    (3): LeakyReLU(negative_slope=0.2, inplace=True)\n",
       "    (4): Linear(in_features=256, out_features=3, bias=True)\n",
       "    (5): LeakyReLU(negative_slope=0.2, inplace=True)\n",
       "  )\n",
       ")"
      ]
     },
     "execution_count": 3,
     "metadata": {},
     "output_type": "execute_result"
    }
   ],
   "source": [
    "# model = 0\n",
    "model = Three_Layer_Classifier()\n",
    "model.load_state_dict(torch.load(path_to_model))\n",
    "model.eval()"
   ]
  },
  {
   "cell_type": "code",
   "execution_count": 4,
   "metadata": {},
   "outputs": [
    {
     "name": "stdout",
     "output_type": "stream",
     "text": [
      "['lb_delta_eta', 'lbbar_delta_eta', 'lnu_delta_eta', 'lnubar_delta_eta', 'lbarb_delta_eta', 'lbarbbar_delta_eta', 'lbarnu_delta_eta', 'lbarnubar_delta_eta', 'bnu_delta_eta', 'bnubar_delta_eta', 'bbarnu_delta_eta', 'bbarnubar_delta_eta', 'lb_delta_phi', 'lbbar_delta_phi', 'lnu_delta_phi', 'lnubar_delta_phi', 'lbarb_delta_phi', 'lbarbbar_delta_phi', 'lbarnu_delta_phi', 'lbarnubar_delta_phi', 'bnu_delta_phi', 'bnubar_delta_phi', 'bbarnu_delta_phi', 'bbarnubar_delta_phi', 'wplusb_delta_eta', 'wplusbbar_delta_eta', 'wminusb_delta_eta', 'wminusbbar_delta_eta', 'wplusb_delta_phi', 'wplusbbar_delta_phi', 'wminusb_delta_phi', 'wminusbbar_delta_phi', 'top_eta', 'top_boosted_eta', 'tbar_eta', 'tbar_boosted_eta', 'ttbar_delta_eta', 'ttbar_eta', 'llbar_delta_eta', 'bbbar_delta_eta', 'nunubar_delta_eta', 'top_phi', 'tbar_phi', 'ttbar_phi', 'ttbar_delta_phi', 'llbar_phi', 'llbar_delta_phi', 'bbbar_phi', 'bbbar_delta_phi', 'nunubar_phi', 'nunubar_delta_phi', 'l_eta', 'lbar_eta', 'l_phi', 'lbar_phi', 'b_eta', 'bbar_eta', 'b_phi', 'bbar_phi', 'nu_eta', 'nubar_eta', 'nu_phi', 'nubar_phi', 'wplus_eta', 'wminus_eta', 'wplus_phi', 'wminus_phi', 'top_pt', 'tbar_pt', 'l_pt', 'b_pt', 'bbar_pt', 'nu_pt', 'nubar_pt', 'met_pt', 'ttbar_pt', 'ttbar_boosted_pt', 'wplus_pt', 'wminus_pt', 'ttbar_mass', 'production_mode', 'eventWeight', '__index__']\n",
      "num qqbar = 6324\n",
      "training (15367, 83)\n",
      "evaluating (3605, 83)\n"
     ]
    }
   ],
   "source": [
    "\n",
    "\n",
    "\n",
    "data_object = ProductionModeDataset(file)\n",
    "x = data_object.get_eval_data()\n"
   ]
  },
  {
   "cell_type": "code",
   "execution_count": 5,
   "metadata": {},
   "outputs": [],
   "source": [
    "weight = x[:,81]\n",
    "target = x[:,80]\n",
    "target = Variable(torch.from_numpy(target).type(torch.LongTensor))\n",
    "y = np.transpose(x)\n",
    "y = np.delete(y, [80, 81, 82], 0)\n",
    "y = np.transpose(y)\n",
    "input = Variable(torch.from_numpy(y).type(torch.Tensor))"
   ]
  },
  {
   "cell_type": "code",
   "execution_count": 6,
   "metadata": {},
   "outputs": [
    {
     "data": {
      "text/plain": [
       "tensor([-14387.9248, -10432.0762,  -8647.3076], grad_fn=<SliceBackward>)"
      ]
     },
     "execution_count": 6,
     "metadata": {},
     "output_type": "execute_result"
    }
   ],
   "source": [
    "model(input)[0,:]"
   ]
  },
  {
   "cell_type": "code",
   "execution_count": 7,
   "metadata": {},
   "outputs": [
    {
     "data": {
      "text/plain": [
       "tensor(2)"
      ]
     },
     "execution_count": 7,
     "metadata": {},
     "output_type": "execute_result"
    }
   ],
   "source": [
    "target[0]"
   ]
  },
  {
   "cell_type": "code",
   "execution_count": 8,
   "metadata": {},
   "outputs": [],
   "source": [
    "from skorch import NeuralNetClassifier\n",
    "from sklearn.inspection import permutation_importance"
   ]
  },
  {
   "cell_type": "code",
   "execution_count": 9,
   "metadata": {},
   "outputs": [
    {
     "data": {
      "text/plain": [
       "<class 'skorch.classifier.NeuralNetClassifier'>[initialized](\n",
       "  module_=Three_Layer_Classifier(\n",
       "    (model): Sequential(\n",
       "      (0): Linear(in_features=80, out_features=512, bias=True)\n",
       "      (1): LeakyReLU(negative_slope=0.2, inplace=True)\n",
       "      (2): Linear(in_features=512, out_features=256, bias=True)\n",
       "      (3): LeakyReLU(negative_slope=0.2, inplace=True)\n",
       "      (4): Linear(in_features=256, out_features=3, bias=True)\n",
       "      (5): LeakyReLU(negative_slope=0.2, inplace=True)\n",
       "    )\n",
       "  ),\n",
       ")"
      ]
     },
     "execution_count": 9,
     "metadata": {},
     "output_type": "execute_result"
    }
   ],
   "source": [
    "nn = NeuralNetClassifier(model, max_epochs=0, lr=0.00, batch_size=5000)\n",
    "nn.initialize()"
   ]
  },
  {
   "cell_type": "code",
   "execution_count": 10,
   "metadata": {},
   "outputs": [],
   "source": [
    "events = uproot.open(file)\n",
    "key = events.keys()[0]\n",
    "input_variables = events[key].keys()"
   ]
  },
  {
   "cell_type": "code",
   "execution_count": 11,
   "metadata": {},
   "outputs": [
    {
     "name": "stdout",
     "output_type": "stream",
     "text": [
      "ttbar_pt0.124 +/- 0.006\n",
      "bbar_phi0.123 +/- 0.006\n",
      "nu_phi  0.121 +/- 0.005\n",
      "llbar_phi0.120 +/- 0.005\n",
      "bbbar_phi0.119 +/- 0.004\n",
      "top_phi 0.118 +/- 0.005\n",
      "bbbar_delta_phi0.117 +/- 0.005\n",
      "bnu_delta_phi0.116 +/- 0.005\n",
      "l_phi   0.116 +/- 0.005\n",
      "nunubar_phi0.116 +/- 0.006\n",
      "lbbar_delta_phi0.115 +/- 0.006\n",
      "wplusb_delta_phi0.115 +/- 0.005\n",
      "nubar_phi0.113 +/- 0.005\n",
      "bbarnu_delta_phi0.113 +/- 0.006\n",
      "b_phi   0.112 +/- 0.006\n",
      "lbar_phi0.111 +/- 0.004\n",
      "bbarnubar_delta_phi0.110 +/- 0.004\n",
      "wminusbbar_delta_phi0.110 +/- 0.005\n",
      "ttbar_phi0.110 +/- 0.004\n",
      "lnubar_delta_phi0.110 +/- 0.005\n",
      "llbar_delta_phi0.109 +/- 0.006\n",
      "lbarnu_delta_phi0.107 +/- 0.005\n",
      "nunubar_delta_phi0.106 +/- 0.005\n",
      "wplus_phi0.105 +/- 0.005\n",
      "lbarbbar_delta_phi0.105 +/- 0.004\n",
      "wplusb_delta_eta0.103 +/- 0.005\n",
      "wminus_phi0.103 +/- 0.005\n",
      "bbar_eta0.099 +/- 0.004\n",
      "lbar_eta0.099 +/- 0.006\n",
      "bbbar_delta_eta0.098 +/- 0.004\n",
      "lbarb_delta_eta0.097 +/- 0.005\n",
      "wplusbbar_delta_phi0.097 +/- 0.005\n",
      "tbar_phi0.095 +/- 0.005\n",
      "lb_delta_phi0.094 +/- 0.005\n",
      "lnu_delta_phi0.093 +/- 0.005\n",
      "bnubar_delta_phi0.092 +/- 0.003\n",
      "lbarb_delta_phi0.092 +/- 0.005\n",
      "wminusb_delta_phi0.091 +/- 0.005\n",
      "lbarbbar_delta_eta0.091 +/- 0.005\n",
      "b_pt    0.089 +/- 0.004\n",
      "b_eta   0.089 +/- 0.005\n",
      "l_eta   0.089 +/- 0.005\n",
      "lb_delta_eta0.089 +/- 0.005\n",
      "bbarnubar_delta_eta0.089 +/- 0.005\n",
      "bbar_pt 0.087 +/- 0.004\n",
      "bbarnu_delta_eta0.086 +/- 0.004\n",
      "lbbar_delta_eta0.083 +/- 0.004\n",
      "wplusbbar_delta_eta0.082 +/- 0.004\n",
      "wminusb_delta_eta0.080 +/- 0.004\n",
      "tbar_pt 0.080 +/- 0.004\n",
      "l_pt    0.080 +/- 0.005\n",
      "lbarnubar_delta_phi0.079 +/- 0.005\n",
      "bnubar_delta_eta0.079 +/- 0.005\n",
      "lnubar_delta_eta0.078 +/- 0.005\n",
      "llbar_delta_eta0.078 +/- 0.005\n",
      "lbarnu_delta_eta0.077 +/- 0.004\n",
      "wminusbbar_delta_eta0.077 +/- 0.005\n",
      "nunubar_delta_eta0.076 +/- 0.004\n",
      "ttbar_delta_eta0.076 +/- 0.004\n",
      "lbarnubar_delta_eta0.074 +/- 0.004\n",
      "nubar_pt0.073 +/- 0.005\n",
      "wplus_eta0.072 +/- 0.004\n",
      "bnu_delta_eta0.066 +/- 0.004\n",
      "met_pt  0.065 +/- 0.005\n",
      "ttbar_eta0.064 +/- 0.005\n",
      "wminus_pt0.062 +/- 0.004\n",
      "lnu_delta_eta0.062 +/- 0.005\n",
      "ttbar_mass0.060 +/- 0.004\n",
      "nu_eta  0.059 +/- 0.005\n",
      "wplus_pt0.057 +/- 0.003\n",
      "top_pt  0.056 +/- 0.004\n",
      "ttbar_delta_phi0.054 +/- 0.004\n",
      "nu_pt   0.051 +/- 0.004\n",
      "tbar_eta0.042 +/- 0.004\n",
      "ttbar_boosted_pt0.041 +/- 0.004\n",
      "top_eta 0.036 +/- 0.003\n",
      "nubar_eta0.033 +/- 0.004\n",
      "wminus_eta0.033 +/- 0.003\n",
      "tbar_boosted_eta0.025 +/- 0.003\n",
      "top_boosted_eta0.025 +/- 0.004\n"
     ]
    }
   ],
   "source": [
    "r = permutation_importance(nn, input, target, \\\n",
    "                           n_repeats=30, \\\n",
    "                           random_state=0)\n",
    "\n",
    "for i in r.importances_mean.argsort()[::-1]:\n",
    "    if r.importances_mean[i] - 2 * r.importances_std[i] > 0:\n",
    "        print(f\"{input_variables[i]:<8}\"\n",
    "              f\"{r.importances_mean[i]:.3f}\"\n",
    "              f\" +/- {r.importances_std[i]:.3f}\")\n"
   ]
  },
  {
   "cell_type": "code",
   "execution_count": 12,
   "metadata": {},
   "outputs": [
    {
     "data": {
      "text/plain": [
       "0.6957004160887656"
      ]
     },
     "execution_count": 12,
     "metadata": {},
     "output_type": "execute_result"
    }
   ],
   "source": [
    "nn.score(input, target)"
   ]
  },
  {
   "cell_type": "code",
   "execution_count": null,
   "metadata": {},
   "outputs": [],
   "source": []
  }
 ],
 "metadata": {
  "kernelspec": {
   "display_name": "Python (GANS2)",
   "language": "python",
   "name": "gans2"
  },
  "language_info": {
   "codemirror_mode": {
    "name": "ipython",
    "version": 3
   },
   "file_extension": ".py",
   "mimetype": "text/x-python",
   "name": "python",
   "nbconvert_exporter": "python",
   "pygments_lexer": "ipython3",
   "version": "3.6.13"
  }
 },
 "nbformat": 4,
 "nbformat_minor": 2
}
