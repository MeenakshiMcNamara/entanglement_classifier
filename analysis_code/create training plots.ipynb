{
 "cells": [
  {
   "cell_type": "code",
   "execution_count": 2,
   "metadata": {},
   "outputs": [],
   "source": [
    "import numpy as np\n",
    "from matplotlib import pyplot as plt\n"
   ]
  },
  {
   "cell_type": "code",
   "execution_count": 6,
   "metadata": {},
   "outputs": [],
   "source": [
    "################# THIS IS WHERE YOU CHOOSE WHAT TO LOAD ################################\n",
    "\n",
    "correlation_cut = -1.0   # if negative none, current other options are 0.9 and 0.8, but more can be added\n",
    "\n",
    "cut_version = -1   # -1 means OG, otherwise can be 2 or 3 (or more if added)\n",
    "\n",
    "event_type = \"ee\"  # could be ee, emu, mumu\n",
    "\n",
    "weight_cmd = \"true\"   # could also be \"false\", \"true\" or \"no-neg\"\n",
    "\n",
    "drop = 0.2  # drop rate\n",
    "\n",
    "input_type = \"lorentzdelta_gen\"\n",
    "\n",
    "qg_cmd = False\n",
    "\n",
    "batch_size = 7000\n",
    "\n",
    "layer_number = \"five\"\n",
    "layer_num_type = \"more\"\n",
    "\n",
    "#This is only here in case format is changed... should be good for all three layer stuff otherwise\n",
    "if layer_number != \"GNN\":\n",
    "    model_name = layer_number + \"LayerModel_\" + event_type + \"_corrCut_\" + str(correlation_cut) + \"_weights_\" + weight_cmd + \"_drop_\" + str(drop)\n",
    "else:\n",
    "    model_name = layer_number + \"_Model_\" + event_type + \"_corrCut_\" + str(correlation_cut) + \"_weights_\" + weight_cmd + \"_drop_\" + str(drop) \n",
    "    \n",
    "if cut_version > 0:\n",
    "    model_name += \"cutV\" + str(cut_version)\n",
    "\n",
    "if input_type != \"all\":\n",
    "    model_name += \"_\" + input_type\n",
    "    \n",
    "if not qg_cmd:\n",
    "    model_name += \"_no_qg\"\n",
    "    \n",
    "if batch_size != -1:\n",
    "    model_name += \"batch_\" + str(batch_size)\n",
    "    \n",
    "model_name +=\"_layerordergood\"\n",
    "model_name += \"_upsample\"\n",
    "    \n",
    "# if batch_size != -1:\n",
    "#     model_name += \"batch_\" + str(batch_size)"
   ]
  },
  {
   "cell_type": "code",
   "execution_count": 7,
   "metadata": {},
   "outputs": [
    {
     "data": {
      "text/plain": [
       "'fiveLayerModel_ee_corrCut_-1.0_weights_true_drop_0.2_lorentzdelta_gen_no_qgbatch_7000_layerordergood_upsample'"
      ]
     },
     "execution_count": 7,
     "metadata": {},
     "output_type": "execute_result"
    }
   ],
   "source": [
    "model_name"
   ]
  },
  {
   "cell_type": "code",
   "execution_count": 8,
   "metadata": {},
   "outputs": [],
   "source": [
    "validation = np.load(\"../data/\" + layer_num_type + \"_layers/\" + model_name + \"_loss_val_array.npy\")\n",
    "train = np.load(\"../data/\" + layer_num_type + \"_layers/\" + model_name + \"_loss_train_array.npy\")"
   ]
  },
  {
   "cell_type": "code",
   "execution_count": 9,
   "metadata": {},
   "outputs": [
    {
     "name": "stdout",
     "output_type": "stream",
     "text": [
      "epochs are 10\n"
     ]
    }
   ],
   "source": [
    "print(\"epochs are \" + str(10 * len(train)))"
   ]
  },
  {
   "cell_type": "code",
   "execution_count": 13,
   "metadata": {},
   "outputs": [
    {
     "data": {
      "text/plain": [
       "array([0.56983107])"
      ]
     },
     "execution_count": 13,
     "metadata": {},
     "output_type": "execute_result"
    }
   ],
   "source": [
    "validation"
   ]
  },
  {
   "cell_type": "code",
   "execution_count": 11,
   "metadata": {},
   "outputs": [
    {
     "data": {
      "image/png": "[encoded data removed]",
      "text/plain": [
       "<Figure size 432x288 with 1 Axes>"
      ]
     },
     "metadata": {
      "needs_background": "light"
     },
     "output_type": "display_data"
    }
   ],
   "source": [
    "figure = plt.figure()\n",
    "ax = figure.add_subplot(111)\n",
    "ax.plot(10 *np.array(range( len(validation))), validation, label = \"validation loss\")\n",
    "ax.plot(10 *np.array(range(len(train))), train, label=\"training loss\")\n",
    "ax.legend()\n",
    "plt.title(model_name)\n",
    "plt.yscale(\"log\")"
   ]
  },
  {
   "cell_type": "code",
   "execution_count": 16,
   "metadata": {},
   "outputs": [
    {
     "data": {
      "text/plain": [
       "0.5488783121109009"
      ]
     },
     "execution_count": 16,
     "metadata": {},
     "output_type": "execute_result"
    }
   ],
   "source": [
    "min(validation)"
   ]
  }
 ],
 "metadata": {
  "kernelspec": {
   "display_name": "Python (GANS)",
   "language": "python",
   "name": "gans"
  },
  "language_info": {
   "codemirror_mode": {
    "name": "ipython",
    "version": 3
   },
   "file_extension": ".py",
   "mimetype": "text/x-python",
   "name": "python",
   "nbconvert_exporter": "python",
   "pygments_lexer": "ipython3",
   "version": "3.6.12"
  }
 },
 "nbformat": 4,
 "nbformat_minor": 2
}
