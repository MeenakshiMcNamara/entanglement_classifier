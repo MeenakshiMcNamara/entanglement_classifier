{
 "cells": [
  {
   "cell_type": "code",
   "execution_count": 2,
   "metadata": {
    "collapsed": true
   },
   "outputs": [],
   "source": [
    "import numpy as np\n",
    "from matplotlib import pyplot as plt\n"
   ]
  },
  {
   "cell_type": "code",
   "execution_count": 12,
   "metadata": {
    "collapsed": true
   },
   "outputs": [],
   "source": [
    "################# THIS IS WHERE YOU CHOOSE WHAT TO LOAD ################################\n",
    "\n",
    "correlation_cut = -1.0   # if negative none, current other options are 0.9 and 0.8, but more can be added\n",
    "\n",
    "cut_version = -1   # -1 means OG, otherwise can be 2 or 3 (or more if added)\n",
    "\n",
    "event_type = \"ee\"  # could be ee, emu, mumu\n",
    "\n",
    "weight_cmd = \"true\"   # could also be \"false\", \"true\" or \"no-neg\"\n",
    "\n",
    "drop = 0.0  # drop rate\n",
    "\n",
    "input_type = \"lorentzdelta_gen\"\n",
    "\n",
    "qg_cmd = False\n",
    "\n",
    "batch_size = 7000\n",
    "\n",
    "layer_number = \"five\"\n",
    "layer_num_type = \"more\"\n",
    "\n",
    "#This is only here in case format is changed... should be good for all three layer stuff otherwise\n",
    "if layer_number != \"GNN\":\n",
    "    model_name = layer_number + \"LayerModel_\" + event_type + \"_corrCut_\" + str(correlation_cut) + \"_weights_\" + weight_cmd + \"_drop_\" + str(drop)\n",
    "else:\n",
    "    model_name = layer_number + \"_Model_\" + event_type + \"_corrCut_\" + str(correlation_cut) + \"_weights_\" + weight_cmd + \"_drop_\" + str(drop) \n",
    "    \n",
    "if cut_version > 0:\n",
    "    model_name += \"cutV\" + str(cut_version)\n",
    "\n",
    "if input_type != \"all\":\n",
    "    model_name += \"_\" + input_type\n",
    "    \n",
    "if not qg_cmd:\n",
    "    model_name += \"_no_qg\"\n",
    "    \n",
    "if batch_size != -1:\n",
    "    model_name += \"batch_\" + str(batch_size)\n",
    "    \n",
    "model_name +=\"_layerordergood\"\n",
    "model_name += \"_upsample\"\n",
    "    \n",
    "# if batch_size != -1:\n",
    "#     model_name += \"batch_\" + str(batch_size)"
   ]
  },
  {
   "cell_type": "code",
   "execution_count": 13,
   "metadata": {},
   "outputs": [
    {
     "data": {
      "text/plain": [
       "'fiveLayerModel_ee_corrCut_-1.0_weights_true_drop_0.0_lorentzdelta_gen_no_qgbatch_7000_layerordergood_upsample'"
      ]
     },
     "execution_count": 13,
     "metadata": {},
     "output_type": "execute_result"
    }
   ],
   "source": [
    "model_name"
   ]
  },
  {
   "cell_type": "code",
   "execution_count": 14,
   "metadata": {
    "collapsed": true
   },
   "outputs": [],
   "source": [
    "path = \"/depot/cms/top/mcnama20/TopSpinCorr-Run2-Entanglement/CMSSW_10_2_22/src/TopAnalysis/Configuration/analysis/diLeptonic/entanglement_classifier\""
   ]
  },
  {
   "cell_type": "code",
   "execution_count": 15,
   "metadata": {
    "collapsed": true
   },
   "outputs": [],
   "source": [
    "validation = np.load(path + \"/data/\" + layer_num_type + \"_layers/\" + model_name + \"_loss_val_array.npy\")\n",
    "train = np.load(path + \"/data/\" + layer_num_type + \"_layers/\" + model_name + \"_loss_train_array.npy\")"
   ]
  },
  {
   "cell_type": "code",
   "execution_count": 16,
   "metadata": {
    "collapsed": true
   },
   "outputs": [],
   "source": [
    "# validation = np.load(\"../data/\" + layer_num_type + \"_layers/\" + model_name + \"_loss_val_array.npy\")\n",
    "# train = np.load(\"../data/\" + layer_num_type + \"_layers/\" + model_name + \"_loss_train_array.npy\")"
   ]
  },
  {
   "cell_type": "code",
   "execution_count": 17,
   "metadata": {},
   "outputs": [
    {
     "name": "stdout",
     "output_type": "stream",
     "text": [
      "epochs are 1510\n"
     ]
    }
   ],
   "source": [
    "print(\"epochs are \" + str(10 * len(train)))"
   ]
  },
  {
   "cell_type": "code",
   "execution_count": 18,
   "metadata": {},
   "outputs": [
    {
     "data": {
      "text/plain": [
       "array([ 0.55653113,  0.53639781,  0.52689123,  0.51894069,  0.51243991,\n",
       "        0.50644094,  0.50143212,  0.49568525,  0.49124223,  0.48672813,\n",
       "        0.48382619,  0.47871873,  0.47627452,  0.47310495,  0.46933156,\n",
       "        0.46713957,  0.4643195 ,  0.46241274,  0.45905575,  0.45606223,\n",
       "        0.45501137,  0.45202753,  0.45094341,  0.44760123,  0.44591519,\n",
       "        0.44452477,  0.44446838,  0.44141915,  0.44055837,  0.43832758,\n",
       "        0.43697625,  0.43660021,  0.43403602,  0.43209076,  0.43023589,\n",
       "        0.42963293,  0.42762855,  0.42730749,  0.42436388,  0.4237175 ,\n",
       "        0.42305604,  0.42033154,  0.42205125,  0.41981691,  0.41759029,\n",
       "        0.41694105,  0.41583714,  0.4147242 ,  0.414076  ,  0.41330454,\n",
       "        0.41219124,  0.41210273,  0.40985617,  0.41022745,  0.40961704,\n",
       "        0.40933493,  0.40712512,  0.40664726,  0.40557575,  0.40457964,\n",
       "        0.40497315,  0.4032484 ,  0.40284449,  0.40209416,  0.40058228,\n",
       "        0.40063721,  0.39942139,  0.40037319,  0.39659572,  0.39728954,\n",
       "        0.39742431,  0.39774925,  0.39488706,  0.39696309,  0.39534748,\n",
       "        0.39456776,  0.39391193,  0.39493924,  0.39484286,  0.39221776,\n",
       "        0.39178944,  0.39154562,  0.39079392,  0.38797155,  0.38950512,\n",
       "        0.38841152,  0.38744968,  0.38816908,  0.38689658,  0.38663355,\n",
       "        0.38611296,  0.38423055,  0.38432932,  0.3857367 ,  0.38551906,\n",
       "        0.38376534,  0.38522863,  0.38374946,  0.38372165,  0.38348168,\n",
       "        0.38306811,  0.38000435,  0.3791399 ,  0.3800351 ,  0.3820999 ,\n",
       "        0.37959749,  0.37822315,  0.38165206,  0.37678456,  0.37773111,\n",
       "        0.37806979,  0.37690675,  0.37551466,  0.37774628,  0.37601912,\n",
       "        0.37482813,  0.37508914,  0.37408593,  0.37879303,  0.37313902,\n",
       "        0.37438202,  0.37335977,  0.37397346,  0.37229195,  0.37180313,\n",
       "        0.37181488,  0.37223673,  0.37008658,  0.36934295,  0.36887464,\n",
       "        0.36913642,  0.36930379,  0.36767519,  0.37170666,  0.36895105,\n",
       "        0.36766687,  0.36653242,  0.36727679,  0.36631396,  0.37207857,\n",
       "        0.37027577,  0.36444476,  0.36779156,  0.3662771 ,  0.36399803,\n",
       "        0.36504853,  0.36490223,  0.36351362,  0.36238125,  0.3617188 ,\n",
       "        0.36386144])"
      ]
     },
     "execution_count": 18,
     "metadata": {},
     "output_type": "execute_result"
    }
   ],
   "source": [
    "validation"
   ]
  },
  {
   "cell_type": "code",
   "execution_count": 20,
   "metadata": {},
   "outputs": [
    {
     "data": {
      "image/png": "[encoded data removed]",
      "text/plain": [
       "<matplotlib.figure.Figure at 0x7f1b50477a20>"
      ]
     },
     "metadata": {},
     "output_type": "display_data"
    }
   ],
   "source": [
    "figure = plt.figure()\n",
    "ax = figure.add_subplot(111)\n",
    "ax.plot(10 *np.array(range( len(validation))), validation, label = \"validation loss\")\n",
    "ax.plot(10 *np.array(range(len(train))), train, label=\"training loss\")\n",
    "ax.legend()\n",
    "plt.title(model_name)\n",
    "# plt.yscale(\"log\")\n",
    "plt.show()"
   ]
  },
  {
   "cell_type": "code",
   "execution_count": 43,
   "metadata": {},
   "outputs": [
    {
     "data": {
      "text/plain": [
       "0.53605538606643677"
      ]
     },
     "execution_count": 43,
     "metadata": {},
     "output_type": "execute_result"
    }
   ],
   "source": [
    "min(validation)"
   ]
  },
  {
   "cell_type": "code",
   "execution_count": null,
   "metadata": {
    "collapsed": true
   },
   "outputs": [],
   "source": [
    "\n",
    "val = np.load(\"../data/\" + layer_num_type + \"_layers/train_val_datasets/validation_dataset_\" + model_name + \".npy\")"
   ]
  }
 ],
 "metadata": {
  "kernelspec": {
   "display_name": "Dark Python 3",
   "language": "python",
   "name": "analysis"
  },
  "language_info": {
   "codemirror_mode": {
    "name": "ipython",
    "version": 3
   },
   "file_extension": ".py",
   "mimetype": "text/x-python",
   "name": "python",
   "nbconvert_exporter": "python",
   "pygments_lexer": "ipython3",
   "version": "3.4.5"
  }
 },
 "nbformat": 4,
 "nbformat_minor": 2
}
