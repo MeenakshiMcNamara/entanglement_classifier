{
 "cells": [
  {
   "cell_type": "code",
   "execution_count": 1,
   "metadata": {
    "collapsed": true
   },
   "outputs": [],
   "source": [
    "import sys\n",
    "sys.path.append(\"..\")   # this allows us to import from sibling directory\n",
    "\n",
    "from code_to_import.dataset_preprocessing import ProductionModeDataset\n",
    "\n",
    "import torch\n",
    "from sklearn.inspection import permutation_importance\n",
    "import numpy as np\n",
    "import uproot\n",
    "import torch.nn as nn\n",
    "from matplotlib import pyplot as plt\n",
    "\n",
    "from code_to_import.Classifier_module import Classifier\n",
    "from torch.autograd import Variable\n"
   ]
  },
  {
   "cell_type": "code",
   "execution_count": 2,
   "metadata": {
    "collapsed": true
   },
   "outputs": [],
   "source": [
    "################# THIS IS WHERE YOU CHOOSE WHAT TO LOAD ################################\n",
    "path_to_model = \"../models/two_layers/twoLayerModel_weights_gpu_mumu0\"\n",
    "\n",
    "event_type = \"mumu\"  # could be ee, emu, mumu\n",
    "root_path = \"/depot-new/cms/top/mcnama20/TopSpinCorr-Run2-Entanglement/CMSSW_10_2_22/src/TopAnalysis/Configuration/analysis/diLeptonic/three_files/Nominal\"\n",
    "\n",
    "file = root_path + \"/\" + event_type + \"_modified_root_1.root\""
   ]
  },
  {
   "cell_type": "code",
   "execution_count": 39,
   "metadata": {},
   "outputs": [
    {
     "data": {
      "text/plain": [
       "Classifier(\n",
       "  (model): Sequential(\n",
       "    (0): Linear(in_features=80, out_features=256, bias=True)\n",
       "    (1): LeakyReLU(negative_slope=0.2, inplace=True)\n",
       "    (2): Linear(in_features=256, out_features=3, bias=True)\n",
       "    (3): LeakyReLU(negative_slope=0.2, inplace=True)\n",
       "  )\n",
       ")"
      ]
     },
     "execution_count": 39,
     "metadata": {},
     "output_type": "execute_result"
    }
   ],
   "source": [
    "# model = 0\n",
    "model = Classifier()\n",
    "model.load_state_dict(torch.load(path_to_model))\n",
    "model.eval()"
   ]
  },
  {
   "cell_type": "code",
   "execution_count": 40,
   "metadata": {},
   "outputs": [
    {
     "name": "stdout",
     "output_type": "stream",
     "text": [
      "['lb_delta_eta', 'lbbar_delta_eta', 'lnu_delta_eta', 'lnubar_delta_eta', 'lbarb_delta_eta', 'lbarbbar_delta_eta', 'lbarnu_delta_eta', 'lbarnubar_delta_eta', 'bnu_delta_eta', 'bnubar_delta_eta', 'bbarnu_delta_eta', 'bbarnubar_delta_eta', 'lb_delta_phi', 'lbbar_delta_phi', 'lnu_delta_phi', 'lnubar_delta_phi', 'lbarb_delta_phi', 'lbarbbar_delta_phi', 'lbarnu_delta_phi', 'lbarnubar_delta_phi', 'bnu_delta_phi', 'bnubar_delta_phi', 'bbarnu_delta_phi', 'bbarnubar_delta_phi', 'wplusb_delta_eta', 'wplusbbar_delta_eta', 'wminusb_delta_eta', 'wminusbbar_delta_eta', 'wplusb_delta_phi', 'wplusbbar_delta_phi', 'wminusb_delta_phi', 'wminusbbar_delta_phi', 'top_eta', 'top_boosted_eta', 'tbar_eta', 'tbar_boosted_eta', 'ttbar_delta_eta', 'ttbar_eta', 'llbar_delta_eta', 'bbbar_delta_eta', 'nunubar_delta_eta', 'top_phi', 'tbar_phi', 'ttbar_phi', 'ttbar_delta_phi', 'llbar_phi', 'llbar_delta_phi', 'bbbar_phi', 'bbbar_delta_phi', 'nunubar_phi', 'nunubar_delta_phi', 'l_eta', 'lbar_eta', 'l_phi', 'lbar_phi', 'b_eta', 'bbar_eta', 'b_phi', 'bbar_phi', 'nu_eta', 'nubar_eta', 'nu_phi', 'nubar_phi', 'wplus_eta', 'wminus_eta', 'wplus_phi', 'wminus_phi', 'top_pt', 'tbar_pt', 'l_pt', 'b_pt', 'bbar_pt', 'nu_pt', 'nubar_pt', 'met_pt', 'ttbar_pt', 'ttbar_boosted_pt', 'wplus_pt', 'wminus_pt', 'ttbar_mass', 'production_mode', 'eventWeight', '__index__']\n",
      "num qqbar = 12230\n",
      "training (29718, 83)\n",
      "evaluating (6972, 83)\n"
     ]
    }
   ],
   "source": [
    "\n",
    "\n",
    "\n",
    "data_object = ProductionModeDataset(file)\n",
    "x = data_object.get_eval_data()\n"
   ]
  },
  {
   "cell_type": "code",
   "execution_count": 41,
   "metadata": {
    "collapsed": true
   },
   "outputs": [],
   "source": [
    "weight = x[:,81]\n",
    "target = x[:,80]\n",
    "target = Variable(torch.from_numpy(target).type(torch.LongTensor))\n",
    "y = np.transpose(x)\n",
    "y = np.delete(y, [80, 81, 82], 0)\n",
    "y = np.transpose(y)\n",
    "input = Variable(torch.from_numpy(y).type(torch.Tensor))"
   ]
  },
  {
   "cell_type": "code",
   "execution_count": 43,
   "metadata": {},
   "outputs": [
    {
     "data": {
      "text/plain": [
       "tensor([1.4296, 2.1556, 2.6216], grad_fn=<SliceBackward>)"
      ]
     },
     "execution_count": 43,
     "metadata": {},
     "output_type": "execute_result"
    }
   ],
   "source": [
    "model(input)[0,:]"
   ]
  },
  {
   "cell_type": "code",
   "execution_count": 44,
   "metadata": {},
   "outputs": [
    {
     "data": {
      "text/plain": [
       "tensor(2)"
      ]
     },
     "execution_count": 44,
     "metadata": {},
     "output_type": "execute_result"
    }
   ],
   "source": [
    "target[0]"
   ]
  },
  {
   "cell_type": "code",
   "execution_count": 45,
   "metadata": {
    "collapsed": true
   },
   "outputs": [],
   "source": [
    "from skorch import NeuralNetClassifier\n",
    "from sklearn.inspection import permutation_importance"
   ]
  },
  {
   "cell_type": "code",
   "execution_count": 46,
   "metadata": {},
   "outputs": [
    {
     "data": {
      "text/plain": [
       "<class 'skorch.classifier.NeuralNetClassifier'>[initialized](\n",
       "  module_=Classifier(\n",
       "    (model): Sequential(\n",
       "      (0): Linear(in_features=80, out_features=256, bias=True)\n",
       "      (1): LeakyReLU(negative_slope=0.2, inplace=True)\n",
       "      (2): Linear(in_features=256, out_features=3, bias=True)\n",
       "      (3): LeakyReLU(negative_slope=0.2, inplace=True)\n",
       "    )\n",
       "  ),\n",
       ")"
      ]
     },
     "execution_count": 46,
     "metadata": {},
     "output_type": "execute_result"
    }
   ],
   "source": [
    "nn = NeuralNetClassifier(model, max_epochs=0, lr=0.00, batch_size=5000)\n",
    "nn.initialize()"
   ]
  },
  {
   "cell_type": "code",
   "execution_count": 47,
   "metadata": {
    "collapsed": true
   },
   "outputs": [],
   "source": [
    "events = uproot.open(file)\n",
    "key = events.keys()[0]\n",
    "input_variables = events[key].keys()"
   ]
  },
  {
   "cell_type": "code",
   "execution_count": 48,
   "metadata": {},
   "outputs": [
    {
     "data": {
      "text/plain": [
       "0.7171375747173215"
      ]
     },
     "execution_count": 48,
     "metadata": {},
     "output_type": "execute_result"
    }
   ],
   "source": [
    "nn.score(input, target, sample_weight = weight)"
   ]
  },
  {
   "cell_type": "code",
   "execution_count": 49,
   "metadata": {},
   "outputs": [
    {
     "name": "stdout",
     "output_type": "stream",
     "text": [
      "ttbar_pt         0.094 +/- 0.003\n",
      "wplus_phi         0.087 +/- 0.004\n",
      "b_phi            0.086 +/- 0.002\n",
      "llbar_delta_phi         0.084 +/- 0.004\n",
      "wminus_phi         0.080 +/- 0.003\n",
      "nunubar_delta_phi         0.079 +/- 0.004\n",
      "tbar_phi         0.075 +/- 0.003\n",
      "bnu_delta_phi         0.075 +/- 0.003\n",
      "wminusbbar_delta_phi         0.075 +/- 0.003\n",
      "lbarb_delta_phi         0.075 +/- 0.003\n",
      "wplusb_delta_phi         0.074 +/- 0.003\n",
      "l_phi            0.073 +/- 0.004\n",
      "bbarnubar_delta_phi         0.073 +/- 0.003\n",
      "bbbar_phi         0.073 +/- 0.004\n",
      "bbar_phi         0.072 +/- 0.003\n",
      "top_phi          0.071 +/- 0.003\n",
      "nubar_phi         0.070 +/- 0.004\n",
      "ttbar_phi         0.070 +/- 0.003\n",
      "nunubar_phi         0.069 +/- 0.004\n",
      "nu_phi           0.068 +/- 0.003\n",
      "lbar_phi         0.067 +/- 0.003\n",
      "b_eta            0.067 +/- 0.003\n",
      "l_eta            0.067 +/- 0.003\n",
      "lbbar_delta_phi         0.067 +/- 0.003\n",
      "lnubar_delta_phi         0.067 +/- 0.003\n",
      "lbarnu_delta_phi         0.065 +/- 0.003\n",
      "bbbar_delta_phi         0.065 +/- 0.003\n",
      "lbar_eta         0.065 +/- 0.003\n",
      "llbar_phi         0.064 +/- 0.003\n",
      "wminusb_delta_phi         0.062 +/- 0.002\n",
      "bbar_eta         0.062 +/- 0.003\n",
      "bnubar_delta_phi         0.060 +/- 0.003\n",
      "lbbar_delta_eta         0.060 +/- 0.003\n",
      "wplusbbar_delta_phi         0.060 +/- 0.003\n",
      "llbar_delta_eta         0.059 +/- 0.003\n",
      "ttbar_eta         0.059 +/- 0.003\n",
      "bbarnu_delta_phi         0.058 +/- 0.003\n",
      "lbarbbar_delta_eta         0.058 +/- 0.004\n",
      "lb_delta_eta         0.058 +/- 0.003\n",
      "wminusb_delta_eta         0.056 +/- 0.003\n",
      "bnubar_delta_eta         0.055 +/- 0.002\n",
      "lbarbbar_delta_phi         0.055 +/- 0.003\n",
      "lbarb_delta_eta         0.054 +/- 0.003\n",
      "wplusbbar_delta_eta         0.054 +/- 0.002\n",
      "lb_delta_phi         0.054 +/- 0.002\n",
      "nunubar_delta_eta         0.053 +/- 0.003\n",
      "bbbar_delta_eta         0.053 +/- 0.002\n",
      "wplusb_delta_eta         0.050 +/- 0.003\n",
      "tbar_pt          0.049 +/- 0.002\n",
      "lnu_delta_phi         0.049 +/- 0.003\n",
      "ttbar_delta_eta         0.048 +/- 0.003\n",
      "bbarnu_delta_eta         0.048 +/- 0.002\n",
      "lbarnubar_delta_eta         0.046 +/- 0.003\n",
      "wminusbbar_delta_eta         0.046 +/- 0.002\n",
      "ttbar_mass         0.045 +/- 0.003\n",
      "lnu_delta_eta         0.044 +/- 0.002\n",
      "bbarnubar_delta_eta         0.043 +/- 0.003\n",
      "l_pt             0.043 +/- 0.002\n",
      "lbarnubar_delta_phi         0.042 +/- 0.003\n",
      "ttbar_delta_phi         0.041 +/- 0.003\n",
      "bbar_pt          0.041 +/- 0.003\n",
      "b_pt             0.041 +/- 0.002\n",
      "wplus_pt         0.038 +/- 0.002\n",
      "bnu_delta_eta         0.037 +/- 0.003\n",
      "lbarnu_delta_eta         0.036 +/- 0.002\n",
      "lnubar_delta_eta         0.036 +/- 0.003\n",
      "top_pt           0.035 +/- 0.002\n",
      "wplus_eta         0.032 +/- 0.003\n",
      "nubar_eta         0.032 +/- 0.002\n",
      "met_pt           0.031 +/- 0.002\n",
      "tbar_eta         0.023 +/- 0.002\n",
      "nu_pt            0.022 +/- 0.002\n",
      "nubar_pt         0.022 +/- 0.002\n",
      "wminus_eta         0.021 +/- 0.002\n",
      "tbar_boosted_eta         0.020 +/- 0.002\n",
      "top_eta          0.020 +/- 0.002\n",
      "nu_eta           0.018 +/- 0.002\n",
      "top_boosted_eta         0.018 +/- 0.002\n",
      "wminus_pt         0.017 +/- 0.002\n",
      "ttbar_boosted_pt         0.016 +/- 0.002\n"
     ]
    }
   ],
   "source": [
    "r = permutation_importance(nn, input, target, \\\n",
    "                           n_repeats=30, \\\n",
    "                           random_state=0)\n",
    "\n",
    "for i in r.importances_mean.argsort()[::-1]:\n",
    "    if r.importances_mean[i] - 2 * r.importances_std[i] > 0:\n",
    "        print(f\"{input_variables[i]:<8}         \"\n",
    "              f\"{r.importances_mean[i]:.3f}\"\n",
    "              f\" +/- {r.importances_std[i]:.3f}\")\n"
   ]
  }
 ],
 "metadata": {
  "kernelspec": {
   "display_name": "Python (GANS)",
   "language": "python",
   "name": "gans"
  },
  "language_info": {
   "codemirror_mode": {
    "name": "ipython",
    "version": 3
   },
   "file_extension": ".py",
   "mimetype": "text/x-python",
   "name": "python",
   "nbconvert_exporter": "python",
   "pygments_lexer": "ipython3",
   "version": "3.6.12"
  }
 },
 "nbformat": 4,
 "nbformat_minor": 2
}
