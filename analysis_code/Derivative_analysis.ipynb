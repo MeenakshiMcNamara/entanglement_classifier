{
 "cells": [
  {
   "cell_type": "code",
   "execution_count": 1,
   "metadata": {
    "collapsed": true
   },
   "outputs": [],
   "source": [
    "import sys\n",
    "sys.path.append(\"..\")   # this allows us to import from sibling directory\n",
    "\n",
    "from code_to_import.dataset_preprocessing import ProductionModeDataset\n",
    "\n",
    "import torch\n",
    "from sklearn.inspection import permutation_importance\n",
    "import numpy as np\n",
    "import uproot\n",
    "import torch.nn as nn\n",
    "from matplotlib import pyplot as plt\n",
    "\n",
    "from code_to_import.Classifier_module import Classifier\n",
    "from torch.autograd import Variable\n"
   ]
  },
  {
   "cell_type": "code",
   "execution_count": 2,
   "metadata": {
    "collapsed": true
   },
   "outputs": [],
   "source": [
    "################# THIS IS WHERE YOU CHOOSE WHAT TO LOAD ################################\n",
    "three_layers = False\n",
    "model_name = \"twoLayerModel_weights_gpu_mumu0\"\n",
    "path_to_model = \"../models/two_layers/\" + model_name\n",
    "\n",
    "event_type = \"mumu\"  # could be ee, emu, mumu\n",
    "root_path = \"/depot-new/cms/top/mcnama20/TopSpinCorr-Run2-Entanglement/CMSSW_10_2_22/src/TopAnalysis/Configuration/analysis/diLeptonic/three_files/Nominal\"\n",
    "\n",
    "file = root_path + \"/\" + event_type + \"_modified_root_1.root\""
   ]
  },
  {
   "cell_type": "code",
   "execution_count": 3,
   "metadata": {
    "collapsed": true
   },
   "outputs": [],
   "source": [
    "if not three_layers:\n",
    "    # model = 0\n",
    "    model = Classifier()\n",
    "    model.load_state_dict(torch.load(path_to_model))\n",
    "#     model.eval()"
   ]
  },
  {
   "cell_type": "code",
   "execution_count": 4,
   "metadata": {},
   "outputs": [
    {
     "name": "stdout",
     "output_type": "stream",
     "text": [
      "['lb_delta_eta', 'lbbar_delta_eta', 'lnu_delta_eta', 'lnubar_delta_eta', 'lbarb_delta_eta', 'lbarbbar_delta_eta', 'lbarnu_delta_eta', 'lbarnubar_delta_eta', 'bnu_delta_eta', 'bnubar_delta_eta', 'bbarnu_delta_eta', 'bbarnubar_delta_eta', 'lb_delta_phi', 'lbbar_delta_phi', 'lnu_delta_phi', 'lnubar_delta_phi', 'lbarb_delta_phi', 'lbarbbar_delta_phi', 'lbarnu_delta_phi', 'lbarnubar_delta_phi', 'bnu_delta_phi', 'bnubar_delta_phi', 'bbarnu_delta_phi', 'bbarnubar_delta_phi', 'wplusb_delta_eta', 'wplusbbar_delta_eta', 'wminusb_delta_eta', 'wminusbbar_delta_eta', 'wplusb_delta_phi', 'wplusbbar_delta_phi', 'wminusb_delta_phi', 'wminusbbar_delta_phi', 'top_eta', 'top_boosted_eta', 'tbar_eta', 'tbar_boosted_eta', 'ttbar_delta_eta', 'ttbar_eta', 'llbar_delta_eta', 'bbbar_delta_eta', 'nunubar_delta_eta', 'top_phi', 'tbar_phi', 'ttbar_phi', 'ttbar_delta_phi', 'llbar_phi', 'llbar_delta_phi', 'bbbar_phi', 'bbbar_delta_phi', 'nunubar_phi', 'nunubar_delta_phi', 'l_eta', 'lbar_eta', 'l_phi', 'lbar_phi', 'b_eta', 'bbar_eta', 'b_phi', 'bbar_phi', 'nu_eta', 'nubar_eta', 'nu_phi', 'nubar_phi', 'wplus_eta', 'wminus_eta', 'wplus_phi', 'wminus_phi', 'top_pt', 'tbar_pt', 'l_pt', 'b_pt', 'bbar_pt', 'nu_pt', 'nubar_pt', 'met_pt', 'ttbar_pt', 'ttbar_boosted_pt', 'wplus_pt', 'wminus_pt', 'ttbar_mass', 'production_mode', 'eventWeight', '__index__']\n",
      "num qqbar = 12230\n",
      "training (29718, 83)\n",
      "evaluating (6972, 83)\n"
     ]
    }
   ],
   "source": [
    "\n",
    "\n",
    "\n",
    "data_object = ProductionModeDataset(file)\n",
    "x = data_object.get_eval_data()"
   ]
  },
  {
   "cell_type": "code",
   "execution_count": 5,
   "metadata": {
    "collapsed": true
   },
   "outputs": [],
   "source": [
    "weight = x[:,81]\n",
    "target = x[:,80]\n",
    "target = Variable(torch.from_numpy(target).type(torch.LongTensor))\n",
    "y = np.transpose(x)\n",
    "y = np.delete(y, [80, 81, 82], 0)\n",
    "y = np.transpose(y)\n",
    "input = Variable(torch.from_numpy(y).type(torch.Tensor).requires_grad_(True))"
   ]
  },
  {
   "cell_type": "code",
   "execution_count": 6,
   "metadata": {
    "collapsed": true
   },
   "outputs": [],
   "source": [
    "input.requires_grad=True"
   ]
  },
  {
   "cell_type": "code",
   "execution_count": 7,
   "metadata": {
    "collapsed": true
   },
   "outputs": [],
   "source": [
    "# optimizer = torch.optim.Adam(model.parameters(), , betas=(opt.b1, opt.b2)) \n",
    "# criterion = nn.MSELoss()   # mean squared error loss\n",
    "criterion = nn.CrossEntropyLoss()\n"
   ]
  },
  {
   "cell_type": "code",
   "execution_count": 8,
   "metadata": {},
   "outputs": [
    {
     "name": "stdout",
     "output_type": "stream",
     "text": [
      "tensor(0.8273, grad_fn=<NllLossBackward>)\n"
     ]
    }
   ],
   "source": [
    "# model.retain_grad()\n",
    "input.retain_grad()\n",
    "output = model(input).requires_grad_(True)\n",
    "output.retain_grad()\n",
    "\n",
    "loss = criterion(output, target)\n",
    "loss.retain_grad()\n",
    "print(loss)\n",
    "\n",
    "# external_grad = torch.tensor(1.0)\n",
    "loss.backward()"
   ]
  },
  {
   "cell_type": "code",
   "execution_count": 9,
   "metadata": {},
   "outputs": [
    {
     "name": "stdout",
     "output_type": "stream",
     "text": [
      "tensor([[ 3.5297e-05,  1.0007e-04,  8.8110e-05,  ...,  3.5259e-04,\n",
      "         -2.9452e-05,  2.1016e-05],\n",
      "        [ 6.6288e-04,  7.3669e-05,  2.6386e-04,  ...,  2.2433e-04,\n",
      "          5.5548e-04, -1.0778e-03],\n",
      "        [-7.4418e-05, -4.7716e-04, -2.6470e-04,  ...,  6.3488e-04,\n",
      "          3.7120e-04, -1.7020e-03],\n",
      "        ...,\n",
      "        [ 2.3224e-04,  1.1974e-04, -7.8513e-05,  ...,  4.2953e-04,\n",
      "          1.1348e-04, -3.8296e-04],\n",
      "        [-1.5894e-05,  5.6012e-05, -1.3287e-04,  ...,  8.9980e-05,\n",
      "          1.6257e-05, -9.2650e-04],\n",
      "        [-4.5360e-05, -1.7337e-04, -4.5463e-04,  ...,  6.3940e-04,\n",
      "          4.0214e-04,  9.6345e-04]])\n"
     ]
    }
   ],
   "source": [
    "print(input.grad)"
   ]
  },
  {
   "cell_type": "code",
   "execution_count": 10,
   "metadata": {},
   "outputs": [
    {
     "data": {
      "text/plain": [
       "array([-0.28438386, -0.8189718 , -0.04835104,  0.31521562,  0.6152029 ,\n",
       "       -0.22921108,  0.36500767, -0.03591432,  0.30708304, -0.0831086 ,\n",
       "       -0.8434104 , -0.04980291, -0.2545509 , -0.1616709 ,  0.12269182,\n",
       "        0.33911082,  0.41759297, -0.01147292,  0.01835625,  0.05597574,\n",
       "       -0.3774777 ,  0.14496884, -0.07805367,  0.76827574,  0.1416043 ,\n",
       "       -0.11610488,  0.7938891 , -0.75478333,  0.3339535 ,  0.18552092,\n",
       "        0.6636813 ,  0.52090675, -0.6220686 ,  0.5418682 , -0.05199159,\n",
       "       -0.2618335 , -0.83723456, -0.3331189 ,  0.90699565, -0.35868794,\n",
       "        0.15078619, -0.06807779,  0.24713817, -0.32372496, -0.04233977,\n",
       "       -0.04906697, -0.00697902,  0.04457797, -0.10001454, -0.18522263,\n",
       "        0.11786818,  0.3291395 , -0.31453374, -0.2413899 , -0.09280032,\n",
       "        0.31504393,  0.11307193, -0.12384463,  0.18185772,  0.45185494,\n",
       "        0.16281728, -0.04261361, -0.53609306, -0.466931  ,  0.22110124,\n",
       "        0.64917254, -0.05443611,  0.08752508, -1.7451752 , -1.6876737 ,\n",
       "       -1.2332048 ,  0.3303115 , -0.8281882 ,  1.        , -0.6116335 ,\n",
       "       -5.1124372 , -3.1594374 , -0.54597944, -1.0716451 ,  0.5332737 ],\n",
       "      dtype=float32)"
      ]
     },
     "execution_count": 10,
     "metadata": {},
     "output_type": "execute_result"
    }
   ],
   "source": [
    "mean_grad = input.grad.detach().numpy().mean(axis=0)\n",
    "max_grad = np.max(mean_grad)\n",
    "\n",
    "mean_grad = mean_grad/max_grad\n",
    "mean_grad"
   ]
  },
  {
   "cell_type": "code",
   "execution_count": 11,
   "metadata": {},
   "outputs": [
    {
     "data": {
      "text/plain": [
       "array([3.83903807e-06, 4.46197055e-06, 5.14693465e-06, 5.56694931e-06,\n",
       "       3.88198805e-06, 4.22369840e-06, 5.83913652e-06, 4.24561722e-06,\n",
       "       5.25785572e-06, 4.85559349e-06, 5.14985413e-06, 5.70230759e-06,\n",
       "       3.23403788e-06, 3.24041048e-06, 3.44311525e-06, 3.33453931e-06,\n",
       "       3.85923204e-06, 3.33291541e-06, 3.43334591e-06, 3.06741435e-06,\n",
       "       3.72565410e-06, 3.49442644e-06, 3.30913963e-06, 3.66246832e-06,\n",
       "       4.91897299e-06, 4.29747206e-06, 4.87549687e-06, 5.49376819e-06,\n",
       "       3.70787620e-06, 3.50598839e-06, 3.73176022e-06, 3.58069337e-06,\n",
       "       2.49754066e-06, 3.81872223e-06, 2.81900361e-06, 2.84248949e-06,\n",
       "       5.27466182e-06, 4.29558395e-06, 3.97292160e-06, 4.07390598e-06,\n",
       "       5.14079693e-06, 2.67618066e-06, 2.96445455e-06, 2.84881207e-06,\n",
       "       3.03648631e-06, 2.64599521e-06, 3.16418982e-06, 2.66523216e-06,\n",
       "       2.61390460e-06, 2.67447967e-06, 2.98978307e-06, 3.09422626e-06,\n",
       "       2.97538259e-06, 2.95425616e-06, 2.73642968e-06, 3.23933591e-06,\n",
       "       3.08426593e-06, 3.34489164e-06, 2.96358917e-06, 3.06198126e-06,\n",
       "       3.64959828e-06, 2.86420550e-06, 3.12546968e-06, 3.54730741e-06,\n",
       "       2.78339417e-06, 3.19599735e-06, 3.13455575e-06, 8.89577677e-06,\n",
       "       1.16911615e-05, 9.72771159e-06, 7.02790612e-06, 6.28248745e-06,\n",
       "       1.10133115e-05, 1.07122787e-05, 8.36538402e-06, 2.96868966e-05,\n",
       "       2.26574084e-05, 1.15748717e-05, 7.00371584e-06, 1.96522615e-05],\n",
       "      dtype=float32)"
      ]
     },
     "execution_count": 11,
     "metadata": {},
     "output_type": "execute_result"
    }
   ],
   "source": [
    "std_grad = np.std(input.grad.detach().numpy(), axis=0)/np.sqrt(input.shape[0])\n",
    "std_grad"
   ]
  },
  {
   "cell_type": "code",
   "execution_count": 12,
   "metadata": {
    "collapsed": true
   },
   "outputs": [],
   "source": [
    "events = uproot.open(file)\n",
    "key = events.keys()[0]\n",
    "input_variables = events[key].keys()"
   ]
  },
  {
   "cell_type": "code",
   "execution_count": 13,
   "metadata": {},
   "outputs": [
    {
     "name": "stdout",
     "output_type": "stream",
     "text": [
      "nubar_pt                    1.000 +/- 0.000\n",
      "llbar_delta_eta                    0.907 +/- 0.000\n",
      "wminusb_delta_eta                    0.794 +/- 0.000\n",
      "bbarnubar_delta_phi                    0.768 +/- 0.000\n",
      "wminusb_delta_phi                    0.664 +/- 0.000\n",
      "wplus_phi                    0.649 +/- 0.000\n",
      "lbarb_delta_eta                    0.615 +/- 0.000\n",
      "top_boosted_eta                    0.542 +/- 0.000\n",
      "ttbar_mass                    0.533 +/- 0.000\n",
      "wminusbbar_delta_phi                    0.521 +/- 0.000\n",
      "nu_eta                      0.452 +/- 0.000\n",
      "lbarb_delta_phi                    0.418 +/- 0.000\n",
      "lbarnu_delta_eta                    0.365 +/- 0.000\n",
      "lnubar_delta_phi                    0.339 +/- 0.000\n",
      "wplusb_delta_phi                    0.334 +/- 0.000\n",
      "bbar_pt                     0.330 +/- 0.000\n",
      "l_eta                       0.329 +/- 0.000\n",
      "lnubar_delta_eta                    0.315 +/- 0.000\n",
      "b_eta                       0.315 +/- 0.000\n",
      "bnu_delta_eta                    0.307 +/- 0.000\n",
      "tbar_phi                    0.247 +/- 0.000\n",
      "wminus_eta                    0.221 +/- 0.000\n",
      "wplusbbar_delta_phi                    0.186 +/- 0.000\n",
      "bbar_phi                    0.182 +/- 0.000\n",
      "nubar_eta                    0.163 +/- 0.000\n",
      "nunubar_delta_eta                    0.151 +/- 0.000\n",
      "bnubar_delta_phi                    0.145 +/- 0.000\n",
      "wplusb_delta_eta                    0.142 +/- 0.000\n",
      "lnu_delta_phi                    0.123 +/- 0.000\n",
      "nunubar_delta_phi                    0.118 +/- 0.000\n",
      "bbar_eta                    0.113 +/- 0.000\n",
      "top_pt                      0.088 +/- 0.000\n",
      "lbarnubar_delta_phi                    0.056 +/- 0.000\n",
      "bbbar_phi                    0.045 +/- 0.000\n",
      "lbarnu_delta_phi                    0.018 +/- 0.000\n",
      "llbar_delta_phi                    -0.007 +/- 0.000\n",
      "lbarbbar_delta_phi                    -0.011 +/- 0.000\n",
      "lbarnubar_delta_eta                    -0.036 +/- 0.000\n",
      "ttbar_delta_phi                    -0.042 +/- 0.000\n",
      "nu_phi                      -0.043 +/- 0.000\n",
      "lnu_delta_eta                    -0.048 +/- 0.000\n",
      "llbar_phi                    -0.049 +/- 0.000\n",
      "bbarnubar_delta_eta                    -0.050 +/- 0.000\n",
      "tbar_eta                    -0.052 +/- 0.000\n",
      "wminus_phi                    -0.054 +/- 0.000\n",
      "top_phi                     -0.068 +/- 0.000\n",
      "bbarnu_delta_phi                    -0.078 +/- 0.000\n",
      "bnubar_delta_eta                    -0.083 +/- 0.000\n",
      "lbar_phi                    -0.093 +/- 0.000\n",
      "bbbar_delta_phi                    -0.100 +/- 0.000\n",
      "wplusbbar_delta_eta                    -0.116 +/- 0.000\n",
      "b_phi                       -0.124 +/- 0.000\n",
      "lbbar_delta_phi                    -0.162 +/- 0.000\n",
      "nunubar_phi                    -0.185 +/- 0.000\n",
      "lbarbbar_delta_eta                    -0.229 +/- 0.000\n",
      "l_phi                       -0.241 +/- 0.000\n",
      "lb_delta_phi                    -0.255 +/- 0.000\n",
      "tbar_boosted_eta                    -0.262 +/- 0.000\n",
      "lb_delta_eta                    -0.284 +/- 0.000\n",
      "lbar_eta                    -0.315 +/- 0.000\n",
      "ttbar_phi                    -0.324 +/- 0.000\n",
      "ttbar_eta                    -0.333 +/- 0.000\n",
      "bbbar_delta_eta                    -0.359 +/- 0.000\n",
      "bnu_delta_phi                    -0.377 +/- 0.000\n",
      "wplus_eta                    -0.467 +/- 0.000\n",
      "nubar_phi                    -0.536 +/- 0.000\n",
      "wplus_pt                    -0.546 +/- 0.000\n",
      "met_pt                      -0.612 +/- 0.000\n",
      "top_eta                     -0.622 +/- 0.000\n",
      "wminusbbar_delta_eta                    -0.755 +/- 0.000\n",
      "lbbar_delta_eta                    -0.819 +/- 0.000\n",
      "nu_pt                       -0.828 +/- 0.000\n",
      "ttbar_delta_eta                    -0.837 +/- 0.000\n",
      "bbarnu_delta_eta                    -0.843 +/- 0.000\n",
      "wminus_pt                    -1.072 +/- 0.000\n",
      "b_pt                        -1.233 +/- 0.000\n",
      "l_pt                        -1.688 +/- 0.000\n",
      "tbar_pt                     -1.745 +/- 0.000\n",
      "ttbar_boosted_pt                    -3.159 +/- 0.000\n",
      "ttbar_pt                    -5.112 +/- 0.000\n"
     ]
    }
   ],
   "source": [
    "for i in mean_grad.argsort()[::-1]:\n",
    "#     if mean_grad[i] - 2 * r.importances_std[i] > 0:\n",
    "    print(f\"{input_variables[i]:<8}                    \"\n",
    "          f\"{mean_grad[i]:.3f}\"\n",
    "          f\" +/- {std_grad[i]:.3f}\")\n"
   ]
  },
  {
   "cell_type": "code",
   "execution_count": 14,
   "metadata": {
    "collapsed": true
   },
   "outputs": [],
   "source": [
    "np.save(\"./results/derivative_importance\" + model_name + \".npy\", mean_grad)\n",
    "np.save(\"./results/derivative_std\" + model_name + \".npy\", std_grad)"
   ]
  }
 ],
 "metadata": {
  "kernelspec": {
   "display_name": "Python [conda env: GANS_7]",
   "language": "python",
   "name": "conda-env-GANS_7-py"
  },
  "language_info": {
   "codemirror_mode": {
    "name": "ipython",
    "version": 3
   },
   "file_extension": ".py",
   "mimetype": "text/x-python",
   "name": "python",
   "nbconvert_exporter": "python",
   "pygments_lexer": "ipython3",
   "version": "3.6.12"
  }
 },
 "nbformat": 4,
 "nbformat_minor": 2
}
