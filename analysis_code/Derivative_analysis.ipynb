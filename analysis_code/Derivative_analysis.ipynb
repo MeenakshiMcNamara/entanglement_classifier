{
 "cells": [
  {
   "cell_type": "code",
   "execution_count": 1,
   "metadata": {
    "collapsed": true
   },
   "outputs": [],
   "source": [
    "import sys\n",
    "sys.path.append(\"..\")   # this allows us to import from sibling directory\n",
    "\n",
    "from code_to_import.dataset_preprocessing import ProductionModeDataset\n",
    "\n",
    "import torch\n",
    "from sklearn.inspection import permutation_importance\n",
    "import numpy as np\n",
    "import uproot\n",
    "import torch.nn as nn\n",
    "from matplotlib import pyplot as plt\n",
    "\n",
    "from code_to_import.Classifier_module import Classifier\n",
    "from code_to_import.Classifier_module import Three_Layer_Classifier\n",
    "from torch.autograd import Variable\n"
   ]
  },
  {
   "cell_type": "code",
   "execution_count": 2,
   "metadata": {
    "collapsed": true
   },
   "outputs": [],
   "source": [
    "################# THIS IS WHERE YOU CHOOSE WHAT TO LOAD ################################\n",
    "\n",
    "correlation_cut = 0.9   # if negative none, current other options are 0.9 and 0.8, but more can be added\n",
    "\n",
    "cut_version = -1   # -1 means OG, otherwise can be 2 or 3 (or more if added)\n",
    "\n",
    "event_type = \"ee\"  # could be ee, emu, mumu\n",
    "\n",
    "model_name = \"threeLayerModel_\" + event_type + \"_corrCut_\" + str(correlation_cut)\n",
    "\n",
    "if cut_version > 0:\n",
    "    model_name += \"cutV\" + str(args.cut_version)"
   ]
  },
  {
   "cell_type": "code",
   "execution_count": 3,
   "metadata": {
    "collapsed": true
   },
   "outputs": [],
   "source": [
    "root_path = \"/depot-new/cms/top/mcnama20/TopSpinCorr-Run2-Entanglement/CMSSW_10_2_22/src/TopAnalysis/Configuration/analysis/diLeptonic/three_files/Nominal\"\n",
    "\n",
    "file = root_path + \"/\" + event_type + \"_modified_root_1.root\"\n",
    "\n",
    "path_to_model = \"../models/three_layers/\" + model_name + \".pt\""
   ]
  },
  {
   "cell_type": "code",
   "execution_count": 4,
   "metadata": {},
   "outputs": [],
   "source": [
    "# data_object = ProductionModeDataset(file)\n",
    "# x = data_object.get_eval_data()\n",
    "\n",
    "x = np.load(\"../data/three_layers/train_val_datasets/validation_dataset_\" + model_name + \".npy\")\n"
   ]
  },
  {
   "cell_type": "code",
   "execution_count": 5,
   "metadata": {
    "collapsed": true
   },
   "outputs": [],
   "source": [
    "############ remove parts of dataset not used in nn input and get output goals (target) and weights ####################\n",
    "l = x.shape[1]   # get the initial length of the validation dataset\n",
    "weight = x[:,l-2]   # get an array of weights for plotting\n",
    "target = x[:,l-3]   # get targets\n",
    "target = Variable(torch.from_numpy(target).type(torch.LongTensor))   # reformate target into a tensor\n",
    "\n",
    "######################### remove excess inputs from x and call new variable y\n",
    "y = np.transpose(x)   \n",
    "y = np.delete(y, [l-3, l-2, l-1], 0)\n",
    "y = np.transpose(y)\n",
    "\n",
    "# the final validation input is gotten from turning y into a tensor\n",
    "input = Variable(torch.from_numpy(y).type(torch.Tensor))"
   ]
  },
  {
   "cell_type": "code",
   "execution_count": 6,
   "metadata": {},
   "outputs": [
    {
     "data": {
      "text/plain": [
       "Three_Layer_Classifier(\n",
       "  (model): Sequential(\n",
       "    (0): Linear(in_features=77, out_features=512, bias=True)\n",
       "    (1): LeakyReLU(negative_slope=0.2, inplace=True)\n",
       "    (2): Linear(in_features=512, out_features=256, bias=True)\n",
       "    (3): LeakyReLU(negative_slope=0.2, inplace=True)\n",
       "    (4): Linear(in_features=256, out_features=3, bias=True)\n",
       "    (5): LeakyReLU(negative_slope=0.2, inplace=True)\n",
       "  )\n",
       ")"
      ]
     },
     "execution_count": 6,
     "metadata": {},
     "output_type": "execute_result"
    }
   ],
   "source": [
    "############################## Load the model and run eval so we know to evaluate ##################################\n",
    "try:\n",
    "    model = Classifier()\n",
    "    model.load_state_dict(torch.load(path_to_model))\n",
    "except:\n",
    "    model = Three_Layer_Classifier(input_size=input.shape[1])\n",
    "    model.load_state_dict(torch.load(path_to_model))\n",
    "model.eval()"
   ]
  },
  {
   "cell_type": "code",
   "execution_count": 7,
   "metadata": {
    "collapsed": true
   },
   "outputs": [],
   "source": [
    "input.requires_grad=True"
   ]
  },
  {
   "cell_type": "code",
   "execution_count": 8,
   "metadata": {
    "collapsed": true
   },
   "outputs": [],
   "source": [
    "# optimizer = torch.optim.Adam(model.parameters(), , betas=(opt.b1, opt.b2)) \n",
    "# criterion = nn.MSELoss()   # mean squared error loss\n",
    "criterion = nn.CrossEntropyLoss()\n"
   ]
  },
  {
   "cell_type": "code",
   "execution_count": 9,
   "metadata": {},
   "outputs": [
    {
     "name": "stdout",
     "output_type": "stream",
     "text": [
      "tensor(1.0343, grad_fn=<NllLossBackward>)\n"
     ]
    }
   ],
   "source": [
    "# model.retain_grad()\n",
    "input.retain_grad()\n",
    "output = model(input).requires_grad_(True)\n",
    "output.retain_grad()\n",
    "\n",
    "loss = criterion(output, target)\n",
    "loss.retain_grad()\n",
    "print(loss)\n",
    "\n",
    "# external_grad = torch.tensor(1.0)\n",
    "loss.backward()"
   ]
  },
  {
   "cell_type": "code",
   "execution_count": 10,
   "metadata": {},
   "outputs": [
    {
     "name": "stdout",
     "output_type": "stream",
     "text": [
      "tensor([[-7.8111e-05, -1.7433e-05, -7.1622e-06,  ...,  2.7651e-05,\n",
      "          1.8326e-05,  6.9812e-05],\n",
      "        [ 2.0512e-04,  5.0996e-05,  1.2834e-05,  ..., -1.2742e-05,\n",
      "          1.2689e-05, -2.4365e-04],\n",
      "        [-3.1547e-05, -1.6176e-05,  2.2719e-05,  ...,  5.7186e-05,\n",
      "          9.5292e-06,  1.6379e-05],\n",
      "        ...,\n",
      "        [-9.8339e-05, -6.5114e-06, -4.8011e-05,  ..., -3.2148e-05,\n",
      "         -1.9842e-05,  2.1551e-04],\n",
      "        [-1.9313e-05,  2.7914e-07,  1.3743e-05,  ...,  3.7823e-05,\n",
      "          1.8058e-05,  8.9856e-06],\n",
      "        [ 1.6170e-04,  5.6701e-05,  2.2406e-05,  ..., -1.9096e-05,\n",
      "          1.1472e-06, -2.0618e-04]])\n"
     ]
    }
   ],
   "source": [
    "print(input.grad)"
   ]
  },
  {
   "cell_type": "code",
   "execution_count": 11,
   "metadata": {},
   "outputs": [
    {
     "data": {
      "text/plain": [
       "array([ 8.71550739e-02,  1.27246156e-02,  3.76641527e-02,  2.70680171e-02,\n",
       "       -4.73798066e-03, -3.17482352e-02,  9.23438929e-04,  1.28797561e-01,\n",
       "       -2.30196323e-02, -3.99974957e-02,  1.10416710e-01, -3.00330333e-02,\n",
       "        6.42948002e-02, -5.17671816e-02,  4.75413762e-02, -3.45017426e-02,\n",
       "       -3.89895625e-02,  4.99210227e-03, -1.22146010e-02, -3.28041427e-02,\n",
       "        6.39286339e-02, -2.70720124e-02,  3.89502570e-02, -5.45243919e-03,\n",
       "       -5.49065396e-02, -3.07842344e-02, -3.72477807e-02, -3.18398955e-03,\n",
       "       -3.02875247e-02, -2.23929472e-02,  9.78457648e-03,  3.32857072e-02,\n",
       "        4.18165103e-02,  1.26474351e-01,  1.68744437e-02,  6.89268708e-02,\n",
       "        4.64608818e-02,  2.20021196e-02,  1.49293169e-02, -2.04525832e-02,\n",
       "       -1.28714703e-02,  5.07334173e-02,  4.31751125e-02, -4.56997126e-01,\n",
       "       -7.12386239e-03, -5.08777201e-02, -6.67413091e-03,  3.14221568e-02,\n",
       "       -1.71417110e-02, -2.19892003e-02,  4.06832621e-02, -4.79362532e-02,\n",
       "       -7.93394446e-03,  4.97937426e-02, -5.02416082e-02, -3.28125507e-02,\n",
       "        2.56252289e-02, -3.15126218e-02,  2.06195321e-02, -4.86717857e-02,\n",
       "        1.81238968e-02, -1.61340889e-02,  1.32996021e-02, -8.05548206e-03,\n",
       "        7.82313272e-02,  6.58932328e-02, -3.28998337e-03,  1.02091715e-01,\n",
       "        7.56223947e-02,  6.23628050e-02, -4.23112027e-02,  7.79843703e-02,\n",
       "        1.00000000e+00,  6.14834368e-01,  1.84261240e-02,  7.91290030e-03,\n",
       "       -1.35967150e-01], dtype=float32)"
      ]
     },
     "execution_count": 11,
     "metadata": {},
     "output_type": "execute_result"
    }
   ],
   "source": [
    "mean_grad = input.grad.detach().numpy().mean(axis=0)\n",
    "max_grad = np.max(mean_grad)\n",
    "\n",
    "mean_grad = mean_grad/max_grad\n",
    "mean_grad"
   ]
  },
  {
   "cell_type": "code",
   "execution_count": 12,
   "metadata": {},
   "outputs": [
    {
     "data": {
      "text/plain": [
       "array([1.8572448e-06, 6.3682188e-07, 4.7199913e-07, 8.6314827e-07,\n",
       "       7.0967752e-07, 1.3599542e-06, 6.4463092e-07, 1.8536072e-06,\n",
       "       4.1937301e-07, 4.1389222e-07, 7.1745927e-07, 2.6862378e-07,\n",
       "       4.6280098e-07, 5.1251311e-07, 6.5755262e-07, 3.0163315e-07,\n",
       "       5.0457851e-07, 2.2650727e-07, 4.1211072e-07, 3.3188209e-07,\n",
       "       6.6374423e-07, 4.6614338e-07, 4.4260804e-07, 4.5300359e-07,\n",
       "       8.5889462e-07, 4.1842054e-07, 3.5711707e-07, 6.5599966e-07,\n",
       "       7.2766028e-07, 5.0608088e-07, 3.6143749e-07, 6.7866023e-07,\n",
       "       5.1321786e-07, 1.4398336e-06, 3.0103075e-07, 2.9499688e-06,\n",
       "       3.9449128e-07, 7.5510457e-07, 4.3088431e-07, 3.2753090e-07,\n",
       "       3.0009491e-07, 4.2165149e-07, 4.5764429e-07, 4.9110340e-06,\n",
       "       3.7800589e-07, 1.2855087e-06, 3.1324976e-07, 3.7301342e-07,\n",
       "       2.1391463e-07, 2.8006227e-07, 5.0049289e-07, 7.2824105e-07,\n",
       "       3.6743259e-07, 3.4444125e-07, 4.0666976e-07, 4.6961617e-07,\n",
       "       3.5396141e-07, 3.0098181e-07, 3.6513845e-07, 4.7363730e-07,\n",
       "       2.6064600e-07, 4.1279176e-07, 2.3912705e-07, 6.8480068e-07,\n",
       "       5.7675550e-07, 6.1907969e-07, 3.0744351e-07, 8.6851321e-07,\n",
       "       8.7112954e-07, 5.7203982e-07, 9.6809583e-07, 1.1519993e-06,\n",
       "       1.1032099e-05, 7.2323378e-06, 4.2370473e-07, 2.6795860e-07,\n",
       "       2.4015014e-06], dtype=float32)"
      ]
     },
     "execution_count": 12,
     "metadata": {},
     "output_type": "execute_result"
    }
   ],
   "source": [
    "std_grad = np.std(input.grad.detach().numpy(), axis=0)/np.sqrt(input.shape[0])\n",
    "std_grad"
   ]
  },
  {
   "cell_type": "code",
   "execution_count": 13,
   "metadata": {
    "collapsed": true
   },
   "outputs": [],
   "source": [
    "events = uproot.open(file)\n",
    "key = events.keys()[0]\n",
    "input_variables = events[key].keys()"
   ]
  },
  {
   "cell_type": "code",
   "execution_count": 14,
   "metadata": {},
   "outputs": [
    {
     "name": "stdout",
     "output_type": "stream",
     "text": [
      "nu_pt                       1.000 +/- 0.000\n",
      "nubar_pt                    0.615 +/- 0.000\n",
      "lbarnubar_delta_eta                    0.129 +/- 0.000\n",
      "top_boosted_eta                    0.126 +/- 0.000\n",
      "bbarnu_delta_eta                    0.110 +/- 0.000\n",
      "top_pt                      0.102 +/- 0.000\n",
      "lb_delta_eta                    0.087 +/- 0.000\n",
      "wminus_eta                    0.078 +/- 0.000\n",
      "bbar_pt                     0.078 +/- 0.000\n",
      "tbar_pt                     0.076 +/- 0.000\n",
      "tbar_boosted_eta                    0.069 +/- 0.000\n",
      "wplus_phi                    0.066 +/- 0.000\n",
      "lb_delta_phi                    0.064 +/- 0.000\n",
      "bnu_delta_phi                    0.064 +/- 0.000\n",
      "l_pt                        0.062 +/- 0.000\n",
      "top_phi                     0.051 +/- 0.000\n",
      "l_phi                       0.050 +/- 0.000\n",
      "lnu_delta_phi                    0.048 +/- 0.000\n",
      "ttbar_delta_eta                    0.046 +/- 0.000\n",
      "tbar_phi                    0.043 +/- 0.000\n",
      "top_eta                     0.042 +/- 0.000\n",
      "nunubar_delta_phi                    0.041 +/- 0.000\n",
      "bbarnu_delta_phi                    0.039 +/- 0.000\n",
      "lnu_delta_eta                    0.038 +/- 0.000\n",
      "wminusbbar_delta_phi                    0.033 +/- 0.000\n",
      "bbbar_phi                    0.031 +/- 0.000\n",
      "lnubar_delta_eta                    0.027 +/- 0.000\n",
      "bbar_eta                    0.026 +/- 0.000\n",
      "ttbar_eta                    0.022 +/- 0.000\n",
      "bbar_phi                    0.021 +/- 0.000\n",
      "met_pt                      0.018 +/- 0.000\n",
      "nubar_eta                    0.018 +/- 0.000\n",
      "tbar_eta                    0.017 +/- 0.000\n",
      "llbar_delta_eta                    0.015 +/- 0.000\n",
      "nubar_phi                    0.013 +/- 0.000\n",
      "lbbar_delta_eta                    0.013 +/- 0.000\n",
      "wminusb_delta_phi                    0.010 +/- 0.000\n",
      "ttbar_pt                    0.008 +/- 0.000\n",
      "lbarbbar_delta_phi                    0.005 +/- 0.000\n",
      "lbarnu_delta_eta                    0.001 +/- 0.000\n",
      "wminusbbar_delta_eta                    -0.003 +/- 0.000\n",
      "wminus_phi                    -0.003 +/- 0.000\n",
      "lbarb_delta_eta                    -0.005 +/- 0.000\n",
      "bbarnubar_delta_phi                    -0.005 +/- 0.000\n",
      "llbar_delta_phi                    -0.007 +/- 0.000\n",
      "ttbar_delta_phi                    -0.007 +/- 0.000\n",
      "lbar_eta                    -0.008 +/- 0.000\n",
      "wplus_eta                    -0.008 +/- 0.000\n",
      "lbarnu_delta_phi                    -0.012 +/- 0.000\n",
      "nunubar_delta_eta                    -0.013 +/- 0.000\n",
      "nu_phi                      -0.016 +/- 0.000\n",
      "bbbar_delta_phi                    -0.017 +/- 0.000\n",
      "bbbar_delta_eta                    -0.020 +/- 0.000\n",
      "nunubar_phi                    -0.022 +/- 0.000\n",
      "wplusbbar_delta_phi                    -0.022 +/- 0.000\n",
      "bnu_delta_eta                    -0.023 +/- 0.000\n",
      "bnubar_delta_phi                    -0.027 +/- 0.000\n",
      "bbarnubar_delta_eta                    -0.030 +/- 0.000\n",
      "wplusb_delta_phi                    -0.030 +/- 0.000\n",
      "wplusbbar_delta_eta                    -0.031 +/- 0.000\n",
      "b_phi                       -0.032 +/- 0.000\n",
      "lbarbbar_delta_eta                    -0.032 +/- 0.000\n",
      "lbarnubar_delta_phi                    -0.033 +/- 0.000\n",
      "b_eta                       -0.033 +/- 0.000\n",
      "lnubar_delta_phi                    -0.035 +/- 0.000\n",
      "wminusb_delta_eta                    -0.037 +/- 0.000\n",
      "lbarb_delta_phi                    -0.039 +/- 0.000\n",
      "bnubar_delta_eta                    -0.040 +/- 0.000\n",
      "b_pt                        -0.042 +/- 0.000\n",
      "l_eta                       -0.048 +/- 0.000\n",
      "nu_eta                      -0.049 +/- 0.000\n",
      "lbar_phi                    -0.050 +/- 0.000\n",
      "llbar_phi                    -0.051 +/- 0.000\n",
      "lbbar_delta_phi                    -0.052 +/- 0.000\n",
      "wplusb_delta_eta                    -0.055 +/- 0.000\n",
      "ttbar_boosted_pt                    -0.136 +/- 0.000\n",
      "ttbar_phi                    -0.457 +/- 0.000\n"
     ]
    }
   ],
   "source": [
    "for i in mean_grad.argsort()[::-1]:\n",
    "#     if mean_grad[i] - 2 * r.importances_std[i] > 0:\n",
    "    print(f\"{input_variables[i]:<8}                    \"\n",
    "          f\"{mean_grad[i]:.3f}\"\n",
    "          f\" +/- {std_grad[i]:.3f}\")\n"
   ]
  },
  {
   "cell_type": "code",
   "execution_count": 15,
   "metadata": {
    "collapsed": true
   },
   "outputs": [],
   "source": [
    "np.save(\"./results/derivative_importance\" + model_name + \".npy\", mean_grad)\n",
    "np.save(\"./results/derivative_std\" + model_name + \".npy\", std_grad)"
   ]
  }
 ],
 "metadata": {
  "kernelspec": {
   "display_name": "Python [conda env: GANS_7]",
   "language": "python",
   "name": "conda-env-GANS_7-py"
  },
  "language_info": {
   "codemirror_mode": {
    "name": "ipython",
    "version": 3
   },
   "file_extension": ".py",
   "mimetype": "text/x-python",
   "name": "python",
   "nbconvert_exporter": "python",
   "pygments_lexer": "ipython3",
   "version": "3.6.12"
  }
 },
 "nbformat": 4,
 "nbformat_minor": 2
}
