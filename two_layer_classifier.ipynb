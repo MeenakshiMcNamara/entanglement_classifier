{
 "cells": [
  {
   "cell_type": "code",
   "execution_count": 3,
   "metadata": {
    "collapsed": true
   },
   "outputs": [],
   "source": [
    "from dataset_preprocessing import ProductionModeDataset"
   ]
  },
  {
   "cell_type": "code",
   "execution_count": 4,
   "metadata": {},
   "outputs": [
    {
     "name": "stdout",
     "output_type": "stream",
     "text": [
      "False\n"
     ]
    }
   ],
   "source": [
    "# %run dataset_preprocessing.ipynb\n",
    "\n",
    "import argparse\n",
    "import os\n",
    "import numpy as np\n",
    "import math\n",
    "import sys\n",
    "import torchvision.transforms as transforms\n",
    "from torchvision.utils import save_image\n",
    "\n",
    "from torch.utils.data import DataLoader\n",
    "from torchvision import datasets\n",
    "from torch.autograd import Variable\n",
    "\n",
    "import torch.nn as nn\n",
    "import torch.nn.functional as F   # NOTE: I don't think this is used\n",
    "import torch.autograd as autograd\n",
    "import torch\n",
    "\n",
    "from matplotlib import pyplot as plt\n",
    "from IPython import display\n",
    "\n",
    "\n",
    "print(torch.cuda.is_available())"
   ]
  },
  {
   "cell_type": "code",
   "execution_count": 5,
   "metadata": {},
   "outputs": [
    {
     "name": "stdout",
     "output_type": "stream",
     "text": [
      "['ttBar_treeVariables_step8;5;1']\n",
      "['lb_delta_eta', 'lbbar_delta_eta', 'lnu_delta_eta', 'lnubar_delta_eta', 'lbarb_delta_eta', 'lbarbbar_delta_eta', 'lbarnu_delta_eta', 'lbarnubar_delta_eta', 'bnu_delta_eta', 'bnubar_delta_eta', 'bbarnu_delta_eta', 'bbarnubar_delta_eta', 'lb_delta_phi', 'lbbar_delta_phi', 'lnu_delta_phi', 'lnubar_delta_phi', 'lbarb_delta_phi', 'lbarbbar_delta_phi', 'lbarnu_delta_phi', 'lbarnubar_delta_phi', 'bnu_delta_phi', 'bnubar_delta_phi', 'bbarnu_delta_phi', 'bbarnubar_delta_phi', 'wplusb_delta_eta', 'wplusbbar_delta_eta', 'wminusb_delta_eta', 'wminusbbar_delta_eta', 'wplusb_delta_phi', 'wplusbbar_delta_phi', 'wminusb_delta_phi', 'wminusbbar_delta_phi', 'top_eta', 'top_boosted_eta', 'tbar_eta', 'tbar_boosted_eta', 'ttbar_delta_eta', 'ttbar_eta', 'llbar_delta_eta', 'bbbar_delta_eta', 'nunubar_delta_eta', 'top_phi', 'tbar_phi', 'ttbar_phi', 'ttbar_delta_phi', 'llbar_phi', 'llbar_delta_phi', 'bbbar_phi', 'bbbar_delta_phi', 'nunubar_phi', 'nunubar_delta_phi', 'l_eta', 'lbar_eta', 'l_phi', 'lbar_phi', 'b_eta', 'bbar_eta', 'b_phi', 'bbar_phi', 'nu_eta', 'nubar_eta', 'nu_phi', 'nubar_phi', 'wplus_eta', 'wminus_eta', 'wplus_phi', 'wminus_phi', 'top_pt', 'tbar_pt', 'l_pt', 'b_pt', 'bbar_pt', 'nu_pt', 'nubar_pt', 'met_pt', 'ttbar_pt', 'ttbar_boosted_pt', 'wplus_pt', 'wminus_pt', 'ttbar_mass', 'production_mode', 'eventWeight', '__index__']\n",
      "num qqbar = 45652\n",
      "training (110934, 83)\n",
      "evaluating (26022, 83)\n",
      "done\n"
     ]
    }
   ],
   "source": [
    "class opt():   # Class used for optimizers in the future. Defines all variables and stuff needed.\n",
    "    save_weights = False\n",
    "    n_epochs = 30000   # an epoch is the number of times it works through the entire training set\n",
    "    batch_size = 5000   # the training set is broken up into batches, \n",
    "                        # and the average loss is used from a given batch for back propagation\n",
    "    lr = 0.001   # learning rate (how much to change based on error)\n",
    "    b1 = 0.9   # Used for Adam. Exponential decay rate for the first moment\n",
    "    b2 = 0.999   # Used for Adam. Exponential decay rate for the second moment estimates (gradient squared)\n",
    "    input_size = 80\n",
    "    data_file = \"/data\"\n",
    "    config_dir = \".\"\n",
    "    save_location = config_dir + data_file\n",
    "    root_path = \"/depot/darkmatter/data/jupyterhub/Physics_Undergrads/Steve/things\"\n",
    "\n",
    "    file = root_path + \"/all_1.root\"\n",
    "\n",
    "    #n_cpu = 2    not used rn\n",
    "\n",
    "# os.makedirs(config_dir, exit_ok=True)\n",
    "\n",
    "cuda = True if torch.cuda.is_available() else False\n",
    "\n",
    "\n",
    "class Classifier(nn.Module):\n",
    "    \"\"\"\n",
    "    classifier layers\n",
    "    \"\"\"\n",
    "    def __init__(self):\n",
    "        super(Classifier, self).__init__()   # Just uses the module constructor with name Discriminator \n",
    "\n",
    "        self.model = nn.Sequential(\n",
    "            nn.Linear(opt.input_size, 256),   # first layer\n",
    "            nn.LeakyReLU(0.2, inplace=True),   # apply leaky relu to layer\n",
    "            nn.Linear(256, 3),   # last layer\n",
    "            nn.LeakyReLU(0.2, inplace=True)   # apply leaky relu\n",
    "        )\n",
    "\n",
    "    def forward(self, input):\n",
    "        \"\"\"\n",
    "        applies model to input and attempts to classify\n",
    "        \"\"\"\n",
    "        output = self.model(input)   # Classifies the input (at location) as gg (0) qqbar (1) or other (2)\n",
    "        return output\n",
    "\n",
    "\n",
    "# ******* OUT OF CLASSES NOW ************\n",
    "\n",
    "# Initialize generator and discriminator\n",
    "classifier = Classifier()\n",
    "\n",
    "if cuda:\n",
    "    classifier.cuda()\n",
    "\n",
    "    \n",
    "\n",
    "# # Configure data loader - CHANGE\n",
    "os.makedirs(\"./data/\", exist_ok=True)\n",
    "dataloader = torch.utils.data.DataLoader(\n",
    "    ProductionModeDataset(opt.file),\n",
    "    batch_size=opt.batch_size,\n",
    "    shuffle=True,\n",
    ")\n",
    "print('done')"
   ]
  },
  {
   "cell_type": "code",
   "execution_count": null,
   "metadata": {},
   "outputs": [
    {
     "data": {
      "image/png": "[encoded data removed]",
      "text/plain": [
       "<Figure size 432x288 with 1 Axes>"
      ]
     },
     "metadata": {
      "needs_background": "light"
     },
     "output_type": "display_data"
    },
    {
     "name": "stdout",
     "output_type": "stream",
     "text": [
      "0.86478406\n"
     ]
    }
   ],
   "source": [
    "optimizer = torch.optim.Adam(classifier.parameters(), lr=opt.lr, betas=(opt.b1, opt.b2)) \n",
    "# criterion = nn.MSELoss()   # mean squared error loss\n",
    "criterion = nn.CrossEntropyLoss()\n",
    "\n",
    "loss_array = np.array(())\n",
    "batches_done = 0   # Counter for batches\n",
    "for epoch in range(opt.n_epochs):   # Loop through all epochs\n",
    "    for i, x in enumerate(dataloader): # x is a batch\n",
    "                                                # there are i batches in the epoch\n",
    "        # Configure input\n",
    "        weight = x[:,81]\n",
    "        target = x[:,80]\n",
    "        target = Variable(target.type(torch.LongTensor))\n",
    "        x = np.transpose(x)\n",
    "        x = np.delete(x, [80, 81, 82], 0)\n",
    "        x = np.transpose(x)\n",
    "#         print(\"mode \" + str(target.shape))\n",
    "#         print(\"x \" + str(x.shape))\n",
    "#         print(\"x\" + str(x.type))\n",
    "        \n",
    "        # Configure input\n",
    "        batch = Variable(x.type(torch.Tensor))   # Variable is a wrapper for the Tensor x was just made into\n",
    "\n",
    "        # ---------------------\n",
    "        #  Train Classifier\n",
    "        # ---------------------\n",
    "\n",
    "        optimizer.zero_grad()   # Make gradients zero so they don't accumulate\n",
    "        \n",
    "        # apply nn to input\n",
    "        output = classifier(batch)\n",
    "\n",
    "        # Calculate loss \n",
    "        loss = criterion(output, target) \n",
    "        loss.backward()   # Do back propagation \n",
    "        optimizer.step()   # Update parameters based on gradients for individuals\n",
    "        batches_done += 1\n",
    "    \n",
    "    if epoch % 10 == 0:\n",
    "        \n",
    "        #np.save('{file_name}/{num_batches}.npy'.format(file_name=opt.data_file, \\\n",
    "            #num_batches=batches_done), loss)\n",
    "        \n",
    "        print(loss.detach().numpy())\n",
    "        loss_array = np.append(loss_array, loss.detach().numpy())\n",
    "        \n",
    "#         line1.set_ydata(loss_array)\n",
    "#         line1.set_xdata(np.array(list(range(int(epoch/10)+1))))\n",
    "        if epoch % 50 == 0:\n",
    "            display.clear_output(True)\n",
    "            figure = plt.figure()\n",
    "            ax = figure.add_subplot(111)\n",
    "            ax.plot(10 * np.array(list(range(int(epoch/10)+1))), loss_array)\n",
    "#             plt.draw()\n",
    "\n",
    "            plt.show()\n",
    "\n",
    "if opt.save_weights:\n",
    "    torch.save(classifier.model, opt.config_dir + \"/models/twoLayerModel_3.pt\")\n",
    "\n",
    "\n"
   ]
  },
  {
   "cell_type": "code",
   "execution_count": 35,
   "metadata": {
    "collapsed": true
   },
   "outputs": [],
   "source": [
    "PATH = \"./models/twoLayerModel_3.pt\"\n",
    "torch.save(classifier.state_dict(), PATH)\n"
   ]
  },
  {
   "cell_type": "code",
   "execution_count": 47,
   "metadata": {},
   "outputs": [
    {
     "ename": "AttributeError",
     "evalue": "'NeuralNetClassifier' object has no attribute 'Sequential'",
     "output_type": "error",
     "traceback": [
      "\u001b[0;31m---------------------------------------------------------------------------\u001b[0m",
      "\u001b[0;31mAttributeError\u001b[0m                            Traceback (most recent call last)",
      "\u001b[0;32m<ipython-input-47-4e12be4f8279>\u001b[0m in \u001b[0;36m<module>\u001b[0;34m\u001b[0m\n\u001b[1;32m      1\u001b[0m \u001b[0mmodel\u001b[0m \u001b[0;34m=\u001b[0m \u001b[0;36m0\u001b[0m\u001b[0;34m\u001b[0m\u001b[0;34m\u001b[0m\u001b[0m\n\u001b[0;32m----> 2\u001b[0;31m \u001b[0mmodel\u001b[0m \u001b[0;34m=\u001b[0m \u001b[0mClassifier\u001b[0m\u001b[0;34m(\u001b[0m\u001b[0;34m)\u001b[0m\u001b[0;34m\u001b[0m\u001b[0;34m\u001b[0m\u001b[0m\n\u001b[0m\u001b[1;32m      3\u001b[0m \u001b[0mmodel\u001b[0m\u001b[0;34m.\u001b[0m\u001b[0mload_state_dict\u001b[0m\u001b[0;34m(\u001b[0m\u001b[0mtorch\u001b[0m\u001b[0;34m.\u001b[0m\u001b[0mload\u001b[0m\u001b[0;34m(\u001b[0m\u001b[0;34m\"./models/twoLayerModel_2.pt\"\u001b[0m\u001b[0;34m)\u001b[0m\u001b[0;34m)\u001b[0m\u001b[0;34m\u001b[0m\u001b[0;34m\u001b[0m\u001b[0m\n\u001b[1;32m      4\u001b[0m \u001b[0mmodel\u001b[0m\u001b[0;34m.\u001b[0m\u001b[0meval\u001b[0m\u001b[0;34m(\u001b[0m\u001b[0;34m)\u001b[0m\u001b[0;34m\u001b[0m\u001b[0;34m\u001b[0m\u001b[0m\n",
      "\u001b[0;32m<ipython-input-33-03321e722719>\u001b[0m in \u001b[0;36m__init__\u001b[0;34m(self)\u001b[0m\n\u001b[1;32m     29\u001b[0m         \u001b[0msuper\u001b[0m\u001b[0;34m(\u001b[0m\u001b[0mClassifier\u001b[0m\u001b[0;34m,\u001b[0m \u001b[0mself\u001b[0m\u001b[0;34m)\u001b[0m\u001b[0;34m.\u001b[0m\u001b[0m__init__\u001b[0m\u001b[0;34m(\u001b[0m\u001b[0;34m)\u001b[0m   \u001b[0;31m# Just uses the module constructor with name Discriminator\u001b[0m\u001b[0;34m\u001b[0m\u001b[0;34m\u001b[0m\u001b[0m\n\u001b[1;32m     30\u001b[0m \u001b[0;34m\u001b[0m\u001b[0m\n\u001b[0;32m---> 31\u001b[0;31m         self.model = nn.Sequential(\n\u001b[0m\u001b[1;32m     32\u001b[0m             \u001b[0mnn\u001b[0m\u001b[0;34m.\u001b[0m\u001b[0mLinear\u001b[0m\u001b[0;34m(\u001b[0m\u001b[0mopt\u001b[0m\u001b[0;34m.\u001b[0m\u001b[0minput_size\u001b[0m\u001b[0;34m,\u001b[0m \u001b[0;36m256\u001b[0m\u001b[0;34m)\u001b[0m\u001b[0;34m,\u001b[0m   \u001b[0;31m# first layer\u001b[0m\u001b[0;34m\u001b[0m\u001b[0;34m\u001b[0m\u001b[0m\n\u001b[1;32m     33\u001b[0m             \u001b[0mnn\u001b[0m\u001b[0;34m.\u001b[0m\u001b[0mLeakyReLU\u001b[0m\u001b[0;34m(\u001b[0m\u001b[0;36m0.2\u001b[0m\u001b[0;34m,\u001b[0m \u001b[0minplace\u001b[0m\u001b[0;34m=\u001b[0m\u001b[0;32mTrue\u001b[0m\u001b[0;34m)\u001b[0m\u001b[0;34m,\u001b[0m   \u001b[0;31m# apply leaky relu to layer\u001b[0m\u001b[0;34m\u001b[0m\u001b[0;34m\u001b[0m\u001b[0m\n",
      "\u001b[0;31mAttributeError\u001b[0m: 'NeuralNetClassifier' object has no attribute 'Sequential'"
     ]
    }
   ],
   "source": [
    "# model = 0\n",
    "# model = Classifier()\n",
    "# model.load_state_dict(torch.load(\"./models/twoLayerModel_2.pt\"))\n",
    "# model.eval()"
   ]
  },
  {
   "cell_type": "code",
   "execution_count": 49,
   "metadata": {
    "collapsed": true
   },
   "outputs": [],
   "source": [
    "model = classifier"
   ]
  },
  {
   "cell_type": "code",
   "execution_count": 38,
   "metadata": {},
   "outputs": [
    {
     "name": "stdout",
     "output_type": "stream",
     "text": [
      "['ttBar_treeVariables_step8;5;1']\n",
      "['lb_delta_eta', 'lbbar_delta_eta', 'lnu_delta_eta', 'lnubar_delta_eta', 'lbarb_delta_eta', 'lbarbbar_delta_eta', 'lbarnu_delta_eta', 'lbarnubar_delta_eta', 'bnu_delta_eta', 'bnubar_delta_eta', 'bbarnu_delta_eta', 'bbarnubar_delta_eta', 'lb_delta_phi', 'lbbar_delta_phi', 'lnu_delta_phi', 'lnubar_delta_phi', 'lbarb_delta_phi', 'lbarbbar_delta_phi', 'lbarnu_delta_phi', 'lbarnubar_delta_phi', 'bnu_delta_phi', 'bnubar_delta_phi', 'bbarnu_delta_phi', 'bbarnubar_delta_phi', 'wplusb_delta_eta', 'wplusbbar_delta_eta', 'wminusb_delta_eta', 'wminusbbar_delta_eta', 'wplusb_delta_phi', 'wplusbbar_delta_phi', 'wminusb_delta_phi', 'wminusbbar_delta_phi', 'top_eta', 'top_boosted_eta', 'tbar_eta', 'tbar_boosted_eta', 'ttbar_delta_eta', 'ttbar_eta', 'llbar_delta_eta', 'bbbar_delta_eta', 'nunubar_delta_eta', 'top_phi', 'tbar_phi', 'ttbar_phi', 'ttbar_delta_phi', 'llbar_phi', 'llbar_delta_phi', 'bbbar_phi', 'bbbar_delta_phi', 'nunubar_phi', 'nunubar_delta_phi', 'l_eta', 'lbar_eta', 'l_phi', 'lbar_phi', 'b_eta', 'bbar_eta', 'b_phi', 'bbar_phi', 'nu_eta', 'nubar_eta', 'nu_phi', 'nubar_phi', 'wplus_eta', 'wminus_eta', 'wplus_phi', 'wminus_phi', 'top_pt', 'tbar_pt', 'l_pt', 'b_pt', 'bbar_pt', 'nu_pt', 'nubar_pt', 'met_pt', 'ttbar_pt', 'ttbar_boosted_pt', 'wplus_pt', 'wminus_pt', 'ttbar_mass', 'production_mode', 'eventWeight', '__index__']\n",
      "num qqbar = 45652\n",
      "training (110934, 83)\n",
      "evaluating (26022, 83)\n"
     ]
    }
   ],
   "source": [
    "file = \"/depot/darkmatter/data/jupyterhub/Physics_Undergrads/Steve/things/all_1.root\"\n",
    "\n",
    "data_object = ProductionModeDataset(file)\n",
    "x = data_object.get_eval_data()"
   ]
  },
  {
   "cell_type": "code",
   "execution_count": 39,
   "metadata": {
    "collapsed": true
   },
   "outputs": [],
   "source": [
    "weight = x[:,81]\n",
    "target = x[:,80]\n",
    "target = Variable(torch.from_numpy(target).type(torch.LongTensor))\n",
    "y = np.transpose(x)\n",
    "y = np.delete(y, [80, 81, 82], 0)\n",
    "y = np.transpose(y)\n",
    "input = Variable(torch.from_numpy(y).type(torch.Tensor))"
   ]
  },
  {
   "cell_type": "code",
   "execution_count": 50,
   "metadata": {},
   "outputs": [
    {
     "data": {
      "text/plain": [
       "tensor([ 2.3901, -0.2123,  2.3375], grad_fn=<SliceBackward>)"
      ]
     },
     "execution_count": 50,
     "metadata": {},
     "output_type": "execute_result"
    }
   ],
   "source": [
    "model(input)[0,:]"
   ]
  },
  {
   "cell_type": "code",
   "execution_count": 41,
   "metadata": {},
   "outputs": [
    {
     "data": {
      "text/plain": [
       "tensor(0)"
      ]
     },
     "execution_count": 41,
     "metadata": {},
     "output_type": "execute_result"
    }
   ],
   "source": [
    "target[0]"
   ]
  },
  {
   "cell_type": "code",
   "execution_count": 42,
   "metadata": {
    "collapsed": true
   },
   "outputs": [],
   "source": [
    "from skorch import NeuralNetClassifier\n",
    "from sklearn.inspection import permutation_importance"
   ]
  },
  {
   "cell_type": "code",
   "execution_count": 55,
   "metadata": {},
   "outputs": [
    {
     "data": {
      "text/plain": [
       "0.999"
      ]
     },
     "execution_count": 55,
     "metadata": {},
     "output_type": "execute_result"
    }
   ],
   "source": [
    "opt.b2"
   ]
  },
  {
   "cell_type": "code",
   "execution_count": 74,
   "metadata": {
    "collapsed": true
   },
   "outputs": [],
   "source": [
    "nn = NeuralNetClassifier(model, max_epochs=0, lr=0.00, batch_size=500)"
   ]
  },
  {
   "cell_type": "code",
   "execution_count": 75,
   "metadata": {},
   "outputs": [
    {
     "data": {
      "text/plain": [
       "<class 'skorch.classifier.NeuralNetClassifier'>[initialized](\n",
       "  module_=Classifier(\n",
       "    (model): Sequential(\n",
       "      (0): Linear(in_features=80, out_features=256, bias=True)\n",
       "      (1): LeakyReLU(negative_slope=0.2, inplace=True)\n",
       "      (2): Linear(in_features=256, out_features=3, bias=True)\n",
       "      (3): LeakyReLU(negative_slope=0.2, inplace=True)\n",
       "    )\n",
       "  ),\n",
       ")"
      ]
     },
     "execution_count": 75,
     "metadata": {},
     "output_type": "execute_result"
    }
   ],
   "source": [
    "nn.initialize()"
   ]
  },
  {
   "cell_type": "code",
   "execution_count": 77,
   "metadata": {
    "collapsed": true
   },
   "outputs": [],
   "source": [
    "input_variables = uproot.open(file)[\"ttBar_treeVariables_step8;5;1\"].keys()"
   ]
  },
  {
   "cell_type": "code",
   "execution_count": 78,
   "metadata": {},
   "outputs": [
    {
     "name": "stdout",
     "output_type": "stream",
     "text": [
      "ttbar_pt0.061 +/- 0.002\n",
      "llbar_delta_phi0.044 +/- 0.002\n",
      "ttbar_phi0.042 +/- 0.001\n",
      "bbar_phi0.039 +/- 0.001\n",
      "b_eta   0.037 +/- 0.002\n",
      "llbar_phi0.035 +/- 0.002\n",
      "nu_phi  0.035 +/- 0.001\n",
      "lbbar_delta_phi0.033 +/- 0.001\n",
      "wplus_phi0.033 +/- 0.001\n",
      "lbar_eta0.032 +/- 0.001\n",
      "lnubar_delta_phi0.032 +/- 0.002\n",
      "wminusbbar_delta_phi0.032 +/- 0.002\n",
      "lbarbbar_delta_eta0.031 +/- 0.002\n",
      "nunubar_delta_phi0.031 +/- 0.002\n",
      "top_phi 0.031 +/- 0.002\n",
      "lbarb_delta_phi0.031 +/- 0.002\n",
      "b_phi   0.031 +/- 0.001\n",
      "nunubar_phi0.030 +/- 0.002\n",
      "lb_delta_eta0.030 +/- 0.001\n",
      "lbarnu_delta_phi0.030 +/- 0.001\n",
      "l_phi   0.030 +/- 0.002\n",
      "bbbar_delta_phi0.030 +/- 0.001\n",
      "bbarnu_delta_phi0.030 +/- 0.001\n",
      "bnu_delta_phi0.029 +/- 0.002\n",
      "lbar_phi0.029 +/- 0.001\n",
      "tbar_phi0.029 +/- 0.002\n",
      "wplusb_delta_phi0.029 +/- 0.001\n",
      "bnubar_delta_phi0.029 +/- 0.001\n",
      "wminus_phi0.029 +/- 0.002\n",
      "bbbar_phi0.028 +/- 0.002\n",
      "bbarnubar_delta_phi0.027 +/- 0.002\n",
      "llbar_delta_eta0.027 +/- 0.002\n",
      "ttbar_delta_phi0.027 +/- 0.001\n",
      "bbar_eta0.026 +/- 0.001\n",
      "nubar_phi0.026 +/- 0.001\n",
      "l_eta   0.026 +/- 0.001\n",
      "bbbar_delta_eta0.025 +/- 0.001\n",
      "wplusbbar_delta_phi0.024 +/- 0.002\n",
      "wminusb_delta_eta0.024 +/- 0.001\n",
      "lbarbbar_delta_phi0.023 +/- 0.001\n",
      "wminusb_delta_phi0.023 +/- 0.002\n",
      "top_pt  0.022 +/- 0.001\n",
      "wplusbbar_delta_eta0.022 +/- 0.001\n",
      "lnu_delta_eta0.022 +/- 0.001\n",
      "lbarb_delta_eta0.021 +/- 0.001\n",
      "wplusb_delta_eta0.021 +/- 0.001\n",
      "ttbar_delta_eta0.021 +/- 0.001\n",
      "lb_delta_phi0.021 +/- 0.001\n",
      "lbarnubar_delta_phi0.020 +/- 0.001\n",
      "lbbar_delta_eta0.020 +/- 0.001\n",
      "tbar_pt 0.020 +/- 0.002\n",
      "bbarnu_delta_eta0.020 +/- 0.001\n",
      "wplus_pt0.019 +/- 0.001\n",
      "lbarnubar_delta_eta0.019 +/- 0.001\n",
      "b_pt    0.019 +/- 0.001\n",
      "bbar_pt 0.019 +/- 0.001\n",
      "bbarnubar_delta_eta0.018 +/- 0.001\n",
      "wminusbbar_delta_eta0.018 +/- 0.001\n",
      "nunubar_delta_eta0.018 +/- 0.001\n",
      "l_pt    0.016 +/- 0.001\n",
      "ttbar_eta0.016 +/- 0.001\n",
      "lnubar_delta_eta0.016 +/- 0.002\n",
      "bnubar_delta_eta0.015 +/- 0.001\n",
      "bnu_delta_eta0.015 +/- 0.001\n",
      "ttbar_mass0.015 +/- 0.001\n",
      "top_eta 0.015 +/- 0.001\n",
      "tbar_boosted_eta0.014 +/- 0.002\n",
      "lnu_delta_phi0.014 +/- 0.001\n",
      "lbarnu_delta_eta0.014 +/- 0.001\n",
      "nu_eta  0.012 +/- 0.001\n",
      "met_pt  0.012 +/- 0.001\n",
      "nubar_eta0.011 +/- 0.001\n",
      "tbar_eta0.011 +/- 0.001\n",
      "wplus_eta0.011 +/- 0.001\n",
      "wminus_pt0.010 +/- 0.001\n",
      "wminus_eta0.009 +/- 0.001\n",
      "top_boosted_eta0.008 +/- 0.001\n",
      "nu_pt   0.007 +/- 0.002\n",
      "ttbar_boosted_pt0.006 +/- 0.001\n",
      "nubar_pt0.005 +/- 0.001\n"
     ]
    }
   ],
   "source": [
    "r = permutation_importance(nn, input, target, \\\n",
    "                           n_repeats=30, \\\n",
    "                           random_state=0)\n",
    "\n",
    "for i in r.importances_mean.argsort()[::-1]:\n",
    "    if r.importances_mean[i] - 2 * r.importances_std[i] > 0:\n",
    "        print(f\"{input_variables[i]:<8}\"\n",
    "              f\"{r.importances_mean[i]:.3f}\"\n",
    "              f\" +/- {r.importances_std[i]:.3f}\")\n"
   ]
  }
 ],
 "metadata": {
  "kernelspec": {
   "display_name": "Python (GANS)",
   "language": "python",
   "name": "gans"
  },
  "language_info": {
   "codemirror_mode": {
    "name": "ipython",
    "version": 3
   },
   "file_extension": ".py",
   "mimetype": "text/x-python",
   "name": "python",
   "nbconvert_exporter": "python",
   "pygments_lexer": "ipython3",
   "version": "3.6.12"
  }
 },
 "nbformat": 4,
 "nbformat_minor": 2
}
