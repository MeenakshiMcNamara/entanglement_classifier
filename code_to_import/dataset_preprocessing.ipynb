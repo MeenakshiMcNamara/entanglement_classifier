{
 "cells": [
  {
   "cell_type": "markdown",
   "metadata": {},
   "source": [
    "## Note that the .py version is what is actually imported. Only use this for testing."
   ]
  },
  {
   "cell_type": "code",
   "execution_count": 4,
   "metadata": {
    "collapsed": true
   },
   "outputs": [],
   "source": [
    "# import statements\n",
    "import numpy as np\n",
    "import os\n",
    "import torch\n",
    "import uproot\n",
    "from torch.utils.data import Dataset"
   ]
  },
  {
   "cell_type": "code",
   "execution_count": 14,
   "metadata": {},
   "outputs": [],
   "source": [
    "class ProductionModeDataset(Dataset):\n",
    "    \"\"\"\n",
    "    This class will load the minitree and create the dataset loaded into the nns\n",
    "    \n",
    "    0) load the minitree properly\n",
    "    \n",
    "    1) remove 0 and 2 type events so we have the same number as qqbar\n",
    "    \n",
    "    2) normalize all data\n",
    "    \n",
    "    3) ensure this is stored in a numpy array with the correct arrangement of data and a corresponding list of datatypes\n",
    "    \n",
    "    4) split this up into training and evaluating datasets\n",
    "    \n",
    "    5) provide methods with which these sets can be accessed\n",
    "    \n",
    "    Args:\n",
    "        :param root (string): is root directory and file name of minitree\n",
    "        :param split (boolean): tells whether to split into training and eval\n",
    "        :param normalize (boolean): tells whether to normalize data\n",
    "        :param remove (boolean): tells whether we should remove excess data for non-qqbar events or duplicate qqbar\n",
    "        :param train (boolean): tells whether we are training or evaluating (probably not needed)\n",
    "        :param correlation_cut(float): if positive, removes values correlated more than the correlation cut. Requires existing \n",
    "                                analysis of the given cut so that data can be loaded\n",
    "        : param cut_version (int): if positive, loads the specific cut version (otherwise loads unnumbere OG version)\n",
    "        : param include_qg (boolean): default true. If false then remove stuff with production mode 2\n",
    "    \"\"\"\n",
    "    \n",
    "    def __init__(self, root, split=True, normalize=True, remove=True, train=True, correlation_cut=-1.0, cut_version=-1, \n",
    "                 include_qg = True):\n",
    "        # load a correlation cut if it exists:\n",
    "        to_remove = np.array(())  # initialize the array of inputs to remove because of cut as empty\n",
    "        if correlation_cut > 0:\n",
    "            # load the inputs which must be removed due to cut if positive\n",
    "            if cut_version > 0:\n",
    "                to_remove = np.load(\"../analysis_code/results/inputs_to_remove_cut_\" + str(correlation_cut)\\\n",
    "                                    + \"v\" + str(cut_version) + \".npy\")\n",
    "                print(\"loaded correlations... shape is \" + str(to_remove.shape))\n",
    "            else:\n",
    "                to_remove = np.load(\"../analysis_code/results/inputs_to_remove_cut_\" + str(correlation_cut) + \".npy\")\n",
    "                print(\"loaded correlations... shape is \" + str(to_remove.shape))\n",
    "        \n",
    "        self.events = uproot.open(root)   # open the root file and load the events to be processed\n",
    "        self.training = train    # set a variable which determines whether this is loaded for training. probably not needed\n",
    "        \n",
    "        key = self.events.keys()[0]   # get the key to make accessing events easier\n",
    "        data_list = self.events[key].keys()   # get the names of the inputs\n",
    "        \n",
    "        # make a numpy array from events array\n",
    "        self.events_array = np.array([self.events[key + \"/\" + k].array(library=\"np\") for k in data_list])\n",
    "        print(data_list)\n",
    "    \n",
    "        self.events_array = np.transpose(self.events_array)   # turn into columns (instead of rows) of data\n",
    "\n",
    "        \n",
    "        ################# remove any inputs in to_remove from the events array and the list of inputs ################\n",
    "        if to_remove.shape[0] > 0:\n",
    "            print(to_remove.shape)\n",
    "            self.events_array = np.delete(self.events_array, to_remove, 1)\n",
    "            to_remove = np.sort(to_remove)\n",
    "            for i in range(len(to_remove)):\n",
    "                to_remove[i] -= i\n",
    "                data_list.pop(to_remove[i])\n",
    "        ##############################################################################################################\n",
    "        \n",
    "        \n",
    "        if remove:\n",
    "            \"\"\"\n",
    "            Here is where we remove the excess data so that qqbar, gg, and gq/qg events are equally\n",
    "            represented in the training and analysis.\n",
    "            \"\"\"\n",
    "            # find index of production_mode:\n",
    "            index = 0\n",
    "            for i in range(len(data_list)):\n",
    "                if data_list[i] == \"production_mode\":\n",
    "                    index = i\n",
    "                    break\n",
    "                    \n",
    "            # sort events array by production mode\n",
    "            self.events_array = self.events_array[np.argsort(self.events_array[:, index])]           \n",
    "            \n",
    "            ############## find first and last index with production mode 1 #########################\n",
    "            first = 0  # this will be the first index with qqbar\n",
    "            last = 0   # this will be the last index with qqbar\n",
    "            found_first = False   # a flag which allows us to stop looking for first once found\n",
    "            \n",
    "            for i in range(len(self.events_array[:,index])):\n",
    "                if not found_first:\n",
    "                    if self.events_array[i ,index] == 1:\n",
    "                        first = i\n",
    "                        found_first = True\n",
    "                \n",
    "                if self.events_array[i,index] == 2:\n",
    "                    last = i - 1\n",
    "                    break\n",
    "            #######################################################################################\n",
    "                    \n",
    "            num_qqbar = last + 1 - first  # this is the total number of qqbar events\n",
    "            print(\"num qqbar = \" + str(num_qqbar))\n",
    "            \n",
    "            ####################### remove the extra gg and other #############################################\n",
    "            max_len = len(self.events_array[:,0])\n",
    "            \n",
    "            if include_qg:\n",
    "                \"\"\"\n",
    "                keep every production mode but remove excess events beyond qqbar amount\n",
    "                \"\"\" \n",
    "                self.events_array = np.delete(self.events_array, list(range(num_qqbar, first)) + \\\n",
    "                                              list(range(max_len - (max_len - (last + 1) -num_qqbar), max_len)), 0)\n",
    "                \n",
    "            elif not include_qg:\n",
    "                \"\"\"\n",
    "                Here we remove all quark-gluon events if we don't want them\n",
    "                \"\"\"\n",
    "                self.events_array = np.delete(self.events_array, list(range(num_qqbar, first)) + \\\n",
    "                                             list(range(last, max_len)), 0)\n",
    "                \n",
    "            #################################################################################################\n",
    "            \n",
    "  \n",
    "        if normalize:\n",
    "            \"\"\"\n",
    "            Here we normalize all the data by subtracting the minimum and dividing by the range (max-min). We do not normalize\n",
    "            anything not going to be used as an input to the network (last three columns) except the weights which are only\n",
    "            divided by the max to ensure we keep the signs.\n",
    "            \"\"\"\n",
    "            # loop through all the inputs. the last three are not looped through because they are not input to the \n",
    "            # neural network. Hence, we subtract 3 from the length.\n",
    "            for i in range(len(self.events_array[0,:])-3):\n",
    "                ori_a = self.events_array[:,i] # original input column \n",
    "\n",
    "                min_a = np.min(self.events_array[:,i]) # min\n",
    "                max_a = np.max(self.events_array[:,i]) # max\n",
    "                range_a = max_a - min_a #range\n",
    "\n",
    "                self.events_array[:, i] = (ori_a - min_a) / (range_a) # replace the og array with the normalized array\n",
    "                \n",
    "            #################### normalize the weights here: ######################################################\n",
    "            n = len(self.events_array[0,:])-2   # this is the index of the weights for reco level inputs\n",
    "            self.events_array[:,n] /= np.max(self.events_array[:,n])   # replace weights with normalized weights\n",
    "            #######################################################################################################\n",
    "        \n",
    "        \n",
    "               \n",
    "        if split:\n",
    "            \"\"\"\n",
    "            Here we split the events array into a validation dataset and a training dataset. 80% will be training and \n",
    "            20% will be validation.\n",
    "            \"\"\"\n",
    "            # shuffle so no longer sorted by production modebefore splitting\n",
    "            np.random.shuffle(self.events_array)\n",
    "            \n",
    "            train_size = int(len(self.events_array[:,0])*80/100)  # calculate the size of the training array\n",
    "            \n",
    "            # split into the two arrays\n",
    "            self.train_array, self.eval_array = np.split(self.events_array, [train_size])\n",
    "            print(\"training \" + str(self.train_array.shape))\n",
    "            print(\"evaluating \" + str(self.eval_array.shape))\n",
    "            \n",
    "        else:\n",
    "            \"\"\"\n",
    "            If not splitting, just set both the train_array and eval_array to be the entire dataset\n",
    "            \"\"\"\n",
    "            self.train_array = self.events_array\n",
    "            self.eval_array = self.events_array\n",
    "                \n",
    "    def __getitem__(self, index):\n",
    "        \"\"\"\n",
    "        Return the training array (should never be eval... might delete stuff) in format needed for dataloader \n",
    "        \"\"\"\n",
    "        if self.training:\n",
    "            return self.train_array[index]\n",
    "        return self.eval_array[index]\n",
    "    \n",
    "    def __len__(self):\n",
    "        \"\"\"\n",
    "        Return the length of the training array (once again, might want to delete extra code for eval)\n",
    "        \"\"\"\n",
    "        if self.training:\n",
    "            return len(self.train_array[:,0])\n",
    "        return len(self.eval_array[:,0])\n",
    "    \n",
    "    def get_eval_data(self):\n",
    "        \"\"\" Return the entire validation dataset \"\"\"\n",
    "        return self.eval_array\n",
    "    \n",
    "    def get_training_data(self):\n",
    "        \"\"\" Return the entire training dataset \"\"\"\n",
    "        return self.train_array"
   ]
  },
  {
   "cell_type": "markdown",
   "metadata": {
    "collapsed": true
   },
   "source": [
    "# Testing code to ensure the class works"
   ]
  },
  {
   "cell_type": "code",
   "execution_count": 15,
   "metadata": {},
   "outputs": [
    {
     "name": "stdout",
     "output_type": "stream",
     "text": [
      "['l_eta', 'lbar_eta', 'l_phi', 'lbar_phi', 'l_pt', 'lbar_pt', 'l_mass', 'lbar_mass', 'b_eta', 'bbar_eta', 'b_phi', 'bbar_phi', 'b_pt', 'bbar_pt', 'b_mass', 'bbar_mass', 'production_mode', 'eventWeight', '__index__']\n",
      "num qqbar = 52908\n",
      "training (84652, 19)\n",
      "evaluating (21163, 19)\n"
     ]
    }
   ],
   "source": [
    "root_path = \"/depot/cms/top/mcnama20/TopSpinCorr-Run2-Entanglement/CMSSW_10_2_22/src/TopAnalysis/Configuration/analysis/diLeptonic/three_files/Nominal\"\n",
    "\n",
    "file = root_path + \"/ee_modified_root_1_lorentzvectors.root\"\n",
    "\n",
    "data_o = ProductionModeDataset(file, correlation_cut = -1, cut_version=-1, include_qg = False)"
   ]
  },
  {
   "cell_type": "code",
   "execution_count": 11,
   "metadata": {},
   "outputs": [
    {
     "data": {
      "text/plain": [
       "array([3.72715515e-01, 2.58894116e-02, 3.45254717e-02, 1.99258939e-01,\n",
       "       1.17393606e-01, 9.01361103e-02, 1.81657309e-03, 2.44576740e-01,\n",
       "       3.05554165e-01, 8.84354442e-01, 6.65447651e-01, 5.72729012e-01,\n",
       "       2.87516328e-01, 2.91670475e-01, 7.07460533e-02, 1.89763779e-02,\n",
       "       3.56920362e-01, 2.67904959e-01, 2.19759834e-01, 3.09048836e-01,\n",
       "       8.92343914e-02, 2.80172142e-01, 3.01306707e-01, 2.76023044e-01,\n",
       "       6.24736169e-01, 4.80638790e-02, 5.27162548e-01, 1.07177735e-01,\n",
       "       4.17956806e-01, 1.17960623e-01, 3.54601881e-01, 2.98531575e-04,\n",
       "       4.81094593e-01, 6.23694164e-02, 2.60965951e-01, 8.37408404e-01,\n",
       "       2.35444133e-01, 8.18387333e-01, 8.35135937e-01, 8.48587194e-01,\n",
       "       3.49537976e-01, 1.78700005e-01, 9.57125714e-01, 3.66311318e-01,\n",
       "       5.82054723e-01, 2.34551295e-01, 6.52294333e-01, 7.65744429e-02,\n",
       "       2.95814529e-01, 3.85171319e-01, 3.51287262e-01, 2.86013961e-02,\n",
       "       3.40297469e-02, 7.06269939e-02, 7.25539916e-02, 2.20674442e-02,\n",
       "       1.75370918e-02, 0.00000000e+00, 1.16469982e-02, 0.00000000e+00,\n",
       "       6.92695930e-01, 3.42293000e+05])"
      ]
     },
     "execution_count": 11,
     "metadata": {},
     "output_type": "execute_result"
    }
   ],
   "source": [
    "data_o.__getitem__(0)"
   ]
  },
  {
   "cell_type": "code",
   "execution_count": 6,
   "metadata": {},
   "outputs": [
    {
     "data": {
      "text/plain": [
       "array([[3.13525153e-01, 9.91798033e-02, 4.54658588e-01, ...,\n",
       "        0.00000000e+00, 6.25184078e-01, 3.23028000e+05],\n",
       "       [2.96012653e-01, 9.31698965e-02, 2.77613574e-02, ...,\n",
       "        2.00000000e+00, 5.97872822e-01, 1.22317000e+05],\n",
       "       [6.80722665e-01, 2.12740390e-01, 2.79750833e-01, ...,\n",
       "        2.00000000e+00, 6.40147838e-01, 2.79218000e+05],\n",
       "       ...,\n",
       "       [2.89145781e-01, 5.40879933e-01, 1.00308518e-01, ...,\n",
       "        2.00000000e+00, 6.23233559e-01, 2.87315000e+05],\n",
       "       [1.30235214e-01, 3.13092280e-01, 3.24186193e-02, ...,\n",
       "        1.00000000e+00, 6.43382026e-01, 1.01885000e+05],\n",
       "       [1.59179573e-01, 2.32185964e-01, 1.51536304e-01, ...,\n",
       "        0.00000000e+00, 6.78623185e-01, 3.15352000e+05]])"
      ]
     },
     "execution_count": 6,
     "metadata": {},
     "output_type": "execute_result"
    }
   ],
   "source": [
    "# data = data_o.get_eval_data()\n",
    "# data"
   ]
  },
  {
   "cell_type": "code",
   "execution_count": 7,
   "metadata": {},
   "outputs": [
    {
     "data": {
      "text/plain": [
       "array([0.62518408, 0.59787282, 0.64014784, ..., 0.62323356, 0.64338203,\n",
       "       0.67862319])"
      ]
     },
     "execution_count": 7,
     "metadata": {},
     "output_type": "execute_result"
    }
   ],
   "source": [
    "# data[:,81]"
   ]
  }
 ],
 "metadata": {
  "kernelspec": {
   "display_name": "Python [conda env: GANS_7]",
   "language": "python",
   "name": "conda-env-GANS_7-py"
  },
  "language_info": {
   "codemirror_mode": {
    "name": "ipython",
    "version": 3
   },
   "file_extension": ".py",
   "mimetype": "text/x-python",
   "name": "python",
   "nbconvert_exporter": "python",
   "pygments_lexer": "ipython3",
   "version": "3.6.12"
  }
 },
 "nbformat": 4,
 "nbformat_minor": 2
}
