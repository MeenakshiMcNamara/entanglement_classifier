{
 "cells": [
  {
   "cell_type": "code",
   "execution_count": 3,
   "metadata": {
    "collapsed": true
   },
   "outputs": [],
   "source": [
    "import numpy as np\n",
    "import os\n",
    "import torch\n",
    "import uproot\n",
    "from torch.utils.data import Dataset"
   ]
  },
  {
   "cell_type": "code",
   "execution_count": 13,
   "metadata": {},
   "outputs": [],
   "source": [
    "class ProductionModeDataset(Dataset):\n",
    "    \"\"\"\n",
    "    This class will load the minitree and create the dataset loaded into the nns\n",
    "    \n",
    "    0) load the minitree properly\n",
    "    \n",
    "    1) remove 0 and 2 type events so we have the same number as qqbar\n",
    "    \n",
    "    2) normalize all data\n",
    "    \n",
    "    3) ensure this is stored in a numpy array with the correct arrangement of data and a corresponding list of datatypes\n",
    "    \n",
    "    4) split this up into training and evaluating datasets\n",
    "    \n",
    "    Args:\n",
    "        :param root (string): is root directory and file name of minitree\n",
    "        :param split (boolean): tells whether to split into training and eval\n",
    "        :param normalize (boolean): tells whether to normalize data\n",
    "        :param remove (boolean): tells whether we should remove excess data for non-qqbar events or duplicate qqbar\n",
    "        :param train (boolean): tells whether we are training or evaluating\n",
    "    \"\"\"\n",
    "    \n",
    "    def __init__(self, root, split=True, normalize=True, remove=True, train=True, correlation_cut=-1.0):\n",
    "        # load a correlation cut if it exists:\n",
    "        to_remove = np.array(())\n",
    "        if correlation_cut > 0:\n",
    "            to_remove = np.load(\"../analysis_code/results/inputs_to_remove_cut_\" + str(correlation_cut) + \".npy\")\n",
    "            print(\"loaded correlations... shape is \" + str(to_remove.shape))\n",
    "        \n",
    "        self.events = uproot.open(root)\n",
    "        self.training = train\n",
    "        #self.events = self.events['Events']\n",
    "        \n",
    "        #data_list = data = uproot.open(depo_dir + root_f, key = \"ttBar_treeVariables_step8;3\")\n",
    "        \n",
    "        \n",
    "        # TODO: make less complex when not needed later\n",
    "#         data_list = [x in self.events[\"ttBar_treeVariables_step8;3\"].keys() if (((\"phi\" in x) or (\"eta\" in x) \\\n",
    "#                                                                              or (\"pt\" in x) or (\"production\" in x)) and \\\n",
    "#                                                                              (\"gen\" not in x))]\n",
    "#         print(str(data_list))\n",
    "        key = self.events.keys()[0]\n",
    "        data_list = self.events[key].keys()\n",
    "    \n",
    "        self.events_array = np.array([self.events[key + \"/\" + k].array(library=\"np\") for k in data_list])\n",
    "        print(data_list)\n",
    "    \n",
    "        self.events_array = np.transpose(self.events_array)   # turn to columns of data\n",
    "\n",
    "        if to_remove.shape[0] > 0:\n",
    "            self.events_array = np.delete(self.events_array, to_remove, 1)\n",
    "            to_remove = np.sort(to_remove)\n",
    "            for i in range(len(to_remove)):\n",
    "                to_remove[i] -= i\n",
    "                data_list.pop(to_remove[i])\n",
    "\n",
    "        \n",
    "        if remove:\n",
    "            \"\"\"\n",
    "            Here is where we remove the excess data\n",
    "            \"\"\"\n",
    "            # find index of production_mode:\n",
    "            index = 0\n",
    "            for i in range(len(data_list)):\n",
    "                if data_list[i] == \"production_mode\":\n",
    "                    index = i\n",
    "                    break\n",
    "                    \n",
    "            self.events_array = self.events_array[np.argsort(self.events_array[:, index])]            \n",
    "            \n",
    "            # find first and last index with production mode 1\n",
    "            first = 0\n",
    "            last = 0\n",
    "            found_first = False\n",
    "            \n",
    "            for i in range(len(self.events_array[:,index])):\n",
    "                if not found_first:\n",
    "                    if self.events_array[i ,index] == 1:\n",
    "                        first = i\n",
    "                        found_first = True\n",
    "                \n",
    "                if self.events_array[i,index] == 2:\n",
    "                    last = i - 1\n",
    "                    break\n",
    "                    \n",
    "            num_qqbar = last + 1 - first\n",
    "            print(\"num qqbar = \" + str(num_qqbar))\n",
    "            # remove the extra gg and other\n",
    "            max_len = len(self.events_array[:,0])\n",
    "            self.events_array = np.delete(self.events_array, list(range(num_qqbar, first)) + \\\n",
    "                                          list(range(max_len - (max_len - (last + 1) -num_qqbar), max_len)), 0)\n",
    "            \n",
    "        # normalize here\n",
    "            #print(len(self.events_array[:,0]))\n",
    "            #columns = self.events_array[1]\n",
    "            \n",
    "            #min_a = []\n",
    "            #max_a = []\n",
    "            #range_a = []\n",
    "            #update_a = []\n",
    "        if normalize:\n",
    "            for i in range(len(self.events_array[0,:])-3):#the last three is subtracted, thust not there any more\n",
    "                ori_a = self.events_array[:,i]#original number\n",
    "                #print('ori_a =',ori_a)\n",
    "                min_a = np.min(self.events_array[:,i])#min\n",
    "                max_a = np.max(self.events_array[:,i])#max\n",
    "                range_a = max_a - min_a #range\n",
    "                #print('range =',range_a)\n",
    "                self.events_array[:, i] = (ori_a - min_a) / (range_a) #normalized list. i dont know what to do with it.\n",
    "#                 print('normalized =', np.max(self.events_array[:,i]))\n",
    "                \n",
    "            # normalize the weights here:\n",
    "            n = len(self.events_array[0,:])-2\n",
    "            self.events_array[:,n] /= np.max(self.events_array[:,n])\n",
    "        \n",
    "        \n",
    "        # split here        \n",
    "        if split:\n",
    "            # shuffle so no longer sorted before splitting\n",
    "            np.random.shuffle(self.events_array)\n",
    "            \n",
    "            train_size = int(len(self.events_array[:,0])*81/100)\n",
    "#             eval_size = len(self.events_array[:,0]) - train_size\n",
    "            \n",
    "            self.train_array, self.eval_array = np.split(self.events_array, [train_size])\n",
    "            print(\"training \" + str(self.train_array.shape))\n",
    "            print(\"evaluating \" + str(self.eval_array.shape))\n",
    "            \n",
    "        else:\n",
    "            self.train_array = self.events_array\n",
    "            self.eval_array = self.events_array\n",
    "                \n",
    "    def __getitem__(self, index):\n",
    "        if self.training:\n",
    "            return self.train_array[index]\n",
    "        return self.eval_array[index]\n",
    "    \n",
    "    def __len__(self):\n",
    "        if self.training:\n",
    "            return len(self.train_array[:,0])\n",
    "        return len(self.eval_array[:,0])\n",
    "    \n",
    "    def get_eval_data(self):\n",
    "        return self.eval_array\n",
    "    \n",
    "    def get_training_data(self):\n",
    "        return self.train_array"
   ]
  },
  {
   "cell_type": "code",
   "execution_count": null,
   "metadata": {
    "collapsed": true
   },
   "outputs": [],
   "source": []
  },
  {
   "cell_type": "code",
   "execution_count": 14,
   "metadata": {},
   "outputs": [
    {
     "name": "stdout",
     "output_type": "stream",
     "text": [
      "loaded correlations... shape is (21,)\n",
      "['lb_delta_eta', 'lbbar_delta_eta', 'lnu_delta_eta', 'lnubar_delta_eta', 'lbarb_delta_eta', 'lbarbbar_delta_eta', 'lbarnu_delta_eta', 'lbarnubar_delta_eta', 'bnu_delta_eta', 'bnubar_delta_eta', 'bbarnu_delta_eta', 'bbarnubar_delta_eta', 'lb_delta_phi', 'lbbar_delta_phi', 'lnu_delta_phi', 'lnubar_delta_phi', 'lbarb_delta_phi', 'lbarbbar_delta_phi', 'lbarnu_delta_phi', 'lbarnubar_delta_phi', 'bnu_delta_phi', 'bnubar_delta_phi', 'bbarnu_delta_phi', 'bbarnubar_delta_phi', 'wplusb_delta_eta', 'wplusbbar_delta_eta', 'wminusb_delta_eta', 'wminusbbar_delta_eta', 'wplusb_delta_phi', 'wplusbbar_delta_phi', 'wminusb_delta_phi', 'wminusbbar_delta_phi', 'top_eta', 'top_boosted_eta', 'tbar_eta', 'tbar_boosted_eta', 'ttbar_delta_eta', 'ttbar_eta', 'llbar_delta_eta', 'bbbar_delta_eta', 'nunubar_delta_eta', 'top_phi', 'tbar_phi', 'ttbar_phi', 'ttbar_delta_phi', 'llbar_phi', 'llbar_delta_phi', 'bbbar_phi', 'bbbar_delta_phi', 'nunubar_phi', 'nunubar_delta_phi', 'l_eta', 'lbar_eta', 'l_phi', 'lbar_phi', 'b_eta', 'bbar_eta', 'b_phi', 'bbar_phi', 'nu_eta', 'nubar_eta', 'nu_phi', 'nubar_phi', 'wplus_eta', 'wminus_eta', 'wplus_phi', 'wminus_phi', 'top_pt', 'tbar_pt', 'l_pt', 'b_pt', 'bbar_pt', 'nu_pt', 'nubar_pt', 'met_pt', 'ttbar_pt', 'ttbar_boosted_pt', 'wplus_pt', 'wminus_pt', 'ttbar_mass', 'production_mode', 'eventWeight', '__index__']\n",
      "num qqbar = 45652\n",
      "training (110934, 62)\n",
      "evaluating (26022, 62)\n"
     ]
    }
   ],
   "source": [
    "root_path = \"/depot/darkmatter/data/jupyterhub/Physics_Undergrads/Steve/things\"\n",
    "\n",
    "file = root_path + \"/all_1.root\"\n",
    "\n",
    "data_o = ProductionModeDataset(file, correlation_cut = 0.8)"
   ]
  },
  {
   "cell_type": "code",
   "execution_count": 11,
   "metadata": {},
   "outputs": [
    {
     "data": {
      "text/plain": [
       "array([3.72715515e-01, 2.58894116e-02, 3.45254717e-02, 1.99258939e-01,\n",
       "       1.17393606e-01, 9.01361103e-02, 1.81657309e-03, 2.44576740e-01,\n",
       "       3.05554165e-01, 8.84354442e-01, 6.65447651e-01, 5.72729012e-01,\n",
       "       2.87516328e-01, 2.91670475e-01, 7.07460533e-02, 1.89763779e-02,\n",
       "       3.56920362e-01, 2.67904959e-01, 2.19759834e-01, 3.09048836e-01,\n",
       "       8.92343914e-02, 2.80172142e-01, 3.01306707e-01, 2.76023044e-01,\n",
       "       6.24736169e-01, 4.80638790e-02, 5.27162548e-01, 1.07177735e-01,\n",
       "       4.17956806e-01, 1.17960623e-01, 3.54601881e-01, 2.98531575e-04,\n",
       "       4.81094593e-01, 6.23694164e-02, 2.60965951e-01, 8.37408404e-01,\n",
       "       2.35444133e-01, 8.18387333e-01, 8.35135937e-01, 8.48587194e-01,\n",
       "       3.49537976e-01, 1.78700005e-01, 9.57125714e-01, 3.66311318e-01,\n",
       "       5.82054723e-01, 2.34551295e-01, 6.52294333e-01, 7.65744429e-02,\n",
       "       2.95814529e-01, 3.85171319e-01, 3.51287262e-01, 2.86013961e-02,\n",
       "       3.40297469e-02, 7.06269939e-02, 7.25539916e-02, 2.20674442e-02,\n",
       "       1.75370918e-02, 0.00000000e+00, 1.16469982e-02, 0.00000000e+00,\n",
       "       6.92695930e-01, 3.42293000e+05])"
      ]
     },
     "execution_count": 11,
     "metadata": {},
     "output_type": "execute_result"
    }
   ],
   "source": [
    "data_o.__getitem__(0)"
   ]
  },
  {
   "cell_type": "code",
   "execution_count": 6,
   "metadata": {},
   "outputs": [
    {
     "data": {
      "text/plain": [
       "array([[3.13525153e-01, 9.91798033e-02, 4.54658588e-01, ...,\n",
       "        0.00000000e+00, 6.25184078e-01, 3.23028000e+05],\n",
       "       [2.96012653e-01, 9.31698965e-02, 2.77613574e-02, ...,\n",
       "        2.00000000e+00, 5.97872822e-01, 1.22317000e+05],\n",
       "       [6.80722665e-01, 2.12740390e-01, 2.79750833e-01, ...,\n",
       "        2.00000000e+00, 6.40147838e-01, 2.79218000e+05],\n",
       "       ...,\n",
       "       [2.89145781e-01, 5.40879933e-01, 1.00308518e-01, ...,\n",
       "        2.00000000e+00, 6.23233559e-01, 2.87315000e+05],\n",
       "       [1.30235214e-01, 3.13092280e-01, 3.24186193e-02, ...,\n",
       "        1.00000000e+00, 6.43382026e-01, 1.01885000e+05],\n",
       "       [1.59179573e-01, 2.32185964e-01, 1.51536304e-01, ...,\n",
       "        0.00000000e+00, 6.78623185e-01, 3.15352000e+05]])"
      ]
     },
     "execution_count": 6,
     "metadata": {},
     "output_type": "execute_result"
    }
   ],
   "source": [
    "# data = data_o.get_eval_data()\n",
    "# data"
   ]
  },
  {
   "cell_type": "code",
   "execution_count": 7,
   "metadata": {},
   "outputs": [
    {
     "data": {
      "text/plain": [
       "array([0.62518408, 0.59787282, 0.64014784, ..., 0.62323356, 0.64338203,\n",
       "       0.67862319])"
      ]
     },
     "execution_count": 7,
     "metadata": {},
     "output_type": "execute_result"
    }
   ],
   "source": [
    "# data[:,81]"
   ]
  }
 ],
 "metadata": {
  "kernelspec": {
   "display_name": "Python [conda env: GANS_7]",
   "language": "python",
   "name": "conda-env-GANS_7-py"
  },
  "language_info": {
   "codemirror_mode": {
    "name": "ipython",
    "version": 3
   },
   "file_extension": ".py",
   "mimetype": "text/x-python",
   "name": "python",
   "nbconvert_exporter": "python",
   "pygments_lexer": "ipython3",
   "version": "3.6.12"
  }
 },
 "nbformat": 4,
 "nbformat_minor": 2
}
